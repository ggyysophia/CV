{
 "cells": [
  {
   "cell_type": "code",
   "execution_count": 1,
   "id": "e53953df",
   "metadata": {
    "ExecuteTime": {
     "end_time": "2021-08-17T00:52:25.254507Z",
     "start_time": "2021-08-17T00:52:25.248480Z"
    },
    "pycharm": {
     "is_executing": true
    }
   },
   "outputs": [],
   "source": [
    "import os\n",
    "import zipfile\n",
    "\n"
   ]
  },
  {
   "cell_type": "markdown",
   "id": "79b7fd3f",
   "metadata": {},
   "source": []
  },
  {
   "cell_type": "code",
   "execution_count": null,
   "id": "37e2dc60",
   "metadata": {
    "ExecuteTime": {
     "end_time": "2021-08-16T15:27:33.468927Z",
     "start_time": "2021-08-16T15:27:32.543805Z"
    },
    "pycharm": {
     "is_executing": true
    }
   },
   "outputs": [],
   "source": [
    "local_zip = '/Users/snszz/PycharmProjects/CV/第九周/horse-or-human.zip'\n",
    "\n",
    "# 文件的解压\n",
    "# os.getcwd()   # '/Users/snszz/PycharmProjects/CV/第九周/practice'\n",
    "# zipfile:函数的说明  https://www.cnblogs.com/ManyQian/p/9193199.html\n",
    "zip_ref = zipfile.ZipFile(local_zip, 'r')\n",
    "zip_ref.extractall('/Users/snszz/PycharmProjects/CV/第九周/horse-or-human')\n",
    "zip_ref.close()\n"
   ]
  },
  {
   "cell_type": "code",
   "execution_count": null,
   "id": "50219256",
   "metadata": {
    "ExecuteTime": {
     "start_time": "2021-08-17T00:16:31.734Z"
    },
    "pycharm": {
     "is_executing": true
    }
   },
   "outputs": [],
   "source": [
    "# 标记马和人的训练集路径\n",
    "\n",
    "train_horse_dir = os.path.join('/Users/snszz/PycharmProjects/CV/第九周/horse-or-human/horses/')\n",
    "train_human_dir = os.path.join('/Users/snszz/PycharmProjects/CV/第九周/horse-or-human/humans/')"
   ]
  },
  {
   "cell_type": "code",
   "execution_count": null,
   "id": "f7acf222",
   "metadata": {
    "ExecuteTime": {
     "start_time": "2021-08-17T00:16:32.676Z"
    },
    "pycharm": {
     "is_executing": true
    }
   },
   "outputs": [],
   "source": [
    "# 观察训练路径下的文件名\n",
    "# os.listdir?  # Return a list containing the names of the files in the directory\n",
    "train_horse_names = os.listdir(train_horse_dir)\n",
    "print(train_horse_names[:5])  #  ['horse43-5.png', 'horse06-5.png', 'horse20-6.png', 'horse04-7.png', 'horse41-7.png']\n",
    "print(len(train_horse_names))   # 500\n",
    "\n",
    "train_human_names = os.listdir(train_human_dir)\n",
    "print(train_horse_names[:5])  # ['horse43-5.png', 'horse06-5.png', 'horse20-6.png', 'horse04-7.png', 'horse41-7.png']\n",
    "print(len(train_horse_names))  # 500\n",
    "\n",
    "\n",
    "print('total training horse images:',len(os.listdir(train_horse_dir)))  # 500\n",
    "print('total training human images:',len(os.listdir(train_human_dir)))   # 527"
   ]
  },
  {
   "cell_type": "code",
   "execution_count": null,
   "id": "b3d854f2",
   "metadata": {
    "ExecuteTime": {
     "start_time": "2021-08-17T00:16:33.397Z"
    },
    "pycharm": {
     "is_executing": true
    }
   },
   "outputs": [],
   "source": [
    "import matplotlib.pyplot as plt\n",
    "import matplotlib.image as mpimg\n",
    "\n",
    "#输出图像大小为4*4 迭代图像索引为0\n",
    "\n",
    "nrows = 4\n",
    "ncols = 4\n",
    "pic_index = 0\n",
    "\n",
    "# 导出一组8张马和8张人的图片\n",
    "\n",
    "#设置好matplotlib的图片，设置它的大小让它与4*4相符合\n",
    "fig = plt.gcf()       # https://www.5axxw.com/questions/content/4u2350\n",
    "fig.set_size_inches(ncols * 4, nrows * 4)  # 设置图形大小  https://blog.csdn.net/ghostcsa/article/details/104530066/\n",
    "\n",
    "pic_index += 8\n",
    "next_horse_pix = [os.path.join(train_horse_dir, fname) \n",
    "                for fname in train_horse_names[pic_index-8:pic_index]]    # 最后8张\n",
    "next_human_pix = [os.path.join(train_human_dir, fname) \n",
    "                for fname in train_human_names[pic_index-8:pic_index]]\n",
    "\n",
    "for i, img_path in enumerate(next_horse_pix+next_human_pix):\n",
    "  # Set up subplot; subplot indices start at 1\n",
    "    sp = plt.subplot(nrows, ncols, i + 1)\n",
    "    sp.axis('Off') # Don't show axes (or gridlines)\n",
    "\n",
    "    img = mpimg.imread(img_path)\n",
    "    plt.imshow(img) \n",
    "\n",
    "plt.show()\n"
   ]
  },
  {
   "cell_type": "code",
   "execution_count": null,
   "id": "e75fb025",
   "metadata": {
    "ExecuteTime": {
     "start_time": "2021-08-17T00:16:34.250Z"
    },
    "pycharm": {
     "is_executing": true
    }
   },
   "outputs": [],
   "source": [
    "# 开始建立训练模型\n",
    "import tensorflow as tf\n",
    "\n",
    "\n",
    "model=tf.keras.models.Sequential([\n",
    "    #输入模型为300*300，和3种颜色通道\n",
    "    #共5层卷积\n",
    "    tf.keras.layers.Conv2D(16, (3,3),activation='relu',input_shape=(300,300,3)),\n",
    "    tf.keras.layers.MaxPooling2D(2,2),\n",
    "    tf.keras.layers.Conv2D(32, (3,3),activation='relu'),\n",
    "    tf.keras.layers.MaxPooling2D(2,2),\n",
    "    tf.keras.layers.Conv2D(64, (3,3),activation='relu'),\n",
    "    tf.keras.layers.MaxPooling2D(2,2),\n",
    "    tf.keras.layers.Conv2D(64, (3,3),activation='relu'),\n",
    "    tf.keras.layers.MaxPooling2D(2,2),\n",
    "    tf.keras.layers.Conv2D(64, (3,3),activation='relu'),\n",
    "    tf.keras.layers.MaxPooling2D(2,2),\n",
    "    #将结果压缩，输入DNN\n",
    "    tf.keras.layers.Flatten(),\n",
    "    #512个隐藏神经元\n",
    "    tf.keras.layers.Dense(512,activation='relu'),\n",
    "    #只有一个神经元输出，输出0或1 两个值，0代表马，1代表人\n",
    "    tf.keras.layers.Dense(1, activation='sigmoid')\n",
    "])\n",
    "\n"
   ]
  },
  {
   "cell_type": "code",
   "execution_count": null,
   "id": "6d247a99",
   "metadata": {
    "ExecuteTime": {
     "start_time": "2021-08-17T00:16:41.385Z"
    },
    "pycharm": {
     "is_executing": true
    }
   },
   "outputs": [],
   "source": [
    "model.summary()\n"
   ]
  },
  {
   "cell_type": "code",
   "execution_count": null,
   "id": "9dbf3b55",
   "metadata": {
    "ExecuteTime": {
     "end_time": "2021-08-16T16:28:55.219842Z",
     "start_time": "2021-08-16T16:28:55.014011Z"
    },
    "pycharm": {
     "is_executing": true
    }
   },
   "outputs": [],
   "source": [
    "from tensorflow.keras.optimizers import RMSprop\n",
    "model.compile(loss='binary_crossentropy',optimizer=RMSprop(lr=0.001),metrics=['accuracy'])\n",
    "\n",
    "\n",
    "from tensorflow.keras.preprocessing.image import ImageDataGenerator\n",
    "\n",
    "train_datagen = ImageDataGenerator(rescale=1/255)\n",
    "#使用train_datagen生成器生成128个流训练图像\n",
    "train_generator = train_datagen.flow_from_directory('/Users/snszz/PycharmProjects/CV/第九周/horse-or-human',target_size=(300,300),batch_size=128,class_mode='binary')\n"
   ]
  },
  {
   "cell_type": "code",
   "execution_count": null,
   "id": "78c8ad70",
   "metadata": {
    "ExecuteTime": {
     "end_time": "2021-08-16T16:28:56.676556Z",
     "start_time": "2021-08-16T16:28:56.535787Z"
    },
    "pycharm": {
     "is_executing": true
    }
   },
   "outputs": [],
   "source": [
    "history = model.fit_generator(\n",
    "      train_generator,\n",
    "      steps_per_epoch=8,  \n",
    "      epochs=1,\n",
    "      verbose=1)\n",
    "\n",
    "# fit_generator(self, generator, steps_per_epoch, epochs=1, verbose=1, callbacks=None, validation_data=None, validation_steps=None, class_weight=None, max_q_size=10, workers=1, pickle_safe=False, initial_epoch=0)"
   ]
  },
  {
   "cell_type": "code",
   "execution_count": null,
   "id": "3306d06b",
   "metadata": {
    "ExecuteTime": {
     "end_time": "2021-08-16T15:54:09.957692Z",
     "start_time": "2021-08-16T15:54:09.949329Z"
    },
    "pycharm": {
     "is_executing": true
    }
   },
   "outputs": [],
   "source": [
    "import numpy as np\n",
    "from google.colab import files\n",
    "from keras.preprocessing import image\n",
    "\n",
    "uploaded = files.upload()\n",
    "\n",
    "for fn in uploaded.keys():\n",
    "\n",
    "    # predicting images\n",
    "    path = '/content/' + fn\n",
    "    img = image.load_img(path, target_size=(300, 300))\n",
    "    x = image.img_to_array(img)\n",
    "    x = np.expand_dims(x, axis=0)\n",
    "\n",
    "    images = np.vstack([x])\n",
    "    #预测\n",
    "    classes = model.predict(images, batch_size=10)\n",
    "    print(classes[0])\n",
    "    if classes[0]>0.5:\n",
    "    print(fn + \" is a human\")\n",
    "    else:\n",
    "    print(fn + \" is a horse\")\n"
   ]
  },
  {
   "cell_type": "code",
   "execution_count": null,
   "id": "7fa6b698",
   "metadata": {
    "ExecuteTime": {
     "end_time": "2021-08-16T16:26:10.854209Z",
     "start_time": "2021-08-16T16:26:10.836295Z"
    },
    "pycharm": {
     "is_executing": true
    }
   },
   "outputs": [],
   "source": [
    "model.fit_generator？"
   ]
  },
  {
   "cell_type": "code",
   "execution_count": null,
   "id": "745b237b",
   "metadata": {
    "ExecuteTime": {
     "start_time": "2021-08-17T00:45:56.346Z"
    },
    "pycharm": {
     "is_executing": true
    }
   },
   "outputs": [],
   "source": [
    "import numpy as np"
   ]
  },
  {
   "cell_type": "code",
   "execution_count": null,
   "id": "a93d93a0",
   "metadata": {},
   "outputs": [],
   "source": [
    "# https://zhuanlan.zhihu.com/p/65241451\n",
    "\n",
    "wget /storage.googleapis.com/laurencemoroney-blog.appspot.com/horse-or-human.zip"
   ]
  },
  {
   "cell_type": "code",
   "execution_count": 2,
   "id": "21cf61a2",
   "metadata": {
    "ExecuteTime": {
     "end_time": "2021-08-17T00:59:05.777793Z",
     "start_time": "2021-08-17T00:58:01.638877Z"
    }
   },
   "outputs": [
    {
     "name": "stdout",
     "output_type": "stream",
     "text": [
      "--2021-08-17 08:58:02--  https://storage.googleapis.com/laurencemoroney-blog.appspot.com/horse-or-human.zip\n",
      "正在解析主机 storage.googleapis.com (storage.googleapis.com)... 172.217.160.80, 142.251.43.16, 216.58.200.240, ...\n",
      "正在连接 storage.googleapis.com (storage.googleapis.com)|172.217.160.80|:443... 已连接。\n",
      "已发出 HTTP 请求，正在等待回应... 200 OK\n",
      "长度：149574867 (143M) [application/zip]\n",
      "正在保存至: “/tmp/horse-or-human.zip”\n",
      "\n",
      "/tmp/horse-or-human 100%[===================>] 142.65M  2.35MB/s  用时 62s       \n",
      "\n",
      "2021-08-17 08:59:05 (2.31 MB/s) - 已保存 “/tmp/horse-or-human.zip” [149574867/149574867])\n",
      "\n"
     ]
    }
   ],
   "source": [
    "# !wget --no-check-certificate \\\n",
    "#     https://storage.googleapis.com/laurencemoroney-blog.appspot.com/horse-or-human.zip \\\n",
    "#     -O /tmp/horse-or-human.zip\n",
    " \n",
    "# !wget --no-check-certificate \\\n",
    "#     https://storage.googleapis.com/laurencemoroney-blog.appspot.com/validation-horse-or-human.zip \\\n",
    "#     -O /tmp/validation-horse-or-human.zip"
   ]
  },
  {
   "cell_type": "code",
   "execution_count": 3,
   "id": "207bc7fd",
   "metadata": {
    "ExecuteTime": {
     "end_time": "2021-08-17T00:59:22.415880Z",
     "start_time": "2021-08-17T00:59:08.120658Z"
    }
   },
   "outputs": [
    {
     "name": "stdout",
     "output_type": "stream",
     "text": [
      "--2021-08-17 08:59:08--  https://storage.googleapis.com/laurencemoroney-blog.appspot.com/validation-horse-or-human.zip\n",
      "正在解析主机 storage.googleapis.com (storage.googleapis.com)... 142.251.43.16, 216.58.200.240, 172.217.27.144, ...\n",
      "正在连接 storage.googleapis.com (storage.googleapis.com)|142.251.43.16|:443... 已连接。\n",
      "已发出 HTTP 请求，正在等待回应... 200 OK\n",
      "长度：11480187 (11M) [application/zip]\n",
      "正在保存至: “/tmp/validation-horse-or-human.zip”\n",
      "\n",
      "/tmp/validation-hor 100%[===================>]  10.95M   920KB/s  用时 12s       \n",
      "\n",
      "2021-08-17 08:59:22 (907 KB/s) - 已保存 “/tmp/validation-horse-or-human.zip” [11480187/11480187])\n",
      "\n"
     ]
    }
   ],
   "source": [
    "!wget --no-check-certificate \\\n",
    "    https://storage.googleapis.com/laurencemoroney-blog.appspot.com/validation-horse-or-human.zip \\\n",
    "    -O /tmp/validation-horse-or-human.zip\n",
    "    \n",
    "    "
   ]
  },
  {
   "cell_type": "code",
   "execution_count": null,
   "id": "bf66ca63",
   "metadata": {},
   "outputs": [],
   "source": [
    "# 下载好的图片用于神经网络训练的数据\n",
    "'''\n",
    "真实数据的特点\n",
    "图片尺寸大小不一， %xdel要剪裁成一样大小\n",
    "\n",
    "数据大， 不能一下装入内存， \n",
    "需要经常修改参数， 例如输出，增补图像拉伸\n",
    "\n",
    "--可以手工编码完成但是， 工作量大\n",
    "\n",
    "所以使用ImageDataGenerator\n",
    "\n",
    "'''\n",
    "from tensorflow.keras.preprocessing.image import ImageDataGenerator\n",
    "\n",
    "# 创建两个数据的生成器， 指定scaling范围0-1\n",
    "train_detagen = ImageDataGenerator(rescale=1/255)\n",
    "validation_detagen = ImageDataGenerator(rescale=1/255)\n",
    "\n",
    "# 指定训练数据文件夹\n",
    "\n"
   ]
  }
 ],
 "metadata": {
  "hide_input": false,
  "kernelspec": {
   "display_name": "Python 3 (ipykernel)",
   "language": "python",
   "name": "python3"
  },
  "language_info": {
   "codemirror_mode": {
    "name": "ipython",
    "version": 3
   },
   "file_extension": ".py",
   "mimetype": "text/x-python",
   "name": "python",
   "nbconvert_exporter": "python",
   "pygments_lexer": "ipython3",
   "version": "3.7.10"
  },
  "nbTranslate": {
   "displayLangs": [
    "*"
   ],
   "hotkey": "alt-t",
   "langInMainMenu": true,
   "sourceLang": "en",
   "targetLang": "fr",
   "useGoogleTranslate": true
  },
  "toc": {
   "base_numbering": 1,
   "nav_menu": {},
   "number_sections": true,
   "sideBar": true,
   "skip_h1_title": false,
   "title_cell": "Table of Contents",
   "title_sidebar": "Contents",
   "toc_cell": false,
   "toc_position": {},
   "toc_section_display": true,
   "toc_window_display": false
  },
  "varInspector": {
   "cols": {
    "lenName": 16,
    "lenType": 16,
    "lenVar": 40
   },
   "kernels_config": {
    "python": {
     "delete_cmd_postfix": "",
     "delete_cmd_prefix": "del ",
     "library": "var_list.py",
     "varRefreshCmd": "print(var_dic_list())"
    },
    "r": {
     "delete_cmd_postfix": ") ",
     "delete_cmd_prefix": "rm(",
     "library": "var_list.r",
     "varRefreshCmd": "cat(var_dic_list()) "
    }
   },
   "types_to_exclude": [
    "module",
    "function",
    "builtin_function_or_method",
    "instance",
    "_Feature"
   ],
   "window_display": false
  }
 },
 "nbformat": 4,
 "nbformat_minor": 5
}
