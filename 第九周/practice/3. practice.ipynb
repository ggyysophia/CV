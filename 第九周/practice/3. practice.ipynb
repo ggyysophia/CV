{
 "cells": [
  {
   "cell_type": "code",
   "execution_count": 1,
   "metadata": {
    "collapsed": true
   },
   "outputs": [
    {
     "data": {
      "text/plain": [
       "4"
      ]
     },
     "execution_count": 1,
     "metadata": {},
     "output_type": "execute_result"
    }
   ],
   "source": [
    "f = lambda  x : x ** 2\n",
    "f(2)"
   ]
  },
  {
   "cell_type": "code",
   "execution_count": 7,
   "metadata": {
    "pycharm": {
     "name": "#%%\n"
    }
   },
   "outputs": [
    {
     "name": "stdout",
     "output_type": "stream",
     "text": [
      "train_images.shape =  (60000, 28, 28)\n",
      "train_labels =  [5 0 4 ... 5 6 8]\n",
      "test_images.shape =  (10000, 28, 28)\n",
      "test_labels =  [7 2 1 ... 4 5 6]\n"
     ]
    }
   ],
   "source": [
    "# 不会的东西查手册\n",
    "from tensorflow.keras.datasets import mnist\n",
    "(train_images, train_labels), (test_images, test_labels) = mnist.load_data()\n",
    "print('train_images.shape = ', train_images.shape)\n",
    "print('train_labels = ', train_labels)\n",
    "print('test_images.shape = ', test_images.shape)\n",
    "print('test_labels = ', test_labels)"
   ]
  },
  {
   "cell_type": "code",
   "execution_count": 8,
   "metadata": {
    "pycharm": {
     "name": "#%%\n"
    }
   },
   "outputs": [
    {
     "data": {
      "image/png": "[encoded data removed]",
      "text/plain": [
       "<Figure size 432x288 with 1 Axes>"
      ]
     },
     "metadata": {
      "needs_background": "light"
     },
     "output_type": "display_data"
    }
   ],
   "source": [
    "import matplotlib.pyplot as plt\n",
    "digit = test_images[1]\n",
    "plt.imshow(digit, cmap = 'gray')\n",
    "plt.show()\n",
    "\n",
    "\n"
   ]
  },
  {
   "cell_type": "code",
   "execution_count": 9,
   "metadata": {
    "pycharm": {
     "name": "#%%\n"
    }
   },
   "outputs": [
    {
     "data": {
      "image/png": "[encoded data removed]",
      "text/plain": [
       "<Figure size 432x288 with 1 Axes>"
      ]
     },
     "metadata": {
      "needs_background": "light"
     },
     "output_type": "display_data"
    }
   ],
   "source": [
    "import matplotlib.pyplot as plt\n",
    "digit = test_images[1]\n",
    "plt.imshow(digit, plt.get_cmap('gray_r'))\n",
    "plt.show()"
   ]
  },
  {
   "cell_type": "code",
   "execution_count": 11,
   "metadata": {
    "pycharm": {
     "name": "#%%\n"
    }
   },
   "outputs": [
    {
     "data": {
      "image/png": "[encoded data removed]",
      "text/plain": [
       "<Figure size 432x288 with 1 Axes>"
      ]
     },
     "metadata": {
      "needs_background": "light"
     },
     "output_type": "display_data"
    }
   ],
   "source": [
    "# plt.imshow(image, cmap=plt.get_cmap('gray_r'))\n",
    "# plt.imshow(image, cmap='gray_r')\n",
    "# plt.imshow(image, cmap=plt.cm.binary)\n",
    "\n",
    "import matplotlib.pyplot as plt\n",
    "digit = test_images[1]\n",
    "plt.imshow(digit, cmap = plt.cm.binary)\n",
    "plt.show()"
   ]
  },
  {
   "cell_type": "code",
   "execution_count": 12,
   "metadata": {
    "pycharm": {
     "name": "#%%\n"
    }
   },
   "outputs": [
    {
     "data": {
      "image/png": "[encoded data removed]",
      "text/plain": [
       "<Figure size 432x288 with 1 Axes>"
      ]
     },
     "metadata": {
      "needs_background": "light"
     },
     "output_type": "display_data"
    }
   ],
   "source": [
    "import matplotlib.pyplot as plt\n",
    "digit = test_images[1]\n",
    "plt.imshow(digit, cmap = plt.cm.binary_r)\n",
    "plt.show()\n"
   ]
  },
  {
   "cell_type": "code",
   "execution_count": 13,
   "metadata": {
    "pycharm": {
     "name": "#%%\n"
    }
   },
   "outputs": [
    {
     "data": {
      "image/png": "[encoded data removed]",
      "text/plain": [
       "<Figure size 432x288 with 1 Axes>"
      ]
     },
     "metadata": {
      "needs_background": "light"
     },
     "output_type": "display_data"
    }
   ],
   "source": [
    "import matplotlib.pyplot as plt\n",
    "digit = test_images[1]\n",
    "plt.imshow(digit, cmap = plt.get_cmap('gray_r'))\n",
    "plt.show()\n"
   ]
  },
  {
   "cell_type": "code",
   "execution_count": 16,
   "metadata": {
    "pycharm": {
     "name": "#%%\n"
    }
   },
   "outputs": [],
   "source": [
    "from tensorflow.keras import layers\n",
    "from tensorflow.keras import models\n",
    "network = models.Sequential()\n",
    "network.add(layers.Dense(512, activation='relu', input_shape=(28 * 28, )))\n",
    "network.add(layers.Dense(10, activation='softmax'))\n",
    "\n",
    "network.compile(optimizer='rmsprop', loss = 'categorical_crossentropy',metrics = ['accuracy'])\n",
    "\n",
    "\n"
   ]
  },
  {
   "cell_type": "code",
   "execution_count": 17,
   "metadata": {
    "pycharm": {
     "name": "#%%\n"
    }
   },
   "outputs": [],
   "source": [
    "# 归一化处理\n",
    "# 把数据加入模型之前要进行归一化处理，\n",
    "# 1. reshape(60000, 28 * 28) : train_images数组原来含有60000个\n",
    "# 元素， 每个元素是一个28行，28列的二维数组，现在把每一个二维数组转成一个含有 28 * 28\n",
    "# 个元素的一维数组\n",
    "\n",
    "# 2. 由于数字图像是一个灰度的图像， 图片中的每一个像素值的大小在[0, 255]之间，\n",
    "# 3. train_images.astype(\"float\") / 255 把每一个像素点的值从范围0-255装变成0-1之间的浮点数"
   ]
  },
  {
   "cell_type": "code",
   "execution_count": 19,
   "metadata": {
    "pycharm": {
     "name": "#%%\n"
    }
   },
   "outputs": [],
   "source": [
    "# (60000, 28, 28) ----- > (600000, 28 * 28)\n",
    "train_images = train_images.reshape(60000,  28 * 28)\n",
    "train_images = train_images.astype('float32') / 255\n",
    "\n",
    "test_images = test_images.reshape(10000, 28 * 28)\n",
    "test_images = test_images.astype('float32') / 255\n",
    "\n"
   ]
  },
  {
   "cell_type": "code",
   "execution_count": 20,
   "metadata": {
    "pycharm": {
     "name": "#%%\n"
    }
   },
   "outputs": [],
   "source": [
    "# 图片的标签做标记，\n",
    "# 现在每一个图片是0-9的一个数\n",
    "# 7 -----》 变成（1, 10）的数组--[0, 0, 0, 0, 0, 0, 1, 0, 0, 0]"
   ]
  },
  {
   "cell_type": "code",
   "execution_count": 21,
   "metadata": {
    "pycharm": {
     "name": "#%%\n"
    }
   },
   "outputs": [
    {
     "name": "stdout",
     "output_type": "stream",
     "text": [
      "before change: 7\n",
      "after change [0. 0. 0. 0. 0. 0. 0. 1. 0. 0.]\n"
     ]
    }
   ],
   "source": [
    "from tensorflow.keras.utils import to_categorical\n",
    "print(\"before change:\", test_labels[0])\n",
    "train_labels = to_categorical(train_labels)\n",
    "test_labels = to_categorical(test_labels)\n",
    "print(\"after change\", test_labels[0])\n"
   ]
  },
  {
   "cell_type": "code",
   "execution_count": 22,
   "metadata": {
    "pycharm": {
     "name": "#%%\n"
    }
   },
   "outputs": [
    {
     "data": {
      "text/plain": [
       "'\\n把数据丢进网络进行训练\\ntrain_images: 用于训练的手写数字图片\\ntrain_labels: 对应的是图片的标记\\nbatch_size: 每次输入的图片数组中随机选择128个作为一组进行计算\\nepochs: 每次计算的循环次数\\n'"
      ]
     },
     "execution_count": 22,
     "metadata": {},
     "output_type": "execute_result"
    }
   ],
   "source": [
    "[5]\n",
    "'''\n",
    "把数据丢进网络进行训练\n",
    "train_images: 用于训练的手写数字图片\n",
    "train_labels: 对应的是图片的标记\n",
    "batch_size: 每次输入的图片数组中随机选择128个作为一组进行计算\n",
    "epochs: 每次计算的循环次数\n",
    "'''\n"
   ]
  },
  {
   "cell_type": "code",
   "execution_count": 23,
   "metadata": {
    "pycharm": {
     "name": "#%%\n"
    }
   },
   "outputs": [
    {
     "name": "stderr",
     "output_type": "stream",
     "text": [
      "2021-08-15 12:23:43.813395: I tensorflow/core/platform/cpu_feature_guard.cc:142] Your CPU supports instructions that this TensorFlow binary was not compiled to use: AVX2 FMA\n"
     ]
    },
    {
     "name": "stdout",
     "output_type": "stream",
     "text": [
      "Epoch 1/5\n",
      "60000/60000 [==============================] - 1s 22us/sample - loss: 1.4661 - acc: 0.6903\b\b\b\b\b\b\b\b\b\b\b\b\b\b\b\b\b\b\b\b\b\b\b\b\b\b\b\b\b\b\b\b\b\b\b\b\b\b\b\b\b\b\b\b\b\b\b\b\b\b\b\b\b\b\b\b\b\b\b\b\b\b\b\b\b\b\b\b\b\b\b\b\b\b\b\b\b\b\b\b\b\b\b\b\b\b\b\b\b\b\b\b\b\b\b\b\b\b\b\b\b\b\b\b\b\b\b\b\b\b\b\b\b\b\b\b\b\b\b\b\b\b\b\b\b\b\b\b\b\b\b\b\b\b\b\b\b\b\b\b\b\b\b\b\b\b\b\b\b\b\b\b\b\b\b\b\b\b\b\b\b\b\b\b\b\b\b\b\b\b\b\b\b\b\b\b\b\b\b\b\b\b\b\b\b\b\b\b\b\b\b\b\b\b\b\b\b\b\b\b\b\b\b\b\b\b\b\b\b\b\b\b\b\b\b\b\b\b\b\b\b\b\b\b\b\b\b\b\b\b\b\b\b\b\b\b\b\b\b\b\b\b\b\b\b\b\b\b\b\b\b\b\b\b\b\b\b\b\b\b\b\b\b\b\b\b\b\b\b\b\b\b\b\b\b\b\b\b\b\b\b\b\b\b\b\b\b\b\b\b\b\b\b\b\b\b\b\b\b\b\b\b\b\b\b\b\b\b\b\b\b\b\b\b\b\b\b\b\b\b\b\b\b\b\b\b\b\b\b\b\b\b\b\b\b\b\b\b\b\b\b\b\b\b\b\b\b\b\b\b\b\b\b\b\b\b\b\b\b\b\b\b\b\b\b\b\b\b\b\b\b\b\b\b\b\b\b\b\b\b\b\b\b\b\b\b\b\b\b\b\b\b\b\b\b\b\b\b\b\b\b\b\b\b\b\b\b\b\b\b\b\b\b\b\b\b\b\b\b\b\b\b\b\b\b\b\b\b\b\b\b\b\b\b\b\b\b\b\b\b\b\b\b\b\b\b\b\b\b\b\b\b\b\b\b\b\b\b\b\b\b\b\b\b\b\b\b\b\b\b\b\b\b\b\b\b\b\b\b\b\b\b\b\b\b\b\b\b\b\b\b\b\b\b\b\b\b\b\b\b\b\b\b\b\b\b\b\b\b\b\b\b\b\b\b\b\b\b\b\b\b\b\b\b\b\b\b\b\b\b\b\b\b\b\b\b\b\b\b\b\b\b\b\b\b\b\b\b\b\b\b\b\b\b\b\b\b\b\b\b\b\b\b\b\b\b\b\b\b\b\b\b\b\b\b\b\b\b\b\b\b\b\b\b\b\b\b\b\b\b\b\b\b\b\b\b\b\b\b\b\b\b\b\b\b\b\b\b\b\b\b\b\b\b\b\b\b\b\b\b\b\b\b\b\b\b\b\b\b\b\b\b\b\b\b\b\b\b\b\b\b\b\b\b\b\b\b\b\b\b\b\b\b\b\b\b\b\b\b\b\b\b\b\b\b\b\b\b\b\b\b\b\b\b\b\b\b\b\b\b\b\b\b\b\b\b\b\b\b\b\b\b\b\b\b\b\b\b\b\b\b\b\b\b\b\b\b\b\b\b\b\b\b\b\b\b\b\b\b\b\b\b\b\b\b\b\b\b\b\b\b\b\b\b\b\b\b\b\b\b\b\b\b\b\b\b\b\b\b\b\b\b\b\b\b\b\b\b\b\b\b\b\b\b\b\b\b\b\b\b\b\b\b\b\b\b\b\b\b\b\b\b\b\b\b\b\b\b\b\b\b\b\b\b\b\b\b\b\b\b\b\b\b\b\b\b\b\b\b\b\b\b\b\b\b\b\b\b\b\b\b\b\b\b\b\b\b\b\b\b\b\b\b\b\b\b\b\b\b\b\b\b\b\b\b\b\b\b\b\b\b\b\b\b\b\b\b\b\b\b\b\b\b\b\b\b\b\b\b\b\b\b\b\b\b\b\b\b\b\b\b\b\b\b\b\b\b\b\b\b\b\b\b\b\b\b\b\b\b\b\b\b\b\b\b\b\b\b\b\b\b\b\b\b\b\b\b\b\b\b\b\b\b\b\b\b\b\b\b\b\b\b\b\b\b\b\b\b\b\b\b\b\b\b\b\b\b\b\b\b\b\b\b\b\b\b\b\b\b\b\b\b\b\b\b\b\b\b\b\b\b\b\b\b\b\b\b\b\b\b\b\b\b\b\b\b\b\b\b\b\b\b\b\b\b\b\b\b\b\b\b\b\b\b\b\b\b\b\b\b\b\b\b\b\b\b\b\b\b\b\b\b\b\b\b\b\b\b\b\b\b\b\b\b\b\b\b\b\b\b\b\b\b\b\b\b\b\b\b\b\b\b\b\b\b\b\b\b\b\b\b\b\b\b\b\b\b\b\b\b\b\b\b\b\b\b\b\b\b\b\b\b\b\b\b\b\b\b\b\b\b\b\b\b\b\b\b\b\b\b\b\b\b\b\b\b\b\b\b\b\b\b\b\b\b\b\b\b\b\b\b\b\b\b\b\b\b\b\b\b\b\b\b\b\b\b\b\b\b\b\b\b\b\b\b\b\b\b\b\b\b\b\b\b\b\b\b\b\b\b\b\b\b\b\b\b\b\b\b\b\b\b\b\b\b\b\b\b\b\b\b\b\b\b\b\b\b\b\b\b\b\b\b\b\b\b\b\b\b\b\b\b\b\b\b\b\b\b\b\b\b\b\b\b\b\b\b\b\b\b\b\b\b\b\b\b\b\b\b\b\b\b\b\b\b\b\b\b\b\b\b\b\b\b\b\b\b\b\b\b\b\b\b\b\b\b\b\b\b\b\b\b\b\b\b\b\b\b\b\b\b\b\b\b\b\b\b\b\b\b\b\b\b\b\b\b\b\b\b\b\b\b\b\b\b\b\b\b\b\b\b\b\b\b\b\b\b\b\b\b\b\b\b\b\b\b\b\b\b\b\b\b\b\b\b\b\b\b\b\b\b\b\b\b\b\b\b\b\b\b\b\b\b\b\b\b\b\b\b\b\b\b\b\b\b\b\b\b\b\b\b\b\b\b\b\b\b\b\b\b\b\b\b\b\b\b\b\b\b\b\b\b\b\b\b\b\b\b\b\b\b\b\b\b\b\b\b\b\b\b\b\b\b\b\b\b\b\b\b\b\b\b\b\b\b\b\b\b\b\b\b\b\b\b\b\b\b\b\b\b\b\b\b\b\b\b\b\b\b\b\b\b\b\b\b\b\b\b\b\b\b\b\b\b\b\b\b\b\b\b\b\b\b\b\b\b\b\b\b\b\b\b\b\b\b\b\b\b\b\b\b\b\b\b\b\b\b\b\b\b\b\b\b\b\b\b\b\b\b\b\b\b\b\b\b\b\b\b\b\b\b\b\b\b\b\b\b\b\b\b\b\b\b\b\b\b\b\b\b\b\b\b\b\b\b\b\b\b\b\b\b\b\b\b\b\b\b\b\b\b\b\b\b\b\b\b\b\b\b\b\b\b\b\b\b\b\b\b\b\b\b\b\b\b\b\b\b\b\b\b\b\b\b\b\b\b\b\b\b\b\b\b\b\b\b\b\b\b\b\b\b\b\b\b\b\b\b\b\b\b\b\b\b\b\b\b\b\b\b\b\b\b\b\b\b\b\b\b\b\b\b\b\b\b\b\b\b\b\b\b\b\b\b\b\b\b\b\b\b\b\b\b\b\b\b\b\b\b\b\b\b\b\b\b\b\b\b\b\b\b\b\b\b\b\b\b\b\b\b\b\b\b\b\b\b\b\b\b\b\b\b\b\b\b\b\b\b\b\b\b\b\b\b\b\b\b\b\b\b\b\b\b\b\b\b\b\b\b\b\b\b\b\b\b\b\b\b\b\b\b\b\b\b\b\b\b\b\b\b\b\b\b\b\b\b\b\b\b\b\b\b\b\b\b\b\b\b\b\b\b\b\b\b\b\b\b\b\b\b\b\b\b\b\b\b\b\b\b\b\b\b\b\b\b\b\b\b\b\b\b\b\b\b\b\b\b\b\b\b\b\b\b\b\b\b\b\b\b\b\b\b\b\b\b\b\b\b\b\b\b\b\b\b\b\b\b\b\b\b\b\b\b\b\b\b\b\b\b\b\b\b\b\b\b\b\b\b\b\b\b\b\b\b\b\b\b\b\b\b\b\b\b\b\b\b\b\b\b\b\b\b\b\b\b\b\b\b\b\b\b\b\b\b\b\b\b\b\b\b\b\b\b\b\b\b\b\b\b\b\b\b\b\b\b\b\b\b\b\b\b\b\b\b\b\b\b\b\b\b\b\b\b\b\b\b\b\b\b\b\b\b\b\b\b\b\b\b\b\b\b\b\b\b\b\b\b\b\b\b\b\b\b\b\b\b\b\b\b\b\b\b\b\b\b\b\b\b\b\b\b\b\b\b\b\b\b\b\b\b\b\b\b\b\b\b\b\b\n",
      "Epoch 2/5\n",
      "60000/60000 [==============================] - 1s 21us/sample - loss: 0.5785 - acc: 0.8547\b\b\b\b\b\b\b\b\b\b\b\b\b\b\b\b\b\b\b\b\b\b\b\b\b\b\b\b\b\b\b\b\b\b\b\b\b\b\b\b\b\b\b\b\b\b\b\b\b\b\b\b\b\b\b\b\b\b\b\b\b\b\b\b\b\b\b\b\b\b\b\b\b\b\b\b\b\b\b\b\b\b\b\b\b\b\b\b\b\b\b\b\b\b\b\b\b\b\b\b\b\b\b\b\b\b\b\b\b\b\b\b\b\b\b\b\b\b\b\b\b\b\b\b\b\b\b\b\b\b\b\b\b\b\b\b\b\b\b\b\b\b\b\b\b\b\b\b\b\b\b\b\b\b\b\b\b\b\b\b\b\b\b\b\b\b\b\b\b\b\b\b\b\b\b\b\b\b\b\b\b\b\b\b\b\b\b\b\b\b\b\b\b\b\b\b\b\b\b\b\b\b\b\b\b\b\b\b\b\b\b\b\b\b\b\b\b\b\b\b\b\b\b\b\b\b\b\b\b\b\b\b\b\b\b\b\b\b\b\b\b\b\b\b\b\b\b\b\b\b\b\b\b\b\b\b\b\b\b\b\b\b\b\b\b\b\b\b\b\b\b\b\b\b\b\b\b\b\b\b\b\b\b\b\b\b\b\b\b\b\b\b\b\b\b\b\b\b\b\b\b\b\b\b\b\b\b\b\b\b\b\b\b\b\b\b\b\b\b\b\b\b\b\b\b\b\b\b\b\b\b\b\b\b\b\b\b\b\b\b\b\b\b\b\b\b\b\b\b\b\b\b\b\b\b\b\b\b\b\b\b\b\b\b\b\b\b\b\b\b\b\b\b\b\b\b\b\b\b\b\b\b\b\b\b\b\b\b\b\b\b\b\b\b\b\b\b\b\b\b\b\b\b\b\b\b\b\b\b\b\b\b\b\b\b\b\b\b\b\b\b\b\b\b\b\b\b\b\b\b\b\b\b\b\b\b\b\b\b\b\b\b\b\b\b\b\b\b\b\b\b\b\b\b\b\b\b\b\b\b\b\b\b\b\b\b\b\b\b\b\b\b\b\b\b\b\b\b\b\b\b\b\b\b\b\b\b\b\b\b\b\b\b\b\b\b\b\b\b\b\b\b\b\b\b\b\b\b\b\b\b\b\b\b\b\b\b\b\b\b\b\b\b\b\b\b\b\b\b\b\b\b\b\b\b\b\b\b\b\b\b\b\b\b\b\b\b\b\b\b\b\b\b\b\b\b\b\b\b\b\b\b\b\b\b\b\b\b\b\b\b\b\b\b\b\b\b\b\b\b\b\b\b\b\b\b\b\b\b\b\b\b\b\b\b\b\b\b\b\b\b\b\b\b\b\b\b\b\b\b\b\b\b\b\b\b\b\b\b\b\b\b\b\b\b\b\b\b\b\b\b\b\b\b\b\b\b\b\b\b\b\b\b\b\b\b\b\b\b\b\b\b\b\b\b\b\b\b\b\b\b\b\b\b\b\b\b\b\b\b\b\b\b\b\b\b\b\b\b\b\b\b\b\b\b\b\b\b\b\b\b\b\b\b\b\b\b\b\b\b\b\b\b\b\b\b\b\b\b\b\b\b\b\b\b\b\b\b\b\b\b\b\b\b\b\b\b\b\b\b\b\b\b\b\b\b\b\b\b\b\b\b\b\b\b\b\b\b\b\b\b\b\b\b\b\b\b\b\b\b\b\b\b\b\b\b\b\b\b\b\b\b\b\b\b\b\b\b\b\b\b\b\b\b\b\b\b\b\b\b\b\b\b\b\b\b\b\b\b\b\b\b\b\b\b\b\b\b\b\b\b\b\b\b\b\b\b\b\b\b\b\b\b\b\b\b\b\b\b\b\b\b\b\b\b\b\b\b\b\b\b\b\b\b\b\b\b\b\b\b\b\b\b\b\b\b\b\b\b\b\b\b\b\b\b\b\b\b\b\b\b\b\b\b\b\b\b\b\b\b\b\b\b\b\b\b\b\b\b\b\b\b\b\b\b\b\b\b\b\b\b\b\b\b\b\b\b\b\b\b\b\b\b\b\b\b\b\b\b\b\b\b\b\b\b\b\b\b\b\b\b\b\b\b\b\b\b\b\b\b\b\b\b\b\b\b\b\b\b\b\b\b\b\b\b\b\b\b\b\b\b\b\b\b\b\b\b\b\b\b\b\b\b\b\b\b\b\b\b\b\b\b\b\b\b\b\b\b\b\b\b\b\b\b\b\b\b\b\b\b\b\b\b\b\b\b\b\b\b\b\b\b\b\b\b\b\b\b\b\b\b\b\b\b\b\b\b\b\b\b\b\b\b\b\b\b\b\b\b\b\b\b\b\b\b\b\b\b\b\b\b\b\b\b\b\b\b\b\b\b\b\b\b\b\b\b\b\b\b\b\b\b\b\b\b\b\b\b\b\b\b\b\b\b\b\b\b\b\b\b\b\b\b\b\b\b\b\b\b\b\b\b\b\b\b\b\b\b\b\b\b\b\b\b\b\b\b\b\b\b\b\b\b\b\b\b\b\b\b\b\b\b\b\b\b\b\b\b\b\b\b\b\b\b\b\b\b\b\b\b\b\b\b\b\b\b\b\b\b\b\b\b\b\b\b\b\b\b\b\b\b\b\b\b\b\b\b\b\b\b\b\b\b\b\b\b\b\b\b\b\b\b\b\b\b\b\b\b\b\b\b\b\b\b\b\b\b\b\b\b\b\b\b\b\b\b\b\b\b\b\b\b\b\b\b\b\b\b\b\b\b\b\b\b\b\b\b\b\b\b\b\b\b\b\b\b\b\b\b\b\b\b\b\b\b\b\b\b\b\b\b\b\b\b\b\b\b\b\b\b\b\b\b\b\b\b\b\b\b\b\b\b\b\b\b\b\b\b\b\b\b\b\b\b\b\b\b\b\b\b\b\b\b\b\b\b\b\b\b\b\b\b\b\b\b\b\b\b\b\b\b\b\b\b\b\b\b\b\b\b\b\b\b\b\b\b\b\b\b\b\b\b\b\b\b\b\b\b\b\b\b\b\b\b\b\b\b\b\b\b\b\b\b\b\b\b\b\b\b\b\b\b\b\b\b\b\b\b\b\b\b\b\b\b\b\b\b\b\b\b\b\b\b\b\b\b\b\b\b\b\b\b\b\b\b\b\b\b\b\b\b\b\b\b\b\b\b\b\b\b\b\b\b\b\b\b\b\b\b\b\b\b\b\b\b\b\b\b\b\b\b\b\b\b\b\b\b\b\b\b\b\b\b\b\b\b\b\b\b\b\b\b\b\b\b\b\b\b\b\b\b\b\b\b\b\b\b\b\b\b\b\b\b\b\b\b\b\b\b\b\b\b\b\b\b\b\b\b\b\b\b\b\b\b\b\b\b\b\b\b\b\b\b\b\b\b\b\b\b\b\b\b\b\b\b\b\b\b\b\b\b\b\b\b\b\b\b\b\b\b\b\b\b\b\b\b\b\b\b\b\b\b\b\b\b\b\b\b\b\b\b\b\b\b\b\b\b\b\b\b\b\b\b\b\b\b\b\b\b\b\b\b\b\b\b\b\b\b\b\b\b\b\b\b\b\b\b\b\b\b\b\b\b\b\b\b\b\b\b\b\b\b\b\b\b\b\b\b\b\b\b\b\b\b\b\b\b\b\b\b\b\b\b\b\b\b\b\b\b\b\b\b\b\b\b\b\b\b\b\b\b\b\b\b\b\b\b\b\b\b\b\b\b\b\b\b\b\b\b\b\b\b\b\b\b\b\b\b\b\b\b\b\b\b\b\b\b\b\b\b\b\b\b\b\b\b\b\b\b\b\b\b\b\b\b\b\b\b\b\b\b\b\b\b\b\b\b\b\b\b\b\b\b\b\b\b\b\b\b\b\b\b\b\b\b\b\b\b\b\b\b\b\b\b\b\b\b\b\b\b\b\b\b\b\b\b\b\b\b\b\b\b\b\b\b\b\b\b\b\b\b\b\b\b\b\b\b\b\b\b\b\b\b\b\b\b\b\b\b\b\b\b\b\b\b\b\b\b\b\b\b\b\b\b\b\b\b\b\b\b\b\b\b\b\b\b\b\b\b\b\b\b\b\b\b\b\b\b\b\b\b\b\b\b\b\b\b\b\b\b\b\b\b\b\b\b\b\b\b\b\b\b\b\b\b\b\b\b\b\b\b\b\b\b\b\b\b\b\b\b\b\b\b\b\b\b\b\b\b\b\b\b\b\b\b\b\b\b\b\b\b\b\b\b\b\b\b\b\b\b\b\b\b\b\b\b\b\b\b\b\b\b\b\b\b\b\b\b\b\b\b\b\b\b\b\b\b\b\b\b\b\b\b\b\b\b\b\b\b\b\b\b\b\b\b\b\b\b\b\b\b\b\b\b\b\b\b\b\b\b\b\b\b\b\b\b\b\b\b\b\b\b\b\b\b\b\b\b\b\b\b\b\b\b\b\b\b\b\b\b\b\b\b\b\b\b\b\b\b\b\b\b\b\b\b\b\b\b\b\b\b\b\b\b\b\b\b\b\b\b\b\b\b\b\b\b\b\b\b\b\b\b\b\b\b\b\b\b\b\b\b\b\b\b\b\b\b\b\b\b\b\b\b\b\b\b\b\b\b\b\b\b\b\b\b\b\b\b\n",
      "Epoch 3/5\n",
      "60000/60000 [==============================] - 1s 20us/sample - loss: 0.4080 - acc: 0.8895\b\b\b\b\b\b\b\b\b\b\b\b\b\b\b\b\b\b\b\b\b\b\b\b\b\b\b\b\b\b\b\b\b\b\b\b\b\b\b\b\b\b\b\b\b\b\b\b\b\b\b\b\b\b\b\b\b\b\b\b\b\b\b\b\b\b\b\b\b\b\b\b\b\b\b\b\b\b\b\b\b\b\b\b\b\b\b\b\b\b\b\b\b\b\b\b\b\b\b\b\b\b\b\b\b\b\b\b\b\b\b\b\b\b\b\b\b\b\b\b\b\b\b\b\b\b\b\b\b\b\b\b\b\b\b\b\b\b\b\b\b\b\b\b\b\b\b\b\b\b\b\b\b\b\b\b\b\b\b\b\b\b\b\b\b\b\b\b\b\b\b\b\b\b\b\b\b\b\b\b\b\b\b\b\b\b\b\b\b\b\b\b\b\b\b\b\b\b\b\b\b\b\b\b\b\b\b\b\b\b\b\b\b\b\b\b\b\b\b\b\b\b\b\b\b\b\b\b\b\b\b\b\b\b\b\b\b\b\b\b\b\b\b\b\b\b\b\b\b\b\b\b\b\b\b\b\b\b\b\b\b\b\b\b\b\b\b\b\b\b\b\b\b\b\b\b\b\b\b\b\b\b\b\b\b\b\b\b\b\b\b\b\b\b\b\b\b\b\b\b\b\b\b\b\b\b\b\b\b\b\b\b\b\b\b\b\b\b\b\b\b\b\b\b\b\b\b\b\b\b\b\b\b\b\b\b\b\b\b\b\b\b\b\b\b\b\b\b\b\b\b\b\b\b\b\b\b\b\b\b\b\b\b\b\b\b\b\b\b\b\b\b\b\b\b\b\b\b\b\b\b\b\b\b\b\b\b\b\b\b\b\b\b\b\b\b\b\b\b\b\b\b\b\b\b\b\b\b\b\b\b\b\b\b\b\b\b\b\b\b\b\b\b\b\b\b\b\b\b\b\b\b\b\b\b\b\b\b\b\b\b\b\b\b\b\b\b\b\b\b\b\b\b\b\b\b\b\b\b\b\b\b\b\b\b\b\b\b\b\b\b\b\b\b\b\b\b\b\b\b\b\b\b\b\b\b\b\b\b\b\b\b\b\b\b\b\b\b\b\b\b\b\b\b\b\b\b\b\b\b\b\b\b\b\b\b\b\b\b\b\b\b\b\b\b\b\b\b\b\b\b\b\b\b\b\b\b\b\b\b\b\b\b\b\b\b\b\b\b\b\b\b\b\b\b\b\b\b\b\b\b\b\b\b\b\b\b\b\b\b\b\b\b\b\b\b\b\b\b\b\b\b\b\b\b\b\b\b\b\b\b\b\b\b\b\b\b\b\b\b\b\b\b\b\b\b\b\b\b\b\b\b\b\b\b\b\b\b\b\b\b\b\b\b\b\b\b\b\b\b\b\b\b\b\b\b\b\b\b\b\b\b\b\b\b\b\b\b\b\b\b\b\b\b\b\b\b\b\b\b\b\b\b\b\b\b\b\b\b\b\b\b\b\b\b\b\b\b\b\b\b\b\b\b\b\b\b\b\b\b\b\b\b\b\b\b\b\b\b\b\b\b\b\b\b\b\b\b\b\b\b\b\b\b\b\b\b\b\b\b\b\b\b\b\b\b\b\b\b\b\b\b\b\b\b\b\b\b\b\b\b\b\b\b\b\b\b\b\b\b\b\b\b\b\b\b\b\b\b\b\b\b\b\b\b\b\b\b\b\b\b\b\b\b\b\b\b\b\b\b\b\b\b\b\b\b\b\b\b\b\b\b\b\b\b\b\b\b\b\b\b\b\b\b\b\b\b\b\b\b\b\b\b\b\b\b\b\b\b\b\b\b\b\b\b\b\b\b\b\b\b\b\b\b\b\b\b\b\b\b\b\b\b\b\b\b\b\b\b\b\b\b\b\b\b\b\b\b\b\b\b\b\b\b\b\b\b\b\b\b\b\b\b\b\b\b\b\b\b\b\b\b\b\b\b\b\b\b\b\b\b\b\b\b\b\b\b\b\b\b\b\b\b\b\b\b\b\b\b\b\b\b\b\b\b\b\b\b\b\b\b\b\b\b\b\b\b\b\b\b\b\b\b\b\b\b\b\b\b\b\b\b\b\b\b\b\b\b\b\b\b\b\b\b\b\b\b\b\b\b\b\b\b\b\b\b\b\b\b\b\b\b\b\b\b\b\b\b\b\b\b\b\b\b\b\b\b\b\b\b\b\b\b\b\b\b\b\b\b\b\b\b\b\b\b\b\b\b\b\b\b\b\b\b\b\b\b\b\b\b\b\b\b\b\b\b\b\b\b\b\b\b\b\b\b\b\b\b\b\b\b\b\b\b\b\b\b\b\b\b\b\b\b\b\b\b\b\b\b\b\b\b\b\b\b\b\b\b\b\b\b\b\b\b\b\b\b\b\b\b\b\b\b\b\b\b\b\b\b\b\b\b\b\b\b\b\b\b\b\b\b\b\b\b\b\b\b\b\b\b\b\b\b\b\b\b\b\b\b\b\b\b\b\b\b\b\b\b\b\b\b\b\b\b\b\b\b\b\b\b\b\b\b\b\b\b\b\b\b\b\b\b\b\b\b\b\b\b\b\b\b\b\b\b\b\b\b\b\b\b\b\b\b\b\b\b\b\b\b\b\b\b\b\b\b\b\b\b\b\b\b\b\b\b\b\b\b\b\b\b\b\b\b\b\b\b\b\b\b\b\b\b\b\b\b\b\b\b\b\b\b\b\b\b\b\b\b\b\b\b\b\b\b\b\b\b\b\b\b\b\b\b\b\b\b\b\b\b\b\b\b\b\b\b\b\b\b\b\b\b\b\b\b\b\b\b\b\b\b\b\b\b\b\b\b\b\b\b\b\b\b\b\b\b\b\b\b\b\b\b\b\b\b\b\b\b\b\b\b\b\b\b\b\b\b\b\b\b\b\b\b\b\b\b\b\b\b\b\b\b\b\b\b\b\b\b\b\b\b\b\b\b\b\b\b\b\b\b\b\b\b\b\b\b\b\b\b\b\b\b\b\b\b\b\b\b\b\b\b\b\b\b\b\b\b\b\b\b\b\b\b\b\b\b\b\b\b\b\b\b\b\b\b\b\b\b\b\b\b\b\b\b\b\b\b\b\b\b\b\b\b\b\b\b\b\b\b\b\b\b\b\b\b\b\b\b\b\b\b\b\b\b\b\b\b\b\b\b\b\b\b\b\b\b\b\b\b\b\b\b\b\b\b\b\b\b\b\b\b\b\b\b\b\b\b\b\b\b\b\b\b\b\b\b\b\b\b\b\b\b\b\b\b\b\b\b\b\b\b\b\b\b\b\b\b\b\b\b\b\b\b\b\b\b\b\b\b\b\b\b\b\b\b\b\b\b\b\b\b\b\b\b\b\b\b\b\b\b\b\b\b\b\b\b\b\b\b\b\b\b\b\b\b\b\b\b\b\b\b\b\b\b\b\b\b\b\b\b\b\b\b\b\b\b\b\b\b\b\b\b\b\b\b\b\b\b\b\b\b\b\b\b\b\b\b\b\b\b\b\b\b\b\b\b\b\b\b\b\b\b\b\b\b\b\b\b\b\b\b\b\b\b\b\b\b\b\b\b\b\b\b\b\b\b\b\b\b\b\b\b\b\b\b\b\b\b\b\b\b\b\b\b\b\b\b\b\b\b\b\b\b\b\b\b\b\b\b\b\b\b\b\b\b\b\b\b\b\b\b\b\b\b\b\b\b\b\b\b\b\b\b\b\b\b\b\b\b\b\b\b\b\b\b\b\b\b\b\b\b\b\b\b\b\b\b\b\b\b\b\b\b\b\b\b\b\b\b\b\b\b\b\b\b\b\b\b\b\b\b\b\b\b\b\b\b\b\b\b\b\b\b\b\b\b\b\b\b\b\b\b\b\b\b\b\b\b\b\b\b\b\b\b\b\b\b\b\b\b\b\b\b\b\b\b\b\b\b\b\b\b\b\b\b\b\b\b\b\b\b\b\b\b\b\b\b\b\b\b\b\b\b\b\b\b\b\b\b\b\b\b\b\b\b\b\b\b\b\b\b\b\b\b\b\b\b\b\b\b\b\b\b\b\b\b\b\b\b\b\b\b\b\b\b\b\b\b\b\b\b\b\b\b\b\b\b\b\b\b\b\b\b\b\b\b\b\b\b\b\b\b\b\b\b\b\b\b\b\b\b\b\b\b\b\b\b\b\b\b\b\b\b\b\b\b\b\b\b\b\b\b\b\b\b\b\b\b\b\b\b\b\b\b\n",
      "Epoch 4/5\n",
      "60000/60000 [==============================] - 1s 19us/sample - loss: 0.3510 - acc: 0.9015\b\b\b\b\b\b\b\b\b\b\b\b\b\b\b\b\b\b\b\b\b\b\b\b\b\b\b\b\b\b\b\b\b\b\b\b\b\b\b\b\b\b\b\b\b\b\b\b\b\b\b\b\b\b\b\b\b\b\b\b\b\b\b\b\b\b\b\b\b\b\b\b\b\b\b\b\b\b\b\b\b\b\b\b\b\b\b\b\b\b\b\b\b\b\b\b\b\b\b\b\b\b\b\b\b\b\b\b\b\b\b\b\b\b\b\b\b\b\b\b\b\b\b\b\b\b\b\b\b\b\b\b\b\b\b\b\b\b\b\b\b\b\b\b\b\b\b\b\b\b\b\b\b\b\b\b\b\b\b\b\b\b\b\b\b\b\b\b\b\b\b\b\b\b\b\b\b\b\b\b\b\b\b\b\b\b\b\b\b\b\b\b\b\b\b\b\b\b\b\b\b\b\b\b\b\b\b\b\b\b\b\b\b\b\b\b\b\b\b\b\b\b\b\b\b\b\b\b\b\b\b\b\b\b\b\b\b\b\b\b\b\b\b\b\b\b\b\b\b\b\b\b\b\b\b\b\b\b\b\b\b\b\b\b\b\b\b\b\b\b\b\b\b\b\b\b\b\b\b\b\b\b\b\b\b\b\b\b\b\b\b\b\b\b\b\b\b\b\b\b\b\b\b\b\b\b\b\b\b\b\b\b\b\b\b\b\b\b\b\b\b\b\b\b\b\b\b\b\b\b\b\b\b\b\b\b\b\b\b\b\b\b\b\b\b\b\b\b\b\b\b\b\b\b\b\b\b\b\b\b\b\b\b\b\b\b\b\b\b\b\b\b\b\b\b\b\b\b\b\b\b\b\b\b\b\b\b\b\b\b\b\b\b\b\b\b\b\b\b\b\b\b\b\b\b\b\b\b\b\b\b\b\b\b\b\b\b\b\b\b\b\b\b\b\b\b\b\b\b\b\b\b\b\b\b\b\b\b\b\b\b\b\b\b\b\b\b\b\b\b\b\b\b\b\b\b\b\b\b\b\b\b\b\b\b\b\b\b\b\b\b\b\b\b\b\b\b\b\b\b\b\b\b\b\b\b\b\b\b\b\b\b\b\b\b\b\b\b\b\b\b\b\b\b\b\b\b\b\b\b\b\b\b\b\b\b\b\b\b\b\b\b\b\b\b\b\b\b\b\b\b\b\b\b\b\b\b\b\b\b\b\b\b\b\b\b\b\b\b\b\b\b\b\b\b\b\b\b\b\b\b\b\b\b\b\b\b\b\b\b\b\b\b\b\b\b\b\b\b\b\b\b\b\b\b\b\b\b\b\b\b\b\b\b\b\b\b\b\b\b\b\b\b\b\b\b\b\b\b\b\b\b\b\b\b\b\b\b\b\b\b\b\b\b\b\b\b\b\b\b\b\b\b\b\b\b\b\b\b\b\b\b\b\b\b\b\b\b\b\b\b\b\b\b\b\b\b\b\b\b\b\b\b\b\b\b\b\b\b\b\b\b\b\b\b\b\b\b\b\b\b\b\b\b\b\b\b\b\b\b\b\b\b\b\b\b\b\b\b\b\b\b\b\b\b\b\b\b\b\b\b\b\b\b\b\b\b\b\b\b\b\b\b\b\b\b\b\b\b\b\b\b\b\b\b\b\b\b\b\b\b\b\b\b\b\b\b\b\b\b\b\b\b\b\b\b\b\b\b\b\b\b\b\b\b\b\b\b\b\b\b\b\b\b\b\b\b\b\b\b\b\b\b\b\b\b\b\b\b\b\b\b\b\b\b\b\b\b\b\b\b\b\b\b\b\b\b\b\b\b\b\b\b\b\b\b\b\b\b\b\b\b\b\b\b\b\b\b\b\b\b\b\b\b\b\b\b\b\b\b\b\b\b\b\b\b\b\b\b\b\b\b\b\b\b\b\b\b\b\b\b\b\b\b\b\b\b\b\b\b\b\b\b\b\b\b\b\b\b\b\b\b\b\b\b\b\b\b\b\b\b\b\b\b\b\b\b\b\b\b\b\b\b\b\b\b\b\b\b\b\b\b\b\b\b\b\b\b\b\b\b\b\b\b\b\b\b\b\b\b\b\b\b\b\b\b\b\b\b\b\b\b\b\b\b\b\b\b\b\b\b\b\b\b\b\b\b\b\b\b\b\b\b\b\b\b\b\b\b\b\b\b\b\b\b\b\b\b\b\b\b\b\b\b\b\b\b\b\b\b\b\b\b\b\b\b\b\b\b\b\b\b\b\b\b\b\b\b\b\b\b\b\b\b\b\b\b\b\b\b\b\b\b\b\b\b\b\b\b\b\b\b\b\b\b\b\b\b\b\b\b\b\b\b\b\b\b\b\b\b\b\b\b\b\b\b\b\b\b\b\b\b\b\b\b\b\b\b\b\b\b\b\b\b\b\b\b\b\b\b\b\b\b\b\b\b\b\b\b\b\b\b\b\b\b\b\b\b\b\b\b\b\b\b\b\b\b\b\b\b\b\b\b\b\b\b\b\b\b\b\b\b\b\b\b\b\b\b\b\b\b\b\b\b\b\b\b\b\b\b\b\b\b\b\b\b\b\b\b\b\b\b\b\b\b\b\b\b\b\b\b\b\b\b\b\b\b\b\b\b\b\b\b\b\b\b\b\b\b\b\b\b\b\b\b\b\b\b\b\b\b\b\b\b\b\b\b\b\b\b\b\b\b\b\b\b\b\b\b\b\b\b\b\b\b\b\b\b\b\b\b\b\b\b\b\b\b\b\b\b\b\b\b\b\b\b\b\b\b\b\b\b\b\b\b\b\b\b\b\b\b\b\b\b\b\b\b\b\b\b\b\b\b\b\b\b\b\b\b\b\b\b\b\b\b\b\b\b\b\b\b\b\b\b\b\b\b\b\b\b\b\b\b\b\b\b\b\b\b\b\b\b\b\b\b\b\b\b\b\b\b\b\b\b\b\b\b\b\b\b\b\b\b\b\b\b\b\b\b\b\b\b\b\b\b\b\b\b\b\b\b\b\b\b\b\b\b\b\b\b\b\b\b\b\b\b\b\b\b\b\b\b\b\b\b\b\b\b\b\b\b\b\b\b\b\b\b\b\b\b\b\b\b\b\b\b\b\b\b\b\b\b\b\b\b\b\b\b\b\b\b\b\b\b\b\b\b\b\b\b\b\b\b\b\b\b\b\b\b\b\b\b\b\b\b\b\b\b\b\b\b\b\b\b\b\b\b\b\b\b\b\b\b\b\b\b\b\b\b\b\b\b\b\b\b\b\b\b\b\b\b\b\b\b\b\b\b\b\b\b\b\b\b\b\b\b\b\b\b\b\b\b\b\b\b\b\b\b\b\b\b\b\b\b\b\b\b\b\b\b\b\b\b\b\b\b\b\b\b\b\b\b\b\b\b\b\b\b\b\b\b\b\b\b\b\b\b\b\b\b\b\b\b\b\b\b\b\b\b\b\b\b\b\b\b\b\b\b\b\b\b\b\b\b\b\b\b\b\b\b\b\b\b\b\b\b\b\b\b\b\b\b\b\b\b\b\b\b\b\b\b\b\b\b\b\b\b\b\b\b\b\b\b\b\b\b\b\b\b\b\b\b\b\b\b\b\b\b\b\b\b\b\b\b\b\b\b\b\b\b\b\b\b\b\b\b\b\b\b\b\b\b\b\b\b\b\b\b\b\b\b\b\b\b\b\b\b\b\b\b\b\b\b\b\b\b\b\b\b\b\b\b\b\b\b\b\b\b\b\b\b\b\b\b\b\b\b\b\b\b\b\b\b\b\b\b\b\b\b\b\b\b\b\b\b\b\b\b\b\b\b\b\b\b\b\b\b\b\b\b\b\b\b\b\b\b\b\b\b\b\b\b\b\b\b\b\b\b\b\b\b\b\b\b\b\b\b\b\b\b\b\b\b\b\b\b\b\b\b\b\b\b\b\b\b\b\b\b\b\b\b\b\b\b\b\b\b\b\b\b\b\b\b\b\b\b\b\b\b\b\b\b\b\b\b\b\b\b\b\b\b\b\b\b\b\b\b\b\b\b\b\b\b\b\b\b\b\b\b\b\b\b\b\b\b\b\b\b\b\b\b\b\b\b\b\b\b\b\b\b\b\b\b\b\b\b\b\b\b\b\b\b\b\b\b\b\b\b\b\b\b\b\b\b\b\b\b\b\b\b\b\b\b\b\b\b\b\b\b\b\b\b\b\b\b\b\b\b\b\b\b\b\b\b\b\b\b\b\b\b\b\b\b\b\b\b\b\b\b\b\b\b\n",
      "Epoch 5/5\n",
      "60000/60000 [==============================] - 1s 19us/sample - loss: 0.3221 - acc: 0.9083\b\b\b\b\b\b\b\b\b\b\b\b\b\b\b\b\b\b\b\b\b\b\b\b\b\b\b\b\b\b\b\b\b\b\b\b\b\b\b\b\b\b\b\b\b\b\b\b\b\b\b\b\b\b\b\b\b\b\b\b\b\b\b\b\b\b\b\b\b\b\b\b\b\b\b\b\b\b\b\b\b\b\b\b\b\b\b\b\b\b\b\b\b\b\b\b\b\b\b\b\b\b\b\b\b\b\b\b\b\b\b\b\b\b\b\b\b\b\b\b\b\b\b\b\b\b\b\b\b\b\b\b\b\b\b\b\b\b\b\b\b\b\b\b\b\b\b\b\b\b\b\b\b\b\b\b\b\b\b\b\b\b\b\b\b\b\b\b\b\b\b\b\b\b\b\b\b\b\b\b\b\b\b\b\b\b\b\b\b\b\b\b\b\b\b\b\b\b\b\b\b\b\b\b\b\b\b\b\b\b\b\b\b\b\b\b\b\b\b\b\b\b\b\b\b\b\b\b\b\b\b\b\b\b\b\b\b\b\b\b\b\b\b\b\b\b\b\b\b\b\b\b\b\b\b\b\b\b\b\b\b\b\b\b\b\b\b\b\b\b\b\b\b\b\b\b\b\b\b\b\b\b\b\b\b\b\b\b\b\b\b\b\b\b\b\b\b\b\b\b\b\b\b\b\b\b\b\b\b\b\b\b\b\b\b\b\b\b\b\b\b\b\b\b\b\b\b\b\b\b\b\b\b\b\b\b\b\b\b\b\b\b\b\b\b\b\b\b\b\b\b\b\b\b\b\b\b\b\b\b\b\b\b\b\b\b\b\b\b\b\b\b\b\b\b\b\b\b\b\b\b\b\b\b\b\b\b\b\b\b\b\b\b\b\b\b\b\b\b\b\b\b\b\b\b\b\b\b\b\b\b\b\b\b\b\b\b\b\b\b\b\b\b\b\b\b\b\b\b\b\b\b\b\b\b\b\b\b\b\b\b\b\b\b\b\b\b\b\b\b\b\b\b\b\b\b\b\b\b\b\b\b\b\b\b\b\b\b\b\b\b\b\b\b\b\b\b\b\b\b\b\b\b\b\b\b\b\b\b\b\b\b\b\b\b\b\b\b\b\b\b\b\b\b\b\b\b\b\b\b\b\b\b\b\b\b\b\b\b\b\b\b\b\b\b\b\b\b\b\b\b\b\b\b\b\b\b\b\b\b\b\b\b\b\b\b\b\b\b\b\b\b\b\b\b\b\b\b\b\b\b\b\b\b\b\b\b\b\b\b\b\b\b\b\b\b\b\b\b\b\b\b\b\b\b\b\b\b\b\b\b\b\b\b\b\b\b\b\b\b\b\b\b\b\b\b\b\b\b\b\b\b\b\b\b\b\b\b\b\b\b\b\b\b\b\b\b\b\b\b\b\b\b\b\b\b\b\b\b\b\b\b\b\b\b\b\b\b\b\b\b\b\b\b\b\b\b\b\b\b\b\b\b\b\b\b\b\b\b\b\b\b\b\b\b\b\b\b\b\b\b\b\b\b\b\b\b\b\b\b\b\b\b\b\b\b\b\b\b\b\b\b\b\b\b\b\b\b\b\b\b\b\b\b\b\b\b\b\b\b\b\b\b\b\b\b\b\b\b\b\b\b\b\b\b\b\b\b\b\b\b\b\b\b\b\b\b\b\b\b\b\b\b\b\b\b\b\b\b\b\b\b\b\b\b\b\b\b\b\b\b\b\b\b\b\b\b\b\b\b\b\b\b\b\b\b\b\b\b\b\b\b\b\b\b\b\b\b\b\b\b\b\b\b\b\b\b\b\b\b\b\b\b\b\b\b\b\b\b\b\b\b\b\b\b\b\b\b\b\b\b\b\b\b\b\b\b\b\b\b\b\b\b\b\b\b\b\b\b\b\b\b\b\b\b\b\b\b\b\b\b\b\b\b\b\b\b\b\b\b\b\b\b\b\b\b\b\b\b\b\b\b\b\b\b\b\b\b\b\b\b\b\b\b\b\b\b\b\b\b\b\b\b\b\b\b\b\b\b\b\b\b\b\b\b\b\b\b\b\b\b\b\b\b\b\b\b\b\b\b\b\b\b\b\b\b\b\b\b\b\b\b\b\b\b\b\b\b\b\b\b\b\b\b\b\b\b\b\b\b\b\b\b\b\b\b\b\b\b\b\b\b\b\b\b\b\b\b\b\b\b\b\b\b\b\b\b\b\b\b\b\b\b\b\b\b\b\b\b\b\b\b\b\b\b\b\b\b\b\b\b\b\b\b\b\b\b\b\b\b\b\b\b\b\b\b\b\b\b\b\b\b\b\b\b\b\b\b\b\b\b\b\b\b\b\b\b\b\b\b\b\b\b\b\b\b\b\b\b\b\b\b\b\b\b\b\b\b\b\b\b\b\b\b\b\b\b\b\b\b\b\b\b\b\b\b\b\b\b\b\b\b\b\b\b\b\b\b\b\b\b\b\b\b\b\b\b\b\b\b\b\b\b\b\b\b\b\b\b\b\b\b\b\b\b\b\b\b\b\b\b\b\b\b\b\b\b\b\b\b\b\b\b\b\b\b\b\b\b\b\b\b\b\b\b\b\b\b\b\b\b\b\b\b\b\b\b\b\b\b\b\b\b\b\b\b\b\b\b\b\b\b\b\b\b\b\b\b\b\b\b\b\b\b\b\b\b\b\b\b\b\b\b\b\b\b\b\b\b\b\b\b\b\b\b\b\b\b\b\b\b\b\b\b\b\b\b\b\b\b\b\b\b\b\b\b\b\b\b\b\b\b\b\b\b\b\b\b\b\b\b\b\b\b\b\b\b\b\b\b\b\b\b\b\b\b\b\b\b\b\b\b\b\b\b\b\b\b\b\b\b\b\b\b\b\b\b\b\b\b\b\b\b\b\b\b\b\b\b\b\b\b\b\b\b\b\b\b\b\b\b\b\b\b\b\b\b\b\b\b\b\b\b\b\b\b\b\b\b\b\b\b\b\b\b\b\b\b\b\b\b\b\b\b\b\b\b\b\b\b\b\b\b\b\b\b\b\b\b\b\b\b\b\b\b\b\b\b\b\b\b\b\b\b\b\b\b\b\b\b\b\b\b\b\b\b\b\b\b\b\b\b\b\b\b\b\b\b\b\b\b\b\b\b\b\b\b\b\b\b\b\b\b\b\b\b\b\b\b\b\b\b\b\b\b\b\b\b\b\b\b\b\b\b\b\b\b\b\b\b\b\b\b\b\b\b\b\b\b\b\b\b\b\b\b\b\b\b\b\b\b\b\b\b\b\b\b\b\b\b\b\b\b\b\b\b\b\b\b\b\b\b\b\b\b\b\b\b\b\b\b\b\b\b\b\b\b\b\b\b\b\b\b\b\b\b\b\b\b\b\b\b\b\b\b\b\b\b\b\b\b\b\b\b\b\b\b\b\b\b\b\b\b\b\b\b\b\b\b\b\b\b\b\b\b\b\b\b\b\b\b\b\b\b\b\b\b\b\b\b\b\b\b\b\b\b\b\b\b\b\b\b\b\b\b\b\b\b\b\b\b\b\b\b\b\b\b\b\b\b\b\b\b\b\b\b\b\b\b\b\b\b\b\b\b\b\b\b\b\b\b\b\b\b\b\b\b\b\b\b\b\b\b\b\b\b\b\b\b\b\b\b\b\b\b\b\b\b\b\b\b\b\b\b\b\b\b\b\b\b\b\b\b\b\b\b\b\b\b\b\b\b\b\b\b\b\b\b\b\b\b\b\b\b\b\b\b\b\b\b\b\b\b\b\b\b\b\b\b\b\b\b\b\b\b\b\b\b\b\b\b\b\b\b\b\b\b\b\b\b\b\b\b\b\b\b\b\b\b\b\b\b\b\b\b\b\b\b\b\b\b\b\b\b\b\b\b\b\b\b\b\b\b\b\b\b\b\b\b\b\b\b\b\b\b\b\b\b\b\b\b\b\b\b\b\b\b\b\b\b\b\b\b\b\b\b\b\b\b\b\b\b\b\b\b\b\b\b\b\b\b\b\b\b\b\b\b\b\b\b\b\b\b\b\b\b\b\b\b\b\b\b\b\b\b\b\b\b\b\b\b\b\b\b\b\b\b\b\b\b\b\b\b\b\b\b\b\b\b\b\b\b\b\b\b\b\b\b\b\b\b\b\b\b\b\b\b\b\b\b\b\b\b\b\b\b\b\b\b\b\b\b\b\b\b\b\b\b\b\b\b\b\b\b\b\b\b\b\b\b\b\b\b\b\b\b\b\b\b\b\b\b\n"
     ]
    },
    {
     "data": {
      "text/plain": [
       "<tensorflow.python.keras.callbacks.History at 0x7f8dc4786350>"
      ]
     },
     "execution_count": 23,
     "metadata": {},
     "output_type": "execute_result"
    }
   ],
   "source": [
    "network.fit(train_images, train_labels, epochs=5, batch_size=128)\n"
   ]
  },
  {
   "cell_type": "code",
   "execution_count": 24,
   "metadata": {
    "pycharm": {
     "name": "#%%\n"
    }
   },
   "outputs": [
    {
     "name": "stdout",
     "output_type": "stream",
     "text": [
      "10000/10000 [==============================] - 0s 23us/sample - loss: 55.7109 - acc: 0.8082\b\b\b\b\b\b\b\b\b\b\b\b\b\b\b\b\b\b\b\b\b\b\b\b\b\b\b\b\b\b\b\b\b\b\b\b\b\b\b\b\b\b\b\b\b\b\b\b\b\b\b\b\b\b\b\b\b\b\b\b\b\b\b\b\b\b\b\b\b\b\b\b\b\b\b\b\b\b\b\b\b\b\b\b\b\b\b\b\b\b\b\b\b\b\b\b\b\b\b\b\b\b\b\b\b\b\b\b\b\b\b\b\b\b\b\b\b\b\b\b\b\b\b\b\b\b\b\b\b\b\b\b\b\b\b\b\b\b\b\b\b\b\b\b\b\b\b\b\b\b\b\b\b\b\b\b\b\b\b\b\b\b\b\b\b\b\b\b\b\b\b\b\b\b\b\b\b\b\b\b\b\b\b\b\b\b\b\b\b\b\b\b\b\b\b\b\b\b\b\b\b\b\b\b\b\b\b\b\b\b\b\b\b\b\b\b\b\b\b\b\b\b\b\b\b\b\b\b\b\b\b\b\b\b\b\b\b\b\b\b\b\b\b\b\b\b\b\b\b\b\b\b\b\b\b\b\b\b\b\b\b\b\b\b\b\b\b\b\b\b\b\b\b\b\b\b\b\b\b\b\b\b\b\b\b\b\b\b\b\b\b\b\b\b\b\b\b\b\b\b\b\b\b\b\b\b\b\b\b\b\b\b\b\b\b\b\b\b\b\b\b\b\b\b\b\b\b\b\b\b\b\n",
      "55.71087650985718\n",
      "0.8082\n"
     ]
    }
   ],
   "source": [
    "# [6]\n",
    "# 测试数据输入， 检验网络学习后的图片识别效果\n",
    "# 识别效果与硬件有关（CPU / GPU）\n",
    "\n",
    "test_loss, test_acc = network.evaluate(test_images, test_labels, verbose=1)\n",
    "print(test_loss)\n",
    "print(test_acc)\n"
   ]
  },
  {
   "cell_type": "code",
   "execution_count": 27,
   "metadata": {
    "pycharm": {
     "name": "#%%\n"
    }
   },
   "outputs": [
    {
     "data": {
      "image/png": "[encoded data removed]",
      "text/plain": [
       "<Figure size 432x288 with 1 Axes>"
      ]
     },
     "metadata": {
      "needs_background": "light"
     },
     "output_type": "display_data"
    }
   ],
   "source": [
    "# [7]\n",
    "# 输入一个手写图片到网络中， 看看它的识别效果\n",
    "(train_images, train_labels), (test_images, test_labels) = mnist.load_data()\n",
    "digit = test_images[1]\n",
    "plt.imshow(digit, cmap='gray')\n",
    "plt.show()"
   ]
  },
  {
   "cell_type": "code",
   "execution_count": 28,
   "metadata": {
    "pycharm": {
     "name": "#%%\n"
    }
   },
   "outputs": [],
   "source": [
    "test_images = test_images.reshape((10000, 28 * 28))\n",
    "res = network.predict(test_images)\n",
    "\n",
    "\n"
   ]
  },
  {
   "cell_type": "code",
   "execution_count": 30,
   "metadata": {
    "pycharm": {
     "name": "#%%\n"
    }
   },
   "outputs": [
    {
     "name": "stdout",
     "output_type": "stream",
     "text": [
      "the number gor the picture is :  2\n"
     ]
    }
   ],
   "source": [
    "for i in range(res[1].shape[0]):\n",
    "    if (res[1][i] == 1):\n",
    "        print(\"the number gor the picture is : \", i)\n",
    "        break\n",
    "\n",
    "\n"
   ]
  },
  {
   "cell_type": "code",
   "execution_count": 35,
   "metadata": {
    "pycharm": {
     "name": "#%%\n"
    }
   },
   "outputs": [
    {
     "data": {
      "text/plain": [
       "16"
      ]
     },
     "execution_count": 35,
     "metadata": {},
     "output_type": "execute_result"
    }
   ],
   "source": [
    "import numpy as np\n",
    "# 哪个位置的结果是最大的\n",
    "np.random.seed(1234)\n",
    "c = np.random.randint(1, 1000,( 20,))\n",
    "np.argmax(c)\n"
   ]
  },
  {
   "cell_type": "code",
   "execution_count": 36,
   "metadata": {
    "pycharm": {
     "name": "#%%\n"
    }
   },
   "outputs": [
    {
     "data": {
      "text/plain": [
       "893"
      ]
     },
     "execution_count": 36,
     "metadata": {},
     "output_type": "execute_result"
    }
   ],
   "source": [
    "c[16]\n"
   ]
  },
  {
   "cell_type": "code",
   "execution_count": 38,
   "metadata": {
    "pycharm": {
     "name": "#%%\n"
    }
   },
   "outputs": [
    {
     "data": {
      "text/plain": [
       "2"
      ]
     },
     "execution_count": 38,
     "metadata": {},
     "output_type": "execute_result"
    }
   ],
   "source": [
    "import scipy.special\n",
    "label = 2\n",
    "correct_number = 2\n",
    "score = []\n",
    "if label == correct_number:\n",
    "    score.append(1)\n",
    "else:\n",
    "    score.append(0)\n",
    "score\n",
    "\n",
    "\n",
    "socre1 = [1,0,0,0,1]\n",
    "sum(socre1)"
   ]
  },
  {
   "cell_type": "code",
   "execution_count": null,
   "metadata": {
    "pycharm": {
     "name": "#%%\n"
    }
   },
   "outputs": [],
   "source": [
    "# 训练\n",
    "# epochs 的数值越大， 网络训练越精准， 但是一旦超过一个阈值， 容易过拟合\n",
    "\n",
    "epochs = 10\n",
    "\n",
    "for e in range(epochs):\n",
    "    # 数据的训练\n",
    "\n"
   ]
  },
  {
   "cell_type": "code",
   "execution_count": 40,
   "metadata": {
    "pycharm": {
     "name": "#%%\n"
    }
   },
   "outputs": [
    {
     "data": {
      "text/plain": [
       "8"
      ]
     },
     "execution_count": 40,
     "metadata": {},
     "output_type": "execute_result"
    }
   ],
   "source": [
    "import math\n",
    "pow(2,3)"
   ]
  },
  {
   "cell_type": "code",
   "execution_count": 40,
   "metadata": {
    "pycharm": {
     "name": "#%%\n"
    }
   },
   "outputs": [],
   "source": [
    "# 网络的框架的改变，但是训练和推理都一样，不会变化\n",
    "# 之后学习的要点在网络结构"
   ]
  },
  {
   "cell_type": "code",
   "execution_count": null,
   "metadata": {
    "pycharm": {
     "name": "#%%\n"
    }
   },
   "outputs": [],
   "source": [
    "# 深度学习开源框架\n",
    "'''\n",
    "1. 深度学习框架\n",
    "2. 主流深度学习框架\n",
    "3. Tensorflow\n",
    "4. Pytorch\n",
    "5. 相关优化算法：BGD、SGD\n",
    "6. 拓展：Adam、RMSprop\n",
    "'''\n",
    "\n",
    "# 使用框架实现相关代码，实现训练的前项传输\n",
    "'''\n",
    "框架---库\n",
    "降低入门的门槛，\n",
    "'''\n",
    "\n",
    "'''\n",
    "深度学习框架—关于组件\n",
    "大部分深度学习框架都包含以下五个核心组件：\n",
    "1. 张量（Tensor）\n",
    "2. 基于张量的各种操作（Operation）\n",
    "3. 计算图（Computation Graph）\n",
    "4. 自动微分（Automatic Differentiation）工具\n",
    "5. BLAS、cuBLAS、cuDNN等拓展包\n",
    "'''\n",
    "# 1. 张量---输入--- 广义矩阵"
   ]
  },
  {
   "cell_type": "code",
   "execution_count": null,
   "metadata": {
    "pycharm": {
     "name": "#%%\n"
    }
   },
   "outputs": [],
   "source": [
    "# 我们也可以用四阶张量表示一个包含多张图片的数据集，其中的四个维度分别\n",
    "# 是：图片在数据集中的编号，图片高度、宽度，以及色彩数据。N,H,W,C\n",
    "\n",
    "# 计算图\n"
   ]
  },
  {
   "cell_type": "markdown",
   "metadata": {},
   "source": [
    "onnx\n",
    "pytorch --- > onnx -------> tf\n",
    "onnx ---- > tf\n",
    "\n",
    "作业：\n",
    "1. 从零开始训练\n",
    "2. keras实现"
   ]
  },
  {
   "cell_type": "code",
   "execution_count": 9,
   "metadata": {
    "ExecuteTime": {
     "end_time": "2021-08-15T08:49:35.703721Z",
     "start_time": "2021-08-15T08:49:34.270547Z"
    },
    "pycharm": {
     "name": "#%%\n"
    }
   },
   "outputs": [
    {
     "name": "stdout",
     "output_type": "stream",
     "text": [
      "Epoch 1/500\n",
      "6/6 [==============================] - 0s 15ms/sample - loss: 4.6629\n",
      "Epoch 2/500\n",
      "6/6 [==============================] - 0s 143us/sample - loss: 3.8404\n",
      "Epoch 3/500\n",
      "6/6 [==============================] - 0s 127us/sample - loss: 3.1897\n",
      "Epoch 4/500\n",
      "6/6 [==============================] - 0s 154us/sample - loss: 2.6743\n",
      "Epoch 5/500\n",
      "6/6 [==============================] - 0s 154us/sample - loss: 2.2655\n",
      "Epoch 6/500\n",
      "6/6 [==============================] - 0s 170us/sample - loss: 1.9405\n",
      "Epoch 7/500\n",
      "6/6 [==============================] - 0s 249us/sample - loss: 1.6816\n",
      "Epoch 8/500\n",
      "6/6 [==============================] - 0s 154us/sample - loss: 1.4747\n",
      "Epoch 9/500\n",
      "6/6 [==============================] - 0s 147us/sample - loss: 1.3088\n",
      "Epoch 10/500\n",
      "6/6 [==============================] - 0s 169us/sample - loss: 1.1752\n",
      "Epoch 11/500\n",
      "6/6 [==============================] - 0s 177us/sample - loss: 1.0671\n",
      "Epoch 12/500\n",
      "6/6 [==============================] - 0s 223us/sample - loss: 0.9792\n",
      "Epoch 13/500\n",
      "6/6 [==============================] - 0s 253us/sample - loss: 0.9071\n",
      "Epoch 14/500\n",
      "6/6 [==============================] - 0s 201us/sample - loss: 0.8476\n",
      "Epoch 15/500\n",
      "6/6 [==============================] - 0s 318us/sample - loss: 0.7980\n",
      "Epoch 16/500\n",
      "6/6 [==============================] - 0s 196us/sample - loss: 0.7563\n",
      "Epoch 17/500\n",
      "6/6 [==============================] - 0s 240us/sample - loss: 0.7209\n",
      "Epoch 18/500\n",
      "6/6 [==============================] - 0s 247us/sample - loss: 0.6904\n",
      "Epoch 19/500\n",
      "6/6 [==============================] - 0s 259us/sample - loss: 0.6639\n",
      "Epoch 20/500\n",
      "6/6 [==============================] - 0s 300us/sample - loss: 0.6406\n",
      "Epoch 21/500\n",
      "6/6 [==============================] - 0s 378us/sample - loss: 0.6198\n",
      "Epoch 22/500\n",
      "6/6 [==============================] - 0s 237us/sample - loss: 0.6011\n",
      "Epoch 23/500\n",
      "6/6 [==============================] - 0s 244us/sample - loss: 0.5840\n",
      "Epoch 24/500\n",
      "6/6 [==============================] - 0s 250us/sample - loss: 0.5683\n",
      "Epoch 25/500\n",
      "6/6 [==============================] - 0s 304us/sample - loss: 0.5537\n",
      "Epoch 26/500\n",
      "6/6 [==============================] - 0s 380us/sample - loss: 0.5400\n",
      "Epoch 27/500\n",
      "6/6 [==============================] - 0s 435us/sample - loss: 0.5271\n",
      "Epoch 28/500\n",
      "6/6 [==============================] - 0s 269us/sample - loss: 0.5149\n",
      "Epoch 29/500\n",
      "6/6 [==============================] - 0s 219us/sample - loss: 0.5032\n",
      "Epoch 30/500\n",
      "6/6 [==============================] - 0s 194us/sample - loss: 0.4920\n",
      "Epoch 31/500\n",
      "6/6 [==============================] - 0s 150us/sample - loss: 0.4812\n",
      "Epoch 32/500\n",
      "6/6 [==============================] - 0s 172us/sample - loss: 0.4707\n",
      "Epoch 33/500\n",
      "6/6 [==============================] - 0s 160us/sample - loss: 0.4607\n",
      "Epoch 34/500\n",
      "6/6 [==============================] - 0s 189us/sample - loss: 0.4509\n",
      "Epoch 35/500\n",
      "6/6 [==============================] - 0s 254us/sample - loss: 0.4413\n",
      "Epoch 36/500\n",
      "6/6 [==============================] - 0s 209us/sample - loss: 0.4321\n",
      "Epoch 37/500\n",
      "6/6 [==============================] - 0s 191us/sample - loss: 0.4230\n",
      "Epoch 38/500\n",
      "6/6 [==============================] - 0s 225us/sample - loss: 0.4142\n",
      "Epoch 39/500\n",
      "6/6 [==============================] - 0s 202us/sample - loss: 0.4056\n",
      "Epoch 40/500\n",
      "6/6 [==============================] - 0s 206us/sample - loss: 0.3972\n",
      "Epoch 41/500\n",
      "6/6 [==============================] - 0s 212us/sample - loss: 0.3890\n",
      "Epoch 42/500\n",
      "6/6 [==============================] - 0s 441us/sample - loss: 0.3809\n",
      "Epoch 43/500\n",
      "6/6 [==============================] - 0s 177us/sample - loss: 0.3730\n",
      "Epoch 44/500\n",
      "6/6 [==============================] - 0s 165us/sample - loss: 0.3654\n",
      "Epoch 45/500\n",
      "6/6 [==============================] - 0s 145us/sample - loss: 0.3578\n",
      "Epoch 46/500\n",
      "6/6 [==============================] - 0s 165us/sample - loss: 0.3505\n",
      "Epoch 47/500\n",
      "6/6 [==============================] - 0s 206us/sample - loss: 0.3432\n",
      "Epoch 48/500\n",
      "6/6 [==============================] - 0s 273us/sample - loss: 0.3362\n",
      "Epoch 49/500\n",
      "6/6 [==============================] - 0s 231us/sample - loss: 0.3293\n",
      "Epoch 50/500\n",
      "6/6 [==============================] - 0s 156us/sample - loss: 0.3225\n",
      "Epoch 51/500\n",
      "6/6 [==============================] - 0s 140us/sample - loss: 0.3159\n",
      "Epoch 52/500\n",
      "6/6 [==============================] - 0s 136us/sample - loss: 0.3094\n",
      "Epoch 53/500\n",
      "6/6 [==============================] - 0s 137us/sample - loss: 0.3030\n",
      "Epoch 54/500\n",
      "6/6 [==============================] - 0s 139us/sample - loss: 0.2968\n",
      "Epoch 55/500\n",
      "6/6 [==============================] - 0s 176us/sample - loss: 0.2907\n",
      "Epoch 56/500\n",
      "6/6 [==============================] - 0s 168us/sample - loss: 0.2847\n",
      "Epoch 57/500\n",
      "6/6 [==============================] - 0s 186us/sample - loss: 0.2789\n",
      "Epoch 58/500\n",
      "6/6 [==============================] - 0s 216us/sample - loss: 0.2731\n",
      "Epoch 59/500\n",
      "6/6 [==============================] - 0s 165us/sample - loss: 0.2675\n",
      "Epoch 60/500\n",
      "6/6 [==============================] - 0s 160us/sample - loss: 0.2620\n",
      "Epoch 61/500\n",
      "6/6 [==============================] - 0s 161us/sample - loss: 0.2566\n",
      "Epoch 62/500\n",
      "6/6 [==============================] - 0s 174us/sample - loss: 0.2514\n",
      "Epoch 63/500\n",
      "6/6 [==============================] - 0s 184us/sample - loss: 0.2462\n",
      "Epoch 64/500\n",
      "6/6 [==============================] - 0s 164us/sample - loss: 0.2412\n",
      "Epoch 65/500\n",
      "6/6 [==============================] - 0s 199us/sample - loss: 0.2362\n",
      "Epoch 66/500\n",
      "6/6 [==============================] - 0s 212us/sample - loss: 0.2314\n",
      "Epoch 67/500\n",
      "6/6 [==============================] - 0s 167us/sample - loss: 0.2266\n",
      "Epoch 68/500\n",
      "6/6 [==============================] - 0s 176us/sample - loss: 0.2219\n",
      "Epoch 69/500\n",
      "6/6 [==============================] - 0s 147us/sample - loss: 0.2174\n",
      "Epoch 70/500\n",
      "6/6 [==============================] - 0s 156us/sample - loss: 0.2129\n",
      "Epoch 71/500\n",
      "6/6 [==============================] - 0s 161us/sample - loss: 0.2085\n",
      "Epoch 72/500\n",
      "6/6 [==============================] - 0s 173us/sample - loss: 0.2043\n",
      "Epoch 73/500\n",
      "6/6 [==============================] - 0s 163us/sample - loss: 0.2001\n",
      "Epoch 74/500\n",
      "6/6 [==============================] - 0s 206us/sample - loss: 0.1960\n",
      "Epoch 75/500\n",
      "6/6 [==============================] - 0s 272us/sample - loss: 0.1919\n",
      "Epoch 76/500\n",
      "6/6 [==============================] - 0s 177us/sample - loss: 0.1880\n",
      "Epoch 77/500\n",
      "6/6 [==============================] - 0s 169us/sample - loss: 0.1841\n",
      "Epoch 78/500\n",
      "6/6 [==============================] - 0s 136us/sample - loss: 0.1803\n",
      "Epoch 79/500\n",
      "6/6 [==============================] - 0s 129us/sample - loss: 0.1766\n",
      "Epoch 80/500\n",
      "6/6 [==============================] - 0s 165us/sample - loss: 0.1730\n",
      "Epoch 81/500\n",
      "6/6 [==============================] - 0s 129us/sample - loss: 0.1695\n",
      "Epoch 82/500\n",
      "6/6 [==============================] - 0s 136us/sample - loss: 0.1660\n",
      "Epoch 83/500\n",
      "6/6 [==============================] - 0s 148us/sample - loss: 0.1626\n",
      "Epoch 84/500\n",
      "6/6 [==============================] - 0s 161us/sample - loss: 0.1592\n",
      "Epoch 85/500\n",
      "6/6 [==============================] - 0s 160us/sample - loss: 0.1560\n",
      "Epoch 86/500\n",
      "6/6 [==============================] - 0s 143us/sample - loss: 0.1528\n",
      "Epoch 87/500\n",
      "6/6 [==============================] - 0s 168us/sample - loss: 0.1496\n",
      "Epoch 88/500\n",
      "6/6 [==============================] - 0s 153us/sample - loss: 0.1465\n",
      "Epoch 89/500\n",
      "6/6 [==============================] - 0s 250us/sample - loss: 0.1435\n",
      "Epoch 90/500\n",
      "6/6 [==============================] - 0s 160us/sample - loss: 0.1406\n",
      "Epoch 91/500\n",
      "6/6 [==============================] - 0s 158us/sample - loss: 0.1377\n",
      "Epoch 92/500\n",
      "6/6 [==============================] - 0s 195us/sample - loss: 0.1349\n",
      "Epoch 93/500\n",
      "6/6 [==============================] - 0s 178us/sample - loss: 0.1321\n",
      "Epoch 94/500\n",
      "6/6 [==============================] - 0s 414us/sample - loss: 0.1294\n",
      "Epoch 95/500\n",
      "6/6 [==============================] - 0s 212us/sample - loss: 0.1267\n",
      "Epoch 96/500\n",
      "6/6 [==============================] - 0s 139us/sample - loss: 0.1241\n",
      "Epoch 97/500\n",
      "6/6 [==============================] - 0s 143us/sample - loss: 0.1216\n",
      "Epoch 98/500\n",
      "6/6 [==============================] - 0s 140us/sample - loss: 0.1191\n",
      "Epoch 99/500\n",
      "6/6 [==============================] - 0s 217us/sample - loss: 0.1166\n"
     ]
    },
    {
     "name": "stdout",
     "output_type": "stream",
     "text": [
      "Epoch 100/500\n",
      "6/6 [==============================] - 0s 159us/sample - loss: 0.1142\n",
      "Epoch 101/500\n",
      "6/6 [==============================] - 0s 198us/sample - loss: 0.1119\n",
      "Epoch 102/500\n",
      "6/6 [==============================] - 0s 164us/sample - loss: 0.1096\n",
      "Epoch 103/500\n",
      "6/6 [==============================] - 0s 169us/sample - loss: 0.1073\n",
      "Epoch 104/500\n",
      "6/6 [==============================] - 0s 172us/sample - loss: 0.1051\n",
      "Epoch 105/500\n",
      "6/6 [==============================] - 0s 244us/sample - loss: 0.1030\n",
      "Epoch 106/500\n",
      "6/6 [==============================] - 0s 242us/sample - loss: 0.1009\n",
      "Epoch 107/500\n",
      "6/6 [==============================] - 0s 179us/sample - loss: 0.0988\n",
      "Epoch 108/500\n",
      "6/6 [==============================] - 0s 217us/sample - loss: 0.0968\n",
      "Epoch 109/500\n",
      "6/6 [==============================] - 0s 197us/sample - loss: 0.0948\n",
      "Epoch 110/500\n",
      "6/6 [==============================] - 0s 175us/sample - loss: 0.0928\n",
      "Epoch 111/500\n",
      "6/6 [==============================] - 0s 284us/sample - loss: 0.0909\n",
      "Epoch 112/500\n",
      "6/6 [==============================] - 0s 177us/sample - loss: 0.0891\n",
      "Epoch 113/500\n",
      "6/6 [==============================] - 0s 162us/sample - loss: 0.0872\n",
      "Epoch 114/500\n",
      "6/6 [==============================] - 0s 153us/sample - loss: 0.0854\n",
      "Epoch 115/500\n",
      "6/6 [==============================] - 0s 133us/sample - loss: 0.0837\n",
      "Epoch 116/500\n",
      "6/6 [==============================] - 0s 130us/sample - loss: 0.0820\n",
      "Epoch 117/500\n",
      "6/6 [==============================] - 0s 122us/sample - loss: 0.0803\n",
      "Epoch 118/500\n",
      "6/6 [==============================] - 0s 180us/sample - loss: 0.0786\n",
      "Epoch 119/500\n",
      "6/6 [==============================] - 0s 157us/sample - loss: 0.0770\n",
      "Epoch 120/500\n",
      "6/6 [==============================] - 0s 275us/sample - loss: 0.0754\n",
      "Epoch 121/500\n",
      "6/6 [==============================] - 0s 178us/sample - loss: 0.0739\n",
      "Epoch 122/500\n",
      "6/6 [==============================] - 0s 150us/sample - loss: 0.0724\n",
      "Epoch 123/500\n",
      "6/6 [==============================] - 0s 160us/sample - loss: 0.0709\n",
      "Epoch 124/500\n",
      "6/6 [==============================] - 0s 173us/sample - loss: 0.0694\n",
      "Epoch 125/500\n",
      "6/6 [==============================] - 0s 140us/sample - loss: 0.0680\n",
      "Epoch 126/500\n",
      "6/6 [==============================] - 0s 151us/sample - loss: 0.0666\n",
      "Epoch 127/500\n",
      "6/6 [==============================] - 0s 133us/sample - loss: 0.0652\n",
      "Epoch 128/500\n",
      "6/6 [==============================] - 0s 162us/sample - loss: 0.0639\n",
      "Epoch 129/500\n",
      "6/6 [==============================] - 0s 198us/sample - loss: 0.0626\n",
      "Epoch 130/500\n",
      "6/6 [==============================] - 0s 184us/sample - loss: 0.0613\n",
      "Epoch 131/500\n",
      "6/6 [==============================] - 0s 168us/sample - loss: 0.0600\n",
      "Epoch 132/500\n",
      "6/6 [==============================] - 0s 216us/sample - loss: 0.0588\n",
      "Epoch 133/500\n",
      "6/6 [==============================] - 0s 172us/sample - loss: 0.0576\n",
      "Epoch 134/500\n",
      "6/6 [==============================] - 0s 151us/sample - loss: 0.0564\n",
      "Epoch 135/500\n",
      "6/6 [==============================] - 0s 136us/sample - loss: 0.0553\n",
      "Epoch 136/500\n",
      "6/6 [==============================] - 0s 143us/sample - loss: 0.0541\n",
      "Epoch 137/500\n",
      "6/6 [==============================] - 0s 148us/sample - loss: 0.0530\n",
      "Epoch 138/500\n",
      "6/6 [==============================] - 0s 155us/sample - loss: 0.0519\n",
      "Epoch 139/500\n",
      "6/6 [==============================] - 0s 211us/sample - loss: 0.0508\n",
      "Epoch 140/500\n",
      "6/6 [==============================] - 0s 204us/sample - loss: 0.0498\n",
      "Epoch 141/500\n",
      "6/6 [==============================] - 0s 181us/sample - loss: 0.0488\n",
      "Epoch 142/500\n",
      "6/6 [==============================] - 0s 186us/sample - loss: 0.0478\n",
      "Epoch 143/500\n",
      "6/6 [==============================] - 0s 209us/sample - loss: 0.0468\n",
      "Epoch 144/500\n",
      "6/6 [==============================] - 0s 149us/sample - loss: 0.0458\n",
      "Epoch 145/500\n",
      "6/6 [==============================] - 0s 161us/sample - loss: 0.0449\n",
      "Epoch 146/500\n",
      "6/6 [==============================] - 0s 130us/sample - loss: 0.0440\n",
      "Epoch 147/500\n",
      "6/6 [==============================] - 0s 176us/sample - loss: 0.0431\n",
      "Epoch 148/500\n",
      "6/6 [==============================] - 0s 229us/sample - loss: 0.0422\n",
      "Epoch 149/500\n",
      "6/6 [==============================] - 0s 255us/sample - loss: 0.0413\n",
      "Epoch 150/500\n",
      "6/6 [==============================] - 0s 193us/sample - loss: 0.0405\n",
      "Epoch 151/500\n",
      "6/6 [==============================] - 0s 243us/sample - loss: 0.0396\n",
      "Epoch 152/500\n",
      "6/6 [==============================] - 0s 222us/sample - loss: 0.0388\n",
      "Epoch 153/500\n",
      "6/6 [==============================] - 0s 188us/sample - loss: 0.0380\n",
      "Epoch 154/500\n",
      "6/6 [==============================] - 0s 276us/sample - loss: 0.0372\n",
      "Epoch 155/500\n",
      "6/6 [==============================] - 0s 297us/sample - loss: 0.0365\n",
      "Epoch 156/500\n",
      "6/6 [==============================] - 0s 340us/sample - loss: 0.0357\n",
      "Epoch 157/500\n",
      "6/6 [==============================] - 0s 263us/sample - loss: 0.0350\n",
      "Epoch 158/500\n",
      "6/6 [==============================] - 0s 291us/sample - loss: 0.0343\n",
      "Epoch 159/500\n",
      "6/6 [==============================] - 0s 287us/sample - loss: 0.0336\n",
      "Epoch 160/500\n",
      "6/6 [==============================] - 0s 333us/sample - loss: 0.0329\n",
      "Epoch 161/500\n",
      "6/6 [==============================] - 0s 380us/sample - loss: 0.0322\n",
      "Epoch 162/500\n",
      "6/6 [==============================] - 0s 336us/sample - loss: 0.0315\n",
      "Epoch 163/500\n",
      "6/6 [==============================] - 0s 306us/sample - loss: 0.0309\n",
      "Epoch 164/500\n",
      "6/6 [==============================] - 0s 330us/sample - loss: 0.0303\n",
      "Epoch 165/500\n",
      "6/6 [==============================] - 0s 310us/sample - loss: 0.0296\n",
      "Epoch 166/500\n",
      "6/6 [==============================] - 0s 402us/sample - loss: 0.0290\n",
      "Epoch 167/500\n",
      "6/6 [==============================] - 0s 2ms/sample - loss: 0.0284\n",
      "Epoch 168/500\n",
      "6/6 [==============================] - 0s 466us/sample - loss: 0.0279\n",
      "Epoch 169/500\n",
      "6/6 [==============================] - 0s 257us/sample - loss: 0.0273\n",
      "Epoch 170/500\n",
      "6/6 [==============================] - 0s 367us/sample - loss: 0.0267\n",
      "Epoch 171/500\n",
      "6/6 [==============================] - 0s 355us/sample - loss: 0.0262\n",
      "Epoch 172/500\n",
      "6/6 [==============================] - 0s 637us/sample - loss: 0.0256\n",
      "Epoch 173/500\n",
      "6/6 [==============================] - 0s 274us/sample - loss: 0.0251\n",
      "Epoch 174/500\n",
      "6/6 [==============================] - 0s 641us/sample - loss: 0.0246\n",
      "Epoch 175/500\n",
      "6/6 [==============================] - 0s 508us/sample - loss: 0.0241\n",
      "Epoch 176/500\n",
      "6/6 [==============================] - 0s 151us/sample - loss: 0.0236\n",
      "Epoch 177/500\n",
      "6/6 [==============================] - 0s 385us/sample - loss: 0.0231\n",
      "Epoch 178/500\n",
      "6/6 [==============================] - 0s 925us/sample - loss: 0.0226\n",
      "Epoch 179/500\n",
      "6/6 [==============================] - 0s 348us/sample - loss: 0.0222\n",
      "Epoch 180/500\n",
      "6/6 [==============================] - 0s 482us/sample - loss: 0.0217\n",
      "Epoch 181/500\n",
      "6/6 [==============================] - 0s 728us/sample - loss: 0.0213\n",
      "Epoch 182/500\n",
      "6/6 [==============================] - 0s 517us/sample - loss: 0.0208\n",
      "Epoch 183/500\n",
      "6/6 [==============================] - 0s 625us/sample - loss: 0.0204\n",
      "Epoch 184/500\n",
      "6/6 [==============================] - 0s 419us/sample - loss: 0.0200\n",
      "Epoch 185/500\n",
      "6/6 [==============================] - 0s 838us/sample - loss: 0.0196\n",
      "Epoch 186/500\n",
      "6/6 [==============================] - 0s 260us/sample - loss: 0.0192\n",
      "Epoch 187/500\n",
      "6/6 [==============================] - 0s 352us/sample - loss: 0.0188\n",
      "Epoch 188/500\n",
      "6/6 [==============================] - 0s 432us/sample - loss: 0.0184\n",
      "Epoch 189/500\n",
      "6/6 [==============================] - 0s 220us/sample - loss: 0.0180\n",
      "Epoch 190/500\n",
      "6/6 [==============================] - 0s 280us/sample - loss: 0.0176\n",
      "Epoch 191/500\n",
      "6/6 [==============================] - 0s 170us/sample - loss: 0.0173\n",
      "Epoch 192/500\n",
      "6/6 [==============================] - 0s 134us/sample - loss: 0.0169\n",
      "Epoch 193/500\n",
      "6/6 [==============================] - 0s 146us/sample - loss: 0.0166\n",
      "Epoch 194/500\n",
      "6/6 [==============================] - 0s 191us/sample - loss: 0.0162\n",
      "Epoch 195/500\n",
      "6/6 [==============================] - 0s 212us/sample - loss: 0.0159\n",
      "Epoch 196/500\n",
      "6/6 [==============================] - 0s 131us/sample - loss: 0.0156\n",
      "Epoch 197/500\n",
      "6/6 [==============================] - 0s 151us/sample - loss: 0.0153\n"
     ]
    },
    {
     "name": "stdout",
     "output_type": "stream",
     "text": [
      "Epoch 198/500\n",
      "6/6 [==============================] - 0s 160us/sample - loss: 0.0149\n",
      "Epoch 199/500\n",
      "6/6 [==============================] - 0s 190us/sample - loss: 0.0146\n",
      "Epoch 200/500\n",
      "6/6 [==============================] - 0s 212us/sample - loss: 0.0143\n",
      "Epoch 201/500\n",
      "6/6 [==============================] - 0s 137us/sample - loss: 0.0140\n",
      "Epoch 202/500\n",
      "6/6 [==============================] - 0s 146us/sample - loss: 0.0138\n",
      "Epoch 203/500\n",
      "6/6 [==============================] - 0s 154us/sample - loss: 0.0135\n",
      "Epoch 204/500\n",
      "6/6 [==============================] - 0s 207us/sample - loss: 0.0132\n",
      "Epoch 205/500\n",
      "6/6 [==============================] - 0s 145us/sample - loss: 0.0129\n",
      "Epoch 206/500\n",
      "6/6 [==============================] - 0s 145us/sample - loss: 0.0127\n",
      "Epoch 207/500\n",
      "6/6 [==============================] - 0s 135us/sample - loss: 0.0124\n",
      "Epoch 208/500\n",
      "6/6 [==============================] - 0s 156us/sample - loss: 0.0121\n",
      "Epoch 209/500\n",
      "6/6 [==============================] - 0s 314us/sample - loss: 0.0119\n",
      "Epoch 210/500\n",
      "6/6 [==============================] - 0s 169us/sample - loss: 0.0116\n",
      "Epoch 211/500\n",
      "6/6 [==============================] - 0s 143us/sample - loss: 0.0114\n",
      "Epoch 212/500\n",
      "6/6 [==============================] - 0s 157us/sample - loss: 0.0112\n",
      "Epoch 213/500\n",
      "6/6 [==============================] - 0s 172us/sample - loss: 0.0109\n",
      "Epoch 214/500\n",
      "6/6 [==============================] - 0s 155us/sample - loss: 0.0107\n",
      "Epoch 215/500\n",
      "6/6 [==============================] - 0s 136us/sample - loss: 0.0105\n",
      "Epoch 216/500\n",
      "6/6 [==============================] - 0s 122us/sample - loss: 0.0103\n",
      "Epoch 217/500\n",
      "6/6 [==============================] - 0s 123us/sample - loss: 0.0101\n",
      "Epoch 218/500\n",
      "6/6 [==============================] - 0s 121us/sample - loss: 0.0099\n",
      "Epoch 219/500\n",
      "6/6 [==============================] - 0s 280us/sample - loss: 0.0097\n",
      "Epoch 220/500\n",
      "6/6 [==============================] - 0s 195us/sample - loss: 0.0095\n",
      "Epoch 221/500\n",
      "6/6 [==============================] - 0s 143us/sample - loss: 0.0093\n",
      "Epoch 222/500\n",
      "6/6 [==============================] - 0s 160us/sample - loss: 0.0091\n",
      "Epoch 223/500\n",
      "6/6 [==============================] - 0s 184us/sample - loss: 0.0089\n",
      "Epoch 224/500\n",
      "6/6 [==============================] - 0s 134us/sample - loss: 0.0087\n",
      "Epoch 225/500\n",
      "6/6 [==============================] - 0s 125us/sample - loss: 0.0085\n",
      "Epoch 226/500\n",
      "6/6 [==============================] - 0s 131us/sample - loss: 0.0084\n",
      "Epoch 227/500\n",
      "6/6 [==============================] - 0s 122us/sample - loss: 0.0082\n",
      "Epoch 228/500\n",
      "6/6 [==============================] - 0s 126us/sample - loss: 0.0080\n",
      "Epoch 229/500\n",
      "6/6 [==============================] - 0s 243us/sample - loss: 0.0079\n",
      "Epoch 230/500\n",
      "6/6 [==============================] - 0s 198us/sample - loss: 0.0077\n",
      "Epoch 231/500\n",
      "6/6 [==============================] - 0s 149us/sample - loss: 0.0075\n",
      "Epoch 232/500\n",
      "6/6 [==============================] - 0s 164us/sample - loss: 0.0074\n",
      "Epoch 233/500\n",
      "6/6 [==============================] - 0s 195us/sample - loss: 0.0072\n",
      "Epoch 234/500\n",
      "6/6 [==============================] - 0s 156us/sample - loss: 0.0071\n",
      "Epoch 235/500\n",
      "6/6 [==============================] - 0s 145us/sample - loss: 0.0069\n",
      "Epoch 236/500\n",
      "6/6 [==============================] - 0s 118us/sample - loss: 0.0068\n",
      "Epoch 237/500\n",
      "6/6 [==============================] - 0s 153us/sample - loss: 0.0067\n",
      "Epoch 238/500\n",
      "6/6 [==============================] - 0s 165us/sample - loss: 0.0065\n",
      "Epoch 239/500\n",
      "6/6 [==============================] - 0s 282us/sample - loss: 0.0064\n",
      "Epoch 240/500\n",
      "6/6 [==============================] - 0s 179us/sample - loss: 0.0063\n",
      "Epoch 241/500\n",
      "6/6 [==============================] - 0s 140us/sample - loss: 0.0061\n",
      "Epoch 242/500\n",
      "6/6 [==============================] - 0s 143us/sample - loss: 0.0060\n",
      "Epoch 243/500\n",
      "6/6 [==============================] - 0s 197us/sample - loss: 0.0059\n",
      "Epoch 244/500\n",
      "6/6 [==============================] - 0s 143us/sample - loss: 0.0058\n",
      "Epoch 245/500\n",
      "6/6 [==============================] - 0s 132us/sample - loss: 0.0056\n",
      "Epoch 246/500\n",
      "6/6 [==============================] - 0s 137us/sample - loss: 0.0055\n",
      "Epoch 247/500\n",
      "6/6 [==============================] - 0s 139us/sample - loss: 0.0054\n",
      "Epoch 248/500\n",
      "6/6 [==============================] - 0s 138us/sample - loss: 0.0053\n",
      "Epoch 249/500\n",
      "6/6 [==============================] - 0s 246us/sample - loss: 0.0052\n",
      "Epoch 250/500\n",
      "6/6 [==============================] - 0s 140us/sample - loss: 0.0051\n",
      "Epoch 251/500\n",
      "6/6 [==============================] - 0s 132us/sample - loss: 0.0050\n",
      "Epoch 252/500\n",
      "6/6 [==============================] - 0s 138us/sample - loss: 0.0049\n",
      "Epoch 253/500\n",
      "6/6 [==============================] - 0s 157us/sample - loss: 0.0048\n",
      "Epoch 254/500\n",
      "6/6 [==============================] - 0s 186us/sample - loss: 0.0047\n",
      "Epoch 255/500\n",
      "6/6 [==============================] - 0s 138us/sample - loss: 0.0046\n",
      "Epoch 256/500\n",
      "6/6 [==============================] - 0s 121us/sample - loss: 0.0045\n",
      "Epoch 257/500\n",
      "6/6 [==============================] - 0s 118us/sample - loss: 0.0044\n",
      "Epoch 258/500\n",
      "6/6 [==============================] - 0s 137us/sample - loss: 0.0043\n",
      "Epoch 259/500\n",
      "6/6 [==============================] - 0s 195us/sample - loss: 0.0042\n",
      "Epoch 260/500\n",
      "6/6 [==============================] - 0s 164us/sample - loss: 0.0041\n",
      "Epoch 261/500\n",
      "6/6 [==============================] - 0s 149us/sample - loss: 0.0040\n",
      "Epoch 262/500\n",
      "6/6 [==============================] - 0s 187us/sample - loss: 0.0040\n",
      "Epoch 263/500\n",
      "6/6 [==============================] - 0s 163us/sample - loss: 0.0039\n",
      "Epoch 264/500\n",
      "6/6 [==============================] - 0s 212us/sample - loss: 0.0038\n",
      "Epoch 265/500\n",
      "6/6 [==============================] - 0s 133us/sample - loss: 0.0037\n",
      "Epoch 266/500\n",
      "6/6 [==============================] - 0s 144us/sample - loss: 0.0036\n",
      "Epoch 267/500\n",
      "6/6 [==============================] - 0s 148us/sample - loss: 0.0036\n",
      "Epoch 268/500\n",
      "6/6 [==============================] - 0s 220us/sample - loss: 0.0035\n",
      "Epoch 269/500\n",
      "6/6 [==============================] - 0s 178us/sample - loss: 0.0034\n",
      "Epoch 270/500\n",
      "6/6 [==============================] - 0s 188us/sample - loss: 0.0034\n",
      "Epoch 271/500\n",
      "6/6 [==============================] - 0s 302us/sample - loss: 0.0033\n",
      "Epoch 272/500\n",
      "6/6 [==============================] - 0s 189us/sample - loss: 0.0032\n",
      "Epoch 273/500\n",
      "6/6 [==============================] - 0s 204us/sample - loss: 0.0032\n",
      "Epoch 274/500\n",
      "6/6 [==============================] - 0s 197us/sample - loss: 0.0031\n",
      "Epoch 275/500\n",
      "6/6 [==============================] - 0s 250us/sample - loss: 0.0030\n",
      "Epoch 276/500\n",
      "6/6 [==============================] - 0s 218us/sample - loss: 0.0030\n",
      "Epoch 277/500\n",
      "6/6 [==============================] - 0s 211us/sample - loss: 0.0029\n",
      "Epoch 278/500\n",
      "6/6 [==============================] - 0s 222us/sample - loss: 0.0028\n",
      "Epoch 279/500\n",
      "6/6 [==============================] - 0s 343us/sample - loss: 0.0028\n",
      "Epoch 280/500\n",
      "6/6 [==============================] - 0s 257us/sample - loss: 0.0027\n",
      "Epoch 281/500\n",
      "6/6 [==============================] - 0s 247us/sample - loss: 0.0027\n",
      "Epoch 282/500\n",
      "6/6 [==============================] - 0s 359us/sample - loss: 0.0026\n",
      "Epoch 283/500\n",
      "6/6 [==============================] - 0s 256us/sample - loss: 0.0026\n",
      "Epoch 284/500\n",
      "6/6 [==============================] - 0s 246us/sample - loss: 0.0025\n",
      "Epoch 285/500\n",
      "6/6 [==============================] - 0s 236us/sample - loss: 0.0025\n",
      "Epoch 286/500\n",
      "6/6 [==============================] - 0s 307us/sample - loss: 0.0024\n",
      "Epoch 287/500\n",
      "6/6 [==============================] - 0s 368us/sample - loss: 0.0024\n",
      "Epoch 288/500\n",
      "6/6 [==============================] - 0s 396us/sample - loss: 0.0023\n",
      "Epoch 289/500\n",
      "6/6 [==============================] - 0s 284us/sample - loss: 0.0023\n",
      "Epoch 290/500\n",
      "6/6 [==============================] - 0s 769us/sample - loss: 0.0022\n",
      "Epoch 291/500\n",
      "6/6 [==============================] - 0s 346us/sample - loss: 0.0022\n",
      "Epoch 292/500\n",
      "6/6 [==============================] - 0s 259us/sample - loss: 0.0021\n",
      "Epoch 293/500\n",
      "6/6 [==============================] - 0s 364us/sample - loss: 0.0021\n",
      "Epoch 294/500\n",
      "6/6 [==============================] - 0s 348us/sample - loss: 0.0020\n",
      "Epoch 295/500\n",
      "6/6 [==============================] - 0s 644us/sample - loss: 0.0020\n"
     ]
    },
    {
     "name": "stdout",
     "output_type": "stream",
     "text": [
      "Epoch 296/500\n",
      "6/6 [==============================] - 0s 343us/sample - loss: 0.0020\n",
      "Epoch 297/500\n",
      "6/6 [==============================] - 0s 283us/sample - loss: 0.0019\n",
      "Epoch 298/500\n",
      "6/6 [==============================] - 0s 393us/sample - loss: 0.0019\n",
      "Epoch 299/500\n",
      "6/6 [==============================] - 0s 501us/sample - loss: 0.0018\n",
      "Epoch 300/500\n",
      "6/6 [==============================] - 0s 303us/sample - loss: 0.0018\n",
      "Epoch 301/500\n",
      "6/6 [==============================] - 0s 440us/sample - loss: 0.0018\n",
      "Epoch 302/500\n",
      "6/6 [==============================] - 0s 322us/sample - loss: 0.0017\n",
      "Epoch 303/500\n",
      "6/6 [==============================] - 0s 238us/sample - loss: 0.0017\n",
      "Epoch 304/500\n",
      "6/6 [==============================] - 0s 473us/sample - loss: 0.0017\n",
      "Epoch 305/500\n",
      "6/6 [==============================] - 0s 468us/sample - loss: 0.0016\n",
      "Epoch 306/500\n",
      "6/6 [==============================] - 0s 480us/sample - loss: 0.0016\n",
      "Epoch 307/500\n",
      "6/6 [==============================] - 0s 424us/sample - loss: 0.0016\n",
      "Epoch 308/500\n",
      "6/6 [==============================] - 0s 533us/sample - loss: 0.0015\n",
      "Epoch 309/500\n",
      "6/6 [==============================] - 0s 158us/sample - loss: 0.0015\n",
      "Epoch 310/500\n",
      "6/6 [==============================] - 0s 188us/sample - loss: 0.0015\n",
      "Epoch 311/500\n",
      "6/6 [==============================] - 0s 143us/sample - loss: 0.0014\n",
      "Epoch 312/500\n",
      "6/6 [==============================] - 0s 151us/sample - loss: 0.0014\n",
      "Epoch 313/500\n",
      "6/6 [==============================] - 0s 146us/sample - loss: 0.0014\n",
      "Epoch 314/500\n",
      "6/6 [==============================] - 0s 153us/sample - loss: 0.0013\n",
      "Epoch 315/500\n",
      "6/6 [==============================] - 0s 145us/sample - loss: 0.0013\n",
      "Epoch 316/500\n",
      "6/6 [==============================] - 0s 138us/sample - loss: 0.0013\n",
      "Epoch 317/500\n",
      "6/6 [==============================] - 0s 369us/sample - loss: 0.0013\n",
      "Epoch 318/500\n",
      "6/6 [==============================] - 0s 169us/sample - loss: 0.0012\n",
      "Epoch 319/500\n",
      "6/6 [==============================] - 0s 183us/sample - loss: 0.0012\n",
      "Epoch 320/500\n",
      "6/6 [==============================] - 0s 185us/sample - loss: 0.0012\n",
      "Epoch 321/500\n",
      "6/6 [==============================] - 0s 159us/sample - loss: 0.0012\n",
      "Epoch 322/500\n",
      "6/6 [==============================] - 0s 144us/sample - loss: 0.0011\n",
      "Epoch 323/500\n",
      "6/6 [==============================] - 0s 168us/sample - loss: 0.0011\n",
      "Epoch 324/500\n",
      "6/6 [==============================] - 0s 149us/sample - loss: 0.0011\n",
      "Epoch 325/500\n",
      "6/6 [==============================] - 0s 156us/sample - loss: 0.0011\n",
      "Epoch 326/500\n",
      "6/6 [==============================] - 0s 223us/sample - loss: 0.0010\n",
      "Epoch 327/500\n",
      "6/6 [==============================] - 0s 212us/sample - loss: 0.0010\n",
      "Epoch 328/500\n",
      "6/6 [==============================] - 0s 154us/sample - loss: 0.0010\n",
      "Epoch 329/500\n",
      "6/6 [==============================] - 0s 140us/sample - loss: 9.8559e-04\n",
      "Epoch 330/500\n",
      "6/6 [==============================] - 0s 178us/sample - loss: 9.6535e-04\n",
      "Epoch 331/500\n",
      "6/6 [==============================] - 0s 148us/sample - loss: 9.4551e-04\n",
      "Epoch 332/500\n",
      "6/6 [==============================] - 0s 134us/sample - loss: 9.2610e-04\n",
      "Epoch 333/500\n",
      "6/6 [==============================] - 0s 119us/sample - loss: 9.0707e-04\n",
      "Epoch 334/500\n",
      "6/6 [==============================] - 0s 125us/sample - loss: 8.8844e-04\n",
      "Epoch 335/500\n",
      "6/6 [==============================] - 0s 144us/sample - loss: 8.7019e-04\n",
      "Epoch 336/500\n",
      "6/6 [==============================] - 0s 232us/sample - loss: 8.5232e-04\n",
      "Epoch 337/500\n",
      "6/6 [==============================] - 0s 172us/sample - loss: 8.3481e-04\n",
      "Epoch 338/500\n",
      "6/6 [==============================] - 0s 169us/sample - loss: 8.1766e-04\n",
      "Epoch 339/500\n",
      "6/6 [==============================] - 0s 221us/sample - loss: 8.0087e-04\n",
      "Epoch 340/500\n",
      "6/6 [==============================] - 0s 133us/sample - loss: 7.8441e-04\n",
      "Epoch 341/500\n",
      "6/6 [==============================] - 0s 129us/sample - loss: 7.6831e-04\n",
      "Epoch 342/500\n",
      "6/6 [==============================] - 0s 151us/sample - loss: 7.5252e-04\n",
      "Epoch 343/500\n",
      "6/6 [==============================] - 0s 137us/sample - loss: 7.3707e-04\n",
      "Epoch 344/500\n",
      "6/6 [==============================] - 0s 232us/sample - loss: 7.2192e-04\n",
      "Epoch 345/500\n",
      "6/6 [==============================] - 0s 256us/sample - loss: 7.0709e-04\n",
      "Epoch 346/500\n",
      "6/6 [==============================] - 0s 178us/sample - loss: 6.9257e-04\n",
      "Epoch 347/500\n",
      "6/6 [==============================] - 0s 151us/sample - loss: 6.7834e-04\n",
      "Epoch 348/500\n",
      "6/6 [==============================] - 0s 158us/sample - loss: 6.6441e-04\n",
      "Epoch 349/500\n",
      "6/6 [==============================] - 0s 169us/sample - loss: 6.5076e-04\n",
      "Epoch 350/500\n",
      "6/6 [==============================] - 0s 128us/sample - loss: 6.3739e-04\n",
      "Epoch 351/500\n",
      "6/6 [==============================] - 0s 127us/sample - loss: 6.2431e-04\n",
      "Epoch 352/500\n",
      "6/6 [==============================] - 0s 130us/sample - loss: 6.1148e-04\n",
      "Epoch 353/500\n",
      "6/6 [==============================] - 0s 200us/sample - loss: 5.9892e-04\n",
      "Epoch 354/500\n",
      "6/6 [==============================] - 0s 135us/sample - loss: 5.8662e-04\n",
      "Epoch 355/500\n",
      "6/6 [==============================] - 0s 227us/sample - loss: 5.7457e-04\n",
      "Epoch 356/500\n",
      "6/6 [==============================] - 0s 186us/sample - loss: 5.6277e-04\n",
      "Epoch 357/500\n",
      "6/6 [==============================] - 0s 148us/sample - loss: 5.5120e-04\n",
      "Epoch 358/500\n",
      "6/6 [==============================] - 0s 198us/sample - loss: 5.3988e-04\n",
      "Epoch 359/500\n",
      "6/6 [==============================] - 0s 179us/sample - loss: 5.2879e-04\n",
      "Epoch 360/500\n",
      "6/6 [==============================] - 0s 132us/sample - loss: 5.1793e-04\n",
      "Epoch 361/500\n",
      "6/6 [==============================] - 0s 142us/sample - loss: 5.0729e-04\n",
      "Epoch 362/500\n",
      "6/6 [==============================] - 0s 144us/sample - loss: 4.9687e-04\n",
      "Epoch 363/500\n",
      "6/6 [==============================] - 0s 192us/sample - loss: 4.8666e-04\n",
      "Epoch 364/500\n",
      "6/6 [==============================] - 0s 154us/sample - loss: 4.7667e-04\n",
      "Epoch 365/500\n",
      "6/6 [==============================] - 0s 220us/sample - loss: 4.6688e-04\n",
      "Epoch 366/500\n",
      "6/6 [==============================] - 0s 171us/sample - loss: 4.5729e-04\n",
      "Epoch 367/500\n",
      "6/6 [==============================] - 0s 214us/sample - loss: 4.4789e-04\n",
      "Epoch 368/500\n",
      "6/6 [==============================] - 0s 185us/sample - loss: 4.3869e-04\n",
      "Epoch 369/500\n",
      "6/6 [==============================] - 0s 144us/sample - loss: 4.2968e-04\n",
      "Epoch 370/500\n",
      "6/6 [==============================] - 0s 145us/sample - loss: 4.2086e-04\n",
      "Epoch 371/500\n",
      "6/6 [==============================] - 0s 135us/sample - loss: 4.1221e-04\n",
      "Epoch 372/500\n",
      "6/6 [==============================] - 0s 156us/sample - loss: 4.0375e-04\n",
      "Epoch 373/500\n",
      "6/6 [==============================] - 0s 139us/sample - loss: 3.9545e-04\n",
      "Epoch 374/500\n",
      "6/6 [==============================] - 0s 156us/sample - loss: 3.8733e-04\n",
      "Epoch 375/500\n",
      "6/6 [==============================] - 0s 224us/sample - loss: 3.7937e-04\n",
      "Epoch 376/500\n",
      "6/6 [==============================] - 0s 164us/sample - loss: 3.7158e-04\n",
      "Epoch 377/500\n",
      "6/6 [==============================] - 0s 181us/sample - loss: 3.6395e-04\n",
      "Epoch 378/500\n",
      "6/6 [==============================] - 0s 208us/sample - loss: 3.5647e-04\n",
      "Epoch 379/500\n",
      "6/6 [==============================] - 0s 148us/sample - loss: 3.4915e-04\n",
      "Epoch 380/500\n",
      "6/6 [==============================] - 0s 157us/sample - loss: 3.4198e-04\n",
      "Epoch 381/500\n",
      "6/6 [==============================] - 0s 171us/sample - loss: 3.3495e-04\n",
      "Epoch 382/500\n",
      "6/6 [==============================] - 0s 145us/sample - loss: 3.2807e-04\n",
      "Epoch 383/500\n",
      "6/6 [==============================] - 0s 321us/sample - loss: 3.2133e-04\n",
      "Epoch 384/500\n",
      "6/6 [==============================] - 0s 155us/sample - loss: 3.1473e-04\n",
      "Epoch 385/500\n",
      "6/6 [==============================] - 0s 168us/sample - loss: 3.0827e-04\n",
      "Epoch 386/500\n",
      "6/6 [==============================] - 0s 152us/sample - loss: 3.0194e-04\n",
      "Epoch 387/500\n",
      "6/6 [==============================] - 0s 205us/sample - loss: 2.9573e-04\n",
      "Epoch 388/500\n",
      "6/6 [==============================] - 0s 134us/sample - loss: 2.8966e-04\n",
      "Epoch 389/500\n",
      "6/6 [==============================] - 0s 148us/sample - loss: 2.8371e-04\n",
      "Epoch 390/500\n",
      "6/6 [==============================] - 0s 139us/sample - loss: 2.7788e-04\n"
     ]
    },
    {
     "name": "stdout",
     "output_type": "stream",
     "text": [
      "Epoch 391/500\n",
      "6/6 [==============================] - 0s 203us/sample - loss: 2.7217e-04\n",
      "Epoch 392/500\n",
      "6/6 [==============================] - 0s 179us/sample - loss: 2.6658e-04\n",
      "Epoch 393/500\n",
      "6/6 [==============================] - 0s 205us/sample - loss: 2.6111e-04\n",
      "Epoch 394/500\n",
      "6/6 [==============================] - 0s 186us/sample - loss: 2.5574e-04\n",
      "Epoch 395/500\n",
      "6/6 [==============================] - 0s 174us/sample - loss: 2.5049e-04\n",
      "Epoch 396/500\n",
      "6/6 [==============================] - 0s 169us/sample - loss: 2.4534e-04\n",
      "Epoch 397/500\n",
      "6/6 [==============================] - 0s 168us/sample - loss: 2.4031e-04\n",
      "Epoch 398/500\n",
      "6/6 [==============================] - 0s 132us/sample - loss: 2.3537e-04\n",
      "Epoch 399/500\n",
      "6/6 [==============================] - 0s 148us/sample - loss: 2.3053e-04\n",
      "Epoch 400/500\n",
      "6/6 [==============================] - 0s 123us/sample - loss: 2.2580e-04\n",
      "Epoch 401/500\n",
      "6/6 [==============================] - 0s 144us/sample - loss: 2.2116e-04\n",
      "Epoch 402/500\n",
      "6/6 [==============================] - 0s 128us/sample - loss: 2.1662e-04\n",
      "Epoch 403/500\n",
      "6/6 [==============================] - 0s 196us/sample - loss: 2.1217e-04\n",
      "Epoch 404/500\n",
      "6/6 [==============================] - 0s 135us/sample - loss: 2.0781e-04\n",
      "Epoch 405/500\n",
      "6/6 [==============================] - 0s 193us/sample - loss: 2.0354e-04\n",
      "Epoch 406/500\n",
      "6/6 [==============================] - 0s 136us/sample - loss: 1.9936e-04\n",
      "Epoch 407/500\n",
      "6/6 [==============================] - 0s 177us/sample - loss: 1.9527e-04\n",
      "Epoch 408/500\n",
      "6/6 [==============================] - 0s 173us/sample - loss: 1.9126e-04\n",
      "Epoch 409/500\n",
      "6/6 [==============================] - 0s 170us/sample - loss: 1.8733e-04\n",
      "Epoch 410/500\n",
      "6/6 [==============================] - 0s 156us/sample - loss: 1.8348e-04\n",
      "Epoch 411/500\n",
      "6/6 [==============================] - 0s 146us/sample - loss: 1.7971e-04\n",
      "Epoch 412/500\n",
      "6/6 [==============================] - 0s 147us/sample - loss: 1.7602e-04\n",
      "Epoch 413/500\n",
      "6/6 [==============================] - 0s 176us/sample - loss: 1.7240e-04\n",
      "Epoch 414/500\n",
      "6/6 [==============================] - 0s 198us/sample - loss: 1.6886e-04\n",
      "Epoch 415/500\n",
      "6/6 [==============================] - 0s 136us/sample - loss: 1.6539e-04\n",
      "Epoch 416/500\n",
      "6/6 [==============================] - 0s 175us/sample - loss: 1.6200e-04\n",
      "Epoch 417/500\n",
      "6/6 [==============================] - 0s 194us/sample - loss: 1.5867e-04\n",
      "Epoch 418/500\n",
      "6/6 [==============================] - 0s 188us/sample - loss: 1.5541e-04\n",
      "Epoch 419/500\n",
      "6/6 [==============================] - 0s 154us/sample - loss: 1.5222e-04\n",
      "Epoch 420/500\n",
      "6/6 [==============================] - 0s 152us/sample - loss: 1.4909e-04\n",
      "Epoch 421/500\n",
      "6/6 [==============================] - 0s 127us/sample - loss: 1.4603e-04\n",
      "Epoch 422/500\n",
      "6/6 [==============================] - 0s 260us/sample - loss: 1.4303e-04\n",
      "Epoch 423/500\n",
      "6/6 [==============================] - 0s 149us/sample - loss: 1.4009e-04\n",
      "Epoch 424/500\n",
      "6/6 [==============================] - 0s 142us/sample - loss: 1.3721e-04\n",
      "Epoch 425/500\n",
      "6/6 [==============================] - 0s 186us/sample - loss: 1.3439e-04\n",
      "Epoch 426/500\n",
      "6/6 [==============================] - 0s 162us/sample - loss: 1.3163e-04\n",
      "Epoch 427/500\n",
      "6/6 [==============================] - 0s 146us/sample - loss: 1.2893e-04\n",
      "Epoch 428/500\n",
      "6/6 [==============================] - 0s 152us/sample - loss: 1.2628e-04\n",
      "Epoch 429/500\n",
      "6/6 [==============================] - 0s 171us/sample - loss: 1.2369e-04\n",
      "Epoch 430/500\n",
      "6/6 [==============================] - 0s 139us/sample - loss: 1.2115e-04\n",
      "Epoch 431/500\n",
      "6/6 [==============================] - 0s 141us/sample - loss: 1.1866e-04\n",
      "Epoch 432/500\n",
      "6/6 [==============================] - 0s 177us/sample - loss: 1.1622e-04\n",
      "Epoch 433/500\n",
      "6/6 [==============================] - 0s 172us/sample - loss: 1.1383e-04\n",
      "Epoch 434/500\n",
      "6/6 [==============================] - 0s 178us/sample - loss: 1.1150e-04\n",
      "Epoch 435/500\n",
      "6/6 [==============================] - 0s 156us/sample - loss: 1.0920e-04\n",
      "Epoch 436/500\n",
      "6/6 [==============================] - 0s 175us/sample - loss: 1.0696e-04\n",
      "Epoch 437/500\n",
      "6/6 [==============================] - 0s 150us/sample - loss: 1.0476e-04\n",
      "Epoch 438/500\n",
      "6/6 [==============================] - 0s 152us/sample - loss: 1.0261e-04\n",
      "Epoch 439/500\n",
      "6/6 [==============================] - 0s 151us/sample - loss: 1.0050e-04\n",
      "Epoch 440/500\n",
      "6/6 [==============================] - 0s 161us/sample - loss: 9.8441e-05\n",
      "Epoch 441/500\n",
      "6/6 [==============================] - 0s 171us/sample - loss: 9.6419e-05\n",
      "Epoch 442/500\n",
      "6/6 [==============================] - 0s 169us/sample - loss: 9.4439e-05\n",
      "Epoch 443/500\n",
      "6/6 [==============================] - 0s 169us/sample - loss: 9.2499e-05\n",
      "Epoch 444/500\n",
      "6/6 [==============================] - 0s 158us/sample - loss: 9.0599e-05\n",
      "Epoch 445/500\n",
      "6/6 [==============================] - 0s 138us/sample - loss: 8.8738e-05\n",
      "Epoch 446/500\n",
      "6/6 [==============================] - 0s 161us/sample - loss: 8.6914e-05\n",
      "Epoch 447/500\n",
      "6/6 [==============================] - 0s 146us/sample - loss: 8.5129e-05\n",
      "Epoch 448/500\n",
      "6/6 [==============================] - 0s 146us/sample - loss: 8.3380e-05\n",
      "Epoch 449/500\n",
      "6/6 [==============================] - 0s 165us/sample - loss: 8.1669e-05\n",
      "Epoch 450/500\n",
      "6/6 [==============================] - 0s 185us/sample - loss: 7.9991e-05\n",
      "Epoch 451/500\n",
      "6/6 [==============================] - 0s 314us/sample - loss: 7.8348e-05\n",
      "Epoch 452/500\n",
      "6/6 [==============================] - 0s 227us/sample - loss: 7.6738e-05\n",
      "Epoch 453/500\n",
      "6/6 [==============================] - 0s 177us/sample - loss: 7.5163e-05\n",
      "Epoch 454/500\n",
      "6/6 [==============================] - 0s 153us/sample - loss: 7.3618e-05\n",
      "Epoch 455/500\n",
      "6/6 [==============================] - 0s 178us/sample - loss: 7.2107e-05\n",
      "Epoch 456/500\n",
      "6/6 [==============================] - 0s 135us/sample - loss: 7.0626e-05\n",
      "Epoch 457/500\n",
      "6/6 [==============================] - 0s 200us/sample - loss: 6.9175e-05\n",
      "Epoch 458/500\n",
      "6/6 [==============================] - 0s 158us/sample - loss: 6.7754e-05\n",
      "Epoch 459/500\n",
      "6/6 [==============================] - 0s 196us/sample - loss: 6.6361e-05\n",
      "Epoch 460/500\n",
      "6/6 [==============================] - 0s 180us/sample - loss: 6.4998e-05\n",
      "Epoch 461/500\n",
      "6/6 [==============================] - 0s 275us/sample - loss: 6.3664e-05\n",
      "Epoch 462/500\n",
      "6/6 [==============================] - 0s 193us/sample - loss: 6.2356e-05\n",
      "Epoch 463/500\n",
      "6/6 [==============================] - 0s 200us/sample - loss: 6.1076e-05\n",
      "Epoch 464/500\n",
      "6/6 [==============================] - 0s 152us/sample - loss: 5.9821e-05\n",
      "Epoch 465/500\n",
      "6/6 [==============================] - 0s 197us/sample - loss: 5.8593e-05\n",
      "Epoch 466/500\n",
      "6/6 [==============================] - 0s 157us/sample - loss: 5.7389e-05\n",
      "Epoch 467/500\n",
      "6/6 [==============================] - 0s 137us/sample - loss: 5.6210e-05\n",
      "Epoch 468/500\n",
      "6/6 [==============================] - 0s 295us/sample - loss: 5.5055e-05\n",
      "Epoch 469/500\n",
      "6/6 [==============================] - 0s 181us/sample - loss: 5.3924e-05\n",
      "Epoch 470/500\n",
      "6/6 [==============================] - 0s 176us/sample - loss: 5.2817e-05\n",
      "Epoch 471/500\n",
      "6/6 [==============================] - 0s 158us/sample - loss: 5.1732e-05\n",
      "Epoch 472/500\n",
      "6/6 [==============================] - 0s 143us/sample - loss: 5.0669e-05\n",
      "Epoch 473/500\n",
      "6/6 [==============================] - 0s 154us/sample - loss: 4.9628e-05\n",
      "Epoch 474/500\n",
      "6/6 [==============================] - 0s 230us/sample - loss: 4.8610e-05\n",
      "Epoch 475/500\n",
      "6/6 [==============================] - 0s 148us/sample - loss: 4.7611e-05\n",
      "Epoch 476/500\n",
      "6/6 [==============================] - 0s 168us/sample - loss: 4.6634e-05\n",
      "Epoch 477/500\n",
      "6/6 [==============================] - 0s 255us/sample - loss: 4.5675e-05\n",
      "Epoch 478/500\n",
      "6/6 [==============================] - 0s 275us/sample - loss: 4.4736e-05\n",
      "Epoch 479/500\n",
      "6/6 [==============================] - 0s 162us/sample - loss: 4.3817e-05\n",
      "Epoch 480/500\n",
      "6/6 [==============================] - 0s 147us/sample - loss: 4.2918e-05\n",
      "Epoch 481/500\n",
      "6/6 [==============================] - 0s 136us/sample - loss: 4.2036e-05\n",
      "Epoch 482/500\n",
      "6/6 [==============================] - 0s 163us/sample - loss: 4.1173e-05\n",
      "Epoch 483/500\n",
      "6/6 [==============================] - 0s 250us/sample - loss: 4.0328e-05\n",
      "Epoch 484/500\n",
      "6/6 [==============================] - 0s 152us/sample - loss: 3.9499e-05\n",
      "Epoch 485/500\n",
      "6/6 [==============================] - 0s 202us/sample - loss: 3.8687e-05\n",
      "Epoch 486/500\n",
      "6/6 [==============================] - 0s 430us/sample - loss: 3.7892e-05\n",
      "Epoch 487/500\n",
      "6/6 [==============================] - 0s 175us/sample - loss: 3.7115e-05\n",
      "Epoch 488/500\n",
      "6/6 [==============================] - 0s 137us/sample - loss: 3.6352e-05\n",
      "Epoch 489/500\n",
      "6/6 [==============================] - 0s 143us/sample - loss: 3.5606e-05\n",
      "Epoch 490/500\n",
      "6/6 [==============================] - 0s 242us/sample - loss: 3.4874e-05\n",
      "Epoch 491/500\n",
      "6/6 [==============================] - 0s 193us/sample - loss: 3.4158e-05\n",
      "Epoch 492/500\n",
      "6/6 [==============================] - 0s 205us/sample - loss: 3.3456e-05\n",
      "Epoch 493/500\n",
      "6/6 [==============================] - 0s 233us/sample - loss: 3.2769e-05\n",
      "Epoch 494/500\n",
      "6/6 [==============================] - 0s 135us/sample - loss: 3.2096e-05\n",
      "Epoch 495/500\n",
      "6/6 [==============================] - 0s 222us/sample - loss: 3.1437e-05\n",
      "Epoch 496/500\n",
      "6/6 [==============================] - 0s 192us/sample - loss: 3.0791e-05\n",
      "Epoch 497/500\n",
      "6/6 [==============================] - 0s 141us/sample - loss: 3.0159e-05\n",
      "Epoch 498/500\n",
      "6/6 [==============================] - 0s 142us/sample - loss: 2.9540e-05\n",
      "Epoch 499/500\n",
      "6/6 [==============================] - 0s 169us/sample - loss: 2.8933e-05\n",
      "Epoch 500/500\n",
      "6/6 [==============================] - 0s 157us/sample - loss: 2.8339e-05\n",
      "[[-20.97051]]\n"
     ]
    }
   ],
   "source": [
    "from tensorflow import keras\n",
    "\n",
    "import numpy as np\n",
    "\n",
    "models = keras.Sequential([keras.layers.Dense(units=1, input_shape=[1])])\n",
    "models.compile(optimizer='sgd', loss = 'mean_squared_error')\n",
    "\n",
    "# 准备数据\n",
    "xs = np.array([-1.0, 0.0, 1.0, 2.0, 3.0, 4.0], dtype = float)\n",
    "ys = np.array([-3.0, -1.0, 1.0, 3.0, 5.0, 7.0], dtype = float)\n",
    "\n",
    "# 训练模型\n",
    "models.fit(xs, ys, epochs=500, verbose=1)\n",
    "#使用模型\n",
    "print(models.predict([-10.0]))\n",
    "\n"
   ]
  },
  {
   "cell_type": "code",
   "execution_count": 11,
   "metadata": {
    "ExecuteTime": {
     "end_time": "2021-08-15T08:53:28.221620Z",
     "start_time": "2021-08-15T08:53:28.200648Z"
    }
   },
   "outputs": [
    {
     "name": "stdout",
     "output_type": "stream",
     "text": [
      "[[18.984468]]\n"
     ]
    }
   ],
   "source": [
    "# keras.Sequential?\n",
    "print(models.predict([10.0]))"
   ]
  },
  {
   "cell_type": "code",
   "execution_count": 1,
   "metadata": {
    "ExecuteTime": {
     "end_time": "2021-08-15T08:57:33.577998Z",
     "start_time": "2021-08-15T08:57:17.499379Z"
    }
   },
   "outputs": [
    {
     "name": "stdout",
     "output_type": "stream",
     "text": [
      "(60000, 28, 28)\n"
     ]
    }
   ],
   "source": [
    "# load fashon dataset MNIST\n",
    "\n",
    "from tensorflow import keras\n",
    "\n",
    "fashion_mnist = keras.datasets.fashion_mnist\n",
    "(train_images, train_labels), (test_images, test_labels) = fashion_mnist.load_data()\n",
    "print(train_images.shape)\n"
   ]
  },
  {
   "cell_type": "code",
   "execution_count": 3,
   "metadata": {
    "ExecuteTime": {
     "end_time": "2021-08-15T08:58:57.183648Z",
     "start_time": "2021-08-15T08:58:57.175364Z"
    }
   },
   "outputs": [
    {
     "name": "stdout",
     "output_type": "stream",
     "text": [
      "(10000, 28, 28)\n",
      "[9 2 1 ... 8 1 5]\n"
     ]
    },
    {
     "data": {
      "text/plain": [
       "array([0, 1, 2, 3, 4, 5, 6, 7, 8, 9], dtype=uint8)"
      ]
     },
     "execution_count": 3,
     "metadata": {},
     "output_type": "execute_result"
    }
   ],
   "source": [
    "import numpy as np\n",
    "print(test_images.shape)\n",
    "print(test_labels)\n",
    "np.unique(test_labels)  # 10 "
   ]
  },
  {
   "cell_type": "code",
   "execution_count": 18,
   "metadata": {
    "ExecuteTime": {
     "end_time": "2021-08-15T08:59:37.245384Z",
     "start_time": "2021-08-15T08:59:37.239535Z"
    }
   },
   "outputs": [
    {
     "name": "stdout",
     "output_type": "stream",
     "text": [
      "[[  0   0   0   0   0   0   0   0   0   0   0   0   0   0   0   0   0   0\n",
      "    0   0   0   0   0   0   0   0   0   0]\n",
      " [  0   0   0   0   0   0   0   0   0   0   0   0   0   0   0   0   0   0\n",
      "    0   0   0   0   0   0   0   0   0   0]\n",
      " [  0   0   0   0   0   0   0   0   0   0   0   0   0   0   0   0   0   0\n",
      "    0   0   0   0   0   0   0   0   0   0]\n",
      " [  0   0   0   0   0   0   0   0   0   0   0   0   1   0   0  13  73   0\n",
      "    0   1   4   0   0   0   0   1   1   0]\n",
      " [  0   0   0   0   0   0   0   0   0   0   0   0   3   0  36 136 127  62\n",
      "   54   0   0   0   1   3   4   0   0   3]\n",
      " [  0   0   0   0   0   0   0   0   0   0   0   0   6   0 102 204 176 134\n",
      "  144 123  23   0   0   0   0  12  10   0]\n",
      " [  0   0   0   0   0   0   0   0   0   0   0   0   0   0 155 236 207 178\n",
      "  107 156 161 109  64  23  77 130  72  15]\n",
      " [  0   0   0   0   0   0   0   0   0   0   0   1   0  69 207 223 218 216\n",
      "  216 163 127 121 122 146 141  88 172  66]\n",
      " [  0   0   0   0   0   0   0   0   0   1   1   1   0 200 232 232 233 229\n",
      "  223 223 215 213 164 127 123 196 229   0]\n",
      " [  0   0   0   0   0   0   0   0   0   0   0   0   0 183 225 216 223 228\n",
      "  235 227 224 222 224 221 223 245 173   0]\n",
      " [  0   0   0   0   0   0   0   0   0   0   0   0   0 193 228 218 213 198\n",
      "  180 212 210 211 213 223 220 243 202   0]\n",
      " [  0   0   0   0   0   0   0   0   0   1   3   0  12 219 220 212 218 192\n",
      "  169 227 208 218 224 212 226 197 209  52]\n",
      " [  0   0   0   0   0   0   0   0   0   0   6   0  99 244 222 220 218 203\n",
      "  198 221 215 213 222 220 245 119 167  56]\n",
      " [  0   0   0   0   0   0   0   0   0   4   0   0  55 236 228 230 228 240\n",
      "  232 213 218 223 234 217 217 209  92   0]\n",
      " [  0   0   1   4   6   7   2   0   0   0   0   0 237 226 217 223 222 219\n",
      "  222 221 216 223 229 215 218 255  77   0]\n",
      " [  0   3   0   0   0   0   0   0   0  62 145 204 228 207 213 221 218 208\n",
      "  211 218 224 223 219 215 224 244 159   0]\n",
      " [  0   0   0   0  18  44  82 107 189 228 220 222 217 226 200 205 211 230\n",
      "  224 234 176 188 250 248 233 238 215   0]\n",
      " [  0  57 187 208 224 221 224 208 204 214 208 209 200 159 245 193 206 223\n",
      "  255 255 221 234 221 211 220 232 246   0]\n",
      " [  3 202 228 224 221 211 211 214 205 205 205 220 240  80 150 255 229 221\n",
      "  188 154 191 210 204 209 222 228 225   0]\n",
      " [ 98 233 198 210 222 229 229 234 249 220 194 215 217 241  65  73 106 117\n",
      "  168 219 221 215 217 223 223 224 229  29]\n",
      " [ 75 204 212 204 193 205 211 225 216 185 197 206 198 213 240 195 227 245\n",
      "  239 223 218 212 209 222 220 221 230  67]\n",
      " [ 48 203 183 194 213 197 185 190 194 192 202 214 219 221 220 236 225 216\n",
      "  199 206 186 181 177 172 181 205 206 115]\n",
      " [  0 122 219 193 179 171 183 196 204 210 213 207 211 210 200 196 194 191\n",
      "  195 191 198 192 176 156 167 177 210  92]\n",
      " [  0   0  74 189 212 191 175 172 175 181 185 188 189 188 193 198 204 209\n",
      "  210 210 211 188 188 194 192 216 170   0]\n",
      " [  2   0   0   0  66 200 222 237 239 242 246 243 244 221 220 193 191 179\n",
      "  182 182 181 176 166 168  99  58   0   0]\n",
      " [  0   0   0   0   0   0   0  40  61  44  72  41  35   0   0   0   0   0\n",
      "    0   0   0   0   0   0   0   0   0   0]\n",
      " [  0   0   0   0   0   0   0   0   0   0   0   0   0   0   0   0   0   0\n",
      "    0   0   0   0   0   0   0   0   0   0]\n",
      " [  0   0   0   0   0   0   0   0   0   0   0   0   0   0   0   0   0   0\n",
      "    0   0   0   0   0   0   0   0   0   0]]\n"
     ]
    }
   ],
   "source": [
    "print(train_images[0])   # train 是灰度图"
   ]
  },
  {
   "cell_type": "code",
   "execution_count": 4,
   "metadata": {
    "ExecuteTime": {
     "end_time": "2021-08-15T08:59:51.642986Z",
     "start_time": "2021-08-15T08:59:51.638721Z"
    }
   },
   "outputs": [
    {
     "name": "stdout",
     "output_type": "stream",
     "text": [
      "[9 0 0]\n"
     ]
    }
   ],
   "source": [
    "print(train_labels[:3])   # 训练图片的前3个标签"
   ]
  },
  {
   "cell_type": "code",
   "execution_count": 5,
   "metadata": {
    "ExecuteTime": {
     "end_time": "2021-08-15T09:00:31.127743Z",
     "start_time": "2021-08-15T09:00:30.729732Z"
    }
   },
   "outputs": [
    {
     "data": {
      "text/plain": [
       "<matplotlib.image.AxesImage at 0x7fb7a8fe7290>"
      ]
     },
     "execution_count": 5,
     "metadata": {},
     "output_type": "execute_result"
    },
    {
     "data": {
      "image/png": "[encoded data removed]",
      "text/plain": [
       "<Figure size 432x288 with 1 Axes>"
      ]
     },
     "metadata": {
      "needs_background": "light"
     },
     "output_type": "display_data"
    }
   ],
   "source": [
    "import matplotlib.pyplot as plt\n",
    "plt.imshow(train_images[0])   #展示第0张图片"
   ]
  },
  {
   "cell_type": "code",
   "execution_count": 21,
   "metadata": {
    "ExecuteTime": {
     "end_time": "2021-08-15T09:01:55.592664Z",
     "start_time": "2021-08-15T09:01:55.465454Z"
    }
   },
   "outputs": [
    {
     "data": {
      "text/plain": [
       "<matplotlib.image.AxesImage at 0x7fe04639edd0>"
      ]
     },
     "execution_count": 21,
     "metadata": {},
     "output_type": "execute_result"
    },
    {
     "data": {
      "image/png": "[encoded data removed]",
      "text/plain": [
       "<Figure size 432x288 with 1 Axes>"
      ]
     },
     "metadata": {
      "needs_background": "light"
     },
     "output_type": "display_data"
    }
   ],
   "source": [
    "import matplotlib.pyplot as plt\n",
    "plt.imshow(train_images[1])   #展示第1张图片"
   ]
  },
  {
   "cell_type": "code",
   "execution_count": 6,
   "metadata": {
    "ExecuteTime": {
     "end_time": "2021-08-15T09:04:53.915911Z",
     "start_time": "2021-08-15T09:04:53.861688Z"
    }
   },
   "outputs": [
    {
     "name": "stdout",
     "output_type": "stream",
     "text": [
      "WARNING:tensorflow:From /Users/snszz/opt/anaconda3/envs/tensorflow/lib/python3.7/site-packages/tensorflow/python/ops/init_ops.py:1251: calling VarianceScaling.__init__ (from tensorflow.python.ops.init_ops) with dtype is deprecated and will be removed in a future version.\n",
      "Instructions for updating:\n",
      "Call initializer instance with the dtype argument instead of passing it to the constructor\n"
     ]
    }
   ],
   "source": [
    "# train， test---->验证数据准确度\n",
    "\n",
    "# 构造神经元模型\n",
    "# 3 layers--->10 类\n",
    "import tensorflow as tf\n",
    "model = keras.Sequential([\n",
    "    keras.layers.Flatten(input_shape=(28, 28)),\n",
    "    keras.layers.Dense(128, activation=tf.nn.relu),\n",
    "    keras.layers.Dense(10, activation=tf.nn.softmax)\n",
    "])"
   ]
  },
  {
   "cell_type": "code",
   "execution_count": 25,
   "metadata": {
    "ExecuteTime": {
     "end_time": "2021-08-15T09:08:50.073787Z",
     "start_time": "2021-08-15T09:08:50.052749Z"
    },
    "code_folding": [
     2,
     16
    ]
   },
   "outputs": [],
   "source": [
    "keras.layers.Dense?\n",
    "Init signature:\n",
    "keras.layers.Dense(\n",
    "    units,\n",
    "    activation=None,\n",
    "    use_bias=True,\n",
    "    kernel_initializer='glorot_uniform',\n",
    "    bias_initializer='zeros',\n",
    "    kernel_regularizer=None,\n",
    "    bias_regularizer=None,\n",
    "    activity_regularizer=None,\n",
    "    kernel_constraint=None,\n",
    "    bias_constraint=None,\n",
    "    **kwargs,\n",
    ")\n",
    "\n",
    "Arguments:\n",
    "  units: Positive integer, dimensionality of the output space.\n",
    "  activation: Activation function to use.\n",
    "\n",
    "\n"
   ]
  },
  {
   "cell_type": "code",
   "execution_count": 28,
   "metadata": {
    "ExecuteTime": {
     "end_time": "2021-08-15T09:17:40.373942Z",
     "start_time": "2021-08-15T09:17:40.315196Z"
    }
   },
   "outputs": [],
   "source": [
    "model = keras.Sequential()\n",
    "model.add(keras.layers.Flatten(input_shape = (28, 28)))\n",
    "model.add(keras.layers.Dense(128, activation=tf.nn.relu))\n",
    "model.add(keras.layers.Dense(10, activation=tf.nn.softmax))\n"
   ]
  },
  {
   "cell_type": "code",
   "execution_count": 7,
   "metadata": {
    "ExecuteTime": {
     "end_time": "2021-08-15T09:17:52.779329Z",
     "start_time": "2021-08-15T09:17:52.773969Z"
    }
   },
   "outputs": [
    {
     "name": "stdout",
     "output_type": "stream",
     "text": [
      "Model: \"sequential\"\n",
      "_________________________________________________________________\n",
      "Layer (type)                 Output Shape              Param #   \n",
      "=================================================================\n",
      "flatten (Flatten)            (None, 784)               0         \n",
      "_________________________________________________________________\n",
      "dense (Dense)                (None, 128)               100480    \n",
      "_________________________________________________________________\n",
      "dense_1 (Dense)              (None, 10)                1290      \n",
      "=================================================================\n",
      "Total params: 101,770\n",
      "Trainable params: 101,770\n",
      "Non-trainable params: 0\n",
      "_________________________________________________________________\n"
     ]
    }
   ],
   "source": [
    "model.summary()"
   ]
  },
  {
   "cell_type": "code",
   "execution_count": 30,
   "metadata": {
    "ExecuteTime": {
     "end_time": "2021-08-15T09:18:51.820029Z",
     "start_time": "2021-08-15T09:18:51.814090Z"
    }
   },
   "outputs": [
    {
     "data": {
      "text/plain": [
       "100352"
      ]
     },
     "execution_count": 30,
     "metadata": {},
     "output_type": "execute_result"
    }
   ],
   "source": [
    "# 100480 = 128 * 784\n",
    "128 * 784\n",
    "\n",
    "#? 因为每一层都有bias"
   ]
  },
  {
   "cell_type": "code",
   "execution_count": 31,
   "metadata": {
    "ExecuteTime": {
     "end_time": "2021-08-15T09:19:40.935394Z",
     "start_time": "2021-08-15T09:19:40.930453Z"
    }
   },
   "outputs": [
    {
     "data": {
      "text/plain": [
       "100480"
      ]
     },
     "execution_count": 31,
     "metadata": {},
     "output_type": "execute_result"
    }
   ],
   "source": [
    "128 * (784 + 1)"
   ]
  },
  {
   "cell_type": "code",
   "execution_count": 32,
   "metadata": {
    "ExecuteTime": {
     "end_time": "2021-08-15T09:19:55.510098Z",
     "start_time": "2021-08-15T09:19:55.504267Z"
    }
   },
   "outputs": [
    {
     "data": {
      "text/plain": [
       "1290"
      ]
     },
     "execution_count": 32,
     "metadata": {},
     "output_type": "execute_result"
    }
   ],
   "source": [
    "(128 + 1) * 10   # 全连接"
   ]
  },
  {
   "cell_type": "code",
   "execution_count": 8,
   "metadata": {
    "ExecuteTime": {
     "end_time": "2021-08-15T09:26:10.005557Z",
     "start_time": "2021-08-15T09:26:00.554133Z"
    }
   },
   "outputs": [
    {
     "name": "stderr",
     "output_type": "stream",
     "text": [
      "2021-08-16 08:13:51.701076: I tensorflow/core/platform/cpu_feature_guard.cc:142] Your CPU supports instructions that this TensorFlow binary was not compiled to use: AVX2 FMA\n"
     ]
    },
    {
     "name": "stdout",
     "output_type": "stream",
     "text": [
      "Epoch 1/5\n",
      "60000/60000 [==============================] - 2s 31us/sample - loss: 0.4981 - acc: 0.8246\b\b\b\b\b\b\b\b\b\b\b\b\b\b\b\b\b\b\b\b\b\b\b\b\b\b\b\b\b\b\b\b\b\b\b\b\b\b\b\b\b\b\b\b\b\b\b\b\b\b\b\b\b\b\b\b\b\b\b\b\b\b\b\b\b\b\b\b\b\b\b\b\b\b\b\b\b\b\b\b\b\b\b\b\b\b\b\b\b\b\b\b\b\b\b\b\b\b\b\b\b\b\b\b\b\b\b\b\b\b\b\b\b\b\b\b\b\b\b\b\b\b\b\b\b\b\b\b\b\b\b\b\b\b\b\b\b\b\b\b\b\b\b\b\b\b\b\b\b\b\b\b\b\b\b\b\b\b\b\b\b\b\b\b\b\b\b\b\b\b\b\b\b\b\b\b\b\b\b\b\b\b\b\b\b\b\b\b\b\b\b\b\b\b\b\b\b\b\b\b\b\b\b\b\b\b\b\b\b\b\b\b\b\b\b\b\b\b\b\b\b\b\b\b\b\b\b\b\b\b\b\b\b\b\b\b\b\b\b\b\b\b\b\b\b\b\b\b\b\b\b\b\b\b\b\b\b\b\b\b\b\b\b\b\b\b\b\b\b\b\b\b\b\b\b\b\b\b\b\b\b\b\b\b\b\b\b\b\b\b\b\b\b\b\b\b\b\b\b\b\b\b\b\b\b\b\b\b\b\b\b\b\b\b\b\b\b\b\b\b\b\b\b\b\b\b\b\b\b\b\b\b\b\b\b\b\b\b\b\b\b\b\b\b\b\b\b\b\b\b\b\b\b\b\b\b\b\b\b\b\b\b\b\b\b\b\b\b\b\b\b\b\b\b\b\b\b\b\b\b\b\b\b\b\b\b\b\b\b\b\b\b\b\b\b\b\b\b\b\b\b\b\b\b\b\b\b\b\b\b\b\b\b\b\b\b\b\b\b\b\b\b\b\b\b\b\b\b\b\b\b\b\b\b\b\b\b\b\b\b\b\b\b\b\b\b\b\b\b\b\b\b\b\b\b\b\b\b\b\b\b\b\b\b\b\b\b\b\b\b\b\b\b\b\b\b\b\b\b\b\b\b\b\b\b\b\b\b\b\b\b\b\b\b\b\b\b\b\b\b\b\b\b\b\b\b\b\b\b\b\b\b\b\b\b\b\b\b\b\b\b\b\b\b\b\b\b\b\b\b\b\b\b\b\b\b\b\b\b\b\b\b\b\b\b\b\b\b\b\b\b\b\b\b\b\b\b\b\b\b\b\b\b\b\b\b\b\b\b\b\b\b\b\b\b\b\b\b\b\b\b\b\b\b\b\b\b\b\b\b\b\b\b\b\b\b\b\b\b\b\b\b\b\b\b\b\b\b\b\b\b\b\b\b\b\b\b\b\b\b\b\b\b\b\b\b\b\b\b\b\b\b\b\b\b\b\b\b\b\b\b\b\b\b\b\b\b\b\b\b\b\b\b\b\b\b\b\b\b\b\b\b\b\b\b\b\b\b\b\b\b\b\b\b\b\b\b\b\b\b\b\b\b\b\b\b\b\b\b\b\b\b\b\b\b\b\b\b\b\b\b\b\b\b\b\b\b\b\b\b\b\b\b\b\b\b\b\b\b\b\b\b\b\b\b\b\b\b\b\b\b\b\b\b\b\b\b\b\b\b\b\b\b\b\b\b\b\b\b\b\b\b\b\b\b\b\b\b\b\b\b\b\b\b\b\b\b\b\b\b\b\b\b\b\b\b\b\b\b\b\b\b\b\b\b\b\b\b\b\b\b\b\b\b\b\b\b\b\b\b\b\b\b\b\b\b\b\b\b\b\b\b\b\b\b\b\b\b\b\b\b\b\b\b\b\b\b\b\b\b\b\b\b\b\b\b\b\b\b\b\b\b\b\b\b\b\b\b\b\b\b\b\b\b\b\b\b\b\b\b\b\b\b\b\b\b\b\b\b\b\b\b\b\b\b\b\b\b\b\b\b\b\b\b\b\b\b\b\b\b\b\b\b\b\b\b\b\b\b\b\b\b\b\b\b\b\b\b\b\b\b\b\b\b\b\b\b\b\b\b\b\b\b\b\b\b\b\b\b\b\b\b\b\b\b\b\b\b\b\b\b\b\b\b\b\b\b\b\b\b\b\b\b\b\b\b\b\b\b\b\b\b\b\b\b\b\b\b\b\b\b\b\b\b\b\b\b\b\b\b\b\b\b\b\b\b\b\b\b\b\b\b\b\b\b\b\b\b\b\b\b\b\b\b\b\b\b\b\b\b\b\b\b\b\b\b\b\b\b\b\b\b\b\b\b\b\b\b\b\b\b\b\b\b\b\b\b\b\b\b\b\b\b\b\b\b\b\b\b\b\b\b\b\b\b\b\b\b\b\b\b\b\b\b\b\b\b\b\b\b\b\b\b\b\b\b\b\b\b\b\b\b\b\b\b\b\b\b\b\b\b\b\b\b\b\b\b\b\b\b\b\b\b\b\b\b\b\b\b\b\b\b\b\b\b\b\b\b\b\b\b\b\b\b\b\b\b\b\b\b\b\b\b\b\b\b\b\b\b\b\b\b\b\b\b\b\b\b\b\b\b\b\b\b\b\b\b\b\b\b\b\b\b\b\b\b\b\b\b\b\b\b\b\b\b\b\b\b\b\b\b\b\b\b\b\b\b\b\b\b\b\b\b\b\b\b\b\b\b\b\b\b\b\b\b\b\b\b\b\b\b\b\b\b\b\b\b\b\b\b\b\b\b\b\b\b\b\b\b\b\b\b\b\b\b\b\b\b\b\b\b\b\b\b\b\b\b\b\b\b\b\b\b\b\b\b\b\b\b\b\b\b\b\b\b\b\b\b\b\b\b\b\b\b\b\b\b\b\b\b\b\b\b\b\b\b\b\b\b\b\b\b\b\b\b\b\b\b\b\b\b\b\b\b\b\b\b\b\b\b\b\b\b\b\b\b\b\b\b\b\b\b\b\b\b\b\b\b\b\b\b\b\b\b\b\b\b\b\b\b\b\b\b\b\b\b\b\b\b\b\b\b\b\b\b\b\b\b\b\b\b\b\b\b\b\b\b\b\b\b\b\b\b\b\b\b\b\b\b\b\b\b\b\b\b\b\b\b\b\b\b\b\b\b\b\b\b\b\b\b\b\b\b\b\b\b\b\b\b\b\b\b\b\b\b\b\b\b\b\b\b\b\b\b\b\b\b\b\b\b\b\b\b\b\b\b\b\b\b\b\b\b\b\b\b\b\b\b\b\b\b\b\b\b\b\b\b\b\b\b\b\b\b\b\b\b\b\b\b\b\b\b\b\b\b\b\b\b\b\b\b\b\b\b\b\b\b\b\b\b\b\b\b\b\b\b\b\b\b\b\b\b\b\b\b\b\b\b\b\b\b\b\b\b\b\b\b\b\b\b\b\b\b\b\b\b\b\b\b\b\b\b\b\b\b\b\b\b\b\b\b\b\b\b\b\b\b\b\b\b\b\b\b\b\b\b\b\b\b\b\b\b\b\b\b\b\b\b\b\b\b\b\b\b\b\b\b\b\b\b\b\b\b\b\b\b\b\b\b\b\b\b\b\b\b\b\b\b\b\b\b\b\b\b\b\b\b\b\b\b\b\b\b\b\b\b\b\b\b\b\b\b\b\b\b\b\b\b\b\b\b\b\b\b\b\b\b\b\b\b\b\b\b\b\b\b\b\b\b\b\b\b\b\b\b\b\b\b\b\b\b\b\b\b\b\b\b\b\b\b\b\b\b\b\b\b\b\b\b\b\b\b\b\b\b\b\b\b\b\b\b\b\b\b\b\b\b\b\b\b\b\b\b\b\b\b\b\b\b\b\b\b\b\b\b\b\b\b\b\b\b\b\b\b\b\b\b\b\b\b\b\b\b\b\b\b\b\b\b\b\b\b\b\b\b\b\b\b\b\b\b\b\b\b\b\b\b\b\b\b\b\b\b\b\b\b\b\b\b\b\b\b\b\b\b\b\b\b\b\b\b\b\b\b\b\b\b\b\b\b\b\b\b\b\b\b\b\b\b\b\b\b\b\b\b\b\b\b\b\b\b\b\b\b\b\b\b\b\b\b\b\b\b\b\b\b\b\b\b\b\b\b\b\b\b\b\b\b\b\b\b\b\b\b\b\b\b\b\b\b\b\b\b\b\b\b\b\b\b\b\b\b\b\b\b\b\b\b\b\b\b\b\b\b\b\b\b\b\b\b\b\b\b\b\b\b\b\b\b\b\b\b\b\b\b\b\b\b\b\b\b\b\b\b\b\b\b\b\b\b\b\b\b\b\b\b\b\b\b\b\b\b\b\b\b\b\b\b\b\b\b\b\b\b\b\b\b\b\b\b\b\b\b\b\b\b\b\b\b\b\b\b\b\b\b\b\b\b\b\b\b\b\b\b\b\b\b\b\b\b\b\b\b\b\b\b\b\b\b\b\b\b\b\b\b\b\b\b\b\b\b\b\b\b\b\b\b\b\b\b\b\b\b\b\b\b\b\b\b\b\b\b\b\b\b\b\b\b\b\b\b\b\b\b\b\b\b\b\b\b\b\b\b\b\b\b\b\b\b\b\b\b\b\b\b\b\b\b\b\b\b\b\b\b\b\b\b\b\b\b\b\b\b\b\b\b\b\b\b\b\b\b\b\b\b\b\b\b\b\b\b\b\b\b\b\b\b\b\b\b\b\b\b\b\b\b\b\b\b\b\b\b\b\b\b\b\b\b\b\b\b\b\b\b\b\b\b\b\b\b\b\b\b\b\b\b\b\b\b\b\b\b\b\b\b\b\b\b\b\b\b\b\b\b\b\b\b\b\b\b\b\b\b\b\b\b\b\b\b\b\b\b\b\b\b\b\b\b\b\b\b\b\b\b\b\b\b\b\b\b\b\b\b\b\b\b\b\b\b\b\b\b\b\b\b\b\b\b\b\b\b\b\b\b\b\b\b\b\b\b\b\b\b\b\b\b\b\b\b\b\b\b\b\b\b\b\b\b\b\b\b\b\b\b\b\b\b\b\b\b\b\b\b\b\b\b\b\b\b\b\b\b\b\b\b\b\b\b\b\b\b\b\b\b\b\b\b\b\b\b\b\b\b\b\b\b\b\b\b\b\b\b\b\b\b\b\b\b\b\b\b\b\b\b\b\b\b\b\b\b\b\b\b\b\b\b\b\b\b\b\b\b\b\b\b\b\b\b\b\b\b\b\b\b\b\b\b\b\b\b\b\b\b\b\b\b\b\b\b\b\b\b\b\b\b\b\b\b\b\b\b\b\b\b\b\b\b\b\b\b\b\b\b\b\b\b\b\b\b\b\b\b\b\b\b\b\b\b\b\b\b\b\b\b\b\b\b\b\b\b\b\b\b\b\b\b\b\b\b\b\b\b\b\b\b\b\b\b\b\b\b\b\b\b\b\b\b\b\b\b\b\b\b\b\b\b\b\b\b\b\b\b\b\b\b\b\b\b\b\b\b\b\b\b\b\b\b\b\b\b\b\b\b\b\b\b\b\b\b\b\b\b\b\b\b\b\b\b\b\b\b\b\b\b\b\b\b\b\b\b\b\b\b\b\b\b\b\b\b\b\b\b\b\b\b\b\b\b\b\b\b\b\b\b\b\b\b\b\b\b\b\b\b\b\b\b\b\b\b\b\b\b\b\b\b\b\b\b\b\b\b\b\b\b\b\b\b\b\b\b\b\b\b\b\b\b\b\b\b\b\b\b\b\b\b\b\b\b\b\b\b\b\b\b\b\b\b\b\b\b\b\b\b\b\b\b\b\b\b\b\b\b\b\b\b\b\b\b\b\b\b\b\b\b\b\b\b\b\b\b\b\b\b\b\b\b\b\b\b\b\b\b\b\b\b\b\b\b\b\b\b\b\b\b\b\b\b\b\b\b\b\b\b\b\b\b\b\b\b\b\b\b\b\b\b\b\b\b\b\b\b\b\b\b\b\b\b\b\b\b\b\b\b\b\b\b\b\b\b\b\b\b\b\b\b\b\b\b\b\b\b\b\b\b\b\b\b\b\b\b\b\b\b\b\b\b\b\b\b\b\b\b\b\b\b\b\b\b\b\b\b\b\b\b\b\b\b\b\b\b\b\b\b\b\b\b\b\b\b\b\b\b\b\b\b\b\b\b\b\b\b\b\b\b\b\b\b\b\b\b\b\b\b\b\b\b\b\b\b\b\b\b\b\b\b\b\b\b\b\b\b\b\b\b\b\b\b\b\b\b\b\b\b\b\b\b\b\b\b\b\b\b\b\b\b\b\b\b\b\b\b\b\b\b\b\b\b\b\b\b\b\b\b\b\b\b\b\b\b\b\b\b\b\b\b\b\b\b\b\b\b\b\b\b\b\b\b\b\b\b\b\b\b\b\b\b\b\b\b\b\b\b\b\b\b\b\b\b\b\b\b\b\b\b\b\b\b\b\b\b\b\b\b\b\b\b\b\b\b\b\b\b\b\b\b\b\b\b\b\b\b\b\b\b\b\b\b\b\b\b\b\b\b\b\b\b\b\b\b\b\b\b\b\b\b\b\b\b\b\b\b\b\b\b\b\b\b\b\b\b\b\b\b\b\b\b\b\b\b\b\b\b\b\b\b\b\b\b\b\b\b\b\b\b\b\b\b\b\b\b\b\b\b\b\b\b\b\b\b\b\b\b\b\b\b\b\b\b\b\b\b\b\b\b\b\n",
      "Epoch 2/5\n",
      "60000/60000 [==============================] - 2s 31us/sample - loss: 0.3776 - acc: 0.8650\b\b\b\b\b\b\b\b\b\b\b\b\b\b\b\b\b\b\b\b\b\b\b\b\b\b\b\b\b\b\b\b\b\b\b\b\b\b\b\b\b\b\b\b\b\b\b\b\b\b\b\b\b\b\b\b\b\b\b\b\b\b\b\b\b\b\b\b\b\b\b\b\b\b\b\b\b\b\b\b\b\b\b\b\b\b\b\b\b\b\b\b\b\b\b\b\b\b\b\b\b\b\b\b\b\b\b\b\b\b\b\b\b\b\b\b\b\b\b\b\b\b\b\b\b\b\b\b\b\b\b\b\b\b\b\b\b\b\b\b\b\b\b\b\b\b\b\b\b\b\b\b\b\b\b\b\b\b\b\b\b\b\b\b\b\b\b\b\b\b\b\b\b\b\b\b\b\b\b\b\b\b\b\b\b\b\b\b\b\b\b\b\b\b\b\b\b\b\b\b\b\b\b\b\b\b\b\b\b\b\b\b\b\b\b\b\b\b\b\b\b\b\b\b\b\b\b\b\b\b\b\b\b\b\b\b\b\b\b\b\b\b\b\b\b\b\b\b\b\b\b\b\b\b\b\b\b\b\b\b\b\b\b\b\b\b\b\b\b\b\b\b\b\b\b\b\b\b\b\b\b\b\b\b\b\b\b\b\b\b\b\b\b\b\b\b\b\b\b\b\b\b\b\b\b\b\b\b\b\b\b\b\b\b\b\b\b\b\b\b\b\b\b\b\b\b\b\b\b\b\b\b\b\b\b\b\b\b\b\b\b\b\b\b\b\b\b\b\b\b\b\b\b\b\b\b\b\b\b\b\b\b\b\b\b\b\b\b\b\b\b\b\b\b\b\b\b\b\b\b\b\b\b\b\b\b\b\b\b\b\b\b\b\b\b\b\b\b\b\b\b\b\b\b\b\b\b\b\b\b\b\b\b\b\b\b\b\b\b\b\b\b\b\b\b\b\b\b\b\b\b\b\b\b\b\b\b\b\b\b\b\b\b\b\b\b\b\b\b\b\b\b\b\b\b\b\b\b\b\b\b\b\b\b\b\b\b\b\b\b\b\b\b\b\b\b\b\b\b\b\b\b\b\b\b\b\b\b\b\b\b\b\b\b\b\b\b\b\b\b\b\b\b\b\b\b\b\b\b\b\b\b\b\b\b\b\b\b\b\b\b\b\b\b\b\b\b\b\b\b\b\b\b\b\b\b\b\b\b\b\b\b\b\b\b\b\b\b\b\b\b\b\b\b\b\b\b\b\b\b\b\b\b\b\b\b\b\b\b\b\b\b\b\b\b\b\b\b\b\b\b\b\b\b\b\b\b\b\b\b\b\b\b\b\b\b\b\b\b\b\b\b\b\b\b\b\b\b\b\b\b\b\b\b\b\b\b\b\b\b\b\b\b\b\b\b\b\b\b\b\b\b\b\b\b\b\b\b\b\b\b\b\b\b\b\b\b\b\b\b\b\b\b\b\b\b\b\b\b\b\b\b\b\b\b\b\b\b\b\b\b\b\b\b\b\b\b\b\b\b\b\b\b\b\b\b\b\b\b\b\b\b\b\b\b\b\b\b\b\b\b\b\b\b\b\b\b\b\b\b\b\b\b\b\b\b\b\b\b\b\b\b\b\b\b\b\b\b\b\b\b\b\b\b\b\b\b\b\b\b\b\b\b\b\b\b\b\b\b\b\b\b\b\b\b\b\b\b\b\b\b\b\b\b\b\b\b\b\b\b\b\b\b\b\b\b\b\b\b\b\b\b\b\b\b\b\b\b\b\b\b\b\b\b\b\b\b\b\b\b\b\b\b\b\b\b\b\b\b\b\b\b\b\b\b\b\b\b\b\b\b\b\b\b\b\b\b\b\b\b\b\b\b\b\b\b\b\b\b\b\b\b\b\b\b\b\b\b\b\b\b\b\b\b\b\b\b\b\b\b\b\b\b\b\b\b\b\b\b\b\b\b\b\b\b\b\b\b\b\b\b\b\b\b\b\b\b\b\b\b\b\b\b\b\b\b\b\b\b\b\b\b\b\b\b\b\b\b\b\b\b\b\b\b\b\b\b\b\b\b\b\b\b\b\b\b\b\b\b\b\b\b\b\b\b\b\b\b\b\b\b\b\b\b\b\b\b\b\b\b\b\b\b\b\b\b\b\b\b\b\b\b\b\b\b\b\b\b\b\b\b\b\b\b\b\b\b\b\b\b\b\b\b\b\b\b\b\b\b\b\b\b\b\b\b\b\b\b\b\b\b\b\b\b\b\b\b\b\b\b\b\b\b\b\b\b\b\b\b\b\b\b\b\b\b\b\b\b\b\b\b\b\b\b\b\b\b\b\b\b\b\b\b\b\b\b\b\b\b\b\b\b\b\b\b\b\b\b\b\b\b\b\b\b\b\b\b\b\b\b\b\b\b\b\b\b\b\b\b\b\b\b\b\b\b\b\b\b\b\b\b\b\b\b\b\b\b\b\b\b\b\b\b\b\b\b\b\b\b\b\b\b\b\b\b\b\b\b\b\b\b\b\b\b\b\b\b\b\b\b\b\b\b\b\b\b\b\b\b\b\b\b\b\b\b\b\b\b\b\b\b\b\b\b\b\b\b\b\b\b\b\b\b\b\b\b\b\b\b\b\b\b\b\b\b\b\b\b\b\b\b\b\b\b\b\b\b\b\b\b\b\b\b\b\b\b\b\b\b\b\b\b\b\b\b\b\b\b\b\b\b\b\b\b\b\b\b\b\b\b\b\b\b\b\b\b\b\b\b\b\b\b\b\b\b\b\b\b\b\b\b\b\b\b\b\b\b\b\b\b\b\b\b\b\b\b\b\b\b\b\b\b\b\b\b\b\b\b\b\b\b\b\b\b\b\b\b\b\b\b\b\b\b\b\b\b\b\b\b\b\b\b\b\b\b\b\b\b\b\b\b\b\b\b\b\b\b\b\b\b\b\b\b\b\b\b\b\b\b\b\b\b\b\b\b\b\b\b\b\b\b\b\b\b\b\b\b\b\b\b\b\b\b\b\b\b\b\b\b\b\b\b\b\b\b\b\b\b\b\b\b\b\b\b\b\b\b\b\b\b\b\b\b\b\b\b\b\b\b\b\b\b\b\b\b\b\b\b\b\b\b\b\b\b\b\b\b\b\b\b\b\b\b\b\b\b\b\b\b\b\b\b\b\b\b\b\b\b\b\b\b\b\b\b\b\b\b\b\b\b\b\b\b\b\b\b\b\b\b\b\b\b\b\b\b\b\b\b\b\b\b\b\b\b\b\b\b\b\b\b\b\b\b\b\b\b\b\b\b\b\b\b\b\b\b\b\b\b\b\b\b\b\b\b\b\b\b\b\b\b\b\b\b\b\b\b\b\b\b\b\b\b\b\b\b\b\b\b\b\b\b\b\b\b\b\b\b\b\b\b\b\b\b\b\b\b\b\b\b\b\b\b\b\b\b\b\b\b\b\b\b\b\b\b\b\b\b\b\b\b\b\b\b\b\b\b\b\b\b\b\b\b\b\b\b\b\b\b\b\b\b\b\b\b\b\b\b\b\b\b\b\b\b\b\b\b\b\b\b\b\b\b\b\b\b\b\b\b\b\b\b\b\b\b\b\b\b\b\b\b\b\b\b\b\b\b\b\b\b\b\b\b\b\b\b\b\b\b\b\b\b\b\b\b\b\b\b\b\b\b\b\b\b\b\b\b\b\b\b\b\b\b\b\b\b\b\b\b\b\b\b\b\b\b\b\b\b\b\b\b\b\b\b\b\b\b\b\b\b\b\b\b\b\b\b\b\b\b\b\b\b\b\b\b\b\b\b\b\b\b\b\b\b\b\b\b\b\b\b\b\b\b\b\b\b\b\b\b\b\b\b\b\b\b\b\b\b\b\b\b\b\b\b\b\b\b\b\b\b\b\b\b\b\b\b\b\b\b\b\b\b\b\b\b\b\b\b\b\b\b\b\b\b\b\b\b\b\b\b\b\b\b\b\b\b\b\b\b\b\b\b\b\b\b\b\b\b\b\b\b\b\b\b\b\b\b\b\b\b\b\b\b\b\b\b\b\b\b\b\b\b\b\b\b\b\b\b\b\b\b\b\b\b\b\b\b\b\b\b\b\b\b\b\b\b\b\b\b\b\b\b\b\b\b\b\b\b\b\b\b\b\b\b\b\b\b\b\b\b\b\b\b\b\b\b\b\b\b\b\b\b\b\b\b\b\b\b\b\b\b\b\b\b\b\b\b\b\b\b\b\b\b\b\b\b\b\b\b\b\b\b\b\b\b\b\b\b\b\b\b\b\b\b\b\b\b\b\b\b\b\b\b\b\b\b\b\b\b\b\b\b\b\b\b\b\b\b\b\b\b\b\b\b\b\b\b\b\b\b\b\b\b\b\b\b\b\b\b\b\b\b\b\b\b\b\b\b\b\b\b\b\b\b\b\b\b\b\b\b\b\b\b\b\b\b\b\b\b\b\b\b\b\b\b\b\b\b\b\b\b\b\b\b\b\b\b\b\b\b\b\b\b\b\b\b\b\b\b\b\b\b\b\b\b\b\b\b\b\b\b\b\b\b\b\b\b\b\b\b\b\b\b\b\b\b\b\b\b\b\b\b\b\b\b\b\b\b\b\b\b\b\b\b\b\b\b\b\b\b\b\b\b\b\b\b\b\b\b\b\b\b\b\b\b\b\b\b\b\b\b\b\b\b\b\b\b\b\b\b\b\b\b\b\b\b\b\b\b\b\b\b\b\b\b\b\b\b\b\b\b\b\b\b\b\b\b\b\b\b\b\b\b\b\b\b\b\b\b\b\b\b\b\b\b\b\b\b\b\b\b\b\b\b\b\b\b\b\b\b\b\b\b\b\b\b\b\b\b\b\b\b\b\b\b\b\b\b\b\b\b\b\b\b\b\b\b\b\b\b\b\b\b\b\b\b\b\b\b\b\b\b\b\b\b\b\b\b\b\b\b\b\b\b\b\b\b\b\b\b\b\b\b\b\b\b\b\b\b\b\b\b\b\b\b\b\b\b\b\b\b\b\b\b\b\b\b\b\b\b\b\b\b\b\b\b\b\b\b\b\b\b\b\b\b\b\b\b\b\b\b\b\b\b\b\b\b\b\b\b\b\b\b\b\b\b\b\b\b\b\b\b\b\b\b\b\b\b\b\b\b\b\b\b\b\b\b\b\b\b\b\b\b\b\b\b\b\b\b\b\b\b\b\b\b\b\b\b\b\b\b\b\b\b\b\b\b\b\b\b\b\b\b\b\b\b\b\b\b\b\b\b\b\b\b\b\b\b\b\b\b\b\b\b\b\b\b\b\b\b\b\b\b\b\b\b\b\b\b\b\b\b\b\b\b\b\b\b\b\b\b\b\b\b\b\b\b\b\b\b\b\b\b\b\b\b\b\b\b\b\b\b\b\b\b\b\b\b\b\b\b\b\b\b\b\b\b\b\b\b\b\b\b\b\b\b\b\b\b\b\b\b\b\b\b\b\b\b\b\b\b\b\b\b\b\b\b\b\b\b\b\b\b\b\b\b\b\b\b\b\b\b\b\b\b\b\b\b\b\b\b\b\b\b\b\b\b\b\b\b\b\b\b\b\b\b\b\b\b\b\b\b\b\b\b\b\b\b\b\b\b\b\b\b\b\b\b\b\b\b\b\b\b\b\b\b\b\b\b\b\b\b\b\b\b\b\b\b\b\b\b\b\b\b\b\b\b\b\b\b\b\b\b\b\b\b\b\b\b\b\b\b\b\b\b\b\b\b\b\b\b\b\b\b\b\b\b\b\b\b\b\b\b\b\b\b\b\b\b\b\b\b\b\b\b\b\b\b\b\b\b\b\b\b\b\b\b\b\b\b\b\b\b\b\b\b\b\b\b\b\b\b\b\b\b\b\b\b\b\b\b\b\b\b\b\b\b\b\b\b\b\b\b\b\b\b\b\b\b\b\b\b\b\b\b\b\b\b\b\b\b\b\b\b\b\b\b\b\b\b\b\b\b\b\b\b\b\b\b\b\b\b\b\b\b\b\b\b\b\b\b\b\b\b\b\b\b\b\b\b\b\b\b\b\b\b\b\b\b\b\b\b\b\b\b\b\b\b\b\b\b\b\b\b\b\b\b\b\b\b\b\b\b\b\b\b\b\b\b\b\b\b\b\b\b\b\b\b\b\b\b\b\b\b\b\b\b\b\b\b\b\b\b\b\b\b\b\b\b\b\b\b\b\b\b\b\b\b\b\b\b\b\b\b\b\b\b\b\b\b\b\b\b\b\b\b\b\b\b\b\b\b\b\b\b\b\b\b\b\b\b\b\b\b\b\b\b\b\b\b\b\b\b\b\b\b\b\b\b\b\b\b\b\b\b\b\b\b\b\b\b\b\b\b\b\b\b\b\b\b\b\b\b\b\b\b\b\b\b\b\b\b\b\b\b\b\b\b\b\b\b\b\b\b\b\b\b\b\b\b\b\b\b\b\b\b\b\b\b\b\b\b\b\b\b\b\b\b\b\b\b\b\b\b\b\b\b\b\b\b\b\b\b\b\b\b\b\b\b\b\b\b\b\b\b\b\b\b\b\b\b\b\b\b\b\b\b\b\b\b\b\b\b\b\b\b\b\b\b\b\b\b\b\b\b\b\b\b\b\b\b\b\b\b\b\b\b\b\b\b\b\b\b\b\b\b\b\b\b\b\b\b\b\b\b\b\b\b\b\b\b\b\b\b\b\b\b\b\b\b\b\b\b\b\b\b\b\b\b\b\b\b\b\b\b\b\b\b\b\b\b\b\b\b\b\b\b\b\b\b\b\b\b\b\b\b\b\b\b\b\b\b\b\b\b\b\b\b\b\b\b\b\b\b\b\b\b\b\b\b\b\b\b\b\b\n",
      "Epoch 3/5\n",
      "60000/60000 [==============================] - 2s 27us/sample - loss: 0.3401 - acc: 0.8744\b\b\b\b\b\b\b\b\b\b\b\b\b\b\b\b\b\b\b\b\b\b\b\b\b\b\b\b\b\b\b\b\b\b\b\b\b\b\b\b\b\b\b\b\b\b\b\b\b\b\b\b\b\b\b\b\b\b\b\b\b\b\b\b\b\b\b\b\b\b\b\b\b\b\b\b\b\b\b\b\b\b\b\b\b\b\b\b\b\b\b\b\b\b\b\b\b\b\b\b\b\b\b\b\b\b\b\b\b\b\b\b\b\b\b\b\b\b\b\b\b\b\b\b\b\b\b\b\b\b\b\b\b\b\b\b\b\b\b\b\b\b\b\b\b\b\b\b\b\b\b\b\b\b\b\b\b\b\b\b\b\b\b\b\b\b\b\b\b\b\b\b\b\b\b\b\b\b\b\b\b\b\b\b\b\b\b\b\b\b\b\b\b\b\b\b\b\b\b\b\b\b\b\b\b\b\b\b\b\b\b\b\b\b\b\b\b\b\b\b\b\b\b\b\b\b\b\b\b\b\b\b\b\b\b\b\b\b\b\b\b\b\b\b\b\b\b\b\b\b\b\b\b\b\b\b\b\b\b\b\b\b\b\b\b\b\b\b\b\b\b\b\b\b\b\b\b\b\b\b\b\b\b\b\b\b\b\b\b\b\b\b\b\b\b\b\b\b\b\b\b\b\b\b\b\b\b\b\b\b\b\b\b\b\b\b\b\b\b\b\b\b\b\b\b\b\b\b\b\b\b\b\b\b\b\b\b\b\b\b\b\b\b\b\b\b\b\b\b\b\b\b\b\b\b\b\b\b\b\b\b\b\b\b\b\b\b\b\b\b\b\b\b\b\b\b\b\b\b\b\b\b\b\b\b\b\b\b\b\b\b\b\b\b\b\b\b\b\b\b\b\b\b\b\b\b\b\b\b\b\b\b\b\b\b\b\b\b\b\b\b\b\b\b\b\b\b\b\b\b\b\b\b\b\b\b\b\b\b\b\b\b\b\b\b\b\b\b\b\b\b\b\b\b\b\b\b\b\b\b\b\b\b\b\b\b\b\b\b\b\b\b\b\b\b\b\b\b\b\b\b\b\b\b\b\b\b\b\b\b\b\b\b\b\b\b\b\b\b\b\b\b\b\b\b\b\b\b\b\b\b\b\b\b\b\b\b\b\b\b\b\b\b\b\b\b\b\b\b\b\b\b\b\b\b\b\b\b\b\b\b\b\b\b\b\b\b\b\b\b\b\b\b\b\b\b\b\b\b\b\b\b\b\b\b\b\b\b\b\b\b\b\b\b\b\b\b\b\b\b\b\b\b\b\b\b\b\b\b\b\b\b\b\b\b\b\b\b\b\b\b\b\b\b\b\b\b\b\b\b\b\b\b\b\b\b\b\b\b\b\b\b\b\b\b\b\b\b\b\b\b\b\b\b\b\b\b\b\b\b\b\b\b\b\b\b\b\b\b\b\b\b\b\b\b\b\b\b\b\b\b\b\b\b\b\b\b\b\b\b\b\b\b\b\b\b\b\b\b\b\b\b\b\b\b\b\b\b\b\b\b\b\b\b\b\b\b\b\b\b\b\b\b\b\b\b\b\b\b\b\b\b\b\b\b\b\b\b\b\b\b\b\b\b\b\b\b\b\b\b\b\b\b\b\b\b\b\b\b\b\b\b\b\b\b\b\b\b\b\b\b\b\b\b\b\b\b\b\b\b\b\b\b\b\b\b\b\b\b\b\b\b\b\b\b\b\b\b\b\b\b\b\b\b\b\b\b\b\b\b\b\b\b\b\b\b\b\b\b\b\b\b\b\b\b\b\b\b\b\b\b\b\b\b\b\b\b\b\b\b\b\b\b\b\b\b\b\b\b\b\b\b\b\b\b\b\b\b\b\b\b\b\b\b\b\b\b\b\b\b\b\b\b\b\b\b\b\b\b\b\b\b\b\b\b\b\b\b\b\b\b\b\b\b\b\b\b\b\b\b\b\b\b\b\b\b\b\b\b\b\b\b\b\b\b\b\b\b\b\b\b\b\b\b\b\b\b\b\b\b\b\b\b\b\b\b\b\b\b\b\b\b\b\b\b\b\b\b\b\b\b\b\b\b\b\b\b\b\b\b\b\b\b\b\b\b\b\b\b\b\b\b\b\b\b\b\b\b\b\b\b\b\b\b\b\b\b\b\b\b\b\b\b\b\b\b\b\b\b\b\b\b\b\b\b\b\b\b\b\b\b\b\b\b\b\b\b\b\b\b\b\b\b\b\b\b\b\b\b\b\b\b\b\b\b\b\b\b\b\b\b\b\b\b\b\b\b\b\b\b\b\b\b\b\b\b\b\b\b\b\b\b\b\b\b\b\b\b\b\b\b\b\b\b\b\b\b\b\b\b\b\b\b\b\b\b\b\b\b\b\b\b\b\b\b\b\b\b\b\b\b\b\b\b\b\b\b\b\b\b\b\b\b\b\b\b\b\b\b\b\b\b\b\b\b\b\b\b\b\b\b\b\b\b\b\b\b\b\b\b\b\b\b\b\b\b\b\b\b\b\b\b\b\b\b\b\b\b\b\b\b\b\b\b\b\b\b\b\b\b\b\b\b\b\b\b\b\b\b\b\b\b\b\b\b\b\b\b\b\b\b\b\b\b\b\b\b\b\b\b\b\b\b\b\b\b\b\b\b\b\b\b\b\b\b\b\b\b\b\b\b\b\b\b\b\b\b\b\b\b\b\b\b\b\b\b\b\b\b\b\b\b\b\b\b\b\b\b\b\b\b\b\b\b\b\b\b\b\b\b\b\b\b\b\b\b\b\b\b\b\b\b\b\b\b\b\b\b\b\b\b\b\b\b\b\b\b\b\b\b\b\b\b\b\b\b\b\b\b\b\b\b\b\b\b\b\b\b\b\b\b\b\b\b\b\b\b\b\b\b\b\b\b\b\b\b\b\b\b\b\b\b\b\b\b\b\b\b\b\b\b\b\b\b\b\b\b\b\b\b\b\b\b\b\b\b\b\b\b\b\b\b\b\b\b\b\b\b\b\b\b\b\b\b\b\b\b\b\b\b\b\b\b\b\b\b\b\b\b\b\b\b\b\b\b\b\b\b\b\b\b\b\b\b\b\b\b\b\b\b\b\b\b\b\b\b\b\b\b\b\b\b\b\b\b\b\b\b\b\b\b\b\b\b\b\b\b\b\b\b\b\b\b\b\b\b\b\b\b\b\b\b\b\b\b\b\b\b\b\b\b\b\b\b\b\b\b\b\b\b\b\b\b\b\b\b\b\b\b\b\b\b\b\b\b\b\b\b\b\b\b\b\b\b\b\b\b\b\b\b\b\b\b\b\b\b\b\b\b\b\b\b\b\b\b\b\b\b\b\b\b\b\b\b\b\b\b\b\b\b\b\b\b\b\b\b\b\b\b\b\b\b\b\b\b\b\b\b\b\b\b\b\b\b\b\b\b\b\b\b\b\b\b\b\b\b\b\b\b\b\b\b\b\b\b\b\b\b\b\b\b\b\b\b\b\b\b\b\b\b\b\b\b\b\b\b\b\b\b\b\b\b\b\b\b\b\b\b\b\b\b\b\b\b\b\b\b\b\b\b\b\b\b\b\b\b\b\b\b\b\b\b\b\b\b\b\b\b\b\b\b\b\b\b\b\b\b\b\b\b\b\b\b\b\b\b\b\b\b\b\b\b\b\b\b\b\b\b\b\b\b\b\b\b\b\b\b\b\b\b\b\b\b\b\b\b\b\b\b\b\b\b\b\b\b\b\b\b\b\b\b\b\b\b\b\b\b\b\b\b\b\b\b\b\b\b\b\b\b\b\b\b\b\b\b\b\b\b\b\b\b\b\b\b\b\b\b\b\b\b\b\b\b\b\b\b\b\b\b\b\b\b\b\b\b\b\b\b\b\b\b\b\b\b\b\b\b\b\b\b\b\b\b\b\b\b\b\b\b\b\b\b\b\b\b\b\b\b\b\b\b\b\b\b\b\b\b\b\b\b\b\b\b\b\b\b\b\b\b\b\b\b\b\b\b\b\b\b\b\b\b\b\b\b\b\b\b\b\b\b\b\b\b\b\b\b\b\b\b\b\b\b\b\b\b\b\b\b\b\b\b\b\b\b\b\b\b\b\b\b\b\b\b\b\b\b\b\b\b\b\b\b\b\b\b\b\b\b\b\b\b\b\b\b\b\b\b\b\b\b\b\b\b\b\b\b\b\b\b\b\b\b\b\b\b\b\b\b\b\b\b\b\b\b\b\b\b\b\b\b\b\b\b\b\b\b\b\b\b\b\b\b\b\b\b\b\b\b\b\b\b\b\b\b\b\b\b\b\b\b\b\b\b\b\b\b\b\b\b\b\b\b\b\b\b\b\b\b\b\b\b\b\b\b\b\b\b\b\b\b\b\b\b\b\b\b\b\b\b\b\b\b\b\b\b\b\b\b\b\b\b\b\b\b\b\b\b\b\b\b\b\b\b\b\b\b\b\b\b\b\b\b\b\b\b\b\b\b\b\b\b\b\b\b\b\b\b\b\b\b\b\b\b\b\b\b\b\b\b\b\b\b\b\b\b\b\b\b\b\b\b\b\b\b\b\b\b\b\b\b\b\b\b\b\b\b\b\b\b\b\b\b\b\b\b\b\b\b\b\b\b\b\b\b\b\b\b\b\b\b\b\b\b\b\b\b\b\b\b\b\b\b\b\b\b\b\b\b\b\b\b\b\b\b\b\b\b\b\b\b\b\b\b\b\b\b\b\b\b\b\b\b\b\b\b\b\b\b\b\b\b\b\b\b\b\b\b\b\b\b\b\b\b\b\b\b\b\b\b\b\b\b\b\b\b\b\b\b\b\b\b\b\b\b\b\b\b\b\b\b\b\b\b\b\b\b\b\b\b\b\b\b\b\b\b\b\b\b\b\b\b\b\b\b\b\b\b\b\b\b\b\b\b\b\b\b\b\b\b\b\b\b\b\b\b\b\b\b\b\b\b\b\b\b\b\b\b\b\b\b\b\b\b\b\b\b\b\b\b\b\b\b\b\b\b\b\b\b\b\b\b\b\b\b\b\b\b\b\b\b\b\b\b\b\b\b\b\b\b\b\b\b\b\b\b\b\b\b\b\b\b\b\b\b\b\b\b\b\b\b\b\b\b\b\b\b\b\b\b\b\b\b\b\b\b\b\b\b\b\b\b\b\b\b\b\b\b\b\b\b\b\b\b\b\b\b\b\b\b\b\b\b\b\b\b\b\b\b\b\b\b\b\b\b\b\b\b\b\b\b\b\b\b\b\b\b\b\b\b\b\b\b\b\b\b\b\b\b\b\b\b\b\b\b\b\b\b\b\b\b\b\b\b\b\b\b\b\b\b\b\b\b\b\b\b\b\b\b\b\b\b\b\b\b\b\b\b\b\b\b\b\b\b\b\b\b\b\b\b\b\b\b\b\b\b\b\b\b\b\b\b\b\b\b\b\b\b\b\b\b\b\b\b\b\b\b\b\b\b\b\b\b\b\b\b\b\b\b\b\b\b\b\b\b\b\b\b\b\b\b\b\b\b\b\b\b\b\b\b\b\b\b\b\b\b\b\b\b\b\b\b\b\b\b\b\b\b\b\b\b\b\b\b\b\b\b\b\b\b\b\b\b\b\b\b\b\b\b\b\b\b\b\b\b\b\b\b\b\b\b\b\b\b\b\b\b\b\b\b\b\b\b\b\b\b\b\b\b\b\b\b\b\b\b\b\b\b\b\b\b\b\b\b\b\b\b\b\b\b\b\b\b\b\b\b\b\b\b\b\b\b\b\b\b\b\b\b\b\b\b\b\b\b\b\b\b\b\b\b\b\b\b\b\b\b\b\b\b\b\b\b\b\b\b\b\b\b\b\b\b\b\b\b\b\b\b\b\b\b\b\b\b\b\b\b\b\b\b\b\b\b\b\b\b\b\b\b\b\b\n",
      "Epoch 4/5\n",
      "60000/60000 [==============================] - 2s 32us/sample - loss: 0.3161 - acc: 0.8840\b\b\b\b\b\b\b\b\b\b\b\b\b\b\b\b\b\b\b\b\b\b\b\b\b\b\b\b\b\b\b\b\b\b\b\b\b\b\b\b\b\b\b\b\b\b\b\b\b\b\b\b\b\b\b\b\b\b\b\b\b\b\b\b\b\b\b\b\b\b\b\b\b\b\b\b\b\b\b\b\b\b\b\b\b\b\b\b\b\b\b\b\b\b\b\b\b\b\b\b\b\b\b\b\b\b\b\b\b\b\b\b\b\b\b\b\b\b\b\b\b\b\b\b\b\b\b\b\b\b\b\b\b\b\b\b\b\b\b\b\b\b\b\b\b\b\b\b\b\b\b\b\b\b\b\b\b\b\b\b\b\b\b\b\b\b\b\b\b\b\b\b\b\b\b\b\b\b\b\b\b\b\b\b\b\b\b\b\b\b\b\b\b\b\b\b\b\b\b\b\b\b\b\b\b\b\b\b\b\b\b\b\b\b\b\b\b\b\b\b\b\b\b\b\b\b\b\b\b\b\b\b\b\b\b\b\b\b\b\b\b\b\b\b\b\b\b\b\b\b\b\b\b\b\b\b\b\b\b\b\b\b\b\b\b\b\b\b\b\b\b\b\b\b\b\b\b\b\b\b\b\b\b\b\b\b\b\b\b\b\b\b\b\b\b\b\b\b\b\b\b\b\b\b\b\b\b\b\b\b\b\b\b\b\b\b\b\b\b\b\b\b\b\b\b\b\b\b\b\b\b\b\b\b\b\b\b\b\b\b\b\b\b\b\b\b\b\b\b\b\b\b\b\b\b\b\b\b\b\b\b\b\b\b\b\b\b\b\b\b\b\b\b\b\b\b\b\b\b\b\b\b\b\b\b\b\b\b\b\b\b\b\b\b\b\b\b\b\b\b\b\b\b\b\b\b\b\b\b\b\b\b\b\b\b\b\b\b\b\b\b\b\b\b\b\b\b\b\b\b\b\b\b\b\b\b\b\b\b\b\b\b\b\b\b\b\b\b\b\b\b\b\b\b\b\b\b\b\b\b\b\b\b\b\b\b\b\b\b\b\b\b\b\b\b\b\b\b\b\b\b\b\b\b\b\b\b\b\b\b\b\b\b\b\b\b\b\b\b\b\b\b\b\b\b\b\b\b\b\b\b\b\b\b\b\b\b\b\b\b\b\b\b\b\b\b\b\b\b\b\b\b\b\b\b\b\b\b\b\b\b\b\b\b\b\b\b\b\b\b\b\b\b\b\b\b\b\b\b\b\b\b\b\b\b\b\b\b\b\b\b\b\b\b\b\b\b\b\b\b\b\b\b\b\b\b\b\b\b\b\b\b\b\b\b\b\b\b\b\b\b\b\b\b\b\b\b\b\b\b\b\b\b\b\b\b\b\b\b\b\b\b\b\b\b\b\b\b\b\b\b\b\b\b\b\b\b\b\b\b\b\b\b\b\b\b\b\b\b\b\b\b\b\b\b\b\b\b\b\b\b\b\b\b\b\b\b\b\b\b\b\b\b\b\b\b\b\b\b\b\b\b\b\b\b\b\b\b\b\b\b\b\b\b\b\b\b\b\b\b\b\b\b\b\b\b\b\b\b\b\b\b\b\b\b\b\b\b\b\b\b\b\b\b\b\b\b\b\b\b\b\b\b\b\b\b\b\b\b\b\b\b\b\b\b\b\b\b\b\b\b\b\b\b\b\b\b\b\b\b\b\b\b\b\b\b\b\b\b\b\b\b\b\b\b\b\b\b\b\b\b\b\b\b\b\b\b\b\b\b\b\b\b\b\b\b\b\b\b\b\b\b\b\b\b\b\b\b\b\b\b\b\b\b\b\b\b\b\b\b\b\b\b\b\b\b\b\b\b\b\b\b\b\b\b\b\b\b\b\b\b\b\b\b\b\b\b\b\b\b\b\b\b\b\b\b\b\b\b\b\b\b\b\b\b\b\b\b\b\b\b\b\b\b\b\b\b\b\b\b\b\b\b\b\b\b\b\b\b\b\b\b\b\b\b\b\b\b\b\b\b\b\b\b\b\b\b\b\b\b\b\b\b\b\b\b\b\b\b\b\b\b\b\b\b\b\b\b\b\b\b\b\b\b\b\b\b\b\b\b\b\b\b\b\b\b\b\b\b\b\b\b\b\b\b\b\b\b\b\b\b\b\b\b\b\b\b\b\b\b\b\b\b\b\b\b\b\b\b\b\b\b\b\b\b\b\b\b\b\b\b\b\b\b\b\b\b\b\b\b\b\b\b\b\b\b\b\b\b\b\b\b\b\b\b\b\b\b\b\b\b\b\b\b\b\b\b\b\b\b\b\b\b\b\b\b\b\b\b\b\b\b\b\b\b\b\b\b\b\b\b\b\b\b\b\b\b\b\b\b\b\b\b\b\b\b\b\b\b\b\b\b\b\b\b\b\b\b\b\b\b\b\b\b\b\b\b\b\b\b\b\b\b\b\b\b\b\b\b\b\b\b\b\b\b\b\b\b\b\b\b\b\b\b\b\b\b\b\b\b\b\b\b\b\b\b\b\b\b\b\b\b\b\b\b\b\b\b\b\b\b\b\b\b\b\b\b\b\b\b\b\b\b\b\b\b\b\b\b\b\b\b\b\b\b\b\b\b\b\b\b\b\b\b\b\b\b\b\b\b\b\b\b\b\b\b\b\b\b\b\b\b\b\b\b\b\b\b\b\b\b\b\b\b\b\b\b\b\b\b\b\b\b\b\b\b\b\b\b\b\b\b\b\b\b\b\b\b\b\b\b\b\b\b\b\b\b\b\b\b\b\b\b\b\b\b\b\b\b\b\b\b\b\b\b\b\b\b\b\b\b\b\b\b\b\b\b\b\b\b\b\b\b\b\b\b\b\b\b\b\b\b\b\b\b\b\b\b\b\b\b\b\b\b\b\b\b\b\b\b\b\b\b\b\b\b\b\b\b\b\b\b\b\b\b\b\b\b\b\b\b\b\b\b\b\b\b\b\b\b\b\b\b\b\b\b\b\b\b\b\b\b\b\b\b\b\b\b\b\b\b\b\b\b\b\b\b\b\b\b\b\b\b\b\b\b\b\b\b\b\b\b\b\b\b\b\b\b\b\b\b\b\b\b\b\b\b\b\b\b\b\b\b\b\b\b\b\b\b\b\b\b\b\b\b\b\b\b\b\b\b\b\b\b\b\b\b\b\b\b\b\b\b\b\b\b\b\b\b\b\b\b\b\b\b\b\b\b\b\b\b\b\b\b\b\b\b\b\b\b\b\b\b\b\b\b\b\b\b\b\b\b\b\b\b\b\b\b\b\b\b\b\b\b\b\b\b\b\b\b\b\b\b\b\b\b\b\b\b\b\b\b\b\b\b\b\b\b\b\b\b\b\b\b\b\b\b\b\b\b\b\b\b\b\b\b\b\b\b\b\b\b\b\b\b\b\b\b\b\b\b\b\b\b\b\b\b\b\b\b\b\b\b\b\b\b\b\b\b\b\b\b\b\b\b\b\b\b\b\b\b\b\b\b\b\b\b\b\b\b\b\b\b\b\b\b\b\b\b\b\b\b\b\b\b\b\b\b\b\b\b\b\b\b\b\b\b\b\b\b\b\b\b\b\b\b\b\b\b\b\b\b\b\b\b\b\b\b\b\b\b\b\b\b\b\b\b\b\b\b\b\b\b\b\b\b\b\b\b\b\b\b\b\b\b\b\b\b\b\b\b\b\b\b\b\b\b\b\b\b\b\b\b\b\b\b\b\b\b\b\b\b\b\b\b\b\b\b\b\b\b\b\b\b\b\b\b\b\b\b\b\b\b\b\b\b\b\b\b\b\b\b\b\b\b\b\b\b\b\b\b\b\b\b\b\b\b\b\b\b\b\b\b\b\b\b\b\b\b\b\b\b\b\b\b\b\b\b\b\b\b\b\b\b\b\b\b\b\b\b\b\b\b\b\b\b\b\b\b\b\b\b\b\b\b\b\b\b\b\b\b\b\b\b\b\b\b\b\b\b\b\b\b\b\b\b\b\b\b\b\b\b\b\b\b\b\b\b\b\b\b\b\b\b\b\b\b\b\b\b\b\b\b\b\b\b\b\b\b\b\b\b\b\b\b\b\b\b\b\b\b\b\b\b\b\b\b\b\b\b\b\b\b\b\b\b\b\b\b\b\b\b\b\b\b\b\b\b\b\b\b\b\b\b\b\b\b\b\b\b\b\b\b\b\b\b\b\b\b\b\b\b\b\b\b\b\b\b\b\b\b\b\b\b\b\b\b\b\b\b\b\b\b\b\b\b\b\b\b\b\b\b\b\b\b\b\b\b\b\b\b\b\b\b\b\b\b\b\b\b\b\b\b\b\b\b\b\b\b\b\b\b\b\b\b\b\b\b\b\b\b\b\b\b\b\b\b\b\b\b\b\b\b\b\b\b\b\b\b\b\b\b\b\b\b\b\b\b\b\b\b\b\b\b\b\b\b\b\b\b\b\b\b\b\b\b\b\b\b\b\b\b\b\b\b\b\b\b\b\b\b\b\b\b\b\b\b\b\b\b\b\b\b\b\b\b\b\b\b\b\b\b\b\b\b\b\b\b\b\b\b\b\b\b\b\b\b\b\b\b\b\b\b\b\b\b\b\b\b\b\b\b\b\b\b\b\b\b\b\b\b\b\b\b\b\b\b\b\b\b\b\b\b\b\b\b\b\b\b\b\b\b\b\b\b\b\b\b\b\b\b\b\b\b\b\b\b\b\b\b\b\b\b\b\b\b\b\b\b\b\b\b\b\b\b\b\b\b\b\b\b\b\b\b\b\b\b\b\b\b\b\b\b\b\b\b\b\b\b\b\b\b\b\b\b\b\b\b\b\b\b\b\b\b\b\b\b\b\b\b\b\b\b\b\b\b\b\b\b\b\b\b\b\b\b\b\b\b\b\b\b\b\b\b\b\b\b\b\b\b\b\b\b\b\b\b\b\b\b\b\b\b\b\b\b\b\b\b\b\b\b\b\b\b\b\b\b\b\b\b\b\b\b\b\b\b\b\b\b\b\b\b\b\b\b\b\b\b\b\b\b\b\b\b\b\b\b\b\b\b\b\b\b\b\b\b\b\b\b\b\b\b\b\b\b\b\b\b\b\b\b\b\b\b\b\b\b\b\b\b\b\b\b\b\b\b\b\b\b\b\b\b\b\b\b\b\b\b\b\b\b\b\b\b\b\b\b\b\b\b\b\b\b\b\b\b\b\b\b\b\b\b\b\b\b\b\b\b\b\b\b\b\b\b\b\b\b\b\b\b\b\b\b\b\b\b\b\b\b\b\b\b\b\b\b\b\b\b\b\b\b\b\b\b\b\b\b\b\b\b\b\b\b\b\b\b\b\b\b\b\b\b\b\b\b\b\b\b\b\b\b\b\b\b\b\b\b\b\b\b\b\b\b\b\b\b\b\b\b\b\b\b\b\b\b\b\b\b\b\b\b\b\b\b\b\b\b\b\b\b\b\b\b\b\b\b\b\b\b\b\b\b\b\b\b\b\b\b\b\b\b\b\b\b\b\b\b\b\b\b\b\b\b\b\b\b\b\b\b\b\b\b\b\b\b\b\b\b\b\b\b\b\b\b\b\b\b\b\b\b\b\b\b\b\b\b\b\b\b\b\b\b\b\b\b\b\b\b\b\b\b\b\b\b\b\b\b\b\b\b\b\b\b\b\b\b\b\b\b\b\b\b\b\b\b\b\b\b\b\b\b\b\b\b\b\b\b\b\b\b\b\b\b\b\b\b\b\b\b\b\b\b\b\b\b\b\b\b\b\b\b\b\b\b\b\b\b\b\b\b\b\b\b\b\b\b\b\b\b\b\b\b\b\b\b\b\b\b\b\b\b\b\b\b\b\b\b\b\b\b\b\b\b\b\b\b\b\b\b\b\b\b\b\b\b\b\b\b\b\b\b\b\b\b\b\b\b\b\b\b\b\b\b\b\b\b\b\b\b\b\b\b\b\b\b\b\b\b\b\b\b\b\b\b\b\b\b\b\b\b\b\b\b\b\b\b\b\b\b\b\b\b\b\b\b\b\b\b\b\b\b\b\b\b\b\b\b\b\b\b\b\b\b\b\b\b\b\b\b\b\b\b\b\b\b\b\b\b\b\b\b\b\b\b\b\b\b\b\b\b\b\b\b\b\b\b\b\b\b\b\b\b\b\b\b\b\b\b\b\b\b\b\b\b\b\b\b\b\b\b\b\b\b\b\b\b\b\b\b\b\b\b\b\b\b\b\b\b\b\b\b\b\b\b\b\b\b\b\b\b\b\b\b\b\b\b\b\b\b\b\b\b\b\b\b\b\b\b\b\b\b\b\b\b\b\b\b\b\b\b\b\b\b\b\b\b\b\b\b\b\b\b\b\b\b\b\b\b\b\b\b\b\b\b\b\b\b\b\b\b\b\b\b\b\b\b\b\b\b\b\b\b\b\b\b\b\b\b\b\b\b\b\b\b\b\b\b\b\b\b\b\b\b\b\b\b\b\b\b\b\b\b\b\b\b\b\b\b\b\b\b\b\b\b\b\b\b\b\b\b\b\b\b\b\b\b\b\b\b\b\b\b\b\b\b\b\b\b\b\b\b\b\b\b\b\b\b\b\b\b\b\b\b\b\b\b\b\b\b\b\b\b\b\b\b\b\b\b\b\b\b\b\b\b\b\b\b\b\b\b\b\b\b\b\b\b\b\b\b\b\b\b\b\b\b\b\b\b\b\b\b\b\b\b\b\b\b\b\b\b\b\b\b\b\b\b\b\b\b\b\b\b\b\b\b\b\b\b\b\b\b\b\b\b\b\b\b\b\b\b\b\b\b\b\b\b\b\b\b\b\b\b\b\b\b\b\b\b\b\b\b\b\b\b\b\b\b\b\b\b\b\b\b\b\b\b\b\b\b\b\b\b\b\b\b\b\b\b\b\b\b\b\b\b\b\b\b\b\b\b\b\b\b\b\b\b\b\b\b\b\b\b\b\b\b\b\b\b\b\b\b\b\b\b\b\b\b\b\b\b\b\b\b\b\b\b\b\b\b\b\b\b\b\b\b\b\b\b\b\b\b\b\b\b\b\b\b\b\b\b\b\b\b\b\b\b\b\b\b\b\b\b\b\b\b\b\b\b\b\b\b\b\b\b\b\b\b\b\b\b\b\b\b\b\b\b\b\b\b\b\b\b\b\b\b\b\b\b\b\b\b\b\b\b\b\b\b\b\b\b\b\b\b\b\b\b\b\b\b\b\n",
      "Epoch 5/5\n",
      "60000/60000 [==============================] - 2s 32us/sample - loss: 0.2966 - acc: 0.8902\b\b\b\b\b\b\b\b\b\b\b\b\b\b\b\b\b\b\b\b\b\b\b\b\b\b\b\b\b\b\b\b\b\b\b\b\b\b\b\b\b\b\b\b\b\b\b\b\b\b\b\b\b\b\b\b\b\b\b\b\b\b\b\b\b\b\b\b\b\b\b\b\b\b\b\b\b\b\b\b\b\b\b\b\b\b\b\b\b\b\b\b\b\b\b\b\b\b\b\b\b\b\b\b\b\b\b\b\b\b\b\b\b\b\b\b\b\b\b\b\b\b\b\b\b\b\b\b\b\b\b\b\b\b\b\b\b\b\b\b\b\b\b\b\b\b\b\b\b\b\b\b\b\b\b\b\b\b\b\b\b\b\b\b\b\b\b\b\b\b\b\b\b\b\b\b\b\b\b\b\b\b\b\b\b\b\b\b\b\b\b\b\b\b\b\b\b\b\b\b\b\b\b\b\b\b\b\b\b\b\b\b\b\b\b\b\b\b\b\b\b\b\b\b\b\b\b\b\b\b\b\b\b\b\b\b\b\b\b\b\b\b\b\b\b\b\b\b\b\b\b\b\b\b\b\b\b\b\b\b\b\b\b\b\b\b\b\b\b\b\b\b\b\b\b\b\b\b\b\b\b\b\b\b\b\b\b\b\b\b\b\b\b\b\b\b\b\b\b\b\b\b\b\b\b\b\b\b\b\b\b\b\b\b\b\b\b\b\b\b\b\b\b\b\b\b\b\b\b\b\b\b\b\b\b\b\b\b\b\b\b\b\b\b\b\b\b\b\b\b\b\b\b\b\b\b\b\b\b\b\b\b\b\b\b\b\b\b\b\b\b\b\b\b\b\b\b\b\b\b\b\b\b\b\b\b\b\b\b\b\b\b\b\b\b\b\b\b\b\b\b\b\b\b\b\b\b\b\b\b\b\b\b\b\b\b\b\b\b\b\b\b\b\b\b\b\b\b\b\b\b\b\b\b\b\b\b\b\b\b\b\b\b\b\b\b\b\b\b\b\b\b\b\b\b\b\b\b\b\b\b\b\b\b\b\b\b\b\b\b\b\b\b\b\b\b\b\b\b\b\b\b\b\b\b\b\b\b\b\b\b\b\b\b\b\b\b\b\b\b\b\b\b\b\b\b\b\b\b\b\b\b\b\b\b\b\b\b\b\b\b\b\b\b\b\b\b\b\b\b\b\b\b\b\b\b\b\b\b\b\b\b\b\b\b\b\b\b\b\b\b\b\b\b\b\b\b\b\b\b\b\b\b\b\b\b\b\b\b\b\b\b\b\b\b\b\b\b\b\b\b\b\b\b\b\b\b\b\b\b\b\b\b\b\b\b\b\b\b\b\b\b\b\b\b\b\b\b\b\b\b\b\b\b\b\b\b\b\b\b\b\b\b\b\b\b\b\b\b\b\b\b\b\b\b\b\b\b\b\b\b\b\b\b\b\b\b\b\b\b\b\b\b\b\b\b\b\b\b\b\b\b\b\b\b\b\b\b\b\b\b\b\b\b\b\b\b\b\b\b\b\b\b\b\b\b\b\b\b\b\b\b\b\b\b\b\b\b\b\b\b\b\b\b\b\b\b\b\b\b\b\b\b\b\b\b\b\b\b\b\b\b\b\b\b\b\b\b\b\b\b\b\b\b\b\b\b\b\b\b\b\b\b\b\b\b\b\b\b\b\b\b\b\b\b\b\b\b\b\b\b\b\b\b\b\b\b\b\b\b\b\b\b\b\b\b\b\b\b\b\b\b\b\b\b\b\b\b\b\b\b\b\b\b\b\b\b\b\b\b\b\b\b\b\b\b\b\b\b\b\b\b\b\b\b\b\b\b\b\b\b\b\b\b\b\b\b\b\b\b\b\b\b\b\b\b\b\b\b\b\b\b\b\b\b\b\b\b\b\b\b\b\b\b\b\b\b\b\b\b\b\b\b\b\b\b\b\b\b\b\b\b\b\b\b\b\b\b\b\b\b\b\b\b\b\b\b\b\b\b\b\b\b\b\b\b\b\b\b\b\b\b\b\b\b\b\b\b\b\b\b\b\b\b\b\b\b\b\b\b\b\b\b\b\b\b\b\b\b\b\b\b\b\b\b\b\b\b\b\b\b\b\b\b\b\b\b\b\b\b\b\b\b\b\b\b\b\b\b\b\b\b\b\b\b\b\b\b\b\b\b\b\b\b\b\b\b\b\b\b\b\b\b\b\b\b\b\b\b\b\b\b\b\b\b\b\b\b\b\b\b\b\b\b\b\b\b\b\b\b\b\b\b\b\b\b\b\b\b\b\b\b\b\b\b\b\b\b\b\b\b\b\b\b\b\b\b\b\b\b\b\b\b\b\b\b\b\b\b\b\b\b\b\b\b\b\b\b\b\b\b\b\b\b\b\b\b\b\b\b\b\b\b\b\b\b\b\b\b\b\b\b\b\b\b\b\b\b\b\b\b\b\b\b\b\b\b\b\b\b\b\b\b\b\b\b\b\b\b\b\b\b\b\b\b\b\b\b\b\b\b\b\b\b\b\b\b\b\b\b\b\b\b\b\b\b\b\b\b\b\b\b\b\b\b\b\b\b\b\b\b\b\b\b\b\b\b\b\b\b\b\b\b\b\b\b\b\b\b\b\b\b\b\b\b\b\b\b\b\b\b\b\b\b\b\b\b\b\b\b\b\b\b\b\b\b\b\b\b\b\b\b\b\b\b\b\b\b\b\b\b\b\b\b\b\b\b\b\b\b\b\b\b\b\b\b\b\b\b\b\b\b\b\b\b\b\b\b\b\b\b\b\b\b\b\b\b\b\b\b\b\b\b\b\b\b\b\b\b\b\b\b\b\b\b\b\b\b\b\b\b\b\b\b\b\b\b\b\b\b\b\b\b\b\b\b\b\b\b\b\b\b\b\b\b\b\b\b\b\b\b\b\b\b\b\b\b\b\b\b\b\b\b\b\b\b\b\b\b\b\b\b\b\b\b\b\b\b\b\b\b\b\b\b\b\b\b\b\b\b\b\b\b\b\b\b\b\b\b\b\b\b\b\b\b\b\b\b\b\b\b\b\b\b\b\b\b\b\b\b\b\b\b\b\b\b\b\b\b\b\b\b\b\b\b\b\b\b\b\b\b\b\b\b\b\b\b\b\b\b\b\b\b\b\b\b\b\b\b\b\b\b\b\b\b\b\b\b\b\b\b\b\b\b\b\b\b\b\b\b\b\b\b\b\b\b\b\b\b\b\b\b\b\b\b\b\b\b\b\b\b\b\b\b\b\b\b\b\b\b\b\b\b\b\b\b\b\b\b\b\b\b\b\b\b\b\b\b\b\b\b\b\b\b\b\b\b\b\b\b\b\b\b\b\b\b\b\b\b\b\b\b\b\b\b\b\b\b\b\b\b\b\b\b\b\b\b\b\b\b\b\b\b\b\b\b\b\b\b\b\b\b\b\b\b\b\b\b\b\b\b\b\b\b\b\b\b\b\b\b\b\b\b\b\b\b\b\b\b\b\b\b\b\b\b\b\b\b\b\b\b\b\b\b\b\b\b\b\b\b\b\b\b\b\b\b\b\b\b\b\b\b\b\b\b\b\b\b\b\b\b\b\b\b\b\b\b\b\b\b\b\b\b\b\b\b\b\b\b\b\b\b\b\b\b\b\b\b\b\b\b\b\b\b\b\b\b\b\b\b\b\b\b\b\b\b\b\b\b\b\b\b\b\b\b\b\b\b\b\b\b\b\b\b\b\b\b\b\b\b\b\b\b\b\b\b\b\b\b\b\b\b\b\b\b\b\b\b\b\b\b\b\b\b\b\b\b\b\b\b\b\b\b\b\b\b\b\b\b\b\b\b\b\b\b\b\b\b\b\b\b\b\b\b\b\b\b\b\b\b\b\b\b\b\b\b\b\b\b\b\b\b\b\b\b\b\b\b\b\b\b\b\b\b\b\b\b\b\b\b\b\b\b\b\b\b\b\b\b\b\b\b\b\b\b\b\b\b\b\b\b\b\b\b\b\b\b\b\b\b\b\b\b\b\b\b\b\b\b\b\b\b\b\b\b\b\b\b\b\b\b\b\b\b\b\b\b\b\b\b\b\b\b\b\b\b\b\b\b\b\b\b\b\b\b\b\b\b\b\b\b\b\b\b\b\b\b\b\b\b\b\b\b\b\b\b\b\b\b\b\b\b\b\b\b\b\b\b\b\b\b\b\b\b\b\b\b\b\b\b\b\b\b\b\b\b\b\b\b\b\b\b\b\b\b\b\b\b\b\b\b\b\b\b\b\b\b\b\b\b\b\b\b\b\b\b\b\b\b\b\b\b\b\b\b\b\b\b\b\b\b\b\b\b\b\b\b\b\b\b\b\b\b\b\b\b\b\b\b\b\b\b\b\b\b\b\b\b\b\b\b\b\b\b\b\b\b\b\b\b\b\b\b\b\b\b\b\b\b\b\b\b\b\b\b\b\b\b\b\b\b\b\b\b\b\b\b\b\b\b\b\b\b\b\b\b\b\b\b\b\b\b\b\b\b\b\b\b\b\b\b\b\b\b\b\b\b\b\b\b\b\b\b\b\b\b\b\b\b\b\b\b\b\b\b\b\b\b\b\b\b\b\b\b\b\b\b\b\b\b\b\b\b\b\b\b\b\b\b\b\b\b\b\b\b\b\b\b\b\b\b\b\b\b\b\b\b\b\b\b\b\b\b\b\b\b\b\b\b\b\b\b\b\b\b\b\b\b\b\b\b\b\b\b\b\b\b\b\b\b\b\b\b\b\b\b\b\b\b\b\b\b\b\b\b\b\b\b\b\b\b\b\b\b\b\b\b\b\b\b\b\b\b\b\b\b\b\b\b\b\b\b\b\b\b\b\b\b\b\b\b\b\b\b\b\b\b\b\b\b\b\b\b\b\b\b\b\b\b\b\b\b\b\b\b\b\b\b\b\b\b\b\b\b\b\b\b\b\b\b\b\b\b\b\b\b\b\b\b\b\b\b\b\b\b\b\b\b\b\b\b\b\b\b\b\b\b\b\b\b\b\b\b\b\b\b\b\b\b\b\b\b\b\b\b\b\b\b\b\b\b\b\b\b\b\b\b\b\b\b\b\b\b\b\b\b\b\b\b\b\b\b\b\b\b\b\b\b\b\b\b\b\b\b\b\b\b\b\b\b\b\b\b\b\b\b\b\b\b\b\b\b\b\b\b\b\b\b\b\b\b\b\b\b\b\b\b\b\b\b\b\b\b\b\b\b\b\b\b\b\b\b\b\b\b\b\b\b\b\b\b\b\b\b\b\b\b\b\b\b\b\b\b\b\b\b\b\b\b\b\b\b\b\b\b\b\b\b\b\b\b\b\b\b\b\b\b\b\b\b\b\b\b\b\b\b\b\b\b\b\b\b\b\b\b\b\b\b\b\b\b\b\b\b\b\b\b\b\b\b\b\b\b\b\b\b\b\b\b\b\b\b\b\b\b\b\b\b\b\b\b\b\b\b\b\b\b\b\b\b\b\b\b\b\b\b\b\b\b\b\b\b\b\b\b\b\b\b\b\b\b\b\b\b\b\b\b\b\b\b\b\b\b\b\b\b\b\b\b\b\b\b\b\b\b\b\b\b\b\b\b\b\b\b\b\b\b\b\b\b\b\b\b\b\b\b\b\b\b\b\b\b\b\b\b\b\b\b\b\b\b\b\b\b\b\b\b\b\b\b\b\b\b\b\b\b\b\b\b\b\b\b\b\b\b\b\b\b\b\b\b\b\b\b\b\b\b\b\b\b\b\b\b\b\b\b\b\b\b\b\b\b\b\b\b\b\b\b\b\b\b\b\b\b\b\b\b\b\b\b\b\b\b\b\b\b\b\b\b\b\b\b\b\b\b\b\b\b\b\b\b\b\b\b\b\b\b\b\b\b\b\b\b\b\b\b\b\b\b\b\b\b\b\b\b\b\b\b\b\b\b\b\b\b\b\b\b\b\b\b\b\b\b\b\b\b\b\b\b\b\b\b\b\b\b\b\b\b\b\b\b\b\b\b\b\b\b\b\b\b\b\b\b\b\b\b\b\b\b\b\b\b\b\b\b\b\b\b\b\b\b\b\b\b\b\b\b\b\b\b\b\b\b\b\b\b\b\b\b\b\b\b\b\b\b\b\b\b\b\b\b\b\b\b\b\b\b\b\b\b\b\b\b\b\b\b\b\b\b\b\b\b\b\b\b\b\b\b\b\b\b\b\b\b\b\b\b\b\b\b\b\b\b\b\b\b\b\b\b\b\b\b\b\b\b\b\b\b\b\b\b\b\b\b\b\b\b\b\b\b\b\b\b\b\b\b\b\b\b\b\b\b\b\b\b\b\b\b\b\b\b\b\b\b\b\b\b\b\b\b\b\b\b\b\b\b\b\b\b\b\b\b\b\b\b\b\b\b\b\b\b\b\b\b\b\b\b\b\b\b\b\b\b\b\b\b\b\b\b\b\b\b\b\b\b\b\b\b\b\b\b\b\b\b\b\b\b\b\b\b\b\b\b\b\b\b\b\b\b\b\b\b\b\b\b\b\b\b\b\b\b\b\b\b\b\b\b\b\b\b\b\b\b\b\b\b\b\b\b\b\b\b\b\b\b\b\b\b\b\b\b\b\b\b\b\b\b\b\b\b\b\b\b\b\b\b\b\b\b\b\b\b\b\b\b\b\b\b\b\b\b\b\b\b\b\b\b\b\b\b\b\b\b\b\b\b\b\b\b\b\b\b\b\b\b\b\b\b\b\b\b\b\b\b\b\b\b\b\b\b\b\b\b\b\b\b\b\b\b\b\b\b\b\b\b\b\b\b\b\b\b\b\b\b\b\b\b\b\b\b\b\b\b\b\b\b\b\b\b\b\b\b\b\b\b\b\b\b\b\b\b\b\b\b\b\b\b\b\b\b\b\b\b\b\b\b\b\b\b\b\b\b\b\b\b\b\b\b\b\b\b\b\b\b\b\b\b\b\b\b\b\b\b\b\b\b\b\b\b\b\b\b\b\b\b\b\b\b\b\b\b\b\b\b\b\b\b\b\b\b\b\b\b\b\b\b\b\n",
      "10000/10000 [==============================] - 0s 14us/sample - loss: 53.1743 - acc: 0.8629\b\b\b\b\b\b\b\b\b\b\b\b\b\b\b\b\b\b\b\b\b\b\b\b\b\b\b\b\b\b\b\b\b\b\b\b\b\b\b\b\b\b\b\b\b\b\b\b\b\b\b\b\b\b\b\b\b\b\b\b\b\b\b\b\b\b\b\b\b\b\b\b\b\b\b\b\b\b\b\b\b\b\b\b\b\b\b\b\b\b\b\b\b\b\b\b\b\b\b\b\b\b\b\b\b\b\b\b\b\b\b\b\b\b\b\b\b\b\b\b\b\b\b\b\b\b\b\b\b\b\b\b\b\b\b\b\b\b\b\b\b\b\b\b\b\b\b\b\b\b\b\b\b\b\b\b\b\b\b\b\b\b\b\b\b\b\b\b\b\b\b\b\b\b\b\b\b\b\b\b\b\b\b\b\b\b\b\b\b\b\b\b\b\b\b\b\b\b\b\b\b\b\b\b\b\b\b\b\b\b\b\b\b\b\b\b\b\b\b\b\b\b\b\b\b\b\b\b\b\b\b\b\b\b\b\b\b\b\b\b\b\b\b\b\b\n"
     ]
    },
    {
     "data": {
      "text/plain": [
       "[53.17425981219141, 0.8629]"
      ]
     },
     "execution_count": 8,
     "metadata": {},
     "output_type": "execute_result"
    }
   ],
   "source": [
    "# 优化, loss function, metrics\n",
    "train_images = train_images / 255\n",
    "model.compile(optimizer='adam', loss='sparse_categorical_crossentropy',\n",
    "             metrics=['accuracy'])\n",
    "\n",
    "model.fit(train_images, train_labels, epochs=5)\n",
    "model.evaluate(test_images, test_labels)"
   ]
  },
  {
   "cell_type": "code",
   "execution_count": 35,
   "metadata": {
    "ExecuteTime": {
     "end_time": "2021-08-15T09:27:21.819341Z",
     "start_time": "2021-08-15T09:27:21.517494Z"
    }
   },
   "outputs": [
    {
     "name": "stdout",
     "output_type": "stream",
     "text": [
      "10000/10000 [==============================] - 0s 26us/sample - loss: 0.3572 - acc: 0.8717\n"
     ]
    },
    {
     "data": {
      "text/plain": [
       "[0.35715772643089294, 0.8717]"
      ]
     },
     "execution_count": 35,
     "metadata": {},
     "output_type": "execute_result"
    }
   ],
   "source": [
    "# model.compile(optimizer=tf.optimizer.Adam(),\n",
    "#              loss=tf.losses.sparse_categorical_crossentropy,\n",
    "#              metrics=['accuracy'])\n",
    "\n",
    "test_images = test_images / 255\n",
    "model.evaluate(test_images, test_labels)"
   ]
  },
  {
   "cell_type": "code",
   "execution_count": 51,
   "metadata": {
    "ExecuteTime": {
     "end_time": "2021-08-15T09:31:08.846780Z",
     "start_time": "2021-08-15T09:31:08.684885Z"
    }
   },
   "outputs": [
    {
     "name": "stdout",
     "output_type": "stream",
     "text": [
      "9\n",
      "9\n"
     ]
    },
    {
     "data": {
      "text/plain": [
       "<matplotlib.image.AxesImage at 0x7fe04d1b5cd0>"
      ]
     },
     "execution_count": 51,
     "metadata": {},
     "output_type": "execute_result"
    },
    {
     "data": {
      "image/png": "[encoded data removed]",
      "text/plain": [
       "<Figure size 432x288 with 1 Axes>"
      ]
     },
     "metadata": {
      "needs_background": "light"
     },
     "output_type": "display_data"
    }
   ],
   "source": [
    "c = model.predict([[test_images[0]]])\n",
    "print(np.argmax(c))\n",
    "print(test_labels[0])\n",
    "plt.imshow(test_images[0])"
   ]
  },
  {
   "cell_type": "code",
   "execution_count": 48,
   "metadata": {
    "ExecuteTime": {
     "end_time": "2021-08-15T09:29:45.982124Z",
     "start_time": "2021-08-15T09:29:45.975895Z"
    }
   },
   "outputs": [
    {
     "data": {
      "text/plain": [
       "9"
      ]
     },
     "execution_count": 48,
     "metadata": {},
     "output_type": "execute_result"
    }
   ],
   "source": [
    "# 训练太久了， 就会过拟合"
   ]
  },
  {
   "cell_type": "code",
   "execution_count": 49,
   "metadata": {
    "ExecuteTime": {
     "end_time": "2021-08-15T09:29:49.637706Z",
     "start_time": "2021-08-15T09:29:49.631698Z"
    }
   },
   "outputs": [
    {
     "data": {
      "text/plain": [
       "9"
      ]
     },
     "execution_count": 49,
     "metadata": {},
     "output_type": "execute_result"
    }
   ],
   "source": [
    "test_labels[0]"
   ]
  },
  {
   "cell_type": "code",
   "execution_count": 10,
   "metadata": {},
   "outputs": [
    {
     "name": "stdout",
     "output_type": "stream",
     "text": [
      "WARNING:tensorflow:From /var/folders/5t/c61g0ww90lq59p8dyj60dz400000gn/T/ipykernel_888/456947079.py:2: The name tf.trainable_variables is deprecated. Please use tf.compat.v1.trainable_variables instead.\n",
      "\n"
     ]
    },
    {
     "data": {
      "text/plain": [
       "[<tf.Variable 'dense/kernel:0' shape=(784, 128) dtype=float32>,\n",
       " <tf.Variable 'dense/bias:0' shape=(128,) dtype=float32>,\n",
       " <tf.Variable 'dense_1/kernel:0' shape=(128, 10) dtype=float32>,\n",
       " <tf.Variable 'dense_1/bias:0' shape=(10,) dtype=float32>]"
      ]
     },
     "execution_count": 10,
     "metadata": {},
     "output_type": "execute_result"
    }
   ],
   "source": [
    "# 1. 怎么查看TensorFlow的初始化权重值\n",
    "tf.trainable_variables()\n",
    "\n",
    "'''\n",
    "[<tf.Variable 'dense/kernel:0' shape=(784, 128) dtype=float32>,\n",
    " <tf.Variable 'dense/bias:0' shape=(128,) dtype=float32>,\n",
    " <tf.Variable 'dense_1/kernel:0' shape=(128, 10) dtype=float32>,\n",
    " <tf.Variable 'dense_1/bias:0' shape=(10,) dtype=float32>]\n",
    "'''"
   ]
  },
  {
   "cell_type": "code",
   "execution_count": 11,
   "metadata": {
    "pycharm": {
     "name": "#%%\n"
    }
   },
   "outputs": [
    {
     "data": {
      "text/plain": [
       "['dense/kernel:0', 'dense/bias:0', 'dense_1/kernel:0', 'dense_1/bias:0']"
      ]
     },
     "execution_count": 11,
     "metadata": {},
     "output_type": "execute_result"
    }
   ],
   "source": [
    "variable_name = [v.name for v in tf.trainable_variables()]\n",
    "variable_name\n"
   ]
  },
  {
   "cell_type": "code",
   "execution_count": 17,
   "metadata": {
    "pycharm": {
     "name": "#%%\n"
    }
   },
   "outputs": [
    {
     "data": {
      "text/plain": [
       "<tf.Tensor 'dense/kernel:0' shape=() dtype=resource>"
      ]
     },
     "execution_count": 17,
     "metadata": {},
     "output_type": "execute_result"
    }
   ],
   "source": [
    "# 2、获取权重：tf.get_default_graph().get_tensor_by_name('variable_name')\n",
    "c = tf.get_default_graph().get_tensor_by_name('dense/kernel:0')\n",
    "c\n"
   ]
  },
  {
   "cell_type": "code",
   "execution_count": 18,
   "metadata": {
    "pycharm": {
     "name": "#%%\n"
    }
   },
   "outputs": [
    {
     "name": "stdout",
     "output_type": "stream",
     "text": [
      "WARNING:tensorflow:From /var/folders/5t/c61g0ww90lq59p8dyj60dz400000gn/T/ipykernel_888/1400904498.py:1: The name tf.GraphKeys is deprecated. Please use tf.compat.v1.GraphKeys instead.\n",
      "\n"
     ]
    },
    {
     "data": {
      "text/plain": [
       "'trainable_variables'"
      ]
     },
     "execution_count": 18,
     "metadata": {},
     "output_type": "execute_result"
    }
   ],
   "source": [
    "tf.GraphKeys.TRAINABLE_VARIABLES\n"
   ]
  },
  {
   "cell_type": "code",
   "execution_count": 1,
   "metadata": {
    "ExecuteTime": {
     "end_time": "2021-08-16T09:15:44.897946Z",
     "start_time": "2021-08-16T09:15:35.992380Z"
    },
    "pycharm": {
     "name": "#%%\n"
    }
   },
   "outputs": [
    {
     "name": "stdout",
     "output_type": "stream",
     "text": [
      "WARNING:tensorflow:From /Users/snszz/opt/anaconda3/envs/tensorflow/lib/python3.7/site-packages/tensorflow/python/ops/init_ops.py:1251: calling VarianceScaling.__init__ (from tensorflow.python.ops.init_ops) with dtype is deprecated and will be removed in a future version.\n",
      "Instructions for updating:\n",
      "Call initializer instance with the dtype argument instead of passing it to the constructor\n",
      "Epoch 1/5\n"
     ]
    },
    {
     "name": "stderr",
     "output_type": "stream",
     "text": [
      "2021-08-16 17:15:39.840114: I tensorflow/core/platform/cpu_feature_guard.cc:142] Your CPU supports instructions that this TensorFlow binary was not compiled to use: AVX2 FMA\n"
     ]
    },
    {
     "name": "stdout",
     "output_type": "stream",
     "text": [
      "60000/60000 [==============================] - 3s 45us/sample - loss: 0.4749\n",
      "Epoch 2/5\n",
      "59456/60000 [============================>.] - ETA: 0s - loss: 0.3592\n",
      "Loss is low so cancelling training.\n",
      "60000/60000 [==============================] - 2s 39us/sample - loss: 0.3588\n"
     ]
    },
    {
     "data": {
      "text/plain": [
       "<tensorflow.python.keras.callbacks.History at 0x7fa0bd728e50>"
      ]
     },
     "execution_count": 1,
     "metadata": {},
     "output_type": "execute_result"
    }
   ],
   "source": [
    "# 防止过拟合\n",
    "import tensorflow as tf\n",
    "\n",
    "class myCallback(tf.keras.callbacks.Callback):\n",
    "    def on_epoch_end(self, epoch, logs = {}):\n",
    "        if (logs.get('loss') < 0.4):\n",
    "            print(\"\\nLoss is low so cancelling training.\")\n",
    "            self.model.stop_training = True\n",
    "\n",
    "callbacks =myCallback()\n",
    "mnist = tf.keras.datasets.fashion_mnist\n",
    "(training_images, training_labels), (testing_images, testing_labels) = mnist.load_data()\n",
    "training_images = training_images / 255.0\n",
    "testing_images = testing_images / 255.0\n",
    "model = tf.keras.Sequential([\n",
    "    tf.keras.layers.Flatten(),\n",
    "    tf.keras.layers.Dense(512, activation=tf.nn.relu),\n",
    "    tf.keras.layers.Dense(10, activation=tf.nn.softmax)\n",
    "])\n",
    "\n",
    "model.compile(optimizer='adam', loss='sparse_categorical_crossentropy')\n",
    "model.fit(training_images, training_labels, epochs=5, callbacks=[callbacks])\n",
    "    \n",
    "\n"
   ]
  },
  {
   "cell_type": "code",
   "execution_count": 7,
   "metadata": {
    "ExecuteTime": {
     "end_time": "2021-08-16T09:37:14.413051Z",
     "start_time": "2021-08-16T09:33:54.981577Z"
    }
   },
   "outputs": [
    {
     "name": "stdout",
     "output_type": "stream",
     "text": [
      "Epoch 1/5\n",
      "60000/60000 [==============================] - 34s 573us/sample - loss: 0.4376 - acc: 0.8405\n",
      "Epoch 2/5\n",
      "60000/60000 [==============================] - 37s 619us/sample - loss: 0.2919 - acc: 0.8925\n",
      "Epoch 3/5\n",
      "60000/60000 [==============================] - 43s 713us/sample - loss: 0.2471 - acc: 0.9091\n",
      "Epoch 4/5\n",
      "60000/60000 [==============================] - 42s 700us/sample - loss: 0.2149 - acc: 0.9210\n",
      "Epoch 5/5\n",
      "60000/60000 [==============================] - 42s 700us/sample - loss: 0.1882 - acc: 0.9301\n"
     ]
    },
    {
     "data": {
      "text/plain": [
       "<tensorflow.python.keras.callbacks.History at 0x7fa09c10d090>"
      ]
     },
     "execution_count": 7,
     "metadata": {},
     "output_type": "execute_result"
    }
   ],
   "source": [
    "# 前面是全连接网络\n",
    "\n",
    "# 图片的旋转和平移\n",
    "\n",
    "# 卷积神经网络\n",
    "\n",
    "# CNN---max pooling:增强特征，减少数据\n",
    "\n",
    "# 构建卷积神经网络\n",
    "\n",
    "mnist = tf.keras.datasets.fashion_mnist\n",
    "(training_images, training_labels), (testing_images, testing_labels) = mnist.load_data()\n",
    "training_images = training_images / 255.0\n",
    "testing_images = testing_images / 255.0\n",
    "\n",
    "models = tf.keras.Sequential([\n",
    "    tf.keras.layers.Conv2D(64, (3,3), activation='relu', \n",
    "                           input_shape = (28, 28, 1)),\n",
    "    tf.keras.layers.MaxPooling2D(2,2),\n",
    "    tf.keras.layers.Conv2D(64, (3,3), activation='relu'),\n",
    "    tf.keras.layers.MaxPooling2D(2,2),\n",
    "    tf.keras.layers.Flatten(),\n",
    "    tf.keras.layers.Dense(128, activation='relu'),\n",
    "    tf.keras.layers.Dense(10, activation='softmax')\n",
    "])\n",
    "\n",
    "models.compile(optimizer='adam', loss='sparse_categorical_crossentropy', metrics=['accuracy'])\n",
    "models.fit(training_images.reshape(-1, 28, 28, 1), training_labels, epochs=5)\n"
   ]
  },
  {
   "cell_type": "code",
   "execution_count": 8,
   "metadata": {
    "ExecuteTime": {
     "end_time": "2021-08-16T09:37:14.444396Z",
     "start_time": "2021-08-16T09:37:14.439604Z"
    }
   },
   "outputs": [
    {
     "name": "stdout",
     "output_type": "stream",
     "text": [
      "Model: \"sequential_3\"\n",
      "_________________________________________________________________\n",
      "Layer (type)                 Output Shape              Param #   \n",
      "=================================================================\n",
      "conv2d_4 (Conv2D)            (None, 26, 26, 64)        640       \n",
      "_________________________________________________________________\n",
      "max_pooling2d_4 (MaxPooling2 (None, 13, 13, 64)        0         \n",
      "_________________________________________________________________\n",
      "conv2d_5 (Conv2D)            (None, 11, 11, 64)        36928     \n",
      "_________________________________________________________________\n",
      "max_pooling2d_5 (MaxPooling2 (None, 5, 5, 64)          0         \n",
      "_________________________________________________________________\n",
      "flatten_3 (Flatten)          (None, 1600)              0         \n",
      "_________________________________________________________________\n",
      "dense_6 (Dense)              (None, 128)               204928    \n",
      "_________________________________________________________________\n",
      "dense_7 (Dense)              (None, 10)                1290      \n",
      "=================================================================\n",
      "Total params: 243,786\n",
      "Trainable params: 243,786\n",
      "Non-trainable params: 0\n",
      "_________________________________________________________________\n"
     ]
    }
   ],
   "source": [
    "models.summary()"
   ]
  },
  {
   "cell_type": "code",
   "execution_count": 11,
   "metadata": {
    "ExecuteTime": {
     "end_time": "2021-08-16T09:45:16.966490Z",
     "start_time": "2021-08-16T09:45:16.960830Z"
    }
   },
   "outputs": [
    {
     "data": {
      "text/plain": [
       "102942"
      ]
     },
     "execution_count": 11,
     "metadata": {},
     "output_type": "execute_result"
    }
   ],
   "source": [
    "(128 + 1) * 798"
   ]
  },
  {
   "cell_type": "code",
   "execution_count": 10,
   "metadata": {
    "ExecuteTime": {
     "end_time": "2021-08-16T09:42:14.883906Z",
     "start_time": "2021-08-16T09:42:14.877469Z"
    }
   },
   "outputs": [
    {
     "data": {
      "text/plain": [
       "1600"
      ]
     },
     "execution_count": 10,
     "metadata": {},
     "output_type": "execute_result"
    }
   ],
   "source": [
    "5 * 5 * 64"
   ]
  },
  {
   "cell_type": "code",
   "execution_count": 12,
   "metadata": {
    "ExecuteTime": {
     "end_time": "2021-08-16T09:47:19.558845Z",
     "start_time": "2021-08-16T09:47:19.328709Z"
    }
   },
   "outputs": [
    {
     "data": {
      "text/plain": [
       "[<tf.Tensor 'conv2d_4/Relu:0' shape=(?, 26, 26, 64) dtype=float32>,\n",
       " <tf.Tensor 'max_pooling2d_4/MaxPool:0' shape=(?, 13, 13, 64) dtype=float32>,\n",
       " <tf.Tensor 'conv2d_5/Relu:0' shape=(?, 11, 11, 64) dtype=float32>,\n",
       " <tf.Tensor 'max_pooling2d_5/MaxPool:0' shape=(?, 5, 5, 64) dtype=float32>,\n",
       " <tf.Tensor 'flatten_3/Reshape:0' shape=(?, 1600) dtype=float32>,\n",
       " <tf.Tensor 'dense_6/Relu:0' shape=(?, 128) dtype=float32>,\n",
       " <tf.Tensor 'dense_7/Softmax:0' shape=(?, 10) dtype=float32>]"
      ]
     },
     "execution_count": 12,
     "metadata": {},
     "output_type": "execute_result"
    }
   ],
   "source": [
    "import matplotlib.pyplot as plt\n",
    "\n",
    "layer_output = [layer.output for layer in models.layers]\n",
    "layer_output"
   ]
  },
  {
   "cell_type": "code",
   "execution_count": 13,
   "metadata": {
    "ExecuteTime": {
     "end_time": "2021-08-16T09:49:52.340141Z",
     "start_time": "2021-08-16T09:49:52.270177Z"
    }
   },
   "outputs": [],
   "source": [
    "activation_model = tf.keras.models.Model(inputs = models.input,\n",
    "                                         outputs = layer_output)\n",
    "pred = activation_model.predict(testing_images[0].reshape(1,28, 28, 1))"
   ]
  },
  {
   "cell_type": "code",
   "execution_count": 14,
   "metadata": {
    "ExecuteTime": {
     "end_time": "2021-08-16T09:49:55.270723Z",
     "start_time": "2021-08-16T09:49:55.264867Z"
    }
   },
   "outputs": [
    {
     "data": {
      "text/plain": [
       "<tensorflow.python.keras.engine.training.Model at 0x7fa01f799d50>"
      ]
     },
     "execution_count": 14,
     "metadata": {},
     "output_type": "execute_result"
    }
   ],
   "source": [
    "activation_model"
   ]
  },
  {
   "cell_type": "code",
   "execution_count": 15,
   "metadata": {
    "ExecuteTime": {
     "end_time": "2021-08-16T09:50:00.546489Z",
     "start_time": "2021-08-16T09:50:00.532408Z"
    }
   },
   "outputs": [
    {
     "data": {
      "text/plain": [
       "[array([[[[0., 0., 0., ..., 0., 0., 0.],\n",
       "          [0., 0., 0., ..., 0., 0., 0.],\n",
       "          [0., 0., 0., ..., 0., 0., 0.],\n",
       "          ...,\n",
       "          [0., 0., 0., ..., 0., 0., 0.],\n",
       "          [0., 0., 0., ..., 0., 0., 0.],\n",
       "          [0., 0., 0., ..., 0., 0., 0.]],\n",
       " \n",
       "         [[0., 0., 0., ..., 0., 0., 0.],\n",
       "          [0., 0., 0., ..., 0., 0., 0.],\n",
       "          [0., 0., 0., ..., 0., 0., 0.],\n",
       "          ...,\n",
       "          [0., 0., 0., ..., 0., 0., 0.],\n",
       "          [0., 0., 0., ..., 0., 0., 0.],\n",
       "          [0., 0., 0., ..., 0., 0., 0.]],\n",
       " \n",
       "         [[0., 0., 0., ..., 0., 0., 0.],\n",
       "          [0., 0., 0., ..., 0., 0., 0.],\n",
       "          [0., 0., 0., ..., 0., 0., 0.],\n",
       "          ...,\n",
       "          [0., 0., 0., ..., 0., 0., 0.],\n",
       "          [0., 0., 0., ..., 0., 0., 0.],\n",
       "          [0., 0., 0., ..., 0., 0., 0.]],\n",
       " \n",
       "         ...,\n",
       " \n",
       "         [[0., 0., 0., ..., 0., 0., 0.],\n",
       "          [0., 0., 0., ..., 0., 0., 0.],\n",
       "          [0., 0., 0., ..., 0., 0., 0.],\n",
       "          ...,\n",
       "          [0., 0., 0., ..., 0., 0., 0.],\n",
       "          [0., 0., 0., ..., 0., 0., 0.],\n",
       "          [0., 0., 0., ..., 0., 0., 0.]],\n",
       " \n",
       "         [[0., 0., 0., ..., 0., 0., 0.],\n",
       "          [0., 0., 0., ..., 0., 0., 0.],\n",
       "          [0., 0., 0., ..., 0., 0., 0.],\n",
       "          ...,\n",
       "          [0., 0., 0., ..., 0., 0., 0.],\n",
       "          [0., 0., 0., ..., 0., 0., 0.],\n",
       "          [0., 0., 0., ..., 0., 0., 0.]],\n",
       " \n",
       "         [[0., 0., 0., ..., 0., 0., 0.],\n",
       "          [0., 0., 0., ..., 0., 0., 0.],\n",
       "          [0., 0., 0., ..., 0., 0., 0.],\n",
       "          ...,\n",
       "          [0., 0., 0., ..., 0., 0., 0.],\n",
       "          [0., 0., 0., ..., 0., 0., 0.],\n",
       "          [0., 0., 0., ..., 0., 0., 0.]]]], dtype=float32),\n",
       " array([[[[0.        , 0.        , 0.        , ..., 0.        ,\n",
       "           0.        , 0.        ],\n",
       "          [0.        , 0.        , 0.        , ..., 0.        ,\n",
       "           0.        , 0.        ],\n",
       "          [0.        , 0.        , 0.        , ..., 0.        ,\n",
       "           0.        , 0.        ],\n",
       "          ...,\n",
       "          [0.        , 0.        , 0.        , ..., 0.        ,\n",
       "           0.        , 0.        ],\n",
       "          [0.        , 0.        , 0.        , ..., 0.        ,\n",
       "           0.        , 0.        ],\n",
       "          [0.        , 0.        , 0.        , ..., 0.        ,\n",
       "           0.        , 0.        ]],\n",
       " \n",
       "         [[0.        , 0.        , 0.        , ..., 0.        ,\n",
       "           0.        , 0.        ],\n",
       "          [0.        , 0.        , 0.        , ..., 0.        ,\n",
       "           0.        , 0.        ],\n",
       "          [0.        , 0.        , 0.        , ..., 0.        ,\n",
       "           0.        , 0.        ],\n",
       "          ...,\n",
       "          [0.        , 0.        , 0.        , ..., 0.        ,\n",
       "           0.        , 0.        ],\n",
       "          [0.        , 0.        , 0.        , ..., 0.        ,\n",
       "           0.        , 0.        ],\n",
       "          [0.        , 0.        , 0.        , ..., 0.        ,\n",
       "           0.        , 0.        ]],\n",
       " \n",
       "         [[0.        , 0.        , 0.        , ..., 0.        ,\n",
       "           0.        , 0.        ],\n",
       "          [0.        , 0.        , 0.        , ..., 0.        ,\n",
       "           0.        , 0.        ],\n",
       "          [0.        , 0.        , 0.        , ..., 0.        ,\n",
       "           0.        , 0.        ],\n",
       "          ...,\n",
       "          [0.        , 0.        , 0.        , ..., 0.        ,\n",
       "           0.        , 0.        ],\n",
       "          [0.        , 0.        , 0.        , ..., 0.        ,\n",
       "           0.00698399, 0.        ],\n",
       "          [0.        , 0.013781  , 0.        , ..., 0.        ,\n",
       "           0.01593128, 0.        ]],\n",
       " \n",
       "         ...,\n",
       " \n",
       "         [[0.02359906, 0.        , 0.0868827 , ..., 0.04210839,\n",
       "           0.02246317, 0.        ],\n",
       "          [0.02016993, 0.        , 0.14762929, ..., 0.08831885,\n",
       "           0.03560362, 0.        ],\n",
       "          [0.07777451, 0.        , 0.19577447, ..., 0.07583922,\n",
       "           0.03667313, 0.        ],\n",
       "          ...,\n",
       "          [0.18087657, 0.        , 0.32012314, ..., 0.06469241,\n",
       "           0.        , 0.        ],\n",
       "          [0.17117804, 0.        , 0.3034622 , ..., 0.05500593,\n",
       "           0.        , 0.        ],\n",
       "          [0.2493674 , 0.        , 0.2582653 , ..., 0.04959398,\n",
       "           0.        , 0.        ]],\n",
       " \n",
       "         [[0.        , 0.        , 0.        , ..., 0.        ,\n",
       "           0.        , 0.        ],\n",
       "          [0.        , 0.        , 0.        , ..., 0.        ,\n",
       "           0.        , 0.        ],\n",
       "          [0.        , 0.        , 0.        , ..., 0.        ,\n",
       "           0.        , 0.        ],\n",
       "          ...,\n",
       "          [0.        , 0.        , 0.        , ..., 0.        ,\n",
       "           0.        , 0.        ],\n",
       "          [0.        , 0.        , 0.        , ..., 0.        ,\n",
       "           0.        , 0.        ],\n",
       "          [0.        , 0.        , 0.        , ..., 0.        ,\n",
       "           0.        , 0.        ]],\n",
       " \n",
       "         [[0.        , 0.        , 0.        , ..., 0.        ,\n",
       "           0.        , 0.        ],\n",
       "          [0.        , 0.        , 0.        , ..., 0.        ,\n",
       "           0.        , 0.        ],\n",
       "          [0.        , 0.        , 0.        , ..., 0.        ,\n",
       "           0.        , 0.        ],\n",
       "          ...,\n",
       "          [0.        , 0.        , 0.        , ..., 0.        ,\n",
       "           0.        , 0.        ],\n",
       "          [0.        , 0.        , 0.        , ..., 0.        ,\n",
       "           0.        , 0.        ],\n",
       "          [0.        , 0.        , 0.        , ..., 0.        ,\n",
       "           0.        , 0.        ]]]], dtype=float32),\n",
       " array([[[[0.        , 0.09999909, 0.        , ..., 0.        ,\n",
       "           0.        , 0.03761473],\n",
       "          [0.        , 0.09999909, 0.        , ..., 0.        ,\n",
       "           0.        , 0.03761473],\n",
       "          [0.        , 0.09999909, 0.        , ..., 0.        ,\n",
       "           0.        , 0.03761473],\n",
       "          ...,\n",
       "          [0.        , 0.09835836, 0.        , ..., 0.        ,\n",
       "           0.        , 0.03864863],\n",
       "          [0.        , 0.08736657, 0.        , ..., 0.        ,\n",
       "           0.        , 0.03347061],\n",
       "          [0.        , 0.12504303, 0.        , ..., 0.        ,\n",
       "           0.        , 0.01338761]],\n",
       " \n",
       "         [[0.        , 0.09999909, 0.        , ..., 0.        ,\n",
       "           0.        , 0.03761473],\n",
       "          [0.        , 0.09999909, 0.        , ..., 0.        ,\n",
       "           0.        , 0.03761473],\n",
       "          [0.        , 0.09999909, 0.        , ..., 0.        ,\n",
       "           0.        , 0.03761473],\n",
       "          ...,\n",
       "          [0.        , 0.        , 0.        , ..., 0.        ,\n",
       "           0.        , 0.17628407],\n",
       "          [0.        , 0.        , 0.        , ..., 0.        ,\n",
       "           0.        , 0.13821992],\n",
       "          [0.        , 0.29162323, 0.        , ..., 0.        ,\n",
       "           0.        , 0.        ]],\n",
       " \n",
       "         [[0.        , 0.09999909, 0.        , ..., 0.        ,\n",
       "           0.        , 0.03761473],\n",
       "          [0.        , 0.09999909, 0.        , ..., 0.        ,\n",
       "           0.        , 0.03761473],\n",
       "          [0.        , 0.09999909, 0.        , ..., 0.        ,\n",
       "           0.        , 0.03761473],\n",
       "          ...,\n",
       "          [0.14490567, 0.1259353 , 0.        , ..., 0.        ,\n",
       "           0.        , 0.13258052],\n",
       "          [0.        , 0.        , 0.        , ..., 0.        ,\n",
       "           0.        , 0.31644687],\n",
       "          [0.        , 0.        , 0.        , ..., 0.        ,\n",
       "           0.        , 0.        ]],\n",
       " \n",
       "         ...,\n",
       " \n",
       "         [[0.        , 0.        , 0.        , ..., 0.        ,\n",
       "           0.        , 0.        ],\n",
       "          [0.        , 0.        , 0.33395243, ..., 0.        ,\n",
       "           0.        , 0.        ],\n",
       "          [0.        , 0.        , 0.18921351, ..., 0.        ,\n",
       "           0.        , 0.        ],\n",
       "          ...,\n",
       "          [0.        , 0.        , 0.        , ..., 0.        ,\n",
       "           0.        , 0.        ],\n",
       "          [0.        , 0.        , 0.12763956, ..., 0.        ,\n",
       "           0.        , 0.        ],\n",
       "          [0.        , 0.        , 0.        , ..., 0.        ,\n",
       "           0.        , 0.        ]],\n",
       " \n",
       "         [[0.        , 0.        , 0.        , ..., 0.        ,\n",
       "           0.        , 0.        ],\n",
       "          [0.        , 0.        , 0.        , ..., 0.11563285,\n",
       "           0.        , 0.        ],\n",
       "          [0.        , 0.        , 0.        , ..., 0.11556052,\n",
       "           0.        , 0.        ],\n",
       "          ...,\n",
       "          [0.        , 0.        , 0.        , ..., 0.        ,\n",
       "           0.09174598, 0.        ],\n",
       "          [0.        , 0.        , 0.        , ..., 0.08357648,\n",
       "           0.        , 0.        ],\n",
       "          [0.        , 0.        , 0.        , ..., 0.3105465 ,\n",
       "           0.        , 0.        ]],\n",
       " \n",
       "         [[0.        , 0.        , 0.        , ..., 0.        ,\n",
       "           0.        , 0.        ],\n",
       "          [0.        , 0.        , 0.        , ..., 0.        ,\n",
       "           0.        , 0.        ],\n",
       "          [0.        , 0.        , 0.        , ..., 0.        ,\n",
       "           0.        , 0.        ],\n",
       "          ...,\n",
       "          [0.        , 0.        , 0.        , ..., 0.        ,\n",
       "           0.        , 0.        ],\n",
       "          [0.        , 0.        , 0.        , ..., 0.        ,\n",
       "           0.        , 0.        ],\n",
       "          [0.        , 0.        , 0.        , ..., 0.        ,\n",
       "           0.        , 0.        ]]]], dtype=float32),\n",
       " array([[[[0.        , 0.09999909, 0.        , ..., 0.        ,\n",
       "           0.        , 0.03761473],\n",
       "          [0.        , 0.09999909, 0.        , ..., 0.        ,\n",
       "           0.        , 0.03779794],\n",
       "          [0.        , 0.10078563, 0.        , ..., 0.        ,\n",
       "           0.        , 0.0735899 ],\n",
       "          [0.        , 0.42046148, 0.        , ..., 0.        ,\n",
       "           0.        , 0.1446364 ],\n",
       "          [0.        , 0.09835836, 0.        , ..., 0.        ,\n",
       "           0.        , 0.17628407]],\n",
       " \n",
       "         [[0.        , 0.09999909, 0.        , ..., 0.        ,\n",
       "           0.        , 0.03789956],\n",
       "          [0.        , 0.1018316 , 0.        , ..., 0.        ,\n",
       "           0.        , 0.0385407 ],\n",
       "          [0.        , 0.        , 0.        , ..., 0.        ,\n",
       "           0.        , 0.05984164],\n",
       "          [0.08129159, 0.95299697, 0.2872769 , ..., 0.        ,\n",
       "           0.        , 0.24998578],\n",
       "          [0.3984448 , 0.1259353 , 0.3703638 , ..., 0.        ,\n",
       "           0.        , 0.31644687]],\n",
       " \n",
       "         [[0.        , 0.10424839, 0.        , ..., 0.        ,\n",
       "           0.        , 0.07310758],\n",
       "          [0.        , 0.04921744, 0.        , ..., 0.        ,\n",
       "           0.        , 0.15148494],\n",
       "          [0.        , 0.        , 0.02072265, ..., 0.        ,\n",
       "           0.        , 0.15737769],\n",
       "          [0.2251457 , 0.        , 0.09039925, ..., 0.        ,\n",
       "           0.        , 0.        ],\n",
       "          [0.20830679, 0.        , 1.0348164 , ..., 0.3155727 ,\n",
       "           0.        , 0.        ]],\n",
       " \n",
       "         [[0.52333343, 0.14145936, 0.38347214, ..., 0.        ,\n",
       "           0.        , 0.26826772],\n",
       "          [0.34797   , 0.        , 0.4222168 , ..., 0.27959502,\n",
       "           0.        , 0.12810847],\n",
       "          [0.        , 0.        , 0.25822216, ..., 0.        ,\n",
       "           0.        , 0.        ],\n",
       "          [0.        , 0.        , 0.4204893 , ..., 0.        ,\n",
       "           0.        , 0.        ],\n",
       "          [0.28365847, 0.        , 0.32783285, ..., 0.        ,\n",
       "           0.        , 0.        ]],\n",
       " \n",
       "         [[0.        , 0.        , 0.33395243, ..., 0.11563285,\n",
       "           0.        , 0.        ],\n",
       "          [0.        , 0.        , 0.18921351, ..., 0.11931141,\n",
       "           0.        , 0.        ],\n",
       "          [0.        , 0.        , 0.05826475, ..., 0.5319727 ,\n",
       "           0.        , 0.        ],\n",
       "          [0.        , 0.        , 0.        , ..., 0.41052595,\n",
       "           0.        , 0.        ],\n",
       "          [0.        , 0.        , 0.12763956, ..., 0.08357648,\n",
       "           0.09174598, 0.        ]]]], dtype=float32),\n",
       " array([[0.        , 0.09999909, 0.        , ..., 0.08357648, 0.09174598,\n",
       "         0.        ]], dtype=float32),\n",
       " array([[3.092523  , 0.        , 0.        , 0.        , 0.        ,\n",
       "         0.        , 1.571434  , 1.2269372 , 0.        , 0.        ,\n",
       "         2.8057635 , 0.        , 0.        , 0.        , 0.        ,\n",
       "         0.        , 0.        , 0.        , 0.        , 0.        ,\n",
       "         5.97373   , 0.        , 0.        , 0.8382378 , 4.401606  ,\n",
       "         0.        , 0.        , 0.        , 0.03206821, 0.        ,\n",
       "         0.6549698 , 0.        , 0.        , 0.        , 1.4144784 ,\n",
       "         0.        , 0.        , 0.        , 0.        , 0.        ,\n",
       "         0.04145976, 0.7895586 , 0.        , 3.0834713 , 0.        ,\n",
       "         2.794252  , 0.        , 4.320606  , 0.        , 0.        ,\n",
       "         0.        , 0.        , 3.03786   , 0.        , 0.        ,\n",
       "         1.8268378 , 2.1249    , 0.        , 0.        , 0.        ,\n",
       "         0.        , 0.        , 0.        , 0.        , 0.        ,\n",
       "         5.257876  , 0.        , 0.        , 0.        , 0.        ,\n",
       "         2.5670536 , 0.        , 1.5538816 , 0.        , 0.20644477,\n",
       "         0.        , 0.        , 1.214153  , 0.        , 0.        ,\n",
       "         0.        , 0.        , 0.        , 0.        , 0.        ,\n",
       "         0.17583853, 0.07353307, 0.        , 0.        , 0.        ,\n",
       "         0.        , 0.        , 0.        , 0.        , 0.        ,\n",
       "         0.        , 0.        , 0.        , 0.        , 0.        ,\n",
       "         1.3117416 , 0.        , 0.        , 1.228686  , 1.4062577 ,\n",
       "         0.        , 0.        , 0.        , 4.6112022 , 0.        ,\n",
       "         0.        , 0.59189117, 0.        , 0.        , 1.8376905 ,\n",
       "         0.        , 0.        , 0.        , 0.        , 0.        ,\n",
       "         1.5463884 , 0.        , 0.        , 0.        , 0.7981003 ,\n",
       "         0.        , 0.        , 0.        ]], dtype=float32),\n",
       " array([[9.5910150e-07, 9.2366285e-08, 3.4344302e-07, 7.6767117e-07,\n",
       "         9.7918964e-08, 1.1900662e-05, 1.3273140e-08, 2.6251489e-04,\n",
       "         1.4295995e-06, 9.9972183e-01]], dtype=float32)]"
      ]
     },
     "execution_count": 15,
     "metadata": {},
     "output_type": "execute_result"
    }
   ],
   "source": [
    "pred\n"
   ]
  },
  {
   "cell_type": "code",
   "execution_count": 16,
   "metadata": {
    "ExecuteTime": {
     "end_time": "2021-08-16T09:50:25.770498Z",
     "start_time": "2021-08-16T09:50:25.725252Z"
    }
   },
   "outputs": [
    {
     "name": "stderr",
     "output_type": "stream",
     "text": [
      "/Users/snszz/opt/anaconda3/envs/tensorflow/lib/python3.7/site-packages/numpy/core/fromnumeric.py:43: VisibleDeprecationWarning: Creating an ndarray from ragged nested sequences (which is a list-or-tuple of lists-or-tuples-or ndarrays with different lengths or shapes) is deprecated. If you meant to do this, you must specify 'dtype=object' when creating the ndarray.\n",
      "  result = getattr(asarray(obj), method)(*args, **kwds)\n"
     ]
    },
    {
     "ename": "ValueError",
     "evalue": "could not broadcast input array from shape (26,26,64) into shape (1,)",
     "output_type": "error",
     "traceback": [
      "\u001B[0;31m---------------------------------------------------------------------------\u001B[0m",
      "\u001B[0;31mValueError\u001B[0m                                Traceback (most recent call last)",
      "\u001B[0;32m/var/folders/5t/c61g0ww90lq59p8dyj60dz400000gn/T/ipykernel_5255/3522333382.py\u001B[0m in \u001B[0;36m<module>\u001B[0;34m\u001B[0m\n\u001B[0;32m----> 1\u001B[0;31m \u001B[0mnp\u001B[0m\u001B[0;34m.\u001B[0m\u001B[0margmax\u001B[0m\u001B[0;34m(\u001B[0m\u001B[0mpred\u001B[0m\u001B[0;34m)\u001B[0m\u001B[0;34m\u001B[0m\u001B[0;34m\u001B[0m\u001B[0m\n\u001B[0m",
      "\u001B[0;32m<__array_function__ internals>\u001B[0m in \u001B[0;36margmax\u001B[0;34m(*args, **kwargs)\u001B[0m\n",
      "\u001B[0;32m~/opt/anaconda3/envs/tensorflow/lib/python3.7/site-packages/numpy/core/fromnumeric.py\u001B[0m in \u001B[0;36margmax\u001B[0;34m(a, axis, out)\u001B[0m\n\u001B[1;32m   1193\u001B[0m \u001B[0;34m\u001B[0m\u001B[0m\n\u001B[1;32m   1194\u001B[0m     \"\"\"\n\u001B[0;32m-> 1195\u001B[0;31m     \u001B[0;32mreturn\u001B[0m \u001B[0m_wrapfunc\u001B[0m\u001B[0;34m(\u001B[0m\u001B[0ma\u001B[0m\u001B[0;34m,\u001B[0m \u001B[0;34m'argmax'\u001B[0m\u001B[0;34m,\u001B[0m \u001B[0maxis\u001B[0m\u001B[0;34m=\u001B[0m\u001B[0maxis\u001B[0m\u001B[0;34m,\u001B[0m \u001B[0mout\u001B[0m\u001B[0;34m=\u001B[0m\u001B[0mout\u001B[0m\u001B[0;34m)\u001B[0m\u001B[0;34m\u001B[0m\u001B[0;34m\u001B[0m\u001B[0m\n\u001B[0m\u001B[1;32m   1196\u001B[0m \u001B[0;34m\u001B[0m\u001B[0m\n\u001B[1;32m   1197\u001B[0m \u001B[0;34m\u001B[0m\u001B[0m\n",
      "\u001B[0;32m~/opt/anaconda3/envs/tensorflow/lib/python3.7/site-packages/numpy/core/fromnumeric.py\u001B[0m in \u001B[0;36m_wrapfunc\u001B[0;34m(obj, method, *args, **kwds)\u001B[0m\n\u001B[1;32m     52\u001B[0m     \u001B[0mbound\u001B[0m \u001B[0;34m=\u001B[0m \u001B[0mgetattr\u001B[0m\u001B[0;34m(\u001B[0m\u001B[0mobj\u001B[0m\u001B[0;34m,\u001B[0m \u001B[0mmethod\u001B[0m\u001B[0;34m,\u001B[0m \u001B[0;32mNone\u001B[0m\u001B[0;34m)\u001B[0m\u001B[0;34m\u001B[0m\u001B[0;34m\u001B[0m\u001B[0m\n\u001B[1;32m     53\u001B[0m     \u001B[0;32mif\u001B[0m \u001B[0mbound\u001B[0m \u001B[0;32mis\u001B[0m \u001B[0;32mNone\u001B[0m\u001B[0;34m:\u001B[0m\u001B[0;34m\u001B[0m\u001B[0;34m\u001B[0m\u001B[0m\n\u001B[0;32m---> 54\u001B[0;31m         \u001B[0;32mreturn\u001B[0m \u001B[0m_wrapit\u001B[0m\u001B[0;34m(\u001B[0m\u001B[0mobj\u001B[0m\u001B[0;34m,\u001B[0m \u001B[0mmethod\u001B[0m\u001B[0;34m,\u001B[0m \u001B[0;34m*\u001B[0m\u001B[0margs\u001B[0m\u001B[0;34m,\u001B[0m \u001B[0;34m**\u001B[0m\u001B[0mkwds\u001B[0m\u001B[0;34m)\u001B[0m\u001B[0;34m\u001B[0m\u001B[0;34m\u001B[0m\u001B[0m\n\u001B[0m\u001B[1;32m     55\u001B[0m \u001B[0;34m\u001B[0m\u001B[0m\n\u001B[1;32m     56\u001B[0m     \u001B[0;32mtry\u001B[0m\u001B[0;34m:\u001B[0m\u001B[0;34m\u001B[0m\u001B[0;34m\u001B[0m\u001B[0m\n",
      "\u001B[0;32m~/opt/anaconda3/envs/tensorflow/lib/python3.7/site-packages/numpy/core/fromnumeric.py\u001B[0m in \u001B[0;36m_wrapit\u001B[0;34m(obj, method, *args, **kwds)\u001B[0m\n\u001B[1;32m     41\u001B[0m     \u001B[0;32mexcept\u001B[0m \u001B[0mAttributeError\u001B[0m\u001B[0;34m:\u001B[0m\u001B[0;34m\u001B[0m\u001B[0;34m\u001B[0m\u001B[0m\n\u001B[1;32m     42\u001B[0m         \u001B[0mwrap\u001B[0m \u001B[0;34m=\u001B[0m \u001B[0;32mNone\u001B[0m\u001B[0;34m\u001B[0m\u001B[0;34m\u001B[0m\u001B[0m\n\u001B[0;32m---> 43\u001B[0;31m     \u001B[0mresult\u001B[0m \u001B[0;34m=\u001B[0m \u001B[0mgetattr\u001B[0m\u001B[0;34m(\u001B[0m\u001B[0masarray\u001B[0m\u001B[0;34m(\u001B[0m\u001B[0mobj\u001B[0m\u001B[0;34m)\u001B[0m\u001B[0;34m,\u001B[0m \u001B[0mmethod\u001B[0m\u001B[0;34m)\u001B[0m\u001B[0;34m(\u001B[0m\u001B[0;34m*\u001B[0m\u001B[0margs\u001B[0m\u001B[0;34m,\u001B[0m \u001B[0;34m**\u001B[0m\u001B[0mkwds\u001B[0m\u001B[0;34m)\u001B[0m\u001B[0;34m\u001B[0m\u001B[0;34m\u001B[0m\u001B[0m\n\u001B[0m\u001B[1;32m     44\u001B[0m     \u001B[0;32mif\u001B[0m \u001B[0mwrap\u001B[0m\u001B[0;34m:\u001B[0m\u001B[0;34m\u001B[0m\u001B[0;34m\u001B[0m\u001B[0m\n\u001B[1;32m     45\u001B[0m         \u001B[0;32mif\u001B[0m \u001B[0;32mnot\u001B[0m \u001B[0misinstance\u001B[0m\u001B[0;34m(\u001B[0m\u001B[0mresult\u001B[0m\u001B[0;34m,\u001B[0m \u001B[0mmu\u001B[0m\u001B[0;34m.\u001B[0m\u001B[0mndarray\u001B[0m\u001B[0;34m)\u001B[0m\u001B[0;34m:\u001B[0m\u001B[0;34m\u001B[0m\u001B[0;34m\u001B[0m\u001B[0m\n",
      "\u001B[0;31mValueError\u001B[0m: could not broadcast input array from shape (26,26,64) into shape (1,)"
     ]
    }
   ],
   "source": []
  },
  {
   "cell_type": "code",
   "execution_count": 29,
   "metadata": {
    "ExecuteTime": {
     "end_time": "2021-08-16T09:56:56.747381Z",
     "start_time": "2021-08-16T09:56:56.589597Z"
    }
   },
   "outputs": [
    {
     "data": {
      "text/plain": [
       "<matplotlib.image.AxesImage at 0x7fa01d972c50>"
      ]
     },
     "execution_count": 29,
     "metadata": {},
     "output_type": "execute_result"
    },
    {
     "data": {
      "image/png": "[encoded data removed]",
      "text/plain": [
       "<Figure size 432x288 with 1 Axes>"
      ]
     },
     "metadata": {
      "needs_background": "light"
     },
     "output_type": "display_data"
    }
   ],
   "source": [
    "len(pred)  # 7 个层\n",
    "pred[0].shape   # (1, 26, 26, 64)\n",
    "plt.imshow(pred[1][0, :, :,1])    #一个模糊的鞋面"
   ]
  },
  {
   "cell_type": "code",
   "execution_count": null,
   "metadata": {},
   "outputs": [],
   "source": [
    "# 准备数据，--构建数据， 训练数据， 优化参数\n",
    "\n",
    "https://storage.googleapis.com/laurencemoroney-blog.appspot.com/validation-hourse-or-human.zip"
   ]
  },
  {
   "cell_type": "code",
   "execution_count": 35,
   "metadata": {
    "ExecuteTime": {
     "end_time": "2021-08-16T15:04:28.286182Z",
     "start_time": "2021-08-16T15:04:28.137909Z"
    }
   },
   "outputs": [
    {
     "name": "stdout",
     "output_type": "stream",
     "text": [
      "zsh:1: command not found: wget\r\n"
     ]
    }
   ],
   "source": [
    "# !wget --no-check-certificate \\\n",
    "# https://storage.googleapis.com/laurencemoroney-blog.appspot.com \\\n",
    "#     /validation-hourse-or-human.zip -O /tmp/hourse-or-human.zip\n",
    "\n",
    "#  zsh:1: command not found: wget\n",
    "\n",
    "# https://blog.csdn.net/weixin_40046130/article/details/106280208\n",
    "    \n",
    "\n",
    "# 下载 文件链接\n",
    "# 数据知乎：https://zhuanlan.zhihu.com/p/65241451\n",
    "# https://link.zhihu.com/?target=https%3A//storage.googleapis.com/laurencemoroney-blog.appspot.com/horse-or-human.zip\n",
    "\n",
    "\n",
    "    \n",
    "!wget --no-check-certificate \\\n",
    "    https://storage.googleapis.com/laurencemoroney-blog.appspot.com/horse-or-human.zip \\\n",
    "    -O /tmp/horse-or-human.zip\n"
   ]
  },
  {
   "cell_type": "code",
   "execution_count": null,
   "metadata": {},
   "outputs": [],
   "source": [
    "!!wget --no-check-certificate \\\n",
    "https://storage.googleapis.com/laurencemoroney-blog.appspot.com \\\n",
    "    /validation-hourse-or-human.zip -O /tmp/validatiob-hourse-or-human.zip"
   ]
  }
 ],
 "metadata": {
  "hide_input": false,
  "kernelspec": {
   "display_name": "Python 3 (ipykernel)",
   "language": "python",
   "name": "python3"
  },
  "language_info": {
   "codemirror_mode": {
    "name": "ipython",
    "version": 3
   },
   "file_extension": ".py",
   "mimetype": "text/x-python",
   "name": "python",
   "nbconvert_exporter": "python",
   "pygments_lexer": "ipython3",
   "version": "3.7.10"
  },
  "nbTranslate": {
   "displayLangs": [
    "*"
   ],
   "hotkey": "alt-t",
   "langInMainMenu": true,
   "sourceLang": "en",
   "targetLang": "fr",
   "useGoogleTranslate": true
  },
  "toc": {
   "base_numbering": 1,
   "nav_menu": {},
   "number_sections": true,
   "sideBar": true,
   "skip_h1_title": false,
   "title_cell": "Table of Contents",
   "title_sidebar": "Contents",
   "toc_cell": false,
   "toc_position": {},
   "toc_section_display": true,
   "toc_window_display": false
  },
  "varInspector": {
   "cols": {
    "lenName": 16,
    "lenType": 16,
    "lenVar": 40
   },
   "kernels_config": {
    "python": {
     "delete_cmd_postfix": "",
     "delete_cmd_prefix": "del ",
     "library": "var_list.py",
     "varRefreshCmd": "print(var_dic_list())"
    },
    "r": {
     "delete_cmd_postfix": ") ",
     "delete_cmd_prefix": "rm(",
     "library": "var_list.r",
     "varRefreshCmd": "cat(var_dic_list()) "
    }
   },
   "types_to_exclude": [
    "module",
    "function",
    "builtin_function_or_method",
    "instance",
    "_Feature"
   ],
   "window_display": false
  }
 },
 "nbformat": 4,
 "nbformat_minor": 1
}