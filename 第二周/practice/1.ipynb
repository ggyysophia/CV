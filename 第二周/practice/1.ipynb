{
 "cells": [
  {
   "cell_type": "code",
   "execution_count": 1,
   "id": "962219f1",
   "metadata": {
    "ExecuteTime": {
     "end_time": "2021-07-06T08:06:49.133489Z",
     "start_time": "2021-07-06T08:06:48.162850Z"
    }
   },
   "outputs": [],
   "source": [
    "from skimage.color import rgb2gray\n",
    "import numpy as np\n",
    "import matplotlib.pyplot as plt\n",
    "from PIL import Image\n",
    "import cv2\n",
    "\n",
    "from IPython.core.interactiveshell import InteractiveShell \n",
    "InteractiveShell.ast_node_interactivity = 'all' #默认为'last'\n",
    "\n",
    "\n",
    "# 用Image做图像RGB2GRAY\n",
    "# 灰度化\n",
    "path = '/Users/snszz/PycharmProjects/CV/第二周/代码/lenna.png'\n",
    "\n"
   ]
  },
  {
   "cell_type": "code",
   "execution_count": 12,
   "id": "5590fffb",
   "metadata": {
    "ExecuteTime": {
     "end_time": "2021-07-06T07:36:02.072352Z",
     "start_time": "2021-07-06T07:35:58.673596Z"
    }
   },
   "outputs": [
    {
     "name": "stderr",
     "output_type": "stream",
     "text": [
      "2021-07-06 15:35:58.742 python[29740:2616750] IMKClient Stall detected, *please Report* your user scenario attaching a spindump (or sysdiagnose) that captures the problem - (imkxpc_bundleIdentifierWithReply:) block performed very slowly (8602.23 secs).\n"
     ]
    },
    {
     "data": {
      "text/plain": [
       "True"
      ]
     },
     "execution_count": 12,
     "metadata": {},
     "output_type": "execute_result"
    }
   ],
   "source": [
    "import cv2\n",
    "img = cv2.imread(path,cv2.IMREAD_UNCHANGED)\n",
    "cv2.imshow('image',img)\n",
    "k = cv2.waitKey(0)\n",
    "if k == ord('s'): # wait for 's' key to save and exit\n",
    "    cv2.imwrite('1.png',img)\n",
    "    cv2.destroyAllWindows()\n",
    "else: \n",
    "    cv2.destroyAllWindows()"
   ]
  },
  {
   "cell_type": "code",
   "execution_count": 3,
   "id": "3b1a2d8c",
   "metadata": {
    "ExecuteTime": {
     "end_time": "2021-07-06T05:15:27.601742Z",
     "start_time": "2021-07-06T05:15:27.562335Z"
    }
   },
   "outputs": [
    {
     "data": {
      "text/plain": [
       "True"
      ]
     },
     "execution_count": 3,
     "metadata": {},
     "output_type": "execute_result"
    }
   ],
   "source": [
    "img = np.array([\n",
    "    [[255, 0, 0], [0, 255, 0], [0, 0, 255]],\n",
    "    [[255, 255, 0], [255, 0, 255], [0, 255, 255]],\n",
    "    [[255, 255, 255], [128, 128, 128], [0, 0, 0]],\n",
    "], dtype=np.uint8)\n",
    "\n",
    "# 用matplotlib存储\n",
    "plt.imsave('img_pyplot.jpg', img)\n",
    "\n",
    "# 用OpenCV存储\n",
    "cv2.imwrite('img_cv2.jpg', img)"
   ]
  },
  {
   "cell_type": "code",
   "execution_count": 6,
   "id": "40b92337",
   "metadata": {
    "ExecuteTime": {
     "end_time": "2021-07-06T06:54:30.481842Z",
     "start_time": "2021-07-06T06:54:30.454660Z"
    }
   },
   "outputs": [
    {
     "data": {
      "text/plain": [
       "array([[1, 1, 1, ..., 1, 1, 0],\n",
       "       [1, 1, 1, ..., 1, 1, 0],\n",
       "       [1, 1, 1, ..., 1, 1, 0],\n",
       "       ...,\n",
       "       [0, 0, 0, ..., 0, 0, 0],\n",
       "       [0, 0, 0, ..., 0, 0, 0],\n",
       "       [0, 0, 0, ..., 0, 0, 0]])"
      ]
     },
     "execution_count": 6,
     "metadata": {},
     "output_type": "execute_result"
    }
   ],
   "source": [
    "img_plt = plt.imread(path)\n",
    "img_plt_gray = rgb2gray(img_plt)\n",
    "img_0_1 = np.where(img_plt_gray >= 0.5, 1, 0)\n",
    "img_0_1"
   ]
  },
  {
   "cell_type": "code",
   "execution_count": 22,
   "id": "933112ee",
   "metadata": {
    "ExecuteTime": {
     "end_time": "2021-07-06T07:54:36.871998Z",
     "start_time": "2021-07-06T07:54:29.833565Z"
    }
   },
   "outputs": [
    {
     "name": "stdout",
     "output_type": "stream",
     "text": [
      "shape: (1000, 800, 3)\n"
     ]
    },
    {
     "name": "stderr",
     "output_type": "stream",
     "text": [
      "2021-07-06 15:54:30.571 python[29740:2616750] IMKClient Stall detected, *please Report* your user scenario attaching a spindump (or sysdiagnose) that captures the problem - (imkxpc_bundleIdentifierWithReply:) block performed very slowly (23.08 secs).\n"
     ]
    },
    {
     "data": {
      "text/plain": [
       "48"
      ]
     },
     "execution_count": 22,
     "metadata": {},
     "output_type": "execute_result"
    }
   ],
   "source": [
    "def nearest(img, large_height, large_width):\n",
    "    '''\n",
    "    用最近差值实现图像的上采样\n",
    "    large_height: 扩大后图像的长\n",
    "    large_width: 扩大后图像的宽\n",
    "    '''        \n",
    "    height, width, channels = img.shape\n",
    "    # 扩大的图像的初始化, 注意数据的类型为np.uint8\n",
    "    enlarge_image = np.zeros([large_height, large_width, channels], np.uint8)\n",
    "    # 扩大后图像和原图像的比例\n",
    "    enlar_h = large_height / height\n",
    "    enlar_w = large_width / width\n",
    "    for h1 in range(large_height):\n",
    "        for w1 in range(large_width):\n",
    "            h0 = int(h1 / enlar_h)\n",
    "            w0 = int(w1 / enlar_w)\n",
    "            enlarge_image[h1, w1] = img[h0, w0]\n",
    "    return enlarge_image\n",
    "\n",
    "if __name__ == '__main__':\n",
    "    path = '/Users/snszz/PycharmProjects/CV/第二周/代码/lenna.png'\n",
    "    img = cv2.imread(path)\n",
    "    enlarge_image = nearest(img, 1000, 800)\n",
    "#     print('enlarge_image \\n', enlarge_image)\n",
    "    print('shape:' , enlarge_image.shape)\n",
    "    cv2.imshow('nearest interpolation',  enlarge_image)\n",
    "    cv2.waitKey(0)\n",
    "    cv2.destroyAllWindows()\n",
    "    \n",
    "\n",
    "            \n",
    "            \n",
    "\n",
    "    \n",
    "    \n",
    "    "
   ]
  },
  {
   "cell_type": "code",
   "execution_count": 9,
   "id": "8d063769",
   "metadata": {
    "ExecuteTime": {
     "end_time": "2021-07-06T11:57:43.708988Z",
     "start_time": "2021-07-06T11:57:43.702666Z"
    }
   },
   "outputs": [
    {
     "data": {
      "text/plain": [
       "array([[[ 0,  1,  2,  3],\n",
       "        [ 4,  5,  6,  7],\n",
       "        [ 8,  9, 10, 11]],\n",
       "\n",
       "       [[12, 13, 14, 15],\n",
       "        [16, 17, 18, 19],\n",
       "        [20, 21, 22, 23]],\n",
       "\n",
       "       [[24, 25, 26, 27],\n",
       "        [28, 29, 30, 31],\n",
       "        [32, 33, 34, 35]]])"
      ]
     },
     "execution_count": 9,
     "metadata": {},
     "output_type": "execute_result"
    }
   ],
   "source": [
    "x = np.arange(36).reshape(3,3,4)\n",
    "x"
   ]
  },
  {
   "cell_type": "code",
   "execution_count": 15,
   "id": "5da88a68",
   "metadata": {
    "ExecuteTime": {
     "end_time": "2021-07-06T12:24:53.053035Z",
     "start_time": "2021-07-06T12:24:34.266004Z"
    }
   },
   "outputs": [
    {
     "data": {
      "text/plain": [
       "48"
      ]
     },
     "execution_count": 15,
     "metadata": {},
     "output_type": "execute_result"
    }
   ],
   "source": [
    "def bilinear(img, dst_h, dst_w):\n",
    "    src_h, src_w, channels = img.shape\n",
    "    new_image = np.zeros([dst_h, dst_w, channels], np.uint8)\n",
    "    scale_x = dst_h / src_h\n",
    "    scale_y = dst_w / src_w\n",
    "    for channel in range(channels):\n",
    "        for dst_x in range(dst_h):\n",
    "            for dst_y in range(dst_w):\n",
    "                src_x = (dst_x + 0.5) / scale_x - 0.5\n",
    "                src_y = (dst_y + 0.5) / scale_y -  0.5\n",
    "                src_x1 = int(np.floor(src_x))\n",
    "                src_x2 = min(src_x1 + 1, src_w -1)\n",
    "                src_y1 = int(np.floor(src_y))\n",
    "                src_y2 = min(src_y1 + 1, src_h -1)\n",
    "                ceoff1 = (src_x2 - src_x)  * img[src_y1, src_x1, channel] + (src_x - src_x1)  * img[src_y1, src_x2, channel]   # 需要注意三维坐标的读取方式\n",
    "                ceoff2 = (src_x2 - src_x)  * img[src_y2, src_x1, channel] + (src_x - src_x1)  * img[src_y2, src_x2, channel]\n",
    "                new_image[dst_y, dst_x, channel] = int((src_y2 - src_y) * ceoff1 + (src_y - src_y1) * ceoff2)\n",
    "    return new_image\n",
    "                \n",
    "    \n",
    "if __name__ == '__main__':\n",
    "    path = '/Users/snszz/PycharmProjects/CV/第二周/代码/lenna.png'\n",
    "    img = cv2.imread(path)\n",
    "    new_image = bilinear(img, 700, 700)\n",
    "    cv2.imshow('bilinear interpolation', new_image)\n",
    "    cv2.waitKey(0)\n",
    "    cv2.destroyAllWindows()\n",
    "            "
   ]
  },
  {
   "cell_type": "code",
   "execution_count": 3,
   "id": "fc4d1715",
   "metadata": {
    "ExecuteTime": {
     "end_time": "2021-07-06T08:53:53.545434Z",
     "start_time": "2021-07-06T08:53:53.539911Z"
    }
   },
   "outputs": [
    {
     "data": {
      "text/plain": [
       "0.6666666666666666"
      ]
     },
     "execution_count": 3,
     "metadata": {},
     "output_type": "execute_result"
    }
   ],
   "source": [
    "float(200) / 300"
   ]
  },
  {
   "cell_type": "code",
   "execution_count": null,
   "id": "d0ec0db8",
   "metadata": {},
   "outputs": [],
   "source": []
  }
 ],
 "metadata": {
  "hide_input": false,
  "kernelspec": {
   "display_name": "Python 3 (ipykernel)",
   "language": "python",
   "name": "python3"
  },
  "language_info": {
   "codemirror_mode": {
    "name": "ipython",
    "version": 3
   },
   "file_extension": ".py",
   "mimetype": "text/x-python",
   "name": "python",
   "nbconvert_exporter": "python",
   "pygments_lexer": "ipython3",
   "version": "3.7.10"
  },
  "nbTranslate": {
   "displayLangs": [
    "*"
   ],
   "hotkey": "alt-t",
   "langInMainMenu": true,
   "sourceLang": "en",
   "targetLang": "fr",
   "useGoogleTranslate": true
  },
  "toc": {
   "base_numbering": 1,
   "nav_menu": {},
   "number_sections": true,
   "sideBar": true,
   "skip_h1_title": false,
   "title_cell": "Table of Contents",
   "title_sidebar": "Contents",
   "toc_cell": false,
   "toc_position": {},
   "toc_section_display": true,
   "toc_window_display": false
  },
  "varInspector": {
   "cols": {
    "lenName": 16,
    "lenType": 16,
    "lenVar": 40
   },
   "kernels_config": {
    "python": {
     "delete_cmd_postfix": "",
     "delete_cmd_prefix": "del ",
     "library": "var_list.py",
     "varRefreshCmd": "print(var_dic_list())"
    },
    "r": {
     "delete_cmd_postfix": ") ",
     "delete_cmd_prefix": "rm(",
     "library": "var_list.r",
     "varRefreshCmd": "cat(var_dic_list()) "
    }
   },
   "types_to_exclude": [
    "module",
    "function",
    "builtin_function_or_method",
    "instance",
    "_Feature"
   ],
   "window_display": false
  }
 },
 "nbformat": 4,
 "nbformat_minor": 5
}
