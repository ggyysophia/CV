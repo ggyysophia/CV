{
 "cells": [
  {
   "cell_type": "code",
   "execution_count": 1,
   "metadata": {
    "collapsed": true
   },
   "outputs": [
    {
     "data": {
      "text/plain": "array([[0, 1, 2, 3, 4],\n       [5, 6, 7, 8, 9]])"
     },
     "execution_count": 1,
     "metadata": {},
     "output_type": "execute_result"
    }
   ],
   "source": [
    "import numpy as np\n",
    "import math\n",
    "a = np.arange(10).reshape(2,5)\n",
    "a"
   ]
  },
  {
   "cell_type": "code",
   "execution_count": 3,
   "outputs": [
    {
     "data": {
      "text/plain": "array([2.5, 3.5, 4.5, 5.5, 6.5])"
     },
     "execution_count": 3,
     "metadata": {},
     "output_type": "execute_result"
    }
   ],
   "source": [
    "a.mean(axis=0)"
   ],
   "metadata": {
    "collapsed": false,
    "pycharm": {
     "name": "#%%\n"
    }
   }
  },
  {
   "cell_type": "code",
   "execution_count": 4,
   "outputs": [
    {
     "data": {
      "text/plain": "array([2.5, 2.5, 2.5, 2.5, 2.5])"
     },
     "execution_count": 4,
     "metadata": {},
     "output_type": "execute_result"
    }
   ],
   "source": [
    "a.std(axis = 0)"
   ],
   "metadata": {
    "collapsed": false,
    "pycharm": {
     "name": "#%%\n"
    }
   }
  },
  {
   "cell_type": "code",
   "execution_count": 11,
   "outputs": [
    {
     "data": {
      "text/plain": "2.5"
     },
     "execution_count": 11,
     "metadata": {},
     "output_type": "execute_result"
    }
   ],
   "source": [
    "std = (((0 - 2.5) ** 2 + (5- 2.5) ** 2)  * 0.5)** 0.5\n",
    "std"
   ],
   "metadata": {
    "collapsed": false,
    "pycharm": {
     "name": "#%%\n"
    }
   }
  },
  {
   "cell_type": "code",
   "execution_count": 12,
   "outputs": [
    {
     "data": {
      "text/plain": "-1.0"
     },
     "execution_count": 12,
     "metadata": {},
     "output_type": "execute_result"
    }
   ],
   "source": [
    "(0 - 2.5) / std\n"
   ],
   "metadata": {
    "collapsed": false,
    "pycharm": {
     "name": "#%%\n"
    }
   }
  },
  {
   "cell_type": "code",
   "execution_count": 13,
   "outputs": [
    {
     "data": {
      "text/plain": "array([[-1,  2, 66, -1],\n       [-2,  6, 58, -1],\n       [-3,  8, 45, -2],\n       [ 1,  9, 36,  1],\n       [ 2, 10, 62,  1],\n       [ 3,  5, 83,  2]])"
     },
     "execution_count": 13,
     "metadata": {},
     "output_type": "execute_result"
    }
   ],
   "source": [
    "data = np.array([[-1,2,66,-1], [-2,6,58,-1], [-3,8,45,-2], [1,9,36,1], [2,10,62,1], [3,5,83,2]])\n",
    "data\n"
   ],
   "metadata": {
    "collapsed": false,
    "pycharm": {
     "name": "#%%\n"
    }
   }
  },
  {
   "cell_type": "code",
   "execution_count": 15,
   "outputs": [
    {
     "data": {
      "text/plain": "array([[-0.46291005, -1.73648628,  0.50972854, -0.70710678],\n       [-0.9258201 , -0.24806947, -0.02216211, -0.70710678],\n       [-1.38873015,  0.49613894, -0.88648441, -1.41421356],\n       [ 0.46291005,  0.86824314, -1.48486139,  0.70710678],\n       [ 0.9258201 ,  1.24034735,  0.24378321,  0.70710678],\n       [ 1.38873015, -0.62017367,  1.63999617,  1.41421356]])"
     },
     "execution_count": 15,
     "metadata": {},
     "output_type": "execute_result"
    }
   ],
   "source": [
    "data_mean = data.mean(axis = 0)\n",
    "data_std = data.std(axis = 0)\n",
    "h, w = data.shape\n",
    "data_center = np.zeros((h,w))   # 标准化之后的结果\n",
    "for i in range(h):\n",
    "    for j in range(w):\n",
    "        data_center[i,j] = (data[i,j]-data_mean[j]) / data_std[j]\n",
    "\n",
    "data_center"
   ],
   "metadata": {
    "collapsed": false,
    "pycharm": {
     "name": "#%%\n"
    }
   }
  },
  {
   "cell_type": "code",
   "execution_count": 16,
   "outputs": [
    {
     "data": {
      "text/plain": "array([[ 6.        ,  1.03350465,  2.83150156,  5.89188304],\n       [ 1.03350465,  6.        , -3.32338561,  1.31558703],\n       [ 2.83150156, -3.32338561,  6.        ,  2.35064678],\n       [ 5.89188304,  1.31558703,  2.35064678,  6.        ]])"
     },
     "execution_count": 16,
     "metadata": {},
     "output_type": "execute_result"
    }
   ],
   "source": [
    "# 计算协方差矩阵\n",
    "data_covariance = np.dot(data_center.T, data_center)\n",
    "data_covariance"
   ],
   "metadata": {
    "collapsed": false,
    "pycharm": {
     "name": "#%%\n"
    }
   }
  },
  {
   "cell_type": "code",
   "execution_count": 17,
   "outputs": [
    {
     "name": "stdout",
     "output_type": "stream",
     "text": [
      "[0.95713353 0.03398198]\n",
      "[[  7.96504337   4.12166867]\n",
      " [ -0.43650137   2.07052079]\n",
      " [-13.63653266   1.86686164]\n",
      " [-22.28361821  -2.32219188]\n",
      " [  3.47849303  -3.95193502]\n",
      " [ 24.91311585  -1.78492421]]\n"
     ]
    }
   ],
   "source": [
    "# 使用库\n",
    "import numpy as np\n",
    "from sklearn.decomposition import PCA\n",
    "\n",
    "X = np.array([[-1,2,66,-1], [-2,6,58,-1], [-3,8,45,-2], [1,9,36,1], [2,10,62,1], [3,5,83,2]])  #导入数据，维度为4\n",
    "pca = PCA(n_components=2)   #降到2维\n",
    "pca.fit(X)                  #训练\n",
    "newX=pca.fit_transform(X)   #降维后的数据\n",
    "# PCA(copy=True, n_components=2, whiten=False)\n",
    "print(pca.explained_variance_ratio_)  #输出贡献率\n",
    "print(newX)                  #输出降维后的数据\n",
    "\n",
    "\n"
   ],
   "metadata": {
    "collapsed": false,
    "pycharm": {
     "name": "#%%\n"
    }
   }
  },
  {
   "cell_type": "code",
   "execution_count": 18,
   "outputs": [
    {
     "data": {
      "text/plain": "array([[ -1.        ,  -4.66666667,   7.66666667,  -1.        ],\n       [ -2.        ,  -0.66666667,  -0.33333333,  -1.        ],\n       [ -3.        ,   1.33333333, -13.33333333,  -2.        ],\n       [  1.        ,   2.33333333, -22.33333333,   1.        ],\n       [  2.        ,   3.33333333,   3.66666667,   1.        ],\n       [  3.        ,  -1.66666667,  24.66666667,   2.        ]])"
     },
     "execution_count": 18,
     "metadata": {},
     "output_type": "execute_result"
    }
   ],
   "source": [
    "data - data_mean\n"
   ],
   "metadata": {
    "collapsed": false,
    "pycharm": {
     "name": "#%%\n"
    }
   }
  },
  {
   "cell_type": "code",
   "execution_count": 20,
   "outputs": [
    {
     "name": "stdout",
     "output_type": "stream",
     "text": [
      "[[ -1.          -4.66666667   7.66666667  -1.        ]\n",
      " [ -2.          -0.66666667  -0.33333333  -1.        ]\n",
      " [ -3.           1.33333333 -13.33333333  -2.        ]\n",
      " [  1.           2.33333333 -22.33333333   1.        ]\n",
      " [  2.           3.33333333   3.66666667   1.        ]\n",
      " [  3.          -1.66666667  24.66666667   2.        ]]\n",
      "排序后的特征值：\n",
      " [13.64978142  8.95250418  1.31585539  0.08185901]\n",
      "排序后的特征值对应的2个特征向量：\n",
      " [[-0.64617154 -0.15597752]\n",
      " [-0.00946454 -0.783173  ]\n",
      " [-0.42900014  0.56350644]\n",
      " [-0.6311352  -0.21159291]]\n",
      "新的降维后的矩阵:\n",
      " [[-27.05563179  35.99264915]\n",
      " [-23.01531727  28.50788318]\n",
      " [-16.17993775  19.98352395]\n",
      " [-16.80649276  12.87010422]\n",
      " [-28.61613256  26.58212102]\n",
      " [-38.8551196   41.96405074]]\n"
     ]
    }
   ],
   "source": [
    "import numpy as np\n",
    "import math\n",
    "import copy\n",
    "\n",
    "def PCA(data, n_components):\n",
    "    # 数据标准化 按列求均值\n",
    "    data_mean = data.mean(axis = 0)\n",
    "    data = data - data_mean\n",
    "    h, w = data.shape\n",
    "    data_covariance = np.dot(data.T, data)    # 协方差阵\n",
    "    #计算特征值和特征向量\n",
    "    eig_vals,eig_vectors = np.linalg.eig(data_covariance)\n",
    "    # 对所得的特征值进行降序排列，\n",
    "    ord_eig_vals = np.argsort(-eig_vals)\n",
    "    # 获得排序后的特征向量\n",
    "    data_components = eig_vectors[:, ord_eig_vals[:n_components]]\n",
    "    return eig_vals[ord_eig_vals], data_components, np.dot(data, data_components)\n",
    "\n",
    "if __name__ == '__main__':\n",
    "    data = np.array([[-1,2,66,-1], [-2,6,58,-1], [-3,8,45,-2], [1,9,36,1], [2,10,62,1], [3,5,83,2]])  #导入数据，维度为4\n",
    "    eig_vals, data_components, new_data = PCA(data, 2)\n",
    "    print('排序后的特征值：\\n', eig_vals)                  #输出降维后的数据\n",
    "    print('排序后的特征值对应的2个特征向量：\\n', data_components)\n",
    "    print('新的降维后的矩阵:\\n', new_data)\n",
    "\n",
    "\n",
    "\n",
    "\n",
    "\n"
   ],
   "metadata": {
    "collapsed": false,
    "pycharm": {
     "name": "#%%\n"
    }
   }
  },
  {
   "cell_type": "code",
   "execution_count": null,
   "outputs": [],
   "source": [],
   "metadata": {
    "collapsed": false,
    "pycharm": {
     "name": "#%%\n"
    }
   }
  }
 ],
 "metadata": {
  "kernelspec": {
   "display_name": "Python 3",
   "language": "python",
   "name": "python3"
  },
  "language_info": {
   "codemirror_mode": {
    "name": "ipython",
    "version": 2
   },
   "file_extension": ".py",
   "mimetype": "text/x-python",
   "name": "python",
   "nbconvert_exporter": "python",
   "pygments_lexer": "ipython2",
   "version": "2.7.6"
  }
 },
 "nbformat": 4,
 "nbformat_minor": 0
}