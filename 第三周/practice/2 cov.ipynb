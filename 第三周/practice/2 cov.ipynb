{
 "cells": [
  {
   "cell_type": "code",
   "execution_count": 1,
   "id": "17b128a9",
   "metadata": {
    "ExecuteTime": {
     "end_time": "2021-07-07T09:36:40.961116Z",
     "start_time": "2021-07-07T09:36:40.319738Z"
    }
   },
   "outputs": [],
   "source": [
    "import numpy \n",
    "import math\n",
    "import cv2\n",
    "import matplotlib.pyplot as plt\n"
   ]
  },
  {
   "cell_type": "code",
   "execution_count": 2,
   "id": "a700cdca",
   "metadata": {
    "ExecuteTime": {
     "end_time": "2021-07-07T09:36:22.781200Z",
     "start_time": "2021-07-07T09:36:04.589413Z"
    },
    "scrolled": true
   },
   "outputs": [
    {
     "name": "stdout",
     "output_type": "stream",
     "text": [
      "[[162 162 162 ... 170 155 128]\n",
      " [162 162 162 ... 170 155 128]\n",
      " [162 162 162 ... 170 155 128]\n",
      " ...\n",
      " [ 43  43  50 ... 104 100  98]\n",
      " [ 44  44  55 ... 104 105 108]\n",
      " [ 44  44  55 ... 104 105 108]]\n",
      "[[  0.   0.   0. ...   0.   0.   0.]\n",
      " [  0.   0.   0. ...   0.   0.   0.]\n",
      " [  0.   0.   0. ...   0.   0.   0.]\n",
      " ...\n",
      " [ 20.   9.  -3. ... -29. -27. -25.]\n",
      " [ -1.  -4.  -8. ... -14.  -9. -21.]\n",
      " [ -7. -10.  -9. ...  -8.  -5. -15.]]\n"
     ]
    }
   ],
   "source": [
    "# def convolution1(input_, filter_, strides, padding = None):\n",
    "def convolution1(input_, filter_, strides = 1, padding=None):\n",
    "    \"\"\"\n",
    "    先实现最简单的，strides = 1\n",
    "    \"\"\"\n",
    " \n",
    "    h, w = input_.shape\n",
    "    f, f = filter_.shape\n",
    "    \n",
    "    out_h = int((h - f) / strides) + 1   # 输出矩阵的h，w\n",
    "    out_w = int((w - f) / strides) + 1\n",
    "    output_ = np.zeros([out_h, out_w])  #  输出矩阵的初始化\n",
    "    for i in range(0, h - f + 1):\n",
    "        for j in range(0, w - f + 1):\n",
    "            output_[i,j] = np.sum(input_[i:i+f, j:j+f] * filter_)\n",
    "    return output_\n",
    "\n",
    "if __name__ == '__main__':\n",
    "    img = cv2.imread('lenna.png', 1)\n",
    "    gray = cv2.cvtColor(img, cv2.COLOR_BGR2GRAY)\n",
    "    print(gray)\n",
    "    filter_ = np.array([[1, 1, 1],[0, 0, 0],[-1, -1, -1]])\n",
    "    output_ = convolution1(gray, filter_)\n",
    "    print(output_)\n",
    "    \n",
    "    # 画图\n",
    "    cv2.imshow('cov lenna', output_)\n",
    "    cv2.waitKey(0)\n",
    "    cv2.destroyAllWindows()\n",
    "            \n",
    "        \n",
    "    \n",
    "    \n",
    "    \n",
    "    "
   ]
  },
  {
   "cell_type": "code",
   "execution_count": 15,
   "id": "d98cba42",
   "metadata": {
    "ExecuteTime": {
     "end_time": "2021-07-07T08:26:18.591519Z",
     "start_time": "2021-07-07T08:26:18.581403Z"
    }
   },
   "outputs": [
    {
     "name": "stdout",
     "output_type": "stream",
     "text": [
      "[[ 0  1  2  3  4  5  6  7]\n",
      " [ 8  9 10 11 12 13 14 15]\n",
      " [16 17 18 19 20 21 22 23]\n",
      " [24 25 26 27 28 29 30 31]\n",
      " [32 33 34 35 36 37 38 39]\n",
      " [40 41 42 43 44 45 46 47]\n",
      " [48 49 50 51 52 53 54 55]\n",
      " [56 57 58 59 60 61 62 63]] input\n",
      "[[ 9. 12.]\n",
      " [33. 36.]] output\n"
     ]
    }
   ],
   "source": [
    "def convolution2(input_, filter_, strides=1, padding=None):\n",
    "    \"\"\"\n",
    "    先实现最简单的，strides = N\n",
    "    \"\"\"\n",
    "\n",
    "    h, w = input_.shape\n",
    "    f, f = filter_.shape\n",
    "\n",
    "    out_h = int((h - f) / strides) + 1  # 输出矩阵的h，w\n",
    "    out_w = int((w - f) / strides) + 1\n",
    "    output_ = np.zeros([out_h, out_w])  #  输出矩阵的初始化\n",
    "    for i in range(0, out_h):\n",
    "        for j in range(0, out_w):\n",
    "            output_[i,j] = np.sum(input_[i * strides:i * strides + f,\n",
    "                                         j * strides:j * strides + f] * filter_)\n",
    "            \n",
    "    return output_\n",
    "\n",
    "\n",
    "input_ = np.arange(64).reshape(8,8)\n",
    "print(input_, 'input')\n",
    "filter_ = np.array([[0, 0, 0], [0, 1, 0], [0, 0,0 ]])\n",
    "output_ = convolution2(input_, filter_, strides=3, padding=None)\n",
    "print(output_, 'output')"
   ]
  },
  {
   "cell_type": "code",
   "execution_count": 75,
   "id": "899c4e62",
   "metadata": {
    "ExecuteTime": {
     "end_time": "2021-07-07T09:24:54.154011Z",
     "start_time": "2021-07-07T09:24:54.140172Z"
    }
   },
   "outputs": [
    {
     "name": "stdout",
     "output_type": "stream",
     "text": [
      "[[ 0  1  2  3  4  5  6  7]\n",
      " [ 8  9 10 11 12 13 14 15]\n",
      " [16 17 18 19 20 21 22 23]\n",
      " [24 25 26 27 28 29 30 31]\n",
      " [32 33 34 35 36 37 38 39]\n",
      " [40 41 42 43 44 45 46 47]\n",
      " [48 49 50 51 52 53 54 55]\n",
      " [56 57 58 59 60 61 62 63]] input\n",
      "[[ 0.  0.  0.  0.  0.  0.  0.  0.  0.  0.  0.  0.]\n",
      " [ 0.  0.  0.  0.  0.  0.  0.  0.  0.  0.  0.  0.]\n",
      " [ 0.  0.  0.  1.  2.  3.  4.  5.  6.  7.  0.  0.]\n",
      " [ 0.  0.  8.  9. 10. 11. 12. 13. 14. 15.  0.  0.]\n",
      " [ 0.  0. 16. 17. 18. 19. 20. 21. 22. 23.  0.  0.]\n",
      " [ 0.  0. 24. 25. 26. 27. 28. 29. 30. 31.  0.  0.]\n",
      " [ 0.  0. 32. 33. 34. 35. 36. 37. 38. 39.  0.  0.]\n",
      " [ 0.  0. 40. 41. 42. 43. 44. 45. 46. 47.  0.  0.]\n",
      " [ 0.  0. 48. 49. 50. 51. 52. 53. 54. 55.  0.  0.]\n",
      " [ 0.  0. 56. 57. 58. 59. 60. 61. 62. 63.  0.  0.]\n",
      " [ 0.  0.  0.  0.  0.  0.  0.  0.  0.  0.  0.  0.]\n",
      " [ 0.  0.  0.  0.  0.  0.  0.  0.  0.  0.  0.  0.]] input_\n",
      "[[ 0.  0.  0.  0.]\n",
      " [ 0. 18. 21.  0.]\n",
      " [ 0. 42. 45.  0.]\n",
      " [ 0.  0.  0.  0.]] output\n"
     ]
    }
   ],
   "source": [
    "def convolution2(input_, filter_, strides=1, padding = None):\n",
    "    \"\"\"\n",
    "    先实现最简单的，strides = N\n",
    "    padding = (f - 1) / 2\n",
    "    \"\"\"\n",
    "\n",
    "    h, w = input_.shape\n",
    "    f, f = filter_.shape\n",
    "    if not padding:\n",
    "        p = int((f - 1) / 2)\n",
    "    p = padding\n",
    "\n",
    "    out_h = int((h - f + 2 * p) / strides) + 1  # 输出矩阵的h，w\n",
    "    out_w = int((w - f + 2 * p) / strides) + 1\n",
    "    output_ = np.zeros([out_h, out_w])  #  输出矩阵的初始化\n",
    "    # 对原始矩阵进行 padding\n",
    "    zero_h = np.zeros((h, p))\n",
    "    zero_w = np.zeros((p , w + 2 * p))\n",
    "    input_ = np.column_stack([zero_h,input_, zero_h])\n",
    "    input_ = np.row_stack([zero_w,input_, zero_w])\n",
    "    print(input_, 'input_')\n",
    "    for i in range(0, out_h):\n",
    "        for j in range(0, out_w):\n",
    "            output_[i,j] = np.sum(input_[i * strides:i * strides + f,\n",
    "                                         j * strides:j * strides + f] * filter_)\n",
    "            \n",
    "    return output_\n",
    "\n",
    "\n",
    "if __name__ == '__main__':\n",
    "    img = cv2.imread('lenna.png', 1)\n",
    "    gray = cv2.cvtColor(img, cv2.COLOR_BGR2GRAY)\n",
    "    print(gray)\n",
    "    filter_ = np.array([[1, 1, 1],[0, 0, 0],[-1, -1, -1]])\n",
    "    output_ = convolution2(gray, filter_)\n",
    "    print(output_)\n",
    "    \n",
    "    # 画图\n",
    "    cv2.imshow('cov lenna', output_)\n",
    "    cv2.waitKey(0)\n",
    "    cv2.destroyAllWindows()"
   ]
  },
  {
   "cell_type": "code",
   "execution_count": 78,
   "id": "ef97b85c",
   "metadata": {
    "ExecuteTime": {
     "end_time": "2021-07-07T09:33:08.877364Z",
     "start_time": "2021-07-07T09:33:08.866624Z"
    }
   },
   "outputs": [
    {
     "ename": "NameError",
     "evalue": "name 'cv2' is not defined",
     "output_type": "error",
     "traceback": [
      "\u001B[0;31m---------------------------------------------------------------------------\u001B[0m",
      "\u001B[0;31mNameError\u001B[0m                                 Traceback (most recent call last)",
      "\u001B[0;32m<ipython-input-78-f79ad91b512b>\u001B[0m in \u001B[0;36m<module>\u001B[0;34m\u001B[0m\n\u001B[1;32m      1\u001B[0m \u001B[0;32mif\u001B[0m \u001B[0m__name__\u001B[0m \u001B[0;34m==\u001B[0m \u001B[0;34m'__main__'\u001B[0m\u001B[0;34m:\u001B[0m\u001B[0;34m\u001B[0m\u001B[0;34m\u001B[0m\u001B[0m\n\u001B[0;32m----> 2\u001B[0;31m     \u001B[0mimg\u001B[0m \u001B[0;34m=\u001B[0m \u001B[0mcv2\u001B[0m\u001B[0;34m.\u001B[0m\u001B[0mimread\u001B[0m\u001B[0;34m(\u001B[0m\u001B[0;34m'lenna.png'\u001B[0m\u001B[0;34m,\u001B[0m \u001B[0;36m1\u001B[0m\u001B[0;34m)\u001B[0m\u001B[0;34m\u001B[0m\u001B[0;34m\u001B[0m\u001B[0m\n\u001B[0m\u001B[1;32m      3\u001B[0m     \u001B[0mgray\u001B[0m \u001B[0;34m=\u001B[0m \u001B[0mcv2\u001B[0m\u001B[0;34m.\u001B[0m\u001B[0mcvtColor\u001B[0m\u001B[0;34m(\u001B[0m\u001B[0mimg\u001B[0m\u001B[0;34m,\u001B[0m \u001B[0mcv2\u001B[0m\u001B[0;34m.\u001B[0m\u001B[0mCOLOR_BGR2GRAY\u001B[0m\u001B[0;34m)\u001B[0m\u001B[0;34m\u001B[0m\u001B[0;34m\u001B[0m\u001B[0m\n\u001B[1;32m      4\u001B[0m     \u001B[0mprint\u001B[0m\u001B[0;34m(\u001B[0m\u001B[0mgray\u001B[0m\u001B[0;34m)\u001B[0m\u001B[0;34m\u001B[0m\u001B[0;34m\u001B[0m\u001B[0m\n\u001B[1;32m      5\u001B[0m     \u001B[0mfilter_\u001B[0m \u001B[0;34m=\u001B[0m \u001B[0mnp\u001B[0m\u001B[0;34m.\u001B[0m\u001B[0marray\u001B[0m\u001B[0;34m(\u001B[0m\u001B[0;34m[\u001B[0m\u001B[0;34m[\u001B[0m\u001B[0;36m1\u001B[0m\u001B[0;34m,\u001B[0m \u001B[0;36m1\u001B[0m\u001B[0;34m,\u001B[0m \u001B[0;36m1\u001B[0m\u001B[0;34m]\u001B[0m\u001B[0;34m,\u001B[0m\u001B[0;34m[\u001B[0m\u001B[0;36m0\u001B[0m\u001B[0;34m,\u001B[0m \u001B[0;36m0\u001B[0m\u001B[0;34m,\u001B[0m \u001B[0;36m0\u001B[0m\u001B[0;34m]\u001B[0m\u001B[0;34m,\u001B[0m\u001B[0;34m[\u001B[0m\u001B[0;34m-\u001B[0m\u001B[0;36m1\u001B[0m\u001B[0;34m,\u001B[0m \u001B[0;34m-\u001B[0m\u001B[0;36m1\u001B[0m\u001B[0;34m,\u001B[0m \u001B[0;34m-\u001B[0m\u001B[0;36m1\u001B[0m\u001B[0;34m]\u001B[0m\u001B[0;34m]\u001B[0m\u001B[0;34m)\u001B[0m\u001B[0;34m\u001B[0m\u001B[0;34m\u001B[0m\u001B[0m\n",
      "\u001B[0;31mNameError\u001B[0m: name 'cv2' is not defined"
     ]
    }
   ],
   "source": [
    "if __name__ == '__main__':\n",
    "    img = cv2.imread('lenna.png', 1)\n",
    "    gray = cv2.cvtColor(img, cv2.COLOR_BGR2GRAY)\n",
    "    print(gray)\n",
    "    filter_ = np.array([[1, 1, 1],[0, 0, 0],[-1, -1, -1]])\n",
    "    output_ = convolution1(gray, filter_)\n",
    "    print(output_)\n",
    "    \n",
    "    # 画图\n",
    "    cv2.imshow('cov lenna', output_)\n",
    "    cv2.waitKey(0)\n",
    "    cv2.destroyAllWindows()"
   ]
  },
  {
   "cell_type": "code",
   "execution_count": null,
   "id": "9f95f178",
   "metadata": {},
   "outputs": [],
   "source": []
  }
 ],
 "metadata": {
  "hide_input": false,
  "kernelspec": {
   "display_name": "Python 3 (ipykernel)",
   "language": "python",
   "name": "python3"
  },
  "language_info": {
   "codemirror_mode": {
    "name": "ipython",
    "version": 3
   },
   "file_extension": ".py",
   "mimetype": "text/x-python",
   "name": "python",
   "nbconvert_exporter": "python",
   "pygments_lexer": "ipython3",
   "version": "3.7.10"
  },
  "nbTranslate": {
   "displayLangs": [
    "*"
   ],
   "hotkey": "alt-t",
   "langInMainMenu": true,
   "sourceLang": "en",
   "targetLang": "fr",
   "useGoogleTranslate": true
  },
  "toc": {
   "base_numbering": 1,
   "nav_menu": {},
   "number_sections": true,
   "sideBar": true,
   "skip_h1_title": false,
   "title_cell": "Table of Contents",
   "title_sidebar": "Contents",
   "toc_cell": false,
   "toc_position": {},
   "toc_section_display": true,
   "toc_window_display": false
  },
  "varInspector": {
   "cols": {
    "lenName": 16,
    "lenType": 16,
    "lenVar": 40
   },
   "kernels_config": {
    "python": {
     "delete_cmd_postfix": "",
     "delete_cmd_prefix": "del ",
     "library": "var_list.py",
     "varRefreshCmd": "print(var_dic_list())"
    },
    "r": {
     "delete_cmd_postfix": ") ",
     "delete_cmd_prefix": "rm(",
     "library": "var_list.r",
     "varRefreshCmd": "cat(var_dic_list()) "
    }
   },
   "types_to_exclude": [
    "module",
    "function",
    "builtin_function_or_method",
    "instance",
    "_Feature"
   ],
   "window_display": false
  }
 },
 "nbformat": 4,
 "nbformat_minor": 5
}