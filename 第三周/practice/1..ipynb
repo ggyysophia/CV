{
 "cells": [
  {
   "cell_type": "code",
   "execution_count": 153,
   "metadata": {
    "ExecuteTime": {
     "end_time": "2021-07-07T04:32:57.050405Z",
     "start_time": "2021-07-07T04:32:57.046302Z"
    }
   },
   "outputs": [],
   "source": [
    "import cv2 \n",
    "import numpy as np\n",
    "import matplotlib.pyplot as plt\n",
    "\n"
   ]
  },
  {
   "cell_type": "markdown",
   "metadata": {},
   "source": [
    "# 直方图\n"
   ]
  },
  {
   "cell_type": "code",
   "execution_count": 154,
   "metadata": {
    "ExecuteTime": {
     "end_time": "2021-07-07T04:33:01.152780Z",
     "start_time": "2021-07-07T04:33:00.654287Z"
    }
   },
   "outputs": [
    {
     "data": {
      "text/plain": [
       "<Figure size 432x288 with 0 Axes>"
      ]
     },
     "execution_count": 154,
     "metadata": {},
     "output_type": "execute_result"
    },
    {
     "data": {
      "text/plain": [
       "(array([1.000e+00, 6.000e+00, 2.000e+01, 2.900e+01, 5.900e+01, 9.700e+01,\n",
       "        1.370e+02, 0.000e+00, 1.810e+02, 2.200e+02, 3.010e+02, 4.210e+02,\n",
       "        5.000e+02, 6.120e+02, 0.000e+00, 7.600e+02, 9.400e+02, 1.062e+03,\n",
       "        1.254e+03, 1.443e+03, 1.646e+03, 0.000e+00, 1.761e+03, 1.882e+03,\n",
       "        1.998e+03, 2.092e+03, 2.020e+03, 2.105e+03, 0.000e+00, 2.086e+03,\n",
       "        2.029e+03, 1.979e+03, 1.808e+03, 1.731e+03, 1.668e+03, 0.000e+00,\n",
       "        1.578e+03, 1.469e+03, 1.278e+03, 1.236e+03, 1.220e+03, 1.003e+03,\n",
       "        0.000e+00, 9.300e+02, 9.760e+02, 8.800e+02, 8.900e+02, 7.910e+02,\n",
       "        7.970e+02, 0.000e+00, 7.710e+02, 7.800e+02, 8.520e+02, 8.190e+02,\n",
       "        8.320e+02, 7.850e+02, 0.000e+00, 8.790e+02, 9.090e+02, 8.680e+02,\n",
       "        8.540e+02, 9.470e+02, 9.730e+02, 0.000e+00, 9.050e+02, 9.130e+02,\n",
       "        8.670e+02, 9.350e+02, 9.320e+02, 9.670e+02, 1.008e+03, 0.000e+00,\n",
       "        1.016e+03, 1.063e+03, 1.134e+03, 1.120e+03, 1.190e+03, 1.218e+03,\n",
       "        0.000e+00, 1.325e+03, 1.399e+03, 1.538e+03, 1.621e+03, 1.806e+03,\n",
       "        1.871e+03, 0.000e+00, 2.086e+03, 1.894e+03, 1.933e+03, 1.956e+03,\n",
       "        1.836e+03, 1.761e+03, 0.000e+00, 1.729e+03, 1.612e+03, 1.504e+03,\n",
       "        1.435e+03, 1.366e+03, 1.362e+03, 0.000e+00, 1.344e+03, 1.345e+03,\n",
       "        1.451e+03, 1.359e+03, 1.355e+03, 1.384e+03, 0.000e+00, 1.448e+03,\n",
       "        1.568e+03, 1.572e+03, 1.604e+03, 1.776e+03, 1.817e+03, 0.000e+00,\n",
       "        1.894e+03, 2.029e+03, 2.140e+03, 2.304e+03, 2.321e+03, 2.369e+03,\n",
       "        0.000e+00, 2.521e+03, 2.306e+03, 2.304e+03, 2.252e+03, 2.078e+03,\n",
       "        1.992e+03, 0.000e+00, 1.822e+03, 1.933e+03, 1.903e+03, 2.025e+03,\n",
       "        2.136e+03, 2.260e+03, 2.304e+03, 0.000e+00, 2.327e+03, 2.453e+03,\n",
       "        2.459e+03, 2.408e+03, 2.236e+03, 2.316e+03, 0.000e+00, 2.287e+03,\n",
       "        2.174e+03, 2.282e+03, 2.316e+03, 2.391e+03, 2.592e+03, 0.000e+00,\n",
       "        2.691e+03, 2.740e+03, 2.705e+03, 2.552e+03, 2.414e+03, 2.261e+03,\n",
       "        0.000e+00, 2.041e+03, 1.853e+03, 1.779e+03, 1.616e+03, 1.474e+03,\n",
       "        1.425e+03, 0.000e+00, 1.352e+03, 1.234e+03, 1.253e+03, 1.196e+03,\n",
       "        1.170e+03, 1.208e+03, 0.000e+00, 1.342e+03, 1.263e+03, 1.233e+03,\n",
       "        1.158e+03, 1.186e+03, 1.224e+03, 0.000e+00, 1.086e+03, 9.430e+02,\n",
       "        9.040e+02, 8.220e+02, 7.860e+02, 6.890e+02, 0.000e+00, 6.090e+02,\n",
       "        6.300e+02, 6.430e+02, 6.790e+02, 6.340e+02, 6.640e+02, 0.000e+00,\n",
       "        7.390e+02, 7.950e+02, 8.300e+02, 9.410e+02, 9.050e+02, 9.760e+02,\n",
       "        9.200e+02, 0.000e+00, 9.100e+02, 8.430e+02, 8.220e+02, 8.680e+02,\n",
       "        9.030e+02, 8.340e+02, 0.000e+00, 8.860e+02, 9.090e+02, 9.690e+02,\n",
       "        9.760e+02, 1.066e+03, 1.042e+03, 0.000e+00, 1.068e+03, 9.570e+02,\n",
       "        9.810e+02, 9.550e+02, 8.660e+02, 6.970e+02, 0.000e+00, 5.440e+02,\n",
       "        4.900e+02, 3.940e+02, 3.810e+02, 2.840e+02, 2.300e+02, 0.000e+00,\n",
       "        2.340e+02, 1.940e+02, 1.880e+02, 1.260e+02, 7.700e+01, 7.400e+01,\n",
       "        0.000e+00, 5.900e+01, 5.100e+01, 2.200e+01, 1.900e+01, 9.000e+00,\n",
       "        7.000e+00, 0.000e+00, 6.000e+00, 8.000e+00, 1.000e+00, 0.000e+00,\n",
       "        0.000e+00, 1.000e+00, 0.000e+00, 0.000e+00, 0.000e+00, 0.000e+00,\n",
       "        2.000e+00, 0.000e+00, 1.000e+00, 1.000e+00]),\n",
       " array([ 25.      ,  25.859375,  26.71875 ,  27.578125,  28.4375  ,\n",
       "         29.296875,  30.15625 ,  31.015625,  31.875   ,  32.734375,\n",
       "         33.59375 ,  34.453125,  35.3125  ,  36.171875,  37.03125 ,\n",
       "         37.890625,  38.75    ,  39.609375,  40.46875 ,  41.328125,\n",
       "         42.1875  ,  43.046875,  43.90625 ,  44.765625,  45.625   ,\n",
       "         46.484375,  47.34375 ,  48.203125,  49.0625  ,  49.921875,\n",
       "         50.78125 ,  51.640625,  52.5     ,  53.359375,  54.21875 ,\n",
       "         55.078125,  55.9375  ,  56.796875,  57.65625 ,  58.515625,\n",
       "         59.375   ,  60.234375,  61.09375 ,  61.953125,  62.8125  ,\n",
       "         63.671875,  64.53125 ,  65.390625,  66.25    ,  67.109375,\n",
       "         67.96875 ,  68.828125,  69.6875  ,  70.546875,  71.40625 ,\n",
       "         72.265625,  73.125   ,  73.984375,  74.84375 ,  75.703125,\n",
       "         76.5625  ,  77.421875,  78.28125 ,  79.140625,  80.      ,\n",
       "         80.859375,  81.71875 ,  82.578125,  83.4375  ,  84.296875,\n",
       "         85.15625 ,  86.015625,  86.875   ,  87.734375,  88.59375 ,\n",
       "         89.453125,  90.3125  ,  91.171875,  92.03125 ,  92.890625,\n",
       "         93.75    ,  94.609375,  95.46875 ,  96.328125,  97.1875  ,\n",
       "         98.046875,  98.90625 ,  99.765625, 100.625   , 101.484375,\n",
       "        102.34375 , 103.203125, 104.0625  , 104.921875, 105.78125 ,\n",
       "        106.640625, 107.5     , 108.359375, 109.21875 , 110.078125,\n",
       "        110.9375  , 111.796875, 112.65625 , 113.515625, 114.375   ,\n",
       "        115.234375, 116.09375 , 116.953125, 117.8125  , 118.671875,\n",
       "        119.53125 , 120.390625, 121.25    , 122.109375, 122.96875 ,\n",
       "        123.828125, 124.6875  , 125.546875, 126.40625 , 127.265625,\n",
       "        128.125   , 128.984375, 129.84375 , 130.703125, 131.5625  ,\n",
       "        132.421875, 133.28125 , 134.140625, 135.      , 135.859375,\n",
       "        136.71875 , 137.578125, 138.4375  , 139.296875, 140.15625 ,\n",
       "        141.015625, 141.875   , 142.734375, 143.59375 , 144.453125,\n",
       "        145.3125  , 146.171875, 147.03125 , 147.890625, 148.75    ,\n",
       "        149.609375, 150.46875 , 151.328125, 152.1875  , 153.046875,\n",
       "        153.90625 , 154.765625, 155.625   , 156.484375, 157.34375 ,\n",
       "        158.203125, 159.0625  , 159.921875, 160.78125 , 161.640625,\n",
       "        162.5     , 163.359375, 164.21875 , 165.078125, 165.9375  ,\n",
       "        166.796875, 167.65625 , 168.515625, 169.375   , 170.234375,\n",
       "        171.09375 , 171.953125, 172.8125  , 173.671875, 174.53125 ,\n",
       "        175.390625, 176.25    , 177.109375, 177.96875 , 178.828125,\n",
       "        179.6875  , 180.546875, 181.40625 , 182.265625, 183.125   ,\n",
       "        183.984375, 184.84375 , 185.703125, 186.5625  , 187.421875,\n",
       "        188.28125 , 189.140625, 190.      , 190.859375, 191.71875 ,\n",
       "        192.578125, 193.4375  , 194.296875, 195.15625 , 196.015625,\n",
       "        196.875   , 197.734375, 198.59375 , 199.453125, 200.3125  ,\n",
       "        201.171875, 202.03125 , 202.890625, 203.75    , 204.609375,\n",
       "        205.46875 , 206.328125, 207.1875  , 208.046875, 208.90625 ,\n",
       "        209.765625, 210.625   , 211.484375, 212.34375 , 213.203125,\n",
       "        214.0625  , 214.921875, 215.78125 , 216.640625, 217.5     ,\n",
       "        218.359375, 219.21875 , 220.078125, 220.9375  , 221.796875,\n",
       "        222.65625 , 223.515625, 224.375   , 225.234375, 226.09375 ,\n",
       "        226.953125, 227.8125  , 228.671875, 229.53125 , 230.390625,\n",
       "        231.25    , 232.109375, 232.96875 , 233.828125, 234.6875  ,\n",
       "        235.546875, 236.40625 , 237.265625, 238.125   , 238.984375,\n",
       "        239.84375 , 240.703125, 241.5625  , 242.421875, 243.28125 ,\n",
       "        244.140625, 245.      ]),\n",
       " <BarContainer object of 256 artists>)"
      ]
     },
     "execution_count": 154,
     "metadata": {},
     "output_type": "execute_result"
    },
    {
     "data": {
      "image/png": "[encoded data removed]",
      "text/plain": [
       "<Figure size 432x288 with 1 Axes>"
      ]
     },
     "metadata": {
      "needs_background": "light"
     },
     "output_type": "display_data"
    }
   ],
   "source": [
    "img = cv2.imread('lenna.png')\n",
    "gray = cv2.cvtColor(img, cv2.COLOR_BGR2GRAY)\n",
    "# cv2.imshow('lenna_gray', gray)\n",
    "# cv2.waitKey(0)\n",
    "# cv2.destroyAllWindows()\n",
    "\n",
    "plt.figure()\n",
    "plt.hist(gray.ravel(), 256)\n",
    "plt.show()  \n",
    "# lenna这个图的分布比较均匀， "
   ]
  },
  {
   "cell_type": "code",
   "execution_count": 8,
   "metadata": {
    "ExecuteTime": {
     "end_time": "2021-07-06T12:51:08.624610Z",
     "start_time": "2021-07-06T12:51:08.615588Z"
    }
   },
   "outputs": [
    {
     "data": {
      "text/plain": [
       "array([[ 0,  1,  2,  3],\n",
       "       [ 4,  5,  6,  7],\n",
       "       [ 8,  9, 10, 11]])"
      ]
     },
     "execution_count": 8,
     "metadata": {},
     "output_type": "execute_result"
    },
    {
     "data": {
      "text/plain": [
       "array([ 0,  1,  2,  3,  4,  5,  6,  7,  8,  9, 10, 11])"
      ]
     },
     "execution_count": 8,
     "metadata": {},
     "output_type": "execute_result"
    }
   ],
   "source": [
    "x = np.arange(12).reshape(3,4)\n",
    "x\n",
    "x.ravel()  # 变成1维度"
   ]
  },
  {
   "cell_type": "markdown",
   "metadata": {
    "ExecuteTime": {
     "end_time": "2021-07-06T12:51:38.031924Z",
     "start_time": "2021-07-06T12:51:38.027115Z"
    }
   },
   "source": [
    "# 灰度图像的直方图, 方法二"
   ]
  },
  {
   "cell_type": "code",
   "execution_count": 155,
   "metadata": {
    "ExecuteTime": {
     "end_time": "2021-07-07T04:33:16.770577Z",
     "start_time": "2021-07-07T04:33:16.613006Z"
    }
   },
   "outputs": [
    {
     "data": {
      "text/plain": [
       "<Figure size 432x288 with 0 Axes>"
      ]
     },
     "execution_count": 155,
     "metadata": {},
     "output_type": "execute_result"
    },
    {
     "data": {
      "text/plain": [
       "Text(0.5, 1.0, 'Grayscale Histogram')"
      ]
     },
     "execution_count": 155,
     "metadata": {},
     "output_type": "execute_result"
    },
    {
     "data": {
      "text/plain": [
       "Text(0.5, 0, 'BIns')"
      ]
     },
     "execution_count": 155,
     "metadata": {},
     "output_type": "execute_result"
    },
    {
     "data": {
      "text/plain": [
       "Text(0, 0.5, '# of Pixels')"
      ]
     },
     "execution_count": 155,
     "metadata": {},
     "output_type": "execute_result"
    },
    {
     "data": {
      "text/plain": [
       "[<matplotlib.lines.Line2D at 0x7f8cfa512e90>]"
      ]
     },
     "execution_count": 155,
     "metadata": {},
     "output_type": "execute_result"
    },
    {
     "data": {
      "text/plain": [
       "(0.0, 256.0)"
      ]
     },
     "execution_count": 155,
     "metadata": {},
     "output_type": "execute_result"
    },
    {
     "data": {
      "image/png": "[encoded data removed]",
      "text/plain": [
       "<Figure size 432x288 with 1 Axes>"
      ]
     },
     "metadata": {
      "needs_background": "light"
     },
     "output_type": "display_data"
    }
   ],
   "source": [
    "hist = cv2.calcHist([gray], [0], None, [256], [0, 256])  # 每个数值对应的点的个数\n",
    "plt.figure()\n",
    "plt.title('Grayscale Histogram')\n",
    "plt.xlabel('BIns')\n",
    "plt.ylabel('# of Pixels')\n",
    "plt.plot(hist)\n",
    "plt.xlim([0, 256])\n",
    "plt.show()"
   ]
  },
  {
   "cell_type": "markdown",
   "metadata": {
    "ExecuteTime": {
     "end_time": "2021-07-06T13:09:52.781654Z",
     "start_time": "2021-07-06T13:09:52.777231Z"
    }
   },
   "source": [
    "# 彩色图"
   ]
  },
  {
   "cell_type": "code",
   "execution_count": 24,
   "metadata": {
    "ExecuteTime": {
     "end_time": "2021-07-06T13:16:29.785978Z",
     "start_time": "2021-07-06T13:16:29.780746Z"
    }
   },
   "outputs": [
    {
     "name": "stdout",
     "output_type": "stream",
     "text": [
      "1 c\n",
      "2 d\n",
      "3 e\n"
     ]
    }
   ],
   "source": [
    "a = (1,2,3)\n",
    "b = ['c', 'd', 'e']\n",
    "for (i, j) in zip(a,b):\n",
    "    print(i,j)"
   ]
  },
  {
   "cell_type": "code",
   "execution_count": null,
   "metadata": {},
   "outputs": [],
   "source": []
  },
  {
   "cell_type": "code",
   "execution_count": 25,
   "metadata": {
    "ExecuteTime": {
     "end_time": "2021-07-06T13:18:28.058556Z",
     "start_time": "2021-07-06T13:18:27.849235Z"
    }
   },
   "outputs": [
    {
     "data": {
      "text/plain": [
       "<Figure size 432x288 with 0 Axes>"
      ]
     },
     "execution_count": 25,
     "metadata": {},
     "output_type": "execute_result"
    },
    {
     "data": {
      "text/plain": [
       "Text(0.5, 1.0, 'Flattened Coloe Histogram')"
      ]
     },
     "execution_count": 25,
     "metadata": {},
     "output_type": "execute_result"
    },
    {
     "data": {
      "text/plain": [
       "Text(0.5, 0, 'Bins')"
      ]
     },
     "execution_count": 25,
     "metadata": {},
     "output_type": "execute_result"
    },
    {
     "data": {
      "text/plain": [
       "Text(0, 0.5, '# of Pixels')"
      ]
     },
     "execution_count": 25,
     "metadata": {},
     "output_type": "execute_result"
    },
    {
     "data": {
      "text/plain": [
       "[<matplotlib.lines.Line2D at 0x7f8cf8e2c150>]"
      ]
     },
     "execution_count": 25,
     "metadata": {},
     "output_type": "execute_result"
    },
    {
     "data": {
      "text/plain": [
       "(0.0, 256.0)"
      ]
     },
     "execution_count": 25,
     "metadata": {},
     "output_type": "execute_result"
    },
    {
     "data": {
      "text/plain": [
       "[<matplotlib.lines.Line2D at 0x7f8cf8b9bf10>]"
      ]
     },
     "execution_count": 25,
     "metadata": {},
     "output_type": "execute_result"
    },
    {
     "data": {
      "text/plain": [
       "(0.0, 256.0)"
      ]
     },
     "execution_count": 25,
     "metadata": {},
     "output_type": "execute_result"
    },
    {
     "data": {
      "text/plain": [
       "[<matplotlib.lines.Line2D at 0x7f8cf8b9bbd0>]"
      ]
     },
     "execution_count": 25,
     "metadata": {},
     "output_type": "execute_result"
    },
    {
     "data": {
      "text/plain": [
       "(0.0, 256.0)"
      ]
     },
     "execution_count": 25,
     "metadata": {},
     "output_type": "execute_result"
    },
    {
     "data": {
      "image/png": "[encoded data removed]",
      "text/plain": [
       "<Figure size 432x288 with 1 Axes>"
      ]
     },
     "metadata": {
      "needs_background": "light"
     },
     "output_type": "display_data"
    }
   ],
   "source": [
    "image = cv2.imread('lenna.png')\n",
    "cv2.imshow('Original', image)\n",
    "# cv2.waitKey(0)\n",
    "\n",
    "chans = cv2.split(image)\n",
    "# type(chans)   # list \n",
    "# len(chans)    # 3  每一个元素表示一个通道\n",
    "colors = (\"b\", \"g\", \"r\")\n",
    "plt.figure()\n",
    "plt.title('Flattened Color Histogram')\n",
    "plt.xlabel('Bins')\n",
    "plt.ylabel('# of Pixels')\n",
    "\n",
    "for (chan, color) in zip(chans, colors):\n",
    "    hist = cv2.calcHist([chan], [0], None, [256], [0, 256])\n",
    "    plt.plot(hist, color = color)\n",
    "    plt.xlim([0, 256])\n",
    "plt.show()"
   ]
  },
  {
   "cell_type": "markdown",
   "metadata": {},
   "source": [
    "# 直方图的均衡化\n",
    "\n",
    "1. 依次扫描原始灰度图像的每一个像素，计算出图像的灰度直方图H\n",
    "2. 计算灰度直方图的累加直方图\n",
    "3. 根据累加直方图和直方图均衡化原理得到输入与输出之间的映射关系。\n",
    "4. 最后根据映射关系得到结果：dst(x,y) = H'(src(x,y))进行图像变换"
   ]
  },
  {
   "cell_type": "code",
   "execution_count": 156,
   "metadata": {
    "ExecuteTime": {
     "end_time": "2021-07-07T04:33:26.443749Z",
     "start_time": "2021-07-07T04:33:26.428273Z"
    }
   },
   "outputs": [
    {
     "data": {
      "text/plain": [
       "(array([ 30.,  50.,  91., 132., 142., 153., 194., 204., 224., 255.]),\n",
       " array([[ 50, 132, 255, 255, 224],\n",
       "        [ 91,  50, 132, 204, 132],\n",
       "        [132, 194,  30, 194, 142],\n",
       "        [194, 224,  91,  30, 153],\n",
       "        [ 91, 255,  91, 194,  30]], dtype=uint8))"
      ]
     },
     "execution_count": 156,
     "metadata": {},
     "output_type": "execute_result"
    }
   ],
   "source": [
    "\n",
    "def hist_equlization(img, p):\n",
    "    \"\"\"\n",
    "    img:原始图像\n",
    "    p: 直方图大小，一般等于灰度级数\n",
    "    q: 均衡化后直方图大小，\n",
    "    \"\"\"\n",
    "    h, w = img.shape\n",
    "    new_img = np.zeros([h, w], img.dtype)\n",
    "    sumPi = 0\n",
    "    equliz_hist = np.zeros(p)  # 初始化\n",
    "    img_hist = cv2.calcHist([img], [0], None, [p], [0, p]).ravel()\n",
    "    img_hist = img_hist / float(h * w)\n",
    "    for i in range(p):\n",
    "        sumPi += img_hist[i]\n",
    "        qi = int(round(sumPi * 256 - 1))\n",
    "        if qi < 0:\n",
    "            qi = 0\n",
    "        if qi > 256:\n",
    "            qi = 255     \n",
    "        equliz_hist[i] = qi\n",
    "    equliz_hist.astype(np.int64)\n",
    "    for i in range(h):\n",
    "        for j in range(w):\n",
    "            new_img[i,j] = equliz_hist[img[i,j]]\n",
    "            \n",
    "    return equliz_hist, new_img\n",
    "        \n",
    "    \n",
    "    \n",
    "img = np.array([[1,3,9,9,8],\n",
    "       [2,1,3,7,3],\n",
    "       [3,6,0,6,4],\n",
    "       [6,8,2,0,5],\n",
    "       [2,9,2,6,0]], img.dtype)\n",
    "equliz_hist, new_img = hist_equlization(img, p=10)\n",
    "equliz_hist, new_img"
   ]
  },
  {
   "cell_type": "code",
   "execution_count": 157,
   "metadata": {
    "ExecuteTime": {
     "end_time": "2021-07-07T04:33:30.810441Z",
     "start_time": "2021-07-07T04:33:30.608780Z"
    }
   },
   "outputs": [
    {
     "data": {
      "text/plain": [
       "<Figure size 432x288 with 0 Axes>"
      ]
     },
     "execution_count": 157,
     "metadata": {},
     "output_type": "execute_result"
    },
    {
     "data": {
      "text/plain": [
       "Text(0.5, 1.0, 'Grayscale Histogram')"
      ]
     },
     "execution_count": 157,
     "metadata": {},
     "output_type": "execute_result"
    },
    {
     "data": {
      "text/plain": [
       "Text(0.5, 0, 'BIns')"
      ]
     },
     "execution_count": 157,
     "metadata": {},
     "output_type": "execute_result"
    },
    {
     "data": {
      "text/plain": [
       "Text(0, 0.5, '# of Pixels')"
      ]
     },
     "execution_count": 157,
     "metadata": {},
     "output_type": "execute_result"
    },
    {
     "data": {
      "text/plain": [
       "[<matplotlib.lines.Line2D at 0x7f8cf774a210>]"
      ]
     },
     "execution_count": 157,
     "metadata": {},
     "output_type": "execute_result"
    },
    {
     "data": {
      "text/plain": [
       "(0.0, 256.0)"
      ]
     },
     "execution_count": 157,
     "metadata": {},
     "output_type": "execute_result"
    },
    {
     "data": {
      "image/png": "[encoded data removed]",
      "text/plain": [
       "<Figure size 432x288 with 1 Axes>"
      ]
     },
     "metadata": {
      "needs_background": "light"
     },
     "output_type": "display_data"
    }
   ],
   "source": [
    "hist = cv2.calcHist([new_img], [0], None, [256], [0, 256])\n",
    "plt.figure()\n",
    "plt.title('Grayscale Histogram')\n",
    "plt.xlabel('BIns')\n",
    "plt.ylabel('# of Pixels')\n",
    "plt.plot(hist)\n",
    "plt.xlim([0, 256])\n",
    "plt.show()"
   ]
  },
  {
   "cell_type": "code",
   "execution_count": 158,
   "metadata": {
    "ExecuteTime": {
     "end_time": "2021-07-07T04:33:34.474802Z",
     "start_time": "2021-07-07T04:33:34.268339Z"
    }
   },
   "outputs": [
    {
     "data": {
      "text/plain": [
       "<Figure size 432x288 with 0 Axes>"
      ]
     },
     "execution_count": 158,
     "metadata": {},
     "output_type": "execute_result"
    },
    {
     "data": {
      "text/plain": [
       "Text(0.5, 1.0, 'Grayscale Histogram')"
      ]
     },
     "execution_count": 158,
     "metadata": {},
     "output_type": "execute_result"
    },
    {
     "data": {
      "text/plain": [
       "Text(0.5, 0, 'BIns')"
      ]
     },
     "execution_count": 158,
     "metadata": {},
     "output_type": "execute_result"
    },
    {
     "data": {
      "text/plain": [
       "Text(0, 0.5, '# of Pixels')"
      ]
     },
     "execution_count": 158,
     "metadata": {},
     "output_type": "execute_result"
    },
    {
     "data": {
      "text/plain": [
       "[<matplotlib.lines.Line2D at 0x7f8cf89fd950>]"
      ]
     },
     "execution_count": 158,
     "metadata": {},
     "output_type": "execute_result"
    },
    {
     "data": {
      "text/plain": [
       "(0.0, 256.0)"
      ]
     },
     "execution_count": 158,
     "metadata": {},
     "output_type": "execute_result"
    },
    {
     "data": {
      "image/png": "[encoded data removed]",
      "text/plain": [
       "<Figure size 432x288 with 1 Axes>"
      ]
     },
     "metadata": {
      "needs_background": "light"
     },
     "output_type": "display_data"
    }
   ],
   "source": [
    "img = np.array([[1,3,9,9,8],\n",
    "       [2,1,3,7,3],\n",
    "       [3,6,0,6,4],\n",
    "       [6,8,2,0,5],\n",
    "       [2,9,2,6,0]], dtype='uint8')\n",
    "hist = cv2.calcHist([img], [0], None, [256], [0, 256])\n",
    "plt.figure()\n",
    "plt.title('Grayscale Histogram')\n",
    "plt.xlabel('BIns')\n",
    "plt.ylabel('# of Pixels')\n",
    "plt.plot(hist)\n",
    "plt.xlim([0, 256])\n",
    "plt.show()"
   ]
  },
  {
   "cell_type": "code",
   "execution_count": 161,
   "metadata": {
    "ExecuteTime": {
     "end_time": "2021-07-07T04:34:35.475743Z",
     "start_time": "2021-07-07T04:34:34.379916Z"
    }
   },
   "outputs": [
    {
     "data": {
      "text/plain": [
       "<Figure size 432x288 with 0 Axes>"
      ]
     },
     "execution_count": 161,
     "metadata": {},
     "output_type": "execute_result"
    },
    {
     "data": {
      "text/plain": [
       "(array([ 349., 1123.,  500., 1372.,  940., 1062., 1254.,    0., 1443.,\n",
       "        1646.,    0., 1761.,    0., 1882.,    0., 1998.,    0., 2092.,\n",
       "           0., 2020.,    0., 2105.,    0., 2086.,    0., 2029.,    0.,\n",
       "        1979.,    0., 1808., 1731.,    0., 1668., 1578.,    0., 1469.,\n",
       "        1278., 1236.,    0., 1220., 1933.,  976.,  880.,  890.,  791.,\n",
       "        1568.,  780.,  852.,  819., 1617.,  879.,  909.,  868.,  854.,\n",
       "         947.,  973., 1818.,  867.,  935.,  932.,  967., 1008., 1016.,\n",
       "        1063., 1134., 1120., 1190.,    0., 1218., 1325., 1399.,    0.,\n",
       "        1538., 1621.,    0., 1806.,    0., 1871.,    0., 2086.,    0.,\n",
       "        1894.,    0., 1933., 1956.,    0., 1836.,    0., 1761.,    0.,\n",
       "        1729., 1612.,    0., 1504., 1435., 1366.,    0., 1362., 1344.,\n",
       "        1345.,    0., 1451., 1359., 1355.,    0., 1384., 1448.,    0.,\n",
       "        1568., 1572.,    0., 1604.,    0., 1776., 1817.,    0., 1894.,\n",
       "           0., 2029.,    0., 2140.,    0., 2304.,    0.,    0., 2321.,\n",
       "           0., 2369.,    0., 2521.,    0.,    0., 2306.,    0., 2304.,\n",
       "           0., 2252.,    0., 2078.,    0., 1992.,    0., 1822.,    0.,\n",
       "        1933.,    0., 1903.,    0., 2025.,    0., 2136.,    0., 2260.,\n",
       "           0., 2304.,    0., 2327.,    0.,    0., 2453.,    0., 2459.,\n",
       "           0., 2408.,    0.,    0., 2236.,    0., 2316.,    0., 2287.,\n",
       "           0., 2174.,    0., 2282.,    0.,    0., 2316.,    0., 2391.,\n",
       "           0.,    0., 2592.,    0., 2691.,    0.,    0., 2740.,    0.,\n",
       "        2705.,    0.,    0., 2552.,    0., 2414.,    0., 2261.,    0.,\n",
       "        2041.,    0., 1853.,    0., 1779.,    0., 1616., 1474., 1425.,\n",
       "           0., 1352., 1234., 1253., 1196., 1170.,    0., 1208., 1342.,\n",
       "        1263., 1233., 1158.,    0., 1186., 1224., 1086.,  943., 1726.,\n",
       "         786., 1298.,  630., 1322.,  634., 1403.,  795.,  830.,  941.,\n",
       "         905.,  976., 1830.,  843.,  822.,  868.,  903., 1720.,  909.,\n",
       "         969.,  976., 1066., 1042., 1068.,  957.,  981.,  955.,  866.,\n",
       "        1241., 1265.,  942.,  652.]),\n",
       " array([  0.        ,   0.99609375,   1.9921875 ,   2.98828125,\n",
       "          3.984375  ,   4.98046875,   5.9765625 ,   6.97265625,\n",
       "          7.96875   ,   8.96484375,   9.9609375 ,  10.95703125,\n",
       "         11.953125  ,  12.94921875,  13.9453125 ,  14.94140625,\n",
       "         15.9375    ,  16.93359375,  17.9296875 ,  18.92578125,\n",
       "         19.921875  ,  20.91796875,  21.9140625 ,  22.91015625,\n",
       "         23.90625   ,  24.90234375,  25.8984375 ,  26.89453125,\n",
       "         27.890625  ,  28.88671875,  29.8828125 ,  30.87890625,\n",
       "         31.875     ,  32.87109375,  33.8671875 ,  34.86328125,\n",
       "         35.859375  ,  36.85546875,  37.8515625 ,  38.84765625,\n",
       "         39.84375   ,  40.83984375,  41.8359375 ,  42.83203125,\n",
       "         43.828125  ,  44.82421875,  45.8203125 ,  46.81640625,\n",
       "         47.8125    ,  48.80859375,  49.8046875 ,  50.80078125,\n",
       "         51.796875  ,  52.79296875,  53.7890625 ,  54.78515625,\n",
       "         55.78125   ,  56.77734375,  57.7734375 ,  58.76953125,\n",
       "         59.765625  ,  60.76171875,  61.7578125 ,  62.75390625,\n",
       "         63.75      ,  64.74609375,  65.7421875 ,  66.73828125,\n",
       "         67.734375  ,  68.73046875,  69.7265625 ,  70.72265625,\n",
       "         71.71875   ,  72.71484375,  73.7109375 ,  74.70703125,\n",
       "         75.703125  ,  76.69921875,  77.6953125 ,  78.69140625,\n",
       "         79.6875    ,  80.68359375,  81.6796875 ,  82.67578125,\n",
       "         83.671875  ,  84.66796875,  85.6640625 ,  86.66015625,\n",
       "         87.65625   ,  88.65234375,  89.6484375 ,  90.64453125,\n",
       "         91.640625  ,  92.63671875,  93.6328125 ,  94.62890625,\n",
       "         95.625     ,  96.62109375,  97.6171875 ,  98.61328125,\n",
       "         99.609375  , 100.60546875, 101.6015625 , 102.59765625,\n",
       "        103.59375   , 104.58984375, 105.5859375 , 106.58203125,\n",
       "        107.578125  , 108.57421875, 109.5703125 , 110.56640625,\n",
       "        111.5625    , 112.55859375, 113.5546875 , 114.55078125,\n",
       "        115.546875  , 116.54296875, 117.5390625 , 118.53515625,\n",
       "        119.53125   , 120.52734375, 121.5234375 , 122.51953125,\n",
       "        123.515625  , 124.51171875, 125.5078125 , 126.50390625,\n",
       "        127.5       , 128.49609375, 129.4921875 , 130.48828125,\n",
       "        131.484375  , 132.48046875, 133.4765625 , 134.47265625,\n",
       "        135.46875   , 136.46484375, 137.4609375 , 138.45703125,\n",
       "        139.453125  , 140.44921875, 141.4453125 , 142.44140625,\n",
       "        143.4375    , 144.43359375, 145.4296875 , 146.42578125,\n",
       "        147.421875  , 148.41796875, 149.4140625 , 150.41015625,\n",
       "        151.40625   , 152.40234375, 153.3984375 , 154.39453125,\n",
       "        155.390625  , 156.38671875, 157.3828125 , 158.37890625,\n",
       "        159.375     , 160.37109375, 161.3671875 , 162.36328125,\n",
       "        163.359375  , 164.35546875, 165.3515625 , 166.34765625,\n",
       "        167.34375   , 168.33984375, 169.3359375 , 170.33203125,\n",
       "        171.328125  , 172.32421875, 173.3203125 , 174.31640625,\n",
       "        175.3125    , 176.30859375, 177.3046875 , 178.30078125,\n",
       "        179.296875  , 180.29296875, 181.2890625 , 182.28515625,\n",
       "        183.28125   , 184.27734375, 185.2734375 , 186.26953125,\n",
       "        187.265625  , 188.26171875, 189.2578125 , 190.25390625,\n",
       "        191.25      , 192.24609375, 193.2421875 , 194.23828125,\n",
       "        195.234375  , 196.23046875, 197.2265625 , 198.22265625,\n",
       "        199.21875   , 200.21484375, 201.2109375 , 202.20703125,\n",
       "        203.203125  , 204.19921875, 205.1953125 , 206.19140625,\n",
       "        207.1875    , 208.18359375, 209.1796875 , 210.17578125,\n",
       "        211.171875  , 212.16796875, 213.1640625 , 214.16015625,\n",
       "        215.15625   , 216.15234375, 217.1484375 , 218.14453125,\n",
       "        219.140625  , 220.13671875, 221.1328125 , 222.12890625,\n",
       "        223.125     , 224.12109375, 225.1171875 , 226.11328125,\n",
       "        227.109375  , 228.10546875, 229.1015625 , 230.09765625,\n",
       "        231.09375   , 232.08984375, 233.0859375 , 234.08203125,\n",
       "        235.078125  , 236.07421875, 237.0703125 , 238.06640625,\n",
       "        239.0625    , 240.05859375, 241.0546875 , 242.05078125,\n",
       "        243.046875  , 244.04296875, 245.0390625 , 246.03515625,\n",
       "        247.03125   , 248.02734375, 249.0234375 , 250.01953125,\n",
       "        251.015625  , 252.01171875, 253.0078125 , 254.00390625,\n",
       "        255.        ]),\n",
       " <BarContainer object of 256 artists>)"
      ]
     },
     "execution_count": 161,
     "metadata": {},
     "output_type": "execute_result"
    },
    {
     "data": {
      "text/plain": [
       "(array([1.000e+00, 6.000e+00, 2.000e+01, 2.900e+01, 5.900e+01, 9.700e+01,\n",
       "        1.370e+02, 0.000e+00, 1.810e+02, 2.200e+02, 3.010e+02, 4.210e+02,\n",
       "        5.000e+02, 6.120e+02, 0.000e+00, 7.600e+02, 9.400e+02, 1.062e+03,\n",
       "        1.254e+03, 1.443e+03, 1.646e+03, 0.000e+00, 1.761e+03, 1.882e+03,\n",
       "        1.998e+03, 2.092e+03, 2.020e+03, 2.105e+03, 0.000e+00, 2.086e+03,\n",
       "        2.029e+03, 1.979e+03, 1.808e+03, 1.731e+03, 1.668e+03, 0.000e+00,\n",
       "        1.578e+03, 1.469e+03, 1.278e+03, 1.236e+03, 1.220e+03, 1.003e+03,\n",
       "        0.000e+00, 9.300e+02, 9.760e+02, 8.800e+02, 8.900e+02, 7.910e+02,\n",
       "        7.970e+02, 0.000e+00, 7.710e+02, 7.800e+02, 8.520e+02, 8.190e+02,\n",
       "        8.320e+02, 7.850e+02, 0.000e+00, 8.790e+02, 9.090e+02, 8.680e+02,\n",
       "        8.540e+02, 9.470e+02, 9.730e+02, 0.000e+00, 9.050e+02, 9.130e+02,\n",
       "        8.670e+02, 9.350e+02, 9.320e+02, 9.670e+02, 1.008e+03, 0.000e+00,\n",
       "        1.016e+03, 1.063e+03, 1.134e+03, 1.120e+03, 1.190e+03, 1.218e+03,\n",
       "        0.000e+00, 1.325e+03, 1.399e+03, 1.538e+03, 1.621e+03, 1.806e+03,\n",
       "        1.871e+03, 0.000e+00, 2.086e+03, 1.894e+03, 1.933e+03, 1.956e+03,\n",
       "        1.836e+03, 1.761e+03, 0.000e+00, 1.729e+03, 1.612e+03, 1.504e+03,\n",
       "        1.435e+03, 1.366e+03, 1.362e+03, 0.000e+00, 1.344e+03, 1.345e+03,\n",
       "        1.451e+03, 1.359e+03, 1.355e+03, 1.384e+03, 0.000e+00, 1.448e+03,\n",
       "        1.568e+03, 1.572e+03, 1.604e+03, 1.776e+03, 1.817e+03, 0.000e+00,\n",
       "        1.894e+03, 2.029e+03, 2.140e+03, 2.304e+03, 2.321e+03, 2.369e+03,\n",
       "        0.000e+00, 2.521e+03, 2.306e+03, 2.304e+03, 2.252e+03, 2.078e+03,\n",
       "        1.992e+03, 0.000e+00, 1.822e+03, 1.933e+03, 1.903e+03, 2.025e+03,\n",
       "        2.136e+03, 2.260e+03, 2.304e+03, 0.000e+00, 2.327e+03, 2.453e+03,\n",
       "        2.459e+03, 2.408e+03, 2.236e+03, 2.316e+03, 0.000e+00, 2.287e+03,\n",
       "        2.174e+03, 2.282e+03, 2.316e+03, 2.391e+03, 2.592e+03, 0.000e+00,\n",
       "        2.691e+03, 2.740e+03, 2.705e+03, 2.552e+03, 2.414e+03, 2.261e+03,\n",
       "        0.000e+00, 2.041e+03, 1.853e+03, 1.779e+03, 1.616e+03, 1.474e+03,\n",
       "        1.425e+03, 0.000e+00, 1.352e+03, 1.234e+03, 1.253e+03, 1.196e+03,\n",
       "        1.170e+03, 1.208e+03, 0.000e+00, 1.342e+03, 1.263e+03, 1.233e+03,\n",
       "        1.158e+03, 1.186e+03, 1.224e+03, 0.000e+00, 1.086e+03, 9.430e+02,\n",
       "        9.040e+02, 8.220e+02, 7.860e+02, 6.890e+02, 0.000e+00, 6.090e+02,\n",
       "        6.300e+02, 6.430e+02, 6.790e+02, 6.340e+02, 6.640e+02, 0.000e+00,\n",
       "        7.390e+02, 7.950e+02, 8.300e+02, 9.410e+02, 9.050e+02, 9.760e+02,\n",
       "        9.200e+02, 0.000e+00, 9.100e+02, 8.430e+02, 8.220e+02, 8.680e+02,\n",
       "        9.030e+02, 8.340e+02, 0.000e+00, 8.860e+02, 9.090e+02, 9.690e+02,\n",
       "        9.760e+02, 1.066e+03, 1.042e+03, 0.000e+00, 1.068e+03, 9.570e+02,\n",
       "        9.810e+02, 9.550e+02, 8.660e+02, 6.970e+02, 0.000e+00, 5.440e+02,\n",
       "        4.900e+02, 3.940e+02, 3.810e+02, 2.840e+02, 2.300e+02, 0.000e+00,\n",
       "        2.340e+02, 1.940e+02, 1.880e+02, 1.260e+02, 7.700e+01, 7.400e+01,\n",
       "        0.000e+00, 5.900e+01, 5.100e+01, 2.200e+01, 1.900e+01, 9.000e+00,\n",
       "        7.000e+00, 0.000e+00, 6.000e+00, 8.000e+00, 1.000e+00, 0.000e+00,\n",
       "        0.000e+00, 1.000e+00, 0.000e+00, 0.000e+00, 0.000e+00, 0.000e+00,\n",
       "        2.000e+00, 0.000e+00, 1.000e+00, 1.000e+00]),\n",
       " array([ 25.      ,  25.859375,  26.71875 ,  27.578125,  28.4375  ,\n",
       "         29.296875,  30.15625 ,  31.015625,  31.875   ,  32.734375,\n",
       "         33.59375 ,  34.453125,  35.3125  ,  36.171875,  37.03125 ,\n",
       "         37.890625,  38.75    ,  39.609375,  40.46875 ,  41.328125,\n",
       "         42.1875  ,  43.046875,  43.90625 ,  44.765625,  45.625   ,\n",
       "         46.484375,  47.34375 ,  48.203125,  49.0625  ,  49.921875,\n",
       "         50.78125 ,  51.640625,  52.5     ,  53.359375,  54.21875 ,\n",
       "         55.078125,  55.9375  ,  56.796875,  57.65625 ,  58.515625,\n",
       "         59.375   ,  60.234375,  61.09375 ,  61.953125,  62.8125  ,\n",
       "         63.671875,  64.53125 ,  65.390625,  66.25    ,  67.109375,\n",
       "         67.96875 ,  68.828125,  69.6875  ,  70.546875,  71.40625 ,\n",
       "         72.265625,  73.125   ,  73.984375,  74.84375 ,  75.703125,\n",
       "         76.5625  ,  77.421875,  78.28125 ,  79.140625,  80.      ,\n",
       "         80.859375,  81.71875 ,  82.578125,  83.4375  ,  84.296875,\n",
       "         85.15625 ,  86.015625,  86.875   ,  87.734375,  88.59375 ,\n",
       "         89.453125,  90.3125  ,  91.171875,  92.03125 ,  92.890625,\n",
       "         93.75    ,  94.609375,  95.46875 ,  96.328125,  97.1875  ,\n",
       "         98.046875,  98.90625 ,  99.765625, 100.625   , 101.484375,\n",
       "        102.34375 , 103.203125, 104.0625  , 104.921875, 105.78125 ,\n",
       "        106.640625, 107.5     , 108.359375, 109.21875 , 110.078125,\n",
       "        110.9375  , 111.796875, 112.65625 , 113.515625, 114.375   ,\n",
       "        115.234375, 116.09375 , 116.953125, 117.8125  , 118.671875,\n",
       "        119.53125 , 120.390625, 121.25    , 122.109375, 122.96875 ,\n",
       "        123.828125, 124.6875  , 125.546875, 126.40625 , 127.265625,\n",
       "        128.125   , 128.984375, 129.84375 , 130.703125, 131.5625  ,\n",
       "        132.421875, 133.28125 , 134.140625, 135.      , 135.859375,\n",
       "        136.71875 , 137.578125, 138.4375  , 139.296875, 140.15625 ,\n",
       "        141.015625, 141.875   , 142.734375, 143.59375 , 144.453125,\n",
       "        145.3125  , 146.171875, 147.03125 , 147.890625, 148.75    ,\n",
       "        149.609375, 150.46875 , 151.328125, 152.1875  , 153.046875,\n",
       "        153.90625 , 154.765625, 155.625   , 156.484375, 157.34375 ,\n",
       "        158.203125, 159.0625  , 159.921875, 160.78125 , 161.640625,\n",
       "        162.5     , 163.359375, 164.21875 , 165.078125, 165.9375  ,\n",
       "        166.796875, 167.65625 , 168.515625, 169.375   , 170.234375,\n",
       "        171.09375 , 171.953125, 172.8125  , 173.671875, 174.53125 ,\n",
       "        175.390625, 176.25    , 177.109375, 177.96875 , 178.828125,\n",
       "        179.6875  , 180.546875, 181.40625 , 182.265625, 183.125   ,\n",
       "        183.984375, 184.84375 , 185.703125, 186.5625  , 187.421875,\n",
       "        188.28125 , 189.140625, 190.      , 190.859375, 191.71875 ,\n",
       "        192.578125, 193.4375  , 194.296875, 195.15625 , 196.015625,\n",
       "        196.875   , 197.734375, 198.59375 , 199.453125, 200.3125  ,\n",
       "        201.171875, 202.03125 , 202.890625, 203.75    , 204.609375,\n",
       "        205.46875 , 206.328125, 207.1875  , 208.046875, 208.90625 ,\n",
       "        209.765625, 210.625   , 211.484375, 212.34375 , 213.203125,\n",
       "        214.0625  , 214.921875, 215.78125 , 216.640625, 217.5     ,\n",
       "        218.359375, 219.21875 , 220.078125, 220.9375  , 221.796875,\n",
       "        222.65625 , 223.515625, 224.375   , 225.234375, 226.09375 ,\n",
       "        226.953125, 227.8125  , 228.671875, 229.53125 , 230.390625,\n",
       "        231.25    , 232.109375, 232.96875 , 233.828125, 234.6875  ,\n",
       "        235.546875, 236.40625 , 237.265625, 238.125   , 238.984375,\n",
       "        239.84375 , 240.703125, 241.5625  , 242.421875, 243.28125 ,\n",
       "        244.140625, 245.      ]),\n",
       " <BarContainer object of 256 artists>)"
      ]
     },
     "execution_count": 161,
     "metadata": {},
     "output_type": "execute_result"
    },
    {
     "data": {
      "image/png": "[encoded data removed]",
      "text/plain": [
       "<Figure size 432x288 with 1 Axes>"
      ]
     },
     "metadata": {
      "needs_background": "light"
     },
     "output_type": "display_data"
    }
   ],
   "source": [
    "img_lenna = cv2.imread('lenna.png', 1)\n",
    "gray = cv2.cvtColor(img_lenna, cv2.COLOR_BGR2GRAY)\n",
    "# cv2.equlizeHist(gray)\n",
    "dst = cv2.equalizeHist(gray)\n",
    "\n",
    "# 比较原图的hist与均衡化之后的结果\n",
    "\n",
    "plt.figure()\n",
    "plt.hist(dst.ravel(), 256)\n",
    "plt.hist(gray.ravel(), 256)\n",
    "plt.show()"
   ]
  },
  {
   "cell_type": "code",
   "execution_count": null,
   "metadata": {
    "ExecuteTime": {
     "end_time": "2021-07-07T04:33:47.874059Z",
     "start_time": "2021-07-07T04:33:47.393394Z"
    }
   },
   "outputs": [],
   "source": [
    "img = cv2.imread('lenna.png', 1)\n",
    "# cv2.imshow('lenna', img)\n",
    "\n",
    "(b ,g,r) = cv2.split(img)\n",
    "bH = cv2.equalizeHist([b])\n",
    "gH = cv2.equalizeHist(g)\n",
    "rH = cv2.equalizeHist(r)\n",
    "# 合并为一个通道\n",
    "\n",
    "result = cv2.merge((bH, gH, rH))\n",
    "cv.imshow('dst_rgb',result)\n",
    "cv2.waitKey(0)\n"
   ]
  },
  {
   "cell_type": "code",
   "execution_count": 115,
   "metadata": {
    "ExecuteTime": {
     "end_time": "2021-07-07T02:59:27.149009Z",
     "start_time": "2021-07-07T02:59:27.141962Z"
    }
   },
   "outputs": [
    {
     "data": {
      "text/plain": [
       "array([[ 23, 116, 255, 255, 220],\n",
       "       [ 70,  23, 116, 197, 116],\n",
       "       [116, 185,   0, 185, 128],\n",
       "       [185, 220,  70,   0, 139],\n",
       "       [ 70, 255,  70, 185,   0]], dtype=uint8)"
      ]
     },
     "execution_count": 115,
     "metadata": {},
     "output_type": "execute_result"
    }
   ],
   "source": []
  },
  {
   "cell_type": "code",
   "execution_count": 137,
   "metadata": {
    "ExecuteTime": {
     "end_time": "2021-07-07T03:42:59.802014Z",
     "start_time": "2021-07-07T03:42:59.781765Z"
    }
   },
   "outputs": [
    {
     "data": {
      "text/plain": [
       "dtype('uint8')"
      ]
     },
     "execution_count": 137,
     "metadata": {},
     "output_type": "execute_result"
    }
   ],
   "source": [
    "img = cv2.imread(\"lenna.png\")\n",
    "h,w = img.shape[:2] \n",
    "img.dtype"
   ]
  },
  {
   "cell_type": "code",
   "execution_count": null,
   "metadata": {},
   "outputs": [],
   "source": [
    "tf.nn.conv2d (input, filter, strides, padding, use_cudnn_on_gpu=None, data_format=None, name=None)"
   ]
  },
  {
   "cell_type": "code",
   "execution_count": null,
   "metadata": {},
   "outputs": [],
   "source": []
  },
  {
   "cell_type": "code",
   "execution_count": null,
   "metadata": {},
   "outputs": [],
   "source": []
  },
  {
   "cell_type": "code",
   "execution_count": null,
   "metadata": {},
   "outputs": [],
   "source": []
  },
  {
   "cell_type": "code",
   "execution_count": null,
   "metadata": {},
   "outputs": [],
   "source": []
  },
  {
   "cell_type": "code",
   "execution_count": null,
   "metadata": {},
   "outputs": [],
   "source": []
  },
  {
   "cell_type": "code",
   "execution_count": null,
   "metadata": {},
   "outputs": [],
   "source": []
  }
 ],
 "metadata": {
  "hide_input": false,
  "kernelspec": {
   "display_name": "Python 3 (ipykernel)",
   "language": "python",
   "name": "python3"
  },
  "language_info": {
   "codemirror_mode": {
    "name": "ipython",
    "version": 3
   },
   "file_extension": ".py",
   "mimetype": "text/x-python",
   "name": "python",
   "nbconvert_exporter": "python",
   "pygments_lexer": "ipython3",
   "version": "3.7.10"
  },
  "nbTranslate": {
   "displayLangs": [
    "*"
   ],
   "hotkey": "alt-t",
   "langInMainMenu": true,
   "sourceLang": "en",
   "targetLang": "fr",
   "useGoogleTranslate": true
  },
  "toc": {
   "base_numbering": 1,
   "nav_menu": {},
   "number_sections": true,
   "sideBar": true,
   "skip_h1_title": false,
   "title_cell": "Table of Contents",
   "title_sidebar": "Contents",
   "toc_cell": false,
   "toc_position": {},
   "toc_section_display": true,
   "toc_window_display": false
  },
  "varInspector": {
   "cols": {
    "lenName": 16,
    "lenType": 16,
    "lenVar": 40
   },
   "kernels_config": {
    "python": {
     "delete_cmd_postfix": "",
     "delete_cmd_prefix": "del ",
     "library": "var_list.py",
     "varRefreshCmd": "print(var_dic_list())"
    },
    "r": {
     "delete_cmd_postfix": ") ",
     "delete_cmd_prefix": "rm(",
     "library": "var_list.r",
     "varRefreshCmd": "cat(var_dic_list()) "
    }
   },
   "types_to_exclude": [
    "module",
    "function",
    "builtin_function_or_method",
    "instance",
    "_Feature"
   ],
   "window_display": false
  }
 },
 "nbformat": 4,
 "nbformat_minor": 1
}