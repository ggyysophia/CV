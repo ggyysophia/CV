{
 "cells": [
  {
   "cell_type": "code",
   "execution_count": 50,
   "metadata": {
    "collapsed": true
   },
   "outputs": [
    {
     "name": "stdout",
     "output_type": "stream",
     "text": [
      "(2,)\n"
     ]
    }
   ],
   "source": [
    "# lazy\n",
    "import numpy as np\n",
    "i1_i2 = np.array([0.05, 0.10])\n",
    "w1_w2 = np.array([0.15, 0.20])\n",
    "w3_w4 = np.array([0.25, 0.30])\n",
    "w5_w6 = np.array([0.40, 0.45])\n",
    "w7_w8 = np.array([0.50, 0.55])\n",
    "b1 = 0.35\n",
    "b2 = 0.60\n",
    "target = np.array([0.01, 0.99])\n",
    "print(i1_i2.shape)"
   ]
  },
  {
   "cell_type": "code",
   "execution_count": 51,
   "outputs": [
    {
     "data": {
      "text/plain": "0.3775"
     },
     "execution_count": 51,
     "metadata": {},
     "output_type": "execute_result"
    }
   ],
   "source": [
    "def sigmoid(x):\n",
    "    return 1 / (1 + np.exp(-x))\n",
    "out_h1 = np.dot(i1_i2, w1_w2) + b1\n",
    "out_h1"
   ],
   "metadata": {
    "collapsed": false,
    "pycharm": {
     "name": "#%%\n"
    }
   }
  },
  {
   "cell_type": "code",
   "execution_count": 52,
   "outputs": [
    {
     "data": {
      "text/plain": "0.5932699921071872"
     },
     "execution_count": 52,
     "metadata": {},
     "output_type": "execute_result"
    }
   ],
   "source": [
    "act_h1 = sigmoid(out_h1)\n",
    "act_h1"
   ],
   "metadata": {
    "collapsed": false,
    "pycharm": {
     "name": "#%%\n"
    }
   }
  },
  {
   "cell_type": "code",
   "execution_count": 53,
   "outputs": [
    {
     "data": {
      "text/plain": "(0.39249999999999996, 0.596884378259767)"
     },
     "execution_count": 53,
     "metadata": {},
     "output_type": "execute_result"
    }
   ],
   "source": [
    "out_h2 = np.dot(i1_i2, w3_w4) + b1\n",
    "act_h2 = sigmoid(out_h2)\n",
    "out_h2, act_h2"
   ],
   "metadata": {
    "collapsed": false,
    "pycharm": {
     "name": "#%%\n"
    }
   }
  },
  {
   "cell_type": "code",
   "execution_count": 54,
   "outputs": [
    {
     "data": {
      "text/plain": "array([0.59326999, 0.59688438])"
     },
     "execution_count": 54,
     "metadata": {},
     "output_type": "execute_result"
    }
   ],
   "source": [
    "h = np.array([act_h1, act_h2])\n",
    "h"
   ],
   "metadata": {
    "collapsed": false,
    "pycharm": {
     "name": "#%%\n"
    }
   }
  },
  {
   "cell_type": "code",
   "execution_count": 37,
   "outputs": [],
   "source": [
    "out_o1 = np.dot(h, w5_w6) + b2\n",
    "out_o2 = np.dot(h, w7_w8) + b2\n",
    "act_o1 = sigmoid(out_o1)\n",
    "act_o2 = sigmoid(out_o2)"
   ],
   "metadata": {
    "collapsed": false,
    "pycharm": {
     "name": "#%%\n"
    }
   }
  },
  {
   "cell_type": "code",
   "execution_count": 55,
   "outputs": [],
   "source": [
    "def loss(target, output):\n",
    "    return (target - output) ** 2"
   ],
   "metadata": {
    "collapsed": false,
    "pycharm": {
     "name": "#%%\n"
    }
   }
  },
  {
   "cell_type": "code",
   "execution_count": 56,
   "outputs": [],
   "source": [
    "E_o1 = loss(0.01, act_h1)\n",
    "E_o2 = loss(0.99, act_h2)"
   ],
   "metadata": {
    "collapsed": false,
    "pycharm": {
     "name": "#%%\n"
    }
   }
  },
  {
   "cell_type": "code",
   "execution_count": 57,
   "outputs": [],
   "source": [
    "E_total = 1 / 2 *(E_o1 + E_o2)"
   ],
   "metadata": {
    "collapsed": false,
    "pycharm": {
     "name": "#%%\n"
    }
   }
  },
  {
   "cell_type": "code",
   "execution_count": 58,
   "outputs": [
    {
     "data": {
      "text/plain": "0.08216704056423078"
     },
     "execution_count": 58,
     "metadata": {},
     "output_type": "execute_result"
    }
   ],
   "source": [
    "delta_outo1_w5 = h[0]\n",
    "delta_acto1_outo1 = act_o1 * (1 - act_o1)\n",
    "delta_Etotal_acto1 = - (target[0] - act_o1)      # - (target - act_o1)\n",
    "delta_Etotal_w5 = delta_Etotal_acto1 * delta_acto1_outo1 * delta_outo1_w5\n",
    "delta_Etotal_w5"
   ],
   "metadata": {
    "collapsed": false,
    "pycharm": {
     "name": "#%%\n"
    }
   }
  },
  {
   "cell_type": "code",
   "execution_count": 59,
   "outputs": [
    {
     "data": {
      "text/plain": "0.00043856773447434685"
     },
     "execution_count": 59,
     "metadata": {},
     "output_type": "execute_result"
    }
   ],
   "source": [
    "delta_Etotal_acto1 = - (target[0] - act_o1)\n",
    "delta_acto1_outo1 = act_o1 * (1 - act_o1)\n",
    "delta_outo1_acth1 = w5_w6[0]\n",
    "delta_Eo1_acth1 = delta_Etotal_acto1 * delta_acto1_outo1 * delta_outo1_acth1\n",
    "\n",
    "delta_Etotal_acto2 = -(target[1] - act_o2)\n",
    "delta_acto2_outo2 = act_o2 * (1 - act_o2)\n",
    "delta_outo2_acth1 = w7_w8[0]\n",
    "delta_Eo2_acth1 = delta_Etotal_acto2 * delta_acto2_outo2 * delta_outo2_acth1\n",
    "\n",
    "delta_acth1_outh1 = act_h1 * (1 - act_h1)\n",
    "delta_outh1_w1 = i1_i2[0]\n",
    "delta_Etotal_w1 = (delta_Eo1_acth1 + delta_Eo2_acth1) * delta_acth1_outh1 * delta_outh1_w1\n",
    "delta_Etotal_w1"
   ],
   "metadata": {
    "collapsed": false,
    "pycharm": {
     "name": "#%%\n"
    }
   }
  },
  {
   "cell_type": "code",
   "execution_count": 42,
   "outputs": [],
   "source": [],
   "metadata": {
    "collapsed": false,
    "pycharm": {
     "name": "#%%\n"
    }
   }
  },
  {
   "cell_type": "code",
   "execution_count": null,
   "outputs": [],
   "source": [],
   "metadata": {
    "collapsed": false,
    "pycharm": {
     "name": "#%%\n"
    }
   }
  }
 ],
 "metadata": {
  "kernelspec": {
   "display_name": "Python 3",
   "language": "python",
   "name": "python3"
  },
  "language_info": {
   "codemirror_mode": {
    "name": "ipython",
    "version": 2
   },
   "file_extension": ".py",
   "mimetype": "text/x-python",
   "name": "python",
   "nbconvert_exporter": "python",
   "pygments_lexer": "ipython2",
   "version": "2.7.6"
  }
 },
 "nbformat": 4,
 "nbformat_minor": 0
}