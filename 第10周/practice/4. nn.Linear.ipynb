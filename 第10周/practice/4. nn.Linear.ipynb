{
 "cells": [
  {
   "cell_type": "code",
   "execution_count": 9,
   "id": "cf32c04e",
   "metadata": {
    "ExecuteTime": {
     "end_time": "2021-08-23T04:30:21.869203Z",
     "start_time": "2021-08-23T04:30:21.865053Z"
    }
   },
   "outputs": [],
   "source": [
    "import torch.nn as nn\n",
    "import torch"
   ]
  },
  {
   "cell_type": "code",
   "execution_count": 4,
   "id": "1e21cd73",
   "metadata": {
    "ExecuteTime": {
     "end_time": "2021-08-23T04:25:34.158500Z",
     "start_time": "2021-08-23T04:25:34.150273Z"
    }
   },
   "outputs": [
    {
     "data": {
      "text/plain": [
       "OrderedDict([('weight',\n",
       "              tensor([[-0.0510, -0.5515, -0.1412],\n",
       "                      [ 0.1045,  0.2498,  0.2183],\n",
       "                      [ 0.5471, -0.4766,  0.1368],\n",
       "                      [-0.1376,  0.0251, -0.4430]])),\n",
       "             ('bias', tensor([-0.2121,  0.4235,  0.4797,  0.5218]))])"
      ]
     },
     "execution_count": 4,
     "metadata": {},
     "output_type": "execute_result"
    }
   ],
   "source": [
    "\n",
    "m = nn.Linear(3, 4)\n",
    "# nn.linear(in_features, out_fatures, bias, )\n",
    "'''\n",
    "x.shape = (20, 3) y.shape = (20, 4)\n",
    "\n",
    "in_features: size of each input\n",
    "\n",
    "in_features = 3\n",
    "\n",
    "out_features: size of each \n",
    "out_features = 4\n",
    "\n",
    "input: math (N, *, H_{in})\n",
    "'''\n",
    "m.state_dict()\n",
    "\n",
    "'''\n",
    "m.state_dict().keys()\n",
    ">>> odict_keys(['weight', 'bias'])\n",
    "\n",
    "m.weight  shape (4, 3) (out, in)\n",
    "\n",
    "m.bias  shape(4, ),  (out)\n",
    "\n",
    "'''"
   ]
  },
  {
   "cell_type": "code",
   "execution_count": 8,
   "id": "7016f0de",
   "metadata": {
    "ExecuteTime": {
     "end_time": "2021-08-23T04:28:37.707182Z",
     "start_time": "2021-08-23T04:28:37.700733Z"
    }
   },
   "outputs": [
    {
     "data": {
      "text/plain": [
       "torch.Size([4])"
      ]
     },
     "execution_count": 8,
     "metadata": {},
     "output_type": "execute_result"
    }
   ],
   "source": [
    "m.bias.shape"
   ]
  },
  {
   "cell_type": "code",
   "execution_count": 11,
   "id": "051e1fea",
   "metadata": {
    "ExecuteTime": {
     "end_time": "2021-08-23T04:31:30.785990Z",
     "start_time": "2021-08-23T04:31:30.715676Z"
    }
   },
   "outputs": [
    {
     "data": {
      "text/plain": [
       "torch.Size([128, 30])"
      ]
     },
     "execution_count": 11,
     "metadata": {},
     "output_type": "execute_result"
    }
   ],
   "source": [
    "m1 = nn.Linear(20, 30)\n",
    "imput = torch.randn(128, 20)\n",
    "output = m1(imput)\n",
    "output.size()"
   ]
  },
  {
   "cell_type": "code",
   "execution_count": 12,
   "id": "59aecdfe",
   "metadata": {
    "ExecuteTime": {
     "end_time": "2021-08-23T04:38:23.386534Z",
     "start_time": "2021-08-23T04:38:23.380390Z"
    }
   },
   "outputs": [
    {
     "data": {
      "text/plain": [
       "torch.Size([4, 3])"
      ]
     },
     "execution_count": 12,
     "metadata": {},
     "output_type": "execute_result"
    }
   ],
   "source": [
    "m.weight.size()"
   ]
  },
  {
   "cell_type": "code",
   "execution_count": 13,
   "id": "1071cb2e",
   "metadata": {
    "ExecuteTime": {
     "end_time": "2021-08-23T04:38:31.238688Z",
     "start_time": "2021-08-23T04:38:31.232591Z"
    }
   },
   "outputs": [
    {
     "data": {
      "text/plain": [
       "torch.Size([4, 3])"
      ]
     },
     "execution_count": 13,
     "metadata": {},
     "output_type": "execute_result"
    }
   ],
   "source": [
    "m.weight.shape"
   ]
  },
  {
   "cell_type": "code",
   "execution_count": 17,
   "id": "4d0180f4",
   "metadata": {
    "ExecuteTime": {
     "end_time": "2021-08-23T04:40:22.241406Z",
     "start_time": "2021-08-23T04:40:22.234183Z"
    }
   },
   "outputs": [
    {
     "data": {
      "text/plain": [
       "tensor([[-0.0510, -0.5515, -0.1412,  0.1045],\n",
       "        [ 0.2498,  0.2183,  0.5471, -0.4766],\n",
       "        [ 0.1368, -0.1376,  0.0251, -0.4430]], grad_fn=<ViewBackward>)"
      ]
     },
     "execution_count": 17,
     "metadata": {},
     "output_type": "execute_result"
    }
   ],
   "source": [
    "d = m.weight\n",
    "d.view(-1, 4)\n"
   ]
  },
  {
   "cell_type": "code",
   "execution_count": 18,
   "id": "b951415a",
   "metadata": {
    "ExecuteTime": {
     "end_time": "2021-08-23T04:40:33.492632Z",
     "start_time": "2021-08-23T04:40:33.486023Z"
    }
   },
   "outputs": [
    {
     "data": {
      "text/plain": [
       "Parameter containing:\n",
       "tensor([[-0.0510, -0.5515, -0.1412],\n",
       "        [ 0.1045,  0.2498,  0.2183],\n",
       "        [ 0.5471, -0.4766,  0.1368],\n",
       "        [-0.1376,  0.0251, -0.4430]], requires_grad=True)"
      ]
     },
     "execution_count": 18,
     "metadata": {},
     "output_type": "execute_result"
    }
   ],
   "source": [
    "m.weight"
   ]
  },
  {
   "cell_type": "code",
   "execution_count": null,
   "id": "d82b3135",
   "metadata": {},
   "outputs": [],
   "source": []
  }
 ],
 "metadata": {
  "hide_input": false,
  "kernelspec": {
   "display_name": "Python 3 (ipykernel)",
   "language": "python",
   "name": "python3"
  },
  "language_info": {
   "codemirror_mode": {
    "name": "ipython",
    "version": 3
   },
   "file_extension": ".py",
   "mimetype": "text/x-python",
   "name": "python",
   "nbconvert_exporter": "python",
   "pygments_lexer": "ipython3",
   "version": "3.7.10"
  },
  "nbTranslate": {
   "displayLangs": [
    "*"
   ],
   "hotkey": "alt-t",
   "langInMainMenu": true,
   "sourceLang": "en",
   "targetLang": "fr",
   "useGoogleTranslate": true
  },
  "toc": {
   "base_numbering": 1,
   "nav_menu": {},
   "number_sections": true,
   "sideBar": true,
   "skip_h1_title": false,
   "title_cell": "Table of Contents",
   "title_sidebar": "Contents",
   "toc_cell": false,
   "toc_position": {},
   "toc_section_display": true,
   "toc_window_display": false
  },
  "varInspector": {
   "cols": {
    "lenName": 16,
    "lenType": 16,
    "lenVar": 40
   },
   "kernels_config": {
    "python": {
     "delete_cmd_postfix": "",
     "delete_cmd_prefix": "del ",
     "library": "var_list.py",
     "varRefreshCmd": "print(var_dic_list())"
    },
    "r": {
     "delete_cmd_postfix": ") ",
     "delete_cmd_prefix": "rm(",
     "library": "var_list.r",
     "varRefreshCmd": "cat(var_dic_list()) "
    }
   },
   "types_to_exclude": [
    "module",
    "function",
    "builtin_function_or_method",
    "instance",
    "_Feature"
   ],
   "window_display": false
  }
 },
 "nbformat": 4,
 "nbformat_minor": 5
}
