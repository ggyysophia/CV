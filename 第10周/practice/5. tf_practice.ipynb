{
 "cells": [
  {
   "cell_type": "code",
   "execution_count": 11,
   "id": "6eebfe6b",
   "metadata": {
    "ExecuteTime": {
     "end_time": "2021-08-23T08:32:09.682963Z",
     "start_time": "2021-08-23T08:32:09.674433Z"
    }
   },
   "outputs": [],
   "source": [
    "import os\n",
    "import tensorflow as tf\n",
    "import numpy as np"
   ]
  },
  {
   "cell_type": "code",
   "execution_count": 2,
   "id": "90fdcebe",
   "metadata": {
    "ExecuteTime": {
     "end_time": "2021-08-23T08:11:34.005210Z",
     "start_time": "2021-08-23T08:11:34.001045Z"
    }
   },
   "outputs": [],
   "source": [
    "num_classes = 10\n",
    "num_examples_pre_epoch_for_train = 50000\n",
    "num_examples_pre_epoch_for_test = 10000"
   ]
  },
  {
   "cell_type": "code",
   "execution_count": 3,
   "id": "05b772b7",
   "metadata": {
    "ExecuteTime": {
     "end_time": "2021-08-23T08:12:08.628056Z",
     "start_time": "2021-08-23T08:12:08.624638Z"
    }
   },
   "outputs": [],
   "source": [
    "class CIFAR10Record(object):  # read data\n",
    "    pass"
   ]
  },
  {
   "cell_type": "code",
   "execution_count": null,
   "id": "f1713dfa",
   "metadata": {},
   "outputs": [],
   "source": [
    "# read data from cifar_10\n",
    "# set a function to realize it\n",
    "def read_cifar10(file_queue):\n",
    "    result =CIFAR10Record()\n",
    "    \n",
    "    label_bytes = 1\n",
    "    result.height = 32\n",
    "    result.width = 32\n",
    "    result.depth = 3    # RGB 三通道 所以设置为3\n",
    "    \n",
    "    #图片样本总元素数量\n",
    "    image_bytes = result.height * result.width * result.depth\n",
    "    #因为每一个样本包含图片和标签，所以最终的元素数量还需要图片样本数量加上一个标签值\n",
    "    record_bytes = label_bytes + image_bytes\n",
    "    #使用tf.FixedLengthRecordReader()创建一个文件读取类。该类的目的就是读取文件\n",
    "    reader = tf.FixedLengthRecordReader(record_bytes=record_bytes)\n",
    "    #使用该类的read()函数从文件队列里面读取文件\n",
    "    result.key, value = reader.read(file_queue)\n",
    "    #读取到文件以后，将读取到的文件内容从字符串形式解析为图像对应的像素数组\n",
    "    record_bytes = tf.decode_raw(value, tf.uint8)\n",
    "    result.label = tf.cast(tf.strided_slice(record_bytes, [0], [label_bytes]), tf.int32)\n",
    "    \n",
    "    "
   ]
  },
  {
   "cell_type": "code",
   "execution_count": 23,
   "id": "7afc08c7",
   "metadata": {
    "ExecuteTime": {
     "end_time": "2021-08-23T08:42:23.433587Z",
     "start_time": "2021-08-23T08:42:23.406616Z"
    }
   },
   "outputs": [
    {
     "name": "stdout",
     "output_type": "stream",
     "text": [
      "[[[3 3 3]]]\n"
     ]
    },
    {
     "name": "stderr",
     "output_type": "stream",
     "text": [
      "2021-08-23 16:42:23.417447: I tensorflow/core/platform/cpu_feature_guard.cc:142] Your CPU supports instructions that this TensorFlow binary was not compiled to use: AVX2 FMA\n"
     ]
    }
   ],
   "source": [
    "t = tf.constant([[[1, 1, 1], [2, 2, 2]],\n",
    "                   [[3, 3, 3], [4, 4, 4]],\n",
    "                   [[5, 5, 5], [6, 6, 6]]])\n",
    "\n",
    "d = tf.strided_slice(t, [1,0,0], [2,1,3], [1,1,1])\n",
    "with tf.Session() as sess:\n",
    "    print(sess.run(d))"
   ]
  },
  {
   "cell_type": "code",
   "execution_count": 25,
   "id": "ed6d79d1",
   "metadata": {
    "ExecuteTime": {
     "end_time": "2021-08-23T08:46:39.848729Z",
     "start_time": "2021-08-23T08:46:39.837307Z"
    }
   },
   "outputs": [
    {
     "name": "stdout",
     "output_type": "stream",
     "text": [
      "[[[3 3 3]]]\n"
     ]
    }
   ],
   "source": [
    "# casts a tensor to a new type\n",
    "\n",
    "x = tf.cast(d, tf.int32)\n",
    "with tf.Session() as sess:\n",
    "    print(sess.run(x))"
   ]
  },
  {
   "cell_type": "code",
   "execution_count": 52,
   "id": "b5827b62",
   "metadata": {
    "ExecuteTime": {
     "end_time": "2021-08-23T09:17:09.496495Z",
     "start_time": "2021-08-23T09:17:09.409314Z"
    }
   },
   "outputs": [
    {
     "name": "stdout",
     "output_type": "stream",
     "text": [
      "[-0.46280667 -0.5934168   0.515147    0.4004234  -0.1310015   0.2182717\n",
      " -0.3079919   1.3443828  -1.0282623  -0.45663792  0.995802    0.12237296\n",
      " -1.0686374   0.5461912   1.9867761   0.63227123  0.10301021  1.7323191\n",
      "  1.1351365   1.4918474 ]\n",
      "d1 \n",
      "g [[-2.682809   -1.0353603  -0.96789247 -0.33038637  1.3372775 ]\n",
      " [ 0.06058144 -0.22979157  2.06731     0.18447055 -0.932469  ]\n",
      " [ 0.10038287 -0.40800938 -0.14707929 -1.0491768   0.587055  ]]\n",
      "d2 \n",
      " [[ 2.4149213   1.3852121  -0.03950839]\n",
      " [ 0.85421014 -1.2245045   2.0104637 ]\n",
      " [ 0.79108167 -0.9492664  -1.9332377 ]\n",
      " [ 0.15514271 -0.32711402 -0.02962284]\n",
      " [ 0.48522878 -0.57196707 -0.9720174 ]]\n",
      "[-0.46280667 -0.5934168   0.515147    0.4004234  -0.1310015   0.2182717\n",
      " -0.3079919   1.3443828  -1.0282623  -0.45663792  0.995802    0.12237296\n",
      " -1.0686374   0.5461912   1.9867761   0.63227123  0.10301021  1.7323191\n",
      "  1.1351365   1.4918474 ]\n",
      "d1 \n",
      " [[-2.682809   -1.0353603  -0.96789247 -0.33038637  1.3372775 ]\n",
      " [ 0.06058144 -0.22979157  2.06731     0.18447055 -0.932469  ]\n",
      " [ 0.10038287 -0.40800938 -0.14707929 -1.0491768   0.587055  ]]\n",
      "d2 \n",
      " [[ 2.4149213   1.3852121  -0.03950839]\n",
      " [ 0.85421014 -1.2245045   2.0104637 ]\n",
      " [ 0.79108167 -0.9492664  -1.9332377 ]\n",
      " [ 0.15514271 -0.32711402 -0.02962284]\n",
      " [ 0.48522878 -0.57196707 -0.9720174 ]]\n"
     ]
    }
   ],
   "source": [
    "\n",
    "g1 = tf.Graph()\n",
    "\n",
    "with g1.as_default():\n",
    "    tf.set_random_seed(11111)\n",
    "    rn = tf.random_normal((20, ), 0 , 1, seed=1)\n",
    "    d = tf.strided_slice(rn, [0],[15])\n",
    "    d1 = tf.reshape(d, [3,5])\n",
    "    d2 = tf.transpose(d1, [1, 0])\n",
    "\n",
    "    with tf.Session() as sess:\n",
    "        print(sess.run(rn))\n",
    "    #     print('d', sess.run(d))\n",
    "        print('d1 \\ng',sess.run(d1))\n",
    "        print('d2 \\n', sess.run(d2))\n",
    "    \n",
    "import random\n",
    "def seed_tensorflow(seed=42):\n",
    "    random.seed(seed)\n",
    "    os.environ['PYTHONHASHSEED'] = str(seed)\n",
    "    np.random.seed(seed)\n",
    "    tf.set_random_seed(seed)  \n",
    "    \n",
    "seed_tensorflow()\n",
    "tf.set_random_seed(11111)\n",
    "rn = tf.random_normal((20, ), 0 , 1, seed=1)\n",
    "d = tf.strided_slice(rn, [0],[15])\n",
    "d1 = tf.reshape(d, [3,5])\n",
    "d2 = tf.transpose(d1, [1, 0])\n",
    "\n",
    "with tf.Session() as sess:\n",
    "    print(sess.run(rn))\n",
    "#     print('d', sess.run(d))\n",
    "    print('d1 \\n',sess.run(d1))\n",
    "    print('d2 \\n', sess.run(d2))\n"
   ]
  },
  {
   "cell_type": "code",
   "execution_count": 60,
   "id": "2cc9fd80",
   "metadata": {
    "ExecuteTime": {
     "end_time": "2021-08-23T09:27:52.025186Z",
     "start_time": "2021-08-23T09:27:51.980975Z"
    }
   },
   "outputs": [
    {
     "name": "stdout",
     "output_type": "stream",
     "text": [
      "[[1 2 3]\n",
      " [4 5 6]\n",
      " [7 8 9]]\n",
      "[[1 2 3]\n",
      " [4 5 6]]\n",
      "[[1 4]\n",
      " [2 5]\n",
      " [3 6]]\n"
     ]
    }
   ],
   "source": [
    "r1 = tf.constant([[1,2,3],[4,5,6],[7,8,9]], dtype=tf.int32)\n",
    "d1 = tf.strided_slice(r1, [0],[2])\n",
    "d2 = tf.transpose(d1,[1,0])\n",
    "with tf.Session() as sess:\n",
    "    print(sess.run(r1))\n",
    "    print(sess.run(d1))\n",
    "    print(sess.run(d2))"
   ]
  },
  {
   "cell_type": "code",
   "execution_count": 57,
   "id": "bb0397e6",
   "metadata": {
    "ExecuteTime": {
     "end_time": "2021-08-23T09:26:41.326100Z",
     "start_time": "2021-08-23T09:26:41.319926Z"
    }
   },
   "outputs": [],
   "source": [
    "tf.Tensor?"
   ]
  },
  {
   "cell_type": "code",
   "execution_count": 62,
   "id": "cfa5feb1",
   "metadata": {
    "ExecuteTime": {
     "end_time": "2021-08-23T09:42:05.319012Z",
     "start_time": "2021-08-23T09:42:05.268596Z"
    }
   },
   "outputs": [
    {
     "name": "stdout",
     "output_type": "stream",
     "text": [
      "[[[-0.05203531  0.01446923 -0.72729325]\n",
      "  [ 0.4078864   1.4496135  -0.49595463]\n",
      "  [ 0.5115382  -1.7161654  -0.18878478]]\n",
      "\n",
      " [[-0.6208398  -0.8725927  -0.76790595]\n",
      "  [ 0.6063697  -1.8195024   0.42975593]\n",
      "  [ 1.1287448  -0.18421967 -0.7366754 ]]\n",
      "\n",
      " [[ 0.70242524  0.21769351  0.8048375 ]\n",
      "  [-0.9282432  -0.05181047 -0.61435205]\n",
      "  [ 0.16932064 -0.8088874  -0.3932943 ]]]\n",
      "[[[ 1.2078463   0.24665841 -0.5446295 ]\n",
      "  [ 1.3327177  -0.9853704  -1.0088738 ]]\n",
      "\n",
      " [[ 1.1313366   0.20118745  0.39407343]\n",
      "  [-0.26107475  0.20895633  0.39895642]]]\n"
     ]
    }
   ],
   "source": [
    "# 图片的增强\n",
    "# 随机裁剪 tf.random_crop\n",
    "r1 = tf.random_normal((3,3,3))\n",
    "r2 = tf.random_crop(r1, [2, 2, 3])\n",
    "\n",
    "with tf.Session() as sess:\n",
    "    print(sess.run(r1))\n",
    "    print(sess.run(r2))\n"
   ]
  },
  {
   "cell_type": "code",
   "execution_count": 63,
   "id": "ffb4069d",
   "metadata": {
    "ExecuteTime": {
     "end_time": "2021-08-23T09:55:12.875774Z",
     "start_time": "2021-08-23T09:55:12.857883Z"
    }
   },
   "outputs": [
    {
     "ename": "TypeError",
     "evalue": "random_flip_left_right() missing 1 required positional argument: 'image'",
     "output_type": "error",
     "traceback": [
      "\u001b[0;31m---------------------------------------------------------------------------\u001b[0m",
      "\u001b[0;31mTypeError\u001b[0m                                 Traceback (most recent call last)",
      "\u001b[0;32m/var/folders/5t/c61g0ww90lq59p8dyj60dz400000gn/T/ipykernel_6707/3123218787.py\u001b[0m in \u001b[0;36m<module>\u001b[0;34m\u001b[0m\n\u001b[1;32m      1\u001b[0m \u001b[0;31m# tf.image.random_flip_left_right()\u001b[0m\u001b[0;34m\u001b[0m\u001b[0;34m\u001b[0m\u001b[0;34m\u001b[0m\u001b[0m\n\u001b[0;32m----> 2\u001b[0;31m \u001b[0mtf\u001b[0m\u001b[0;34m.\u001b[0m\u001b[0mimage\u001b[0m\u001b[0;34m.\u001b[0m\u001b[0mrandom_flip_left_right\u001b[0m\u001b[0;34m(\u001b[0m\u001b[0;34m)\u001b[0m  \u001b[0;31m# 左右翻转\u001b[0m\u001b[0;34m\u001b[0m\u001b[0;34m\u001b[0m\u001b[0m\n\u001b[0m\u001b[1;32m      3\u001b[0m \u001b[0mtf\u001b[0m\u001b[0;34m.\u001b[0m\u001b[0mimage\u001b[0m\u001b[0;34m.\u001b[0m\u001b[0mrandom_flip_up_down\u001b[0m\u001b[0;34m(\u001b[0m\u001b[0;34m)\u001b[0m     \u001b[0;31m# 垂直随机翻转图像(上下颠倒)\u001b[0m\u001b[0;34m\u001b[0m\u001b[0;34m\u001b[0m\u001b[0m\n\u001b[1;32m      4\u001b[0m \u001b[0mtf\u001b[0m\u001b[0;34m.\u001b[0m\u001b[0mrandom_crop\u001b[0m\u001b[0;34m(\u001b[0m\u001b[0;34m)\u001b[0m                   \u001b[0;31m#  随机地将张量裁剪到给定的大小\u001b[0m\u001b[0;34m\u001b[0m\u001b[0;34m\u001b[0m\u001b[0m\n\u001b[1;32m      5\u001b[0m \u001b[0mtf\u001b[0m\u001b[0;34m.\u001b[0m\u001b[0mimage\u001b[0m\u001b[0;34m.\u001b[0m\u001b[0mrandom_brightness\u001b[0m\u001b[0;34m(\u001b[0m\u001b[0;34m)\u001b[0m       \u001b[0;31m# 通过随机因素调整图像的亮度\u001b[0m\u001b[0;34m\u001b[0m\u001b[0;34m\u001b[0m\u001b[0m\n",
      "\u001b[0;31mTypeError\u001b[0m: random_flip_left_right() missing 1 required positional argument: 'image'"
     ]
    }
   ],
   "source": [
    "# tf.image.random_flip_left_right()\n",
    "tf.image.random_flip_left_right()  # 左右翻转\n",
    "tf.image.random_flip_up_down()     # 垂直随机翻转图像(上下颠倒)\n",
    "tf.random_crop()                   #  随机地将张量裁剪到给定的大小\n",
    "tf.image.random_brightness()       # 通过随机因素调整图像的亮度\n",
    "tf.image.random_contrast()         # 通过随机因素调整一个或多个图像的对比度。\n",
    "tf.image.adjust_gamma()            #  对输入图像执行Gamma校正。\n",
    "tf.image.random_hue()              # 通过随机因素调整RGB图像的色调。\n",
    "tf.image.random_jpeg_quality()     # 随机改变jpeg编码质量以诱导jpeg噪声。\n",
    "tf.image.random_saturation()       # 通过随机因素调整RGB图像的饱和度。\n",
    "tf.image.resize()                  #  使用指定的“方法”将“images”调整为“size”。\n",
    "tf.image.resize_area()             # 使用面积插值将“图像”调整为“大小”。\n",
    "tf.image.per_image_standardization() # 线性缩放“图像”有零均值和单位方差。\n",
    "\n"
   ]
  },
  {
   "cell_type": "code",
   "execution_count": 65,
   "id": "987882ec",
   "metadata": {
    "ExecuteTime": {
     "end_time": "2021-08-23T09:55:44.426213Z",
     "start_time": "2021-08-23T09:55:44.418124Z"
    }
   },
   "outputs": [],
   "source": [
    "tf.train.shuffle_batch?"
   ]
  },
  {
   "cell_type": "code",
   "execution_count": null,
   "id": "0fcaf520",
   "metadata": {},
   "outputs": [],
   "source": []
  }
 ],
 "metadata": {
  "hide_input": false,
  "kernelspec": {
   "display_name": "Python 3 (ipykernel)",
   "language": "python",
   "name": "python3"
  },
  "language_info": {
   "codemirror_mode": {
    "name": "ipython",
    "version": 3
   },
   "file_extension": ".py",
   "mimetype": "text/x-python",
   "name": "python",
   "nbconvert_exporter": "python",
   "pygments_lexer": "ipython3",
   "version": "3.7.10"
  },
  "nbTranslate": {
   "displayLangs": [
    "*"
   ],
   "hotkey": "alt-t",
   "langInMainMenu": true,
   "sourceLang": "en",
   "targetLang": "fr",
   "useGoogleTranslate": true
  },
  "toc": {
   "base_numbering": 1,
   "nav_menu": {},
   "number_sections": true,
   "sideBar": true,
   "skip_h1_title": false,
   "title_cell": "Table of Contents",
   "title_sidebar": "Contents",
   "toc_cell": false,
   "toc_position": {},
   "toc_section_display": true,
   "toc_window_display": false
  },
  "varInspector": {
   "cols": {
    "lenName": 16,
    "lenType": 16,
    "lenVar": 40
   },
   "kernels_config": {
    "python": {
     "delete_cmd_postfix": "",
     "delete_cmd_prefix": "del ",
     "library": "var_list.py",
     "varRefreshCmd": "print(var_dic_list())"
    },
    "r": {
     "delete_cmd_postfix": ") ",
     "delete_cmd_prefix": "rm(",
     "library": "var_list.r",
     "varRefreshCmd": "cat(var_dic_list()) "
    }
   },
   "types_to_exclude": [
    "module",
    "function",
    "builtin_function_or_method",
    "instance",
    "_Feature"
   ],
   "window_display": false
  }
 },
 "nbformat": 4,
 "nbformat_minor": 5
}
