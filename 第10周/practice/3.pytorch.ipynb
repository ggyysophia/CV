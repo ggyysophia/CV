{
 "cells": [
  {
   "cell_type": "code",
   "execution_count": 11,
   "id": "5dcb0859",
   "metadata": {
    "ExecuteTime": {
     "end_time": "2021-08-23T02:36:08.424837Z",
     "start_time": "2021-08-23T02:36:08.420718Z"
    }
   },
   "outputs": [],
   "source": [
    "import torch\n",
    "import torch.nn as nn\n",
    "import torch.optim as optim\n",
    "import torch.nn.functional as F\n",
    "import torchvision\n",
    "import torchvision.transforms as transforms\n",
    "\n"
   ]
  },
  {
   "cell_type": "code",
   "execution_count": 48,
   "id": "8202b6aa",
   "metadata": {
    "ExecuteTime": {
     "end_time": "2021-08-23T07:10:04.767451Z",
     "start_time": "2021-08-23T07:10:04.740431Z"
    }
   },
   "outputs": [],
   "source": [
    "class Model:\n",
    "    def __init__(self, net, cost, optimist):\n",
    "        self.net = net\n",
    "        self.cost = self.create_cost(cost)\n",
    "        self.optimizer = self.create_optimizer(optimist)\n",
    "\n",
    "    def create_cost(self, cost):\n",
    "        support_cost = {\n",
    "            'CROSS_ENTROPY': nn.CrossEntropyLoss(),\n",
    "            'MSE': nn.MSELoss()\n",
    "        }\n",
    "        return support_cost[cost]\n",
    "\n",
    "    def create_optimizer(self, optimist, **rests):\n",
    "        support_optim = {\n",
    "            'SGD': optim.SGD(self.net.parameters(), lr=0.1, **rests),\n",
    "            'ADAM': optim.Adam(self.net.parameters(), lr=0.01, **rests),\n",
    "            'RMSP': optim.RMSprop(self.net.parameters(), lr=0.001, **rests)\n",
    "        }\n",
    "        return support_optim[optimist]\n",
    "    \n",
    "    def train(self, train_loader, epoches=3):\n",
    "        for epoch in range(epoches):\n",
    "            running_loss = 0.0\n",
    "            for i,data in enumerate(train_loader, 0):     # enumerate(data, start = 0) start: 索引的起始值\n",
    "                inputs, labels = data\n",
    "                \n",
    "                self.optimizer.zero_grad()\n",
    "                \n",
    "                # forward + backward + optimize\n",
    "                outputs = self.net(inputs)\n",
    "                loss = self.cost(outputs, labels)\n",
    "                loss.backward()\n",
    "                self.optimizer.step()\n",
    "                \n",
    "                running_loss += loss.item()\n",
    "                if i % 100 == 0:\n",
    "                    print('[epoch %d, %.2f%%] loss: %.3f'%\n",
    "                         (epoch + 1, (i + 1) * 1. / len(train_loader), running_loss / 100))\n",
    "                    running_loss = 0\n",
    "        print('Finishing Training.')\n",
    "        \n",
    "    \n",
    "    def evaluate(self, test_loader):\n",
    "        print('Evaluating.......')\n",
    "        correct = 0\n",
    "        total = 0\n",
    "        with torch.no_grad():   # no grad when test and predict\n",
    "            for data in test_loader:\n",
    "                images, labels = data\n",
    "                outputs = self.net(images)\n",
    "                predicted = torch.argmax(outputs, 1)   # np.argmax(a, axis)  torch.argmax(a, dim = 1) 返回一列，按行求 \n",
    "                total += labels.size(0)\n",
    "                correct += (predicted == labels).sum().item()    # items() 访问位置元素值\n",
    "        print('Accuracy of the network on the test images: %d %%' %\n",
    "             (100 * correct / total))\n",
    "        \n",
    "def mnist_load_data():\n",
    "    transform = transforms.Compose(\n",
    "    [transforms.ToTensor(),\n",
    "    transforms.Normalize([0,], [1,])])\n",
    "    \n",
    "    trainset = torchvision.datasets.MNIST(root='/Users/snszz/PycharmProjects/CV/第10周/代码/data', train = True,\n",
    "                                         download=True, transform=transform)\n",
    "    trainloader = torch.utils.data.DataLoader(trainset, batch_size=32, \n",
    "                                             shuffle=True, num_workers=2)\n",
    "    testset = torchvision.datasets.MNIST(root='/Users/snszz/PycharmProjects/CV/第10周/代码/data', train=False,\n",
    "                                        download=True, transform=transform)\n",
    "    testloader = torch.utils.data.DataLoader(testset, batch_size=32, \n",
    "                                            shuffle=True, num_workers=2)\n",
    "    return trainloader, testloader\n",
    "\n",
    "class MnistNet(torch.nn.Module):\n",
    "    def __init__(self):\n",
    "        super(MnistNet, self).__init__()\n",
    "        self.fc1 = torch.nn.Linear(28*28, 512)\n",
    "        self.fc2 = torch.nn.Linear(512, 512)\n",
    "        self.fc3 = torch.nn.Linear(512, 10)\n",
    "        \n",
    "    def forward(self, x):\n",
    "        x = x.view(-1, 28*28)  # 输入\n",
    "        x = F.relu(self.fc1(x))  \n",
    "        x = F.relu(self.fc2(x))\n",
    "        x = F.softmax(self.fc3(x), dim=1)\n",
    "        return x\n",
    "\n",
    "# if __name__ == '__main__':\n",
    "#     # train for mnist\n",
    "#     net = MnistNet()\n",
    "#     model = Model(net, 'CROSS_ENTROPY', 'RMSP')\n",
    "#     train_loader, test_loader = mnist_load_data()\n",
    "#     model.train(train_loader)\n",
    "#     model.evaluate(test_loader)\n",
    "    \n",
    "        \n",
    "                \n",
    "                \n",
    "                \n",
    "    "
   ]
  },
  {
   "cell_type": "code",
   "execution_count": 3,
   "id": "f97d0537",
   "metadata": {
    "ExecuteTime": {
     "end_time": "2021-08-23T01:05:28.163339Z",
     "start_time": "2021-08-23T01:05:28.159346Z"
    }
   },
   "outputs": [
    {
     "name": "stdout",
     "output_type": "stream",
     "text": [
      "1 0\n",
      "2 1\n",
      "3 2\n",
      "4 3\n",
      "5 4\n"
     ]
    }
   ],
   "source": [
    "# 对于损失函数\n",
    "\n",
    "def create_cost(cost):\n",
    "    support_cost = {\n",
    "        'CROSS_ENTROPY':nn.CrossEntropyLoss(),\n",
    "        'MSE':nn.MSELoss()\n",
    "    }\n",
    "    return support_cost[cost]\n",
    "\n",
    "\n",
    "    \n"
   ]
  },
  {
   "cell_type": "code",
   "execution_count": 19,
   "id": "85ced7a2",
   "metadata": {
    "ExecuteTime": {
     "end_time": "2021-08-23T03:28:28.955858Z",
     "start_time": "2021-08-23T03:28:28.951189Z"
    }
   },
   "outputs": [],
   "source": [
    "def create_optimizer(optimist):\n",
    "    support_optim = {\n",
    "        'SGD': optim.SGD(self.net.parameters(), lr = 0.1),\n",
    "        'ADAM': optim.Adam(self.net.parameters(), lr = 0.01),\n",
    "        'RMSP': optim.RMSprop(self.net.parameters(), lr=0.001)\n",
    "    }\n",
    "    \n",
    "    return support_optim[optimist]\n",
    "\n",
    "\n",
    "\n"
   ]
  },
  {
   "cell_type": "code",
   "execution_count": 20,
   "id": "16df63e6",
   "metadata": {
    "ExecuteTime": {
     "end_time": "2021-08-23T03:45:15.684462Z",
     "start_time": "2021-08-23T03:45:15.677836Z"
    }
   },
   "outputs": [],
   "source": [
    "def train(train_loader, epoches=3):\n",
    "    for epoch in epoches:\n",
    "        running_loss = 0.0\n",
    "        for i, data in enumerate(train_loader, 0):\n",
    "            inputs, labels = data\n",
    "            \n",
    "            optim.Adam.zero_grad()\n",
    "            \n",
    "            # forward + backward + optimize\n",
    "            \n",
    "            outputs = MnistNet()\n",
    "            outputs = outputs(inputs)\n",
    "            loss = nn.CrossEntropyLoss()\n",
    "            loss = loss(outputs, labels)\n",
    "            loss.backward()\n",
    "            optim.Adam.step()\n",
    "            \n",
    "            running_loss += loss.items()\n",
    "            if i % 100 == 0:\n",
    "                print('[epoch %d, %.2f%%] loss: %.3f' %\n",
    "                     (epoch + 1, (i + 1) * 1. / len(train_loader),running_loss / 100))\n",
    "                running_loss = 0.0\n",
    "                \n",
    "        print('Finishing Training')"
   ]
  },
  {
   "cell_type": "code",
   "execution_count": 29,
   "id": "6a29d6b8",
   "metadata": {
    "ExecuteTime": {
     "end_time": "2021-08-23T06:35:45.646460Z",
     "start_time": "2021-08-23T06:35:45.637990Z"
    }
   },
   "outputs": [],
   "source": [
    "class MnistNet(torch.nn.Module):\n",
    "    def __init__(self):\n",
    "        super(MnistNet, self).__init__()\n",
    "        self.fc1 = torch.nn.Linear(3, 5)\n",
    "        self.fc2 = torch.nn.Linear(5, 3)\n",
    "        self.fc3 = torch.nn.Linear(3, 2)\n",
    "\n",
    "    def forward(self, x):\n",
    "        x = x.view(-1, 3)     # 输入\n",
    "        x = F.relu(self.fc1(x))   # x W^T + b , 激活\n",
    "        x = F.relu(self.fc2(x))\n",
    "        x = F.softmax(self.fc3(x), dim=1)\n",
    "        return x    "
   ]
  },
  {
   "cell_type": "code",
   "execution_count": 30,
   "id": "cf43bbf4",
   "metadata": {
    "ExecuteTime": {
     "end_time": "2021-08-23T06:35:48.013747Z",
     "start_time": "2021-08-23T06:35:48.000263Z"
    }
   },
   "outputs": [
    {
     "name": "stdout",
     "output_type": "stream",
     "text": [
      "fc1.weight\n",
      "tensor([[ 0.3879, -0.0392, -0.0430],\n",
      "        [-0.2918, -0.5412, -0.3935],\n",
      "        [ 0.2137, -0.4373, -0.2369],\n",
      "        [ 0.1555,  0.1387, -0.2501],\n",
      "        [-0.3234, -0.5678, -0.2867]])\n",
      "fc1.bias\n",
      "tensor([-0.1807,  0.5482, -0.4705,  0.2494, -0.4285])\n",
      "fc2.weight\n",
      "tensor([[-0.1483,  0.1804,  0.0019,  0.2590, -0.3230],\n",
      "        [ 0.0648,  0.4441, -0.0987, -0.4413,  0.0536],\n",
      "        [-0.4020, -0.1324, -0.2449,  0.4372,  0.2633]])\n",
      "fc2.bias\n",
      "tensor([-0.4097, -0.1889,  0.4468])\n",
      "fc3.weight\n",
      "tensor([[-0.5185,  0.3301, -0.2752],\n",
      "        [-0.3802, -0.4482, -0.2355]])\n",
      "fc3.bias\n",
      "tensor([0.2711, 0.5086])\n"
     ]
    }
   ],
   "source": [
    "x = np.random.rand(4,3)\n",
    "model = MnistNet()\n",
    "model.state_dict()\n",
    "\n",
    "for key, values in model.state_dict().items():\n",
    "    print(key)\n",
    "    print(values)"
   ]
  },
  {
   "cell_type": "code",
   "execution_count": 32,
   "id": "4758ae0e",
   "metadata": {
    "ExecuteTime": {
     "end_time": "2021-08-23T06:37:34.855104Z",
     "start_time": "2021-08-23T06:37:34.836665Z"
    }
   },
   "outputs": [
    {
     "data": {
      "text/plain": [
       "tensor([[0.4358, 0.5642],\n",
       "        [0.4354, 0.5646],\n",
       "        [0.4355, 0.5645],\n",
       "        [0.4356, 0.5644]], grad_fn=<SoftmaxBackward>)"
      ]
     },
     "execution_count": 32,
     "metadata": {},
     "output_type": "execute_result"
    }
   ],
   "source": [
    "x = torch.Tensor(x)\n",
    "model = model(x)\n",
    "model\n",
    "            \n",
    "            "
   ]
  },
  {
   "cell_type": "code",
   "execution_count": 33,
   "id": "0041b682",
   "metadata": {
    "ExecuteTime": {
     "end_time": "2021-08-23T06:44:26.932214Z",
     "start_time": "2021-08-23T06:44:26.925911Z"
    }
   },
   "outputs": [
    {
     "data": {
      "text/plain": [
       "4"
      ]
     },
     "execution_count": 33,
     "metadata": {},
     "output_type": "execute_result"
    }
   ],
   "source": [
    "x.size(0)"
   ]
  },
  {
   "cell_type": "code",
   "execution_count": null,
   "id": "1e7490d7",
   "metadata": {},
   "outputs": [],
   "source": [
    "def evaluate(test_loader):\n",
    "    print('Evaluating...')\n",
    "    correct = 0\n",
    "    total = 0\n",
    "    \n",
    "    with torch.no_grad():\n",
    "        for data in test_loader:\n",
    "            images, labels = data\n",
    "            \n",
    "            outputs = self.net(images)\n",
    "            predicted = torch.argmax(outputs, 1)\n",
    "            total += labels.size(0)\n",
    "            correct += (predicted == outputs).sum().item()\n",
    "            "
   ]
  },
  {
   "cell_type": "code",
   "execution_count": 34,
   "id": "fd741f8b",
   "metadata": {
    "ExecuteTime": {
     "end_time": "2021-08-23T06:49:27.166921Z",
     "start_time": "2021-08-23T06:49:27.161192Z"
    }
   },
   "outputs": [],
   "source": [
    "\n",
    "def mnist_load_data():\n",
    "    transform = transforms.Compose(\n",
    "        [transforms.ToTensor(),\n",
    "         transforms.Normalize([0,], [1,])])\n",
    "\n",
    "    trainset = torchvision.datasets.MNIST(root='/Users/snszz/PycharmProjects/CV/第10周/代码/data', train=True,\n",
    "                                            download=True, transform=transform)\n",
    "    trainloader = torch.utils.data.DataLoader(trainset, batch_size=32,\n",
    "                                              shuffle=True, num_workers=2)\n",
    "\n",
    "    testset = torchvision.datasets.MNIST(root='/Users/snszz/PycharmProjects/CV/第10周/代码/data', train=False,\n",
    "                                           download=True, transform=transform)\n",
    "    testloader = torch.utils.data.DataLoader(testset, batch_size=32,shuffle=True, num_workers=2)\n",
    "    return trainloader, testloader\n"
   ]
  },
  {
   "cell_type": "code",
   "execution_count": 35,
   "id": "7672415d",
   "metadata": {
    "ExecuteTime": {
     "end_time": "2021-08-23T06:50:01.172371Z",
     "start_time": "2021-08-23T06:50:01.118947Z"
    }
   },
   "outputs": [],
   "source": [
    "trainloader, testloader = mnist_load_data()\n"
   ]
  },
  {
   "cell_type": "code",
   "execution_count": 46,
   "id": "1a86271f",
   "metadata": {
    "ExecuteTime": {
     "end_time": "2021-08-23T06:56:24.497535Z",
     "start_time": "2021-08-23T06:56:24.494035Z"
    }
   },
   "outputs": [],
   "source": [
    "# for data  in trainloader:\n",
    "#     inputs, labels = data\n",
    "#     print(inputs.size())\n",
    "#     print(labels)\n"
   ]
  },
  {
   "cell_type": "code",
   "execution_count": 49,
   "id": "3b11728d",
   "metadata": {
    "ExecuteTime": {
     "end_time": "2021-08-23T07:11:21.360229Z",
     "start_time": "2021-08-23T07:10:09.847800Z"
    }
   },
   "outputs": [
    {
     "name": "stdout",
     "output_type": "stream",
     "text": [
      "[epoch 1, 0.00%] loss: 0.023\n",
      "[epoch 1, 0.05%] loss: 2.341\n",
      "[epoch 1, 0.11%] loss: 2.346\n",
      "[epoch 1, 0.16%] loss: 2.346\n",
      "[epoch 1, 0.21%] loss: 2.357\n",
      "[epoch 1, 0.27%] loss: 2.340\n",
      "[epoch 1, 0.32%] loss: 2.353\n",
      "[epoch 1, 0.37%] loss: 2.350\n",
      "[epoch 1, 0.43%] loss: 2.352\n",
      "[epoch 1, 0.48%] loss: 2.349\n",
      "[epoch 1, 0.53%] loss: 2.345\n",
      "[epoch 1, 0.59%] loss: 2.359\n",
      "[epoch 1, 0.64%] loss: 2.334\n",
      "[epoch 1, 0.69%] loss: 2.346\n",
      "[epoch 1, 0.75%] loss: 2.357\n",
      "[epoch 1, 0.80%] loss: 2.348\n",
      "[epoch 1, 0.85%] loss: 2.352\n",
      "[epoch 1, 0.91%] loss: 2.350\n",
      "[epoch 1, 0.96%] loss: 2.344\n",
      "[epoch 2, 0.00%] loss: 0.024\n",
      "[epoch 2, 0.05%] loss: 2.341\n",
      "[epoch 2, 0.11%] loss: 2.347\n",
      "[epoch 2, 0.16%] loss: 2.348\n",
      "[epoch 2, 0.21%] loss: 2.350\n",
      "[epoch 2, 0.27%] loss: 2.359\n",
      "[epoch 2, 0.32%] loss: 2.342\n",
      "[epoch 2, 0.37%] loss: 2.350\n",
      "[epoch 2, 0.43%] loss: 2.350\n",
      "[epoch 2, 0.48%] loss: 2.357\n",
      "[epoch 2, 0.53%] loss: 2.348\n",
      "[epoch 2, 0.59%] loss: 2.346\n",
      "[epoch 2, 0.64%] loss: 2.343\n",
      "[epoch 2, 0.69%] loss: 2.349\n",
      "[epoch 2, 0.75%] loss: 2.348\n",
      "[epoch 2, 0.80%] loss: 2.350\n",
      "[epoch 2, 0.85%] loss: 2.348\n",
      "[epoch 2, 0.91%] loss: 2.351\n",
      "[epoch 2, 0.96%] loss: 2.351\n",
      "[epoch 3, 0.00%] loss: 0.024\n",
      "[epoch 3, 0.05%] loss: 2.354\n",
      "[epoch 3, 0.11%] loss: 2.351\n",
      "[epoch 3, 0.16%] loss: 2.351\n",
      "[epoch 3, 0.21%] loss: 2.346\n",
      "[epoch 3, 0.27%] loss: 2.361\n",
      "[epoch 3, 0.32%] loss: 2.338\n",
      "[epoch 3, 0.37%] loss: 2.348\n",
      "[epoch 3, 0.43%] loss: 2.350\n",
      "[epoch 3, 0.48%] loss: 2.342\n",
      "[epoch 3, 0.53%] loss: 2.353\n",
      "[epoch 3, 0.59%] loss: 2.349\n",
      "[epoch 3, 0.64%] loss: 2.350\n",
      "[epoch 3, 0.69%] loss: 2.353\n",
      "[epoch 3, 0.75%] loss: 2.346\n",
      "[epoch 3, 0.80%] loss: 2.348\n",
      "[epoch 3, 0.85%] loss: 2.351\n",
      "[epoch 3, 0.91%] loss: 2.340\n",
      "[epoch 3, 0.96%] loss: 2.346\n",
      "Finishing Training.\n",
      "Evaluating.......\n",
      "Accuracy of the network on the test images: 11 %\n"
     ]
    }
   ],
   "source": [
    "if __name__ == '__main__':\n",
    "    # train for mnist\n",
    "    net = MnistNet()\n",
    "    model = Model(net, 'CROSS_ENTROPY', 'ADAM')\n",
    "    train_loader, test_loader = mnist_load_data()\n",
    "    model.train(train_loader)\n",
    "    model.evaluate(test_loader)\n",
    "    "
   ]
  },
  {
   "cell_type": "code",
   "execution_count": 50,
   "id": "a7f1576f",
   "metadata": {
    "ExecuteTime": {
     "end_time": "2021-08-23T07:11:51.666833Z",
     "start_time": "2021-08-23T07:11:30.354584Z"
    }
   },
   "outputs": [
    {
     "name": "stdout",
     "output_type": "stream",
     "text": [
      "[epoch 1, 0.00%] loss: 0.023\n",
      "[epoch 1, 0.05%] loss: 2.301\n",
      "[epoch 1, 0.11%] loss: 2.294\n",
      "[epoch 1, 0.16%] loss: 2.265\n",
      "[epoch 1, 0.21%] loss: 2.175\n",
      "[epoch 1, 0.27%] loss: 2.008\n",
      "[epoch 1, 0.32%] loss: 1.811\n",
      "[epoch 1, 0.37%] loss: 1.730\n",
      "[epoch 1, 0.43%] loss: 1.693\n",
      "[epoch 1, 0.48%] loss: 1.677\n",
      "[epoch 1, 0.53%] loss: 1.671\n",
      "[epoch 1, 0.59%] loss: 1.655\n",
      "[epoch 1, 0.64%] loss: 1.648\n",
      "[epoch 1, 0.69%] loss: 1.656\n",
      "[epoch 1, 0.75%] loss: 1.639\n",
      "[epoch 1, 0.80%] loss: 1.647\n",
      "[epoch 1, 0.85%] loss: 1.627\n",
      "[epoch 1, 0.91%] loss: 1.643\n",
      "[epoch 1, 0.96%] loss: 1.632\n",
      "[epoch 2, 0.00%] loss: 0.017\n",
      "[epoch 2, 0.05%] loss: 1.636\n",
      "[epoch 2, 0.11%] loss: 1.620\n",
      "[epoch 2, 0.16%] loss: 1.629\n",
      "[epoch 2, 0.21%] loss: 1.620\n",
      "[epoch 2, 0.27%] loss: 1.631\n",
      "[epoch 2, 0.32%] loss: 1.612\n",
      "[epoch 2, 0.37%] loss: 1.617\n",
      "[epoch 2, 0.43%] loss: 1.623\n",
      "[epoch 2, 0.48%] loss: 1.621\n",
      "[epoch 2, 0.53%] loss: 1.619\n",
      "[epoch 2, 0.59%] loss: 1.615\n",
      "[epoch 2, 0.64%] loss: 1.618\n",
      "[epoch 2, 0.69%] loss: 1.625\n",
      "[epoch 2, 0.75%] loss: 1.614\n",
      "[epoch 2, 0.80%] loss: 1.618\n",
      "[epoch 2, 0.85%] loss: 1.610\n",
      "[epoch 2, 0.91%] loss: 1.612\n",
      "[epoch 2, 0.96%] loss: 1.616\n",
      "[epoch 3, 0.00%] loss: 0.016\n",
      "[epoch 3, 0.05%] loss: 1.609\n",
      "[epoch 3, 0.11%] loss: 1.603\n",
      "[epoch 3, 0.16%] loss: 1.604\n",
      "[epoch 3, 0.21%] loss: 1.609\n",
      "[epoch 3, 0.27%] loss: 1.609\n",
      "[epoch 3, 0.32%] loss: 1.602\n",
      "[epoch 3, 0.37%] loss: 1.610\n",
      "[epoch 3, 0.43%] loss: 1.610\n",
      "[epoch 3, 0.48%] loss: 1.617\n",
      "[epoch 3, 0.53%] loss: 1.608\n",
      "[epoch 3, 0.59%] loss: 1.614\n",
      "[epoch 3, 0.64%] loss: 1.606\n",
      "[epoch 3, 0.69%] loss: 1.602\n",
      "[epoch 3, 0.75%] loss: 1.613\n",
      "[epoch 3, 0.80%] loss: 1.611\n",
      "[epoch 3, 0.85%] loss: 1.608\n",
      "[epoch 3, 0.91%] loss: 1.597\n",
      "[epoch 3, 0.96%] loss: 1.597\n",
      "Finishing Training.\n",
      "Evaluating.......\n",
      "Accuracy of the network on the test images: 85 %\n"
     ]
    }
   ],
   "source": [
    "if __name__ == '__main__':\n",
    "    # train for mnist\n",
    "    net = MnistNet()\n",
    "    model = Model(net, 'CROSS_ENTROPY', 'SGD')\n",
    "    train_loader, test_loader = mnist_load_data()\n",
    "    model.train(train_loader)\n",
    "    model.evaluate(test_loader)"
   ]
  },
  {
   "cell_type": "code",
   "execution_count": 51,
   "id": "857bc80a",
   "metadata": {
    "ExecuteTime": {
     "end_time": "2021-08-23T07:12:25.078781Z",
     "start_time": "2021-08-23T07:11:54.846733Z"
    }
   },
   "outputs": [
    {
     "name": "stdout",
     "output_type": "stream",
     "text": [
      "[epoch 1, 0.00%] loss: 0.023\n",
      "[epoch 1, 0.05%] loss: 1.785\n",
      "[epoch 1, 0.11%] loss: 1.589\n",
      "[epoch 1, 0.16%] loss: 1.563\n",
      "[epoch 1, 0.21%] loss: 1.562\n",
      "[epoch 1, 0.27%] loss: 1.553\n",
      "[epoch 1, 0.32%] loss: 1.542\n",
      "[epoch 1, 0.37%] loss: 1.532\n",
      "[epoch 1, 0.43%] loss: 1.533\n",
      "[epoch 1, 0.48%] loss: 1.532\n",
      "[epoch 1, 0.53%] loss: 1.526\n",
      "[epoch 1, 0.59%] loss: 1.532\n",
      "[epoch 1, 0.64%] loss: 1.528\n",
      "[epoch 1, 0.69%] loss: 1.519\n",
      "[epoch 1, 0.75%] loss: 1.526\n",
      "[epoch 1, 0.80%] loss: 1.515\n",
      "[epoch 1, 0.85%] loss: 1.520\n",
      "[epoch 1, 0.91%] loss: 1.518\n",
      "[epoch 1, 0.96%] loss: 1.515\n",
      "[epoch 2, 0.00%] loss: 0.016\n",
      "[epoch 2, 0.05%] loss: 1.513\n",
      "[epoch 2, 0.11%] loss: 1.505\n",
      "[epoch 2, 0.16%] loss: 1.511\n",
      "[epoch 2, 0.21%] loss: 1.511\n",
      "[epoch 2, 0.27%] loss: 1.519\n",
      "[epoch 2, 0.32%] loss: 1.510\n",
      "[epoch 2, 0.37%] loss: 1.511\n",
      "[epoch 2, 0.43%] loss: 1.511\n",
      "[epoch 2, 0.48%] loss: 1.505\n",
      "[epoch 2, 0.53%] loss: 1.502\n",
      "[epoch 2, 0.59%] loss: 1.504\n",
      "[epoch 2, 0.64%] loss: 1.504\n",
      "[epoch 2, 0.69%] loss: 1.500\n",
      "[epoch 2, 0.75%] loss: 1.506\n",
      "[epoch 2, 0.80%] loss: 1.509\n",
      "[epoch 2, 0.85%] loss: 1.506\n",
      "[epoch 2, 0.91%] loss: 1.500\n",
      "[epoch 2, 0.96%] loss: 1.500\n",
      "[epoch 3, 0.00%] loss: 0.015\n",
      "[epoch 3, 0.05%] loss: 1.496\n",
      "[epoch 3, 0.11%] loss: 1.501\n",
      "[epoch 3, 0.16%] loss: 1.508\n",
      "[epoch 3, 0.21%] loss: 1.505\n",
      "[epoch 3, 0.27%] loss: 1.499\n",
      "[epoch 3, 0.32%] loss: 1.502\n",
      "[epoch 3, 0.37%] loss: 1.499\n",
      "[epoch 3, 0.43%] loss: 1.498\n",
      "[epoch 3, 0.48%] loss: 1.502\n",
      "[epoch 3, 0.53%] loss: 1.492\n",
      "[epoch 3, 0.59%] loss: 1.501\n",
      "[epoch 3, 0.64%] loss: 1.495\n",
      "[epoch 3, 0.69%] loss: 1.500\n",
      "[epoch 3, 0.75%] loss: 1.504\n",
      "[epoch 3, 0.80%] loss: 1.502\n",
      "[epoch 3, 0.85%] loss: 1.498\n",
      "[epoch 3, 0.91%] loss: 1.502\n",
      "[epoch 3, 0.96%] loss: 1.497\n",
      "Finishing Training.\n",
      "Evaluating.......\n",
      "Accuracy of the network on the test images: 95 %\n"
     ]
    }
   ],
   "source": [
    "if __name__ == '__main__':\n",
    "    # train for mnist\n",
    "    net = MnistNet()\n",
    "    model = Model(net, 'CROSS_ENTROPY', 'RMSP')\n",
    "    train_loader, test_loader = mnist_load_data()\n",
    "    model.train(train_loader)\n",
    "    model.evaluate(test_loader)"
   ]
  },
  {
   "cell_type": "code",
   "execution_count": null,
   "id": "4dfc808e",
   "metadata": {},
   "outputs": [],
   "source": []
  }
 ],
 "metadata": {
  "hide_input": false,
  "kernelspec": {
   "display_name": "Python 3 (ipykernel)",
   "language": "python",
   "name": "python3"
  },
  "language_info": {
   "codemirror_mode": {
    "name": "ipython",
    "version": 3
   },
   "file_extension": ".py",
   "mimetype": "text/x-python",
   "name": "python",
   "nbconvert_exporter": "python",
   "pygments_lexer": "ipython3",
   "version": "3.7.10"
  },
  "nbTranslate": {
   "displayLangs": [
    "*"
   ],
   "hotkey": "alt-t",
   "langInMainMenu": true,
   "sourceLang": "en",
   "targetLang": "fr",
   "useGoogleTranslate": true
  },
  "toc": {
   "base_numbering": 1,
   "nav_menu": {},
   "number_sections": true,
   "sideBar": true,
   "skip_h1_title": false,
   "title_cell": "Table of Contents",
   "title_sidebar": "Contents",
   "toc_cell": false,
   "toc_position": {},
   "toc_section_display": true,
   "toc_window_display": false
  },
  "varInspector": {
   "cols": {
    "lenName": 16,
    "lenType": 16,
    "lenVar": 40
   },
   "kernels_config": {
    "python": {
     "delete_cmd_postfix": "",
     "delete_cmd_prefix": "del ",
     "library": "var_list.py",
     "varRefreshCmd": "print(var_dic_list())"
    },
    "r": {
     "delete_cmd_postfix": ") ",
     "delete_cmd_prefix": "rm(",
     "library": "var_list.r",
     "varRefreshCmd": "cat(var_dic_list()) "
    }
   },
   "types_to_exclude": [
    "module",
    "function",
    "builtin_function_or_method",
    "instance",
    "_Feature"
   ],
   "window_display": false
  }
 },
 "nbformat": 4,
 "nbformat_minor": 5
}
