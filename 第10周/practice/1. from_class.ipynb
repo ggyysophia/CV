{
 "cells": [
  {
   "cell_type": "markdown",
   "metadata": {
    "collapsed": true
   },
   "source": [
    "1. tensorflow\n",
    "2. pytorch\n",
    "商业落地的产品：TensorFlow， pytorch\n",
    "\n",
    "5个核心组件， 换用框架，只是接口不同，各个结构各有利弊\n",
    "\n",
    "Tensorflow --采用data flow graphs--数据流图\n",
    "节点\n",
    "\n",
    "软件库， 可以在CPU, GPU， 服务器， 移动设备等等\n",
    "1.14\n",
    "\n",
    "现在2.x\n",
    "\n",
    "不用最新的，稳定性，\n",
    "开源---所有人都可以修改，很多bug， review，\n",
    "tensorflow, pytorch--稳定， 兼容， 移植成本，（开发， 客户）\n",
    "\n",
    "学习框架， 不要使用最新的版本， 最好不要使用最新的，\n",
    "\n",
    "基本用法tensorflow\n",
    "\n",
    "keras用法\n",
    "\n",
    "接口--学习---手册\n",
    "\n",
    "图 表示计算任务 会话 session的上下文中执行\n",
    "使用tersor表示数据  使用Variable维护状态  赋值--feed， fetch\n",
    "\n",
    "是一个计算系统， 节点op， 一个op有一个或者多个tensor， 计算， 产生0个或者多个tensor\n",
    "\n",
    "每一个tensor表示一个类型化的多维数组， \n",
    "\n",
    "input = (4, 224, 244, 3), nhwc, chwn  --维度的顺序\n",
    "n = 4, h = 224, w = 244, c = 3\n",
    "\n",
    "描述计算的过程， 为了进行计算， 图必须在会话中被启动\n",
    "会话将图的op分发到CPU，GPU的设备上， \n",
    "\n",
    "构件图-- graph\n",
    "1. 创建源op--整个网络的输入， （如常量）源op的输出被传给其他的op\n",
    "\n",
    "tensorflow python 有一个默认的图（default graph）\n",
    "\n",
    "int8--float32\n",
    ":占位少，占的空间少，计算空间减半，\n",
    "\n",
    "数据类型，资源占用，误差满足要求\n",
    "实际工作中，int8的使用很多，性能的比较，速度\n",
    "\n",
    "变量--Variables,\n"
   ]
  },
  {
   "cell_type": "code",
   "execution_count": 2,
   "metadata": {
    "ExecuteTime": {
     "end_time": "2021-08-22T03:29:34.606436Z",
     "start_time": "2021-08-22T03:29:34.602610Z"
    }
   },
   "outputs": [],
   "source": [
    "import tensorflow as tf\n",
    "import numpy as np\n",
    "\n"
   ]
  },
  {
   "cell_type": "code",
   "execution_count": 6,
   "metadata": {
    "ExecuteTime": {
     "end_time": "2021-08-22T04:10:53.640726Z",
     "start_time": "2021-08-22T04:10:53.625065Z"
    }
   },
   "outputs": [
    {
     "name": "stdout",
     "output_type": "stream",
     "text": [
      "[[12.]]\n"
     ]
    }
   ],
   "source": [
    "# 1. 构建图\n",
    "# 2. 在session启动\n",
    "\n",
    "# 常量\n",
    "matrix1 = tf.constant([[3., 3.]])\n",
    "matrix2 = tf.constant([[2.], [2.]])\n",
    "\n",
    "product = tf.matmul(matrix1, matrix2)  # op matmul\n",
    "\n",
    "# 在session中启动， 启动默认图\n",
    "sess = tf.Session()\n",
    "\n",
    "result = sess.run(product)\n",
    "print(result)\n",
    "\n",
    "sess.close()  # 任务完成，关闭会话"
   ]
  },
  {
   "cell_type": "code",
   "execution_count": 17,
   "metadata": {
    "ExecuteTime": {
     "end_time": "2021-08-22T15:14:10.204745Z",
     "start_time": "2021-08-22T15:14:10.196671Z"
    }
   },
   "outputs": [
    {
     "name": "stdout",
     "output_type": "stream",
     "text": [
      "[[12.]]\n"
     ]
    }
   ],
   "source": [
    "with tf.Session() as sess:\n",
    "    result = sess.run(product)\n",
    "    print(result)\n",
    "    "
   ]
  },
  {
   "cell_type": "code",
   "execution_count": 8,
   "metadata": {
    "ExecuteTime": {
     "end_time": "2021-08-22T04:17:40.961452Z",
     "start_time": "2021-08-22T04:17:40.930095Z"
    }
   },
   "outputs": [
    {
     "name": "stdout",
     "output_type": "stream",
     "text": [
      "state 0\n",
      "update: 1\n",
      "update: 2\n",
      "update: 3\n",
      "update: 4\n",
      "update: 5\n",
      "update: 6\n"
     ]
    }
   ],
   "source": [
    "state = tf.Variable(0, name='counter')\n",
    "\n",
    "one = tf.constant(1)\n",
    "new_value = tf.add(state, one)\n",
    "update = tf.assign(state, new_value)\n",
    "\n",
    "init_op = tf.global_variables_initializer()  # 变量的初始化\n",
    "\n",
    "with tf.Session() as sess:\n",
    "    # run 'init_op'\n",
    "    sess.run(init_op)\n",
    "    print('state', sess.run(state))\n",
    "    \n",
    "    for _ in range(6):\n",
    "        sess.run(update)\n",
    "        print('update:', sess.run(state))\n"
   ]
  },
  {
   "cell_type": "code",
   "execution_count": null,
   "metadata": {},
   "outputs": [],
   "source": [
    "'''\n",
    "state = 0, one = 1\n",
    "update: state <- new_value = 0 + 1\n",
    "sess.run(state), state = 1\n",
    "update: state <- new_value = state + one = 1 + 1 = 2\n",
    "sess.run(state), 2\n",
    "update:state <- new_value = state + one = 2 + 1 = 3\n",
    "......\n",
    "sess.run(state)--->5\n",
    "update --state <- new_value = state + one = 5 + 1 = 6\n",
    "sess.run(state),  6\n",
    "'''"
   ]
  },
  {
   "cell_type": "code",
   "execution_count": 11,
   "metadata": {
    "ExecuteTime": {
     "end_time": "2021-08-22T04:26:26.688013Z",
     "start_time": "2021-08-22T04:26:26.669865Z"
    }
   },
   "outputs": [
    {
     "name": "stdout",
     "output_type": "stream",
     "text": [
      "[21.0, 7.0]\n"
     ]
    }
   ],
   "source": [
    "# feed,--喂数据\n",
    "# fetch-取出\n",
    "\n",
    "input1 = tf.constant(3.0)\n",
    "input2 = tf.constant(2.0)\n",
    "input3 = tf.constant(5.0)\n",
    "\n",
    "intermed = tf.add(input2, input3)\n",
    "mul = tf.multiply(input1, intermed)\n",
    "\n",
    "with tf.Session() as sess:\n",
    "    result = sess.run([mul, intermed])\n",
    "    print(result)\n"
   ]
  },
  {
   "cell_type": "code",
   "execution_count": 14,
   "metadata": {
    "ExecuteTime": {
     "end_time": "2021-08-22T04:31:38.704046Z",
     "start_time": "2021-08-22T04:31:38.684784Z"
    }
   },
   "outputs": [
    {
     "name": "stdout",
     "output_type": "stream",
     "text": [
      "[array([63.], dtype=float32), array([9.], dtype=float32)]\n"
     ]
    }
   ],
   "source": [
    "# 我希望input1， input2， input3都可以变化\n",
    "\n",
    "input1 = tf.placeholder(tf.float32)\n",
    "input2 = tf.placeholder(tf.float32)\n",
    "input3 = tf.placeholder(tf.float32)\n",
    "\n",
    "intermed = tf.add(input2, input3)\n",
    "mul = tf.multiply(input1, intermed)\n",
    "\n",
    "with tf.Session() as sess:\n",
    "    result = sess.run([mul, intermed],feed_dict={input1:[7.], input2:[5.], input3:[4.]})\n",
    "    print(result)"
   ]
  },
  {
   "cell_type": "code",
   "execution_count": 16,
   "metadata": {
    "ExecuteTime": {
     "end_time": "2021-08-22T04:34:56.968924Z",
     "start_time": "2021-08-22T04:34:56.938087Z"
    }
   },
   "outputs": [],
   "source": [
    "a = tf.constant([10.0, 20.0, 40.0], name='a')\n",
    "b = tf.Variable(tf.random_uniform([3]), name = 'b')\n",
    "output = tf.add_n([a, b], name = 'add')\n",
    "\n",
    "write = tf.summary.FileWriter('logs', tf.get_default_graph())\n",
    "write.close()"
   ]
  },
  {
   "cell_type": "code",
   "execution_count": 18,
   "metadata": {
    "ExecuteTime": {
     "end_time": "2021-08-22T15:20:08.309394Z",
     "start_time": "2021-08-22T15:20:08.294768Z"
    }
   },
   "outputs": [
    {
     "data": {
      "text/plain": [
       "8"
      ]
     },
     "execution_count": 18,
     "metadata": {},
     "output_type": "execute_result"
    }
   ],
   "source": [
    "int(8.1)\n",
    "int"
   ]
  },
  {
   "cell_type": "code",
   "execution_count": null,
   "metadata": {},
   "outputs": [],
   "source": []
  }
 ],
 "metadata": {
  "hide_input": false,
  "kernelspec": {
   "display_name": "Python 3 (ipykernel)",
   "language": "python",
   "name": "python3"
  },
  "language_info": {
   "codemirror_mode": {
    "name": "ipython",
    "version": 3
   },
   "file_extension": ".py",
   "mimetype": "text/x-python",
   "name": "python",
   "nbconvert_exporter": "python",
   "pygments_lexer": "ipython3",
   "version": "3.7.10"
  },
  "nbTranslate": {
   "displayLangs": [
    "*"
   ],
   "hotkey": "alt-t",
   "langInMainMenu": true,
   "sourceLang": "en",
   "targetLang": "fr",
   "useGoogleTranslate": true
  },
  "toc": {
   "base_numbering": 1,
   "nav_menu": {},
   "number_sections": true,
   "sideBar": true,
   "skip_h1_title": false,
   "title_cell": "Table of Contents",
   "title_sidebar": "Contents",
   "toc_cell": false,
   "toc_position": {},
   "toc_section_display": true,
   "toc_window_display": false
  },
  "varInspector": {
   "cols": {
    "lenName": 16,
    "lenType": 16,
    "lenVar": 40
   },
   "kernels_config": {
    "python": {
     "delete_cmd_postfix": "",
     "delete_cmd_prefix": "del ",
     "library": "var_list.py",
     "varRefreshCmd": "print(var_dic_list())"
    },
    "r": {
     "delete_cmd_postfix": ") ",
     "delete_cmd_prefix": "rm(",
     "library": "var_list.r",
     "varRefreshCmd": "cat(var_dic_list()) "
    }
   },
   "types_to_exclude": [
    "module",
    "function",
    "builtin_function_or_method",
    "instance",
    "_Feature"
   ],
   "window_display": false
  }
 },
 "nbformat": 4,
 "nbformat_minor": 1
}